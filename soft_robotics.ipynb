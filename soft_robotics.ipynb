{
 "cells": [
  {
   "cell_type": "code",
   "execution_count": null,
   "metadata": {},
   "outputs": [],
   "source": [
    "!pip install sympy"
   ]
  },
  {
   "cell_type": "code",
   "execution_count": null,
   "metadata": {},
   "outputs": [],
   "source": [
    "from sympy import symbols, cos, diff, simplify, Matrix\n",
    "\n",
    "# Define the symbols\n",
    "l, m, x1, x2, x3, x4, v1, v2, v3, v4 = symbols('l m x1 x2 x3 x4 v1 v2 v3 v4')\n",
    "\n",
    "# Define sigma values\n",
    "sigma13 = l**2*m*cos(x2+x3)\n",
    "sigma14 = l**2*m*cos(x2+x3)\n",
    "sigma15 = l**2*m*cos(x4)\n",
    "sigma16 = l**2*m*cos(x3+x4)\n",
    "sigma17 = l**2*m*cos(x3)\n",
    "sigma18 = 5*l**2*m/4\n",
    "sigma19 = l**2*m/4\n",
    "sigma20 = l**2*m*cos(x3)\n",
    "sigma21 = 2*cos(x3+x4)\n",
    "sigma22 = cos(x2+x3+x4)\n",
    "sigma7 = 2*l*m*cos(x3)\n",
    "sigma8 = 9*l**2*m/4\n",
    "sigma9 = 5*l**2*m/4\n",
    "sigma10 = l**2*m*cos(x2)\n",
    "sigma11 = l**2*m/4\n",
    "sigma1 = l**2*m*(2*cos(x4)+1)/4\n",
    "sigma12 = l**2*m*sigma22\n",
    "sigma2 = sigma11+sigma9+sigma8+(sigma14/2)+sigma13+sigma16+(sigma10/2)+l**2*m*cos(x2)+sigma17+l**2*m*cos(x2)+sigma7+sigma15+sigma12/2\n",
    "sigma3 = sigma19+sigma18+sigma14/2+sigma13+sigma16/2+sigma17/2+sigma20+sigma15+sigma12/2\n",
    "sigma4 = sigma19+sigma18+sigma16/2+sigma17/2+sigma20+sigma15\n",
    "sigma5 = l**2*m*(2*sigma22+sigma21+2*cos(x4)+1)/4\n",
    "sigma6 = l**2*m*(sigma21+2*cos(x4)+1)\n",
    "\n",
    "m11 = l**2*m/4 + 5*l**2*m/4 + 9*l**2*m/4 + 13*l**2*m/4 + sigma14 + \\\n",
    "    2*l**2*m*cos(x2+x3) + sigma16 + sigma10 + 2*l**2*m*cos(x2) + sigma17 + \\\n",
    "    2*l**2*m*cos(x2) + sigma7 + sigma15 + sigma12\n",
    "\n",
    "m22 = sigma11 + sigma9 + sigma8 + sigma16 + sigma17 + sigma7 + sigma15\n",
    "\n",
    "m33 = sigma19 + sigma18 + sigma15\n",
    "\n",
    "m44 = l**2*m/4\n",
    "\n",
    "# Assemble the M matrix using the sigma values\n",
    "M = Matrix([[m11, sigma2, sigma3, sigma5],\n",
    "            [sigma2, m22, sigma4, sigma6],\n",
    "            [sigma3, sigma4, m33, sigma1],\n",
    "            [sigma5, sigma6, sigma1, m44]])\n",
    "\n",
    "# Initialize the dM matrix to store derivatives\n",
    "dM = Matrix.zeros(4, 4)\n",
    "\n",
    "# Calculate the derivatives\n",
    "for i in range(4):\n",
    "    for j in range(4):\n",
    "        dM[i,j] = diff(M[i,j], x1)*v1 + diff(M[i,j], x2)*v2 + diff(M[i,j], x3)*v3 + diff(M[i,j], x4)*v4\n",
    "\n",
    "# Simplify the dM matrix\n",
    "dM = simplify(dM)"
   ]
  },
  {
   "cell_type": "code",
   "execution_count": null,
   "metadata": {},
   "outputs": [],
   "source": []
  },
  {
   "cell_type": "code",
   "execution_count": null,
   "metadata": {},
   "outputs": [],
   "source": [
    "# save the metrix into matrix form\n",
    "with open('dM.txt', 'w') as f:\n",
    "    f.write(str(dM))"
   ]
  },
  {
   "cell_type": "code",
   "execution_count": null,
   "metadata": {},
   "outputs": [],
   "source": [
    "iM = M.inv()\n",
    "iM_simplify = simplify(iM)\n",
    "\n",
    "# save the metrix into matrix form\n",
    "with open('iM.txt', 'w') as f:\n",
    "    f.write(str(iM_simplify))"
   ]
  },
  {
   "cell_type": "code",
   "execution_count": null,
   "metadata": {},
   "outputs": [],
   "source": []
  },
  {
   "cell_type": "markdown",
   "metadata": {},
   "source": [
    "stochatic"
   ]
  },
  {
   "cell_type": "code",
   "execution_count": null,
   "metadata": {},
   "outputs": [],
   "source": [
    "!pip install pulp"
   ]
  }
 ],
 "metadata": {
  "kernelspec": {
   "display_name": "Python 3",
   "language": "python",
   "name": "python3"
  },
  "language_info": {
   "name": "python",
   "version": "3.12.0"
  }
 },
 "nbformat": 4,
 "nbformat_minor": 2
}
