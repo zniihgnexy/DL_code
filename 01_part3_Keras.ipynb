{
  "cells": [
    {
      "cell_type": "markdown",
      "metadata": {
        "colab_type": "text",
        "id": "view-in-github"
      },
      "source": [
        "<a href=\"https://colab.research.google.com/github/MatchLab-Imperial/deep-learning-course/blob/master/01_part3_Keras.ipynb\" target=\"_parent\"><img src=\"https://colab.research.google.com/assets/colab-badge.svg\" alt=\"Open In Colab\"/></a>"
      ]
    },
    {
      "cell_type": "markdown",
      "metadata": {
        "id": "bb1Zl0tVSKCN"
      },
      "source": [
        "# **Starting with Keras**\n",
        "\n",
        "Keras is a high-level Deep Learning API  written in Python and capable of running on top of TensorFlow, CNTK, or Theano. It was developed with a focus on enabling fast experimentation. In other words, Keras is especially good for beginners, it is modular, minimalist, and it makes everything easy to get a neural network up and running in no time. \n",
        "\n",
        "The following code is based on [this tutorial](https://elitedatascience.com/keras-tutorial-deep-learning-in-python), and it is just a brief introduction to Keras. You can refer to [Keras documentation](https://keras.io/) to learn more details in the future about it."
      ]
    },
    {
      "cell_type": "markdown",
      "metadata": {
        "id": "rF1rW5C1dS4R"
      },
      "source": [
        "## Importing Libraries and Modules\n",
        "\n",
        "Google Colab already has everything you need installed. We highly recommend to use Colab for these tutorials, however, if you want to use your own environment, you will need to set up a Python ecosystem and install Keras on it. \n",
        "\n",
        "You can find multiple guides that will help you with the task of installing Keras on your machine. Here are some examples for [Windows](http://inmachineswetrust.com/posts/deep-learning-setup/) or [Ubuntu](https://medium.com/@naomi.fridman/install-conda-tensorflow-gpu-and-keras-on-ubuntu-18-04-1b403e740e25)."
      ]
    },
    {
      "cell_type": "markdown",
      "metadata": {
        "id": "Wzb418Yih5SN"
      },
      "source": [
        "Let's start with an easy example. First of all, we will import NumPy and define the seed for the pseudorandom number generator. Specifying the seed is a common practice because different initializations might lead to varying results. "
      ]
    },
    {
      "cell_type": "code",
      "execution_count": 1,
      "metadata": {
        "id": "VTilKf6uRhML"
      },
      "outputs": [],
      "source": [
        "import numpy as np\n",
        "np.random.seed(1234)  # for reproducibility"
      ]
    },
    {
      "cell_type": "markdown",
      "metadata": {
        "id": "ob8EYZ89h96k"
      },
      "source": [
        "Now we are ready to import some of the Keras' modules.\n",
        "\n",
        "First, we will import the `Sequential` module from Keras. A `Sequential` module is a stack of neural network layers. We will need it for creating our first feed-forward neural network."
      ]
    },
    {
      "cell_type": "code",
      "execution_count": 3,
      "metadata": {
        "id": "tE570PePip7f"
      },
      "outputs": [
        {
          "name": "stderr",
          "output_type": "stream",
          "text": [
            "d:\\Users\\5520\\anaconda3\\envs\\keras-gpu\\lib\\site-packages\\tensorflow\\python\\framework\\dtypes.py:585: FutureWarning: In the future `np.object` will be defined as the corresponding NumPy scalar.\n",
            "  np.object,\n"
          ]
        },
        {
          "ename": "AttributeError",
          "evalue": "module 'numpy' has no attribute 'object'.\n`np.object` was a deprecated alias for the builtin `object`. To avoid this error in existing code, use `object` by itself. Doing this will not modify any behavior and is safe. \nThe aliases was originally deprecated in NumPy 1.20; for more details and guidance see the original release note at:\n    https://numpy.org/devdocs/release/1.20.0-notes.html#deprecations",
          "output_type": "error",
          "traceback": [
            "\u001b[1;31m---------------------------------------------------------------------------\u001b[0m",
            "\u001b[1;31mAttributeError\u001b[0m                            Traceback (most recent call last)",
            "Cell \u001b[1;32mIn[3], line 1\u001b[0m\n\u001b[1;32m----> 1\u001b[0m \u001b[38;5;28;01mfrom\u001b[39;00m \u001b[38;5;21;01mkeras\u001b[39;00m\u001b[38;5;21;01m.\u001b[39;00m\u001b[38;5;21;01mmodels\u001b[39;00m \u001b[38;5;28;01mimport\u001b[39;00m Sequential\n",
            "File \u001b[1;32md:\\Users\\5520\\anaconda3\\envs\\keras-gpu\\lib\\site-packages\\keras\\__init__.py:21\u001b[0m\n\u001b[0;32m     15\u001b[0m \u001b[38;5;124;03m\"\"\"Implementation of the Keras API, the high-level API of TensorFlow.\u001b[39;00m\n\u001b[0;32m     16\u001b[0m \n\u001b[0;32m     17\u001b[0m \u001b[38;5;124;03mDetailed documentation and user guides are available at\u001b[39;00m\n\u001b[0;32m     18\u001b[0m \u001b[38;5;124;03m[keras.io](https://keras.io).\u001b[39;00m\n\u001b[0;32m     19\u001b[0m \u001b[38;5;124;03m\"\"\"\u001b[39;00m\n\u001b[0;32m     20\u001b[0m \u001b[38;5;66;03m# pylint: disable=unused-import\u001b[39;00m\n\u001b[1;32m---> 21\u001b[0m \u001b[38;5;28;01mfrom\u001b[39;00m \u001b[38;5;21;01mtensorflow\u001b[39;00m\u001b[38;5;21;01m.\u001b[39;00m\u001b[38;5;21;01mpython\u001b[39;00m \u001b[38;5;28;01mimport\u001b[39;00m tf2\n\u001b[0;32m     22\u001b[0m \u001b[38;5;28;01mfrom\u001b[39;00m \u001b[38;5;21;01mkeras\u001b[39;00m \u001b[38;5;28;01mimport\u001b[39;00m distribute\n\u001b[0;32m     24\u001b[0m \u001b[38;5;66;03m# See b/110718070#comment18 for more details about this import.\u001b[39;00m\n",
            "File \u001b[1;32md:\\Users\\5520\\anaconda3\\envs\\keras-gpu\\lib\\site-packages\\tensorflow\\__init__.py:41\u001b[0m\n\u001b[0;32m     38\u001b[0m \u001b[38;5;28;01mimport\u001b[39;00m \u001b[38;5;21;01msix\u001b[39;00m \u001b[38;5;28;01mas\u001b[39;00m \u001b[38;5;21;01m_six\u001b[39;00m\n\u001b[0;32m     39\u001b[0m \u001b[38;5;28;01mimport\u001b[39;00m \u001b[38;5;21;01msys\u001b[39;00m \u001b[38;5;28;01mas\u001b[39;00m \u001b[38;5;21;01m_sys\u001b[39;00m\n\u001b[1;32m---> 41\u001b[0m \u001b[38;5;28;01mfrom\u001b[39;00m \u001b[38;5;21;01mtensorflow\u001b[39;00m\u001b[38;5;21;01m.\u001b[39;00m\u001b[38;5;21;01mpython\u001b[39;00m\u001b[38;5;21;01m.\u001b[39;00m\u001b[38;5;21;01mtools\u001b[39;00m \u001b[38;5;28;01mimport\u001b[39;00m module_util \u001b[38;5;28;01mas\u001b[39;00m _module_util\n\u001b[0;32m     42\u001b[0m \u001b[38;5;28;01mfrom\u001b[39;00m \u001b[38;5;21;01mtensorflow\u001b[39;00m\u001b[38;5;21;01m.\u001b[39;00m\u001b[38;5;21;01mpython\u001b[39;00m\u001b[38;5;21;01m.\u001b[39;00m\u001b[38;5;21;01mutil\u001b[39;00m\u001b[38;5;21;01m.\u001b[39;00m\u001b[38;5;21;01mlazy_loader\u001b[39;00m \u001b[38;5;28;01mimport\u001b[39;00m LazyLoader \u001b[38;5;28;01mas\u001b[39;00m _LazyLoader\n\u001b[0;32m     44\u001b[0m \u001b[38;5;66;03m# Make sure code inside the TensorFlow codebase can use tf2.enabled() at import.\u001b[39;00m\n",
            "File \u001b[1;32md:\\Users\\5520\\anaconda3\\envs\\keras-gpu\\lib\\site-packages\\tensorflow\\python\\__init__.py:46\u001b[0m\n\u001b[0;32m     41\u001b[0m \u001b[38;5;28;01mfrom\u001b[39;00m \u001b[38;5;21;01mtensorflow\u001b[39;00m\u001b[38;5;21;01m.\u001b[39;00m\u001b[38;5;21;01mpython\u001b[39;00m \u001b[38;5;28;01mimport\u001b[39;00m pywrap_tensorflow \u001b[38;5;28;01mas\u001b[39;00m _pywrap_tensorflow\n\u001b[0;32m     43\u001b[0m \u001b[38;5;66;03m# pylint: enable=wildcard-import\u001b[39;00m\n\u001b[0;32m     44\u001b[0m \n\u001b[0;32m     45\u001b[0m \u001b[38;5;66;03m# Bring in subpackages.\u001b[39;00m\n\u001b[1;32m---> 46\u001b[0m \u001b[38;5;28;01mfrom\u001b[39;00m \u001b[38;5;21;01mtensorflow\u001b[39;00m\u001b[38;5;21;01m.\u001b[39;00m\u001b[38;5;21;01mpython\u001b[39;00m \u001b[38;5;28;01mimport\u001b[39;00m data\n\u001b[0;32m     47\u001b[0m \u001b[38;5;28;01mfrom\u001b[39;00m \u001b[38;5;21;01mtensorflow\u001b[39;00m\u001b[38;5;21;01m.\u001b[39;00m\u001b[38;5;21;01mpython\u001b[39;00m \u001b[38;5;28;01mimport\u001b[39;00m distribute\n\u001b[0;32m     48\u001b[0m \u001b[38;5;66;03m# from tensorflow.python import keras\u001b[39;00m\n",
            "File \u001b[1;32md:\\Users\\5520\\anaconda3\\envs\\keras-gpu\\lib\\site-packages\\tensorflow\\python\\data\\__init__.py:25\u001b[0m\n\u001b[0;32m     22\u001b[0m \u001b[38;5;28;01mfrom\u001b[39;00m \u001b[38;5;21;01m__future__\u001b[39;00m \u001b[38;5;28;01mimport\u001b[39;00m print_function\n\u001b[0;32m     24\u001b[0m \u001b[38;5;66;03m# pylint: disable=unused-import\u001b[39;00m\n\u001b[1;32m---> 25\u001b[0m \u001b[38;5;28;01mfrom\u001b[39;00m \u001b[38;5;21;01mtensorflow\u001b[39;00m\u001b[38;5;21;01m.\u001b[39;00m\u001b[38;5;21;01mpython\u001b[39;00m\u001b[38;5;21;01m.\u001b[39;00m\u001b[38;5;21;01mdata\u001b[39;00m \u001b[38;5;28;01mimport\u001b[39;00m experimental\n\u001b[0;32m     26\u001b[0m \u001b[38;5;28;01mfrom\u001b[39;00m \u001b[38;5;21;01mtensorflow\u001b[39;00m\u001b[38;5;21;01m.\u001b[39;00m\u001b[38;5;21;01mpython\u001b[39;00m\u001b[38;5;21;01m.\u001b[39;00m\u001b[38;5;21;01mdata\u001b[39;00m\u001b[38;5;21;01m.\u001b[39;00m\u001b[38;5;21;01mops\u001b[39;00m\u001b[38;5;21;01m.\u001b[39;00m\u001b[38;5;21;01mdataset_ops\u001b[39;00m \u001b[38;5;28;01mimport\u001b[39;00m AUTOTUNE\n\u001b[0;32m     27\u001b[0m \u001b[38;5;28;01mfrom\u001b[39;00m \u001b[38;5;21;01mtensorflow\u001b[39;00m\u001b[38;5;21;01m.\u001b[39;00m\u001b[38;5;21;01mpython\u001b[39;00m\u001b[38;5;21;01m.\u001b[39;00m\u001b[38;5;21;01mdata\u001b[39;00m\u001b[38;5;21;01m.\u001b[39;00m\u001b[38;5;21;01mops\u001b[39;00m\u001b[38;5;21;01m.\u001b[39;00m\u001b[38;5;21;01mdataset_ops\u001b[39;00m \u001b[38;5;28;01mimport\u001b[39;00m Dataset\n",
            "File \u001b[1;32md:\\Users\\5520\\anaconda3\\envs\\keras-gpu\\lib\\site-packages\\tensorflow\\python\\data\\experimental\\__init__.py:97\u001b[0m\n\u001b[0;32m     94\u001b[0m \u001b[38;5;28;01mfrom\u001b[39;00m \u001b[38;5;21;01m__future__\u001b[39;00m \u001b[38;5;28;01mimport\u001b[39;00m print_function\n\u001b[0;32m     96\u001b[0m \u001b[38;5;66;03m# pylint: disable=unused-import\u001b[39;00m\n\u001b[1;32m---> 97\u001b[0m \u001b[38;5;28;01mfrom\u001b[39;00m \u001b[38;5;21;01mtensorflow\u001b[39;00m\u001b[38;5;21;01m.\u001b[39;00m\u001b[38;5;21;01mpython\u001b[39;00m\u001b[38;5;21;01m.\u001b[39;00m\u001b[38;5;21;01mdata\u001b[39;00m\u001b[38;5;21;01m.\u001b[39;00m\u001b[38;5;21;01mexperimental\u001b[39;00m \u001b[38;5;28;01mimport\u001b[39;00m service\n\u001b[0;32m     98\u001b[0m \u001b[38;5;28;01mfrom\u001b[39;00m \u001b[38;5;21;01mtensorflow\u001b[39;00m\u001b[38;5;21;01m.\u001b[39;00m\u001b[38;5;21;01mpython\u001b[39;00m\u001b[38;5;21;01m.\u001b[39;00m\u001b[38;5;21;01mdata\u001b[39;00m\u001b[38;5;21;01m.\u001b[39;00m\u001b[38;5;21;01mexperimental\u001b[39;00m\u001b[38;5;21;01m.\u001b[39;00m\u001b[38;5;21;01mops\u001b[39;00m\u001b[38;5;21;01m.\u001b[39;00m\u001b[38;5;21;01mbatching\u001b[39;00m \u001b[38;5;28;01mimport\u001b[39;00m dense_to_ragged_batch\n\u001b[0;32m     99\u001b[0m \u001b[38;5;28;01mfrom\u001b[39;00m \u001b[38;5;21;01mtensorflow\u001b[39;00m\u001b[38;5;21;01m.\u001b[39;00m\u001b[38;5;21;01mpython\u001b[39;00m\u001b[38;5;21;01m.\u001b[39;00m\u001b[38;5;21;01mdata\u001b[39;00m\u001b[38;5;21;01m.\u001b[39;00m\u001b[38;5;21;01mexperimental\u001b[39;00m\u001b[38;5;21;01m.\u001b[39;00m\u001b[38;5;21;01mops\u001b[39;00m\u001b[38;5;21;01m.\u001b[39;00m\u001b[38;5;21;01mbatching\u001b[39;00m \u001b[38;5;28;01mimport\u001b[39;00m dense_to_sparse_batch\n",
            "File \u001b[1;32md:\\Users\\5520\\anaconda3\\envs\\keras-gpu\\lib\\site-packages\\tensorflow\\python\\data\\experimental\\service\\__init__.py:353\u001b[0m\n\u001b[0;32m    350\u001b[0m \u001b[38;5;28;01mfrom\u001b[39;00m \u001b[38;5;21;01m__future__\u001b[39;00m \u001b[38;5;28;01mimport\u001b[39;00m division\n\u001b[0;32m    351\u001b[0m \u001b[38;5;28;01mfrom\u001b[39;00m \u001b[38;5;21;01m__future__\u001b[39;00m \u001b[38;5;28;01mimport\u001b[39;00m print_function\n\u001b[1;32m--> 353\u001b[0m \u001b[38;5;28;01mfrom\u001b[39;00m \u001b[38;5;21;01mtensorflow\u001b[39;00m\u001b[38;5;21;01m.\u001b[39;00m\u001b[38;5;21;01mpython\u001b[39;00m\u001b[38;5;21;01m.\u001b[39;00m\u001b[38;5;21;01mdata\u001b[39;00m\u001b[38;5;21;01m.\u001b[39;00m\u001b[38;5;21;01mexperimental\u001b[39;00m\u001b[38;5;21;01m.\u001b[39;00m\u001b[38;5;21;01mops\u001b[39;00m\u001b[38;5;21;01m.\u001b[39;00m\u001b[38;5;21;01mdata_service_ops\u001b[39;00m \u001b[38;5;28;01mimport\u001b[39;00m distribute\n\u001b[0;32m    354\u001b[0m \u001b[38;5;28;01mfrom\u001b[39;00m \u001b[38;5;21;01mtensorflow\u001b[39;00m\u001b[38;5;21;01m.\u001b[39;00m\u001b[38;5;21;01mpython\u001b[39;00m\u001b[38;5;21;01m.\u001b[39;00m\u001b[38;5;21;01mdata\u001b[39;00m\u001b[38;5;21;01m.\u001b[39;00m\u001b[38;5;21;01mexperimental\u001b[39;00m\u001b[38;5;21;01m.\u001b[39;00m\u001b[38;5;21;01mops\u001b[39;00m\u001b[38;5;21;01m.\u001b[39;00m\u001b[38;5;21;01mdata_service_ops\u001b[39;00m \u001b[38;5;28;01mimport\u001b[39;00m from_dataset_id\n\u001b[0;32m    355\u001b[0m \u001b[38;5;28;01mfrom\u001b[39;00m \u001b[38;5;21;01mtensorflow\u001b[39;00m\u001b[38;5;21;01m.\u001b[39;00m\u001b[38;5;21;01mpython\u001b[39;00m\u001b[38;5;21;01m.\u001b[39;00m\u001b[38;5;21;01mdata\u001b[39;00m\u001b[38;5;21;01m.\u001b[39;00m\u001b[38;5;21;01mexperimental\u001b[39;00m\u001b[38;5;21;01m.\u001b[39;00m\u001b[38;5;21;01mops\u001b[39;00m\u001b[38;5;21;01m.\u001b[39;00m\u001b[38;5;21;01mdata_service_ops\u001b[39;00m \u001b[38;5;28;01mimport\u001b[39;00m register_dataset\n",
            "File \u001b[1;32md:\\Users\\5520\\anaconda3\\envs\\keras-gpu\\lib\\site-packages\\tensorflow\\python\\data\\experimental\\ops\\data_service_ops.py:26\u001b[0m\n\u001b[0;32m     24\u001b[0m \u001b[38;5;28;01mfrom\u001b[39;00m \u001b[38;5;21;01mtensorflow\u001b[39;00m\u001b[38;5;21;01m.\u001b[39;00m\u001b[38;5;21;01mpython\u001b[39;00m \u001b[38;5;28;01mimport\u001b[39;00m tf2\n\u001b[0;32m     25\u001b[0m \u001b[38;5;28;01mfrom\u001b[39;00m \u001b[38;5;21;01mtensorflow\u001b[39;00m\u001b[38;5;21;01m.\u001b[39;00m\u001b[38;5;21;01mpython\u001b[39;00m\u001b[38;5;21;01m.\u001b[39;00m\u001b[38;5;21;01mcompat\u001b[39;00m \u001b[38;5;28;01mimport\u001b[39;00m compat\n\u001b[1;32m---> 26\u001b[0m \u001b[38;5;28;01mfrom\u001b[39;00m \u001b[38;5;21;01mtensorflow\u001b[39;00m\u001b[38;5;21;01m.\u001b[39;00m\u001b[38;5;21;01mpython\u001b[39;00m\u001b[38;5;21;01m.\u001b[39;00m\u001b[38;5;21;01mdata\u001b[39;00m\u001b[38;5;21;01m.\u001b[39;00m\u001b[38;5;21;01mexperimental\u001b[39;00m\u001b[38;5;21;01m.\u001b[39;00m\u001b[38;5;21;01mops\u001b[39;00m \u001b[38;5;28;01mimport\u001b[39;00m compression_ops\n\u001b[0;32m     27\u001b[0m \u001b[38;5;28;01mfrom\u001b[39;00m \u001b[38;5;21;01mtensorflow\u001b[39;00m\u001b[38;5;21;01m.\u001b[39;00m\u001b[38;5;21;01mpython\u001b[39;00m\u001b[38;5;21;01m.\u001b[39;00m\u001b[38;5;21;01mdata\u001b[39;00m\u001b[38;5;21;01m.\u001b[39;00m\u001b[38;5;21;01mexperimental\u001b[39;00m\u001b[38;5;21;01m.\u001b[39;00m\u001b[38;5;21;01mops\u001b[39;00m\u001b[38;5;21;01m.\u001b[39;00m\u001b[38;5;21;01mdistribute_options\u001b[39;00m \u001b[38;5;28;01mimport\u001b[39;00m AutoShardPolicy\n\u001b[0;32m     28\u001b[0m \u001b[38;5;28;01mfrom\u001b[39;00m \u001b[38;5;21;01mtensorflow\u001b[39;00m\u001b[38;5;21;01m.\u001b[39;00m\u001b[38;5;21;01mpython\u001b[39;00m\u001b[38;5;21;01m.\u001b[39;00m\u001b[38;5;21;01mdata\u001b[39;00m\u001b[38;5;21;01m.\u001b[39;00m\u001b[38;5;21;01mexperimental\u001b[39;00m\u001b[38;5;21;01m.\u001b[39;00m\u001b[38;5;21;01mops\u001b[39;00m\u001b[38;5;21;01m.\u001b[39;00m\u001b[38;5;21;01mdistribute_options\u001b[39;00m \u001b[38;5;28;01mimport\u001b[39;00m ExternalStatePolicy\n",
            "File \u001b[1;32md:\\Users\\5520\\anaconda3\\envs\\keras-gpu\\lib\\site-packages\\tensorflow\\python\\data\\experimental\\ops\\compression_ops.py:20\u001b[0m\n\u001b[0;32m     17\u001b[0m \u001b[38;5;28;01mfrom\u001b[39;00m \u001b[38;5;21;01m__future__\u001b[39;00m \u001b[38;5;28;01mimport\u001b[39;00m division\n\u001b[0;32m     18\u001b[0m \u001b[38;5;28;01mfrom\u001b[39;00m \u001b[38;5;21;01m__future__\u001b[39;00m \u001b[38;5;28;01mimport\u001b[39;00m print_function\n\u001b[1;32m---> 20\u001b[0m \u001b[38;5;28;01mfrom\u001b[39;00m \u001b[38;5;21;01mtensorflow\u001b[39;00m\u001b[38;5;21;01m.\u001b[39;00m\u001b[38;5;21;01mpython\u001b[39;00m\u001b[38;5;21;01m.\u001b[39;00m\u001b[38;5;21;01mdata\u001b[39;00m\u001b[38;5;21;01m.\u001b[39;00m\u001b[38;5;21;01mutil\u001b[39;00m \u001b[38;5;28;01mimport\u001b[39;00m structure\n\u001b[0;32m     21\u001b[0m \u001b[38;5;28;01mfrom\u001b[39;00m \u001b[38;5;21;01mtensorflow\u001b[39;00m\u001b[38;5;21;01m.\u001b[39;00m\u001b[38;5;21;01mpython\u001b[39;00m\u001b[38;5;21;01m.\u001b[39;00m\u001b[38;5;21;01mops\u001b[39;00m \u001b[38;5;28;01mimport\u001b[39;00m gen_experimental_dataset_ops \u001b[38;5;28;01mas\u001b[39;00m ged_ops\n\u001b[0;32m     24\u001b[0m \u001b[38;5;28;01mdef\u001b[39;00m \u001b[38;5;21mcompress\u001b[39m(element):\n",
            "File \u001b[1;32md:\\Users\\5520\\anaconda3\\envs\\keras-gpu\\lib\\site-packages\\tensorflow\\python\\data\\util\\structure.py:26\u001b[0m\n\u001b[0;32m     23\u001b[0m \u001b[38;5;28;01mimport\u001b[39;00m \u001b[38;5;21;01msix\u001b[39;00m\n\u001b[0;32m     24\u001b[0m \u001b[38;5;28;01mimport\u001b[39;00m \u001b[38;5;21;01mwrapt\u001b[39;00m\n\u001b[1;32m---> 26\u001b[0m \u001b[38;5;28;01mfrom\u001b[39;00m \u001b[38;5;21;01mtensorflow\u001b[39;00m\u001b[38;5;21;01m.\u001b[39;00m\u001b[38;5;21;01mpython\u001b[39;00m\u001b[38;5;21;01m.\u001b[39;00m\u001b[38;5;21;01mdata\u001b[39;00m\u001b[38;5;21;01m.\u001b[39;00m\u001b[38;5;21;01mutil\u001b[39;00m \u001b[38;5;28;01mimport\u001b[39;00m nest\n\u001b[0;32m     27\u001b[0m \u001b[38;5;28;01mfrom\u001b[39;00m \u001b[38;5;21;01mtensorflow\u001b[39;00m\u001b[38;5;21;01m.\u001b[39;00m\u001b[38;5;21;01mpython\u001b[39;00m\u001b[38;5;21;01m.\u001b[39;00m\u001b[38;5;21;01mframework\u001b[39;00m \u001b[38;5;28;01mimport\u001b[39;00m composite_tensor\n\u001b[0;32m     28\u001b[0m \u001b[38;5;28;01mfrom\u001b[39;00m \u001b[38;5;21;01mtensorflow\u001b[39;00m\u001b[38;5;21;01m.\u001b[39;00m\u001b[38;5;21;01mpython\u001b[39;00m\u001b[38;5;21;01m.\u001b[39;00m\u001b[38;5;21;01mframework\u001b[39;00m \u001b[38;5;28;01mimport\u001b[39;00m ops\n",
            "File \u001b[1;32md:\\Users\\5520\\anaconda3\\envs\\keras-gpu\\lib\\site-packages\\tensorflow\\python\\data\\util\\nest.py:40\u001b[0m\n\u001b[0;32m     36\u001b[0m \u001b[38;5;28;01mfrom\u001b[39;00m \u001b[38;5;21;01m__future__\u001b[39;00m \u001b[38;5;28;01mimport\u001b[39;00m print_function\n\u001b[0;32m     38\u001b[0m \u001b[38;5;28;01mimport\u001b[39;00m \u001b[38;5;21;01msix\u001b[39;00m \u001b[38;5;28;01mas\u001b[39;00m \u001b[38;5;21;01m_six\u001b[39;00m\n\u001b[1;32m---> 40\u001b[0m \u001b[38;5;28;01mfrom\u001b[39;00m \u001b[38;5;21;01mtensorflow\u001b[39;00m\u001b[38;5;21;01m.\u001b[39;00m\u001b[38;5;21;01mpython\u001b[39;00m\u001b[38;5;21;01m.\u001b[39;00m\u001b[38;5;21;01mframework\u001b[39;00m \u001b[38;5;28;01mimport\u001b[39;00m sparse_tensor \u001b[38;5;28;01mas\u001b[39;00m _sparse_tensor\n\u001b[0;32m     41\u001b[0m \u001b[38;5;28;01mfrom\u001b[39;00m \u001b[38;5;21;01mtensorflow\u001b[39;00m\u001b[38;5;21;01m.\u001b[39;00m\u001b[38;5;21;01mpython\u001b[39;00m\u001b[38;5;21;01m.\u001b[39;00m\u001b[38;5;21;01mutil\u001b[39;00m \u001b[38;5;28;01mimport\u001b[39;00m _pywrap_utils\n\u001b[0;32m     42\u001b[0m \u001b[38;5;28;01mfrom\u001b[39;00m \u001b[38;5;21;01mtensorflow\u001b[39;00m\u001b[38;5;21;01m.\u001b[39;00m\u001b[38;5;21;01mpython\u001b[39;00m\u001b[38;5;21;01m.\u001b[39;00m\u001b[38;5;21;01mutil\u001b[39;00m \u001b[38;5;28;01mimport\u001b[39;00m nest\n",
            "File \u001b[1;32md:\\Users\\5520\\anaconda3\\envs\\keras-gpu\\lib\\site-packages\\tensorflow\\python\\framework\\sparse_tensor.py:28\u001b[0m\n\u001b[0;32m     26\u001b[0m \u001b[38;5;28;01mfrom\u001b[39;00m \u001b[38;5;21;01mtensorflow\u001b[39;00m\u001b[38;5;21;01m.\u001b[39;00m\u001b[38;5;21;01mpython\u001b[39;00m \u001b[38;5;28;01mimport\u001b[39;00m tf2\n\u001b[0;32m     27\u001b[0m \u001b[38;5;28;01mfrom\u001b[39;00m \u001b[38;5;21;01mtensorflow\u001b[39;00m\u001b[38;5;21;01m.\u001b[39;00m\u001b[38;5;21;01mpython\u001b[39;00m\u001b[38;5;21;01m.\u001b[39;00m\u001b[38;5;21;01mframework\u001b[39;00m \u001b[38;5;28;01mimport\u001b[39;00m composite_tensor\n\u001b[1;32m---> 28\u001b[0m \u001b[38;5;28;01mfrom\u001b[39;00m \u001b[38;5;21;01mtensorflow\u001b[39;00m\u001b[38;5;21;01m.\u001b[39;00m\u001b[38;5;21;01mpython\u001b[39;00m\u001b[38;5;21;01m.\u001b[39;00m\u001b[38;5;21;01mframework\u001b[39;00m \u001b[38;5;28;01mimport\u001b[39;00m constant_op\n\u001b[0;32m     29\u001b[0m \u001b[38;5;28;01mfrom\u001b[39;00m \u001b[38;5;21;01mtensorflow\u001b[39;00m\u001b[38;5;21;01m.\u001b[39;00m\u001b[38;5;21;01mpython\u001b[39;00m\u001b[38;5;21;01m.\u001b[39;00m\u001b[38;5;21;01mframework\u001b[39;00m \u001b[38;5;28;01mimport\u001b[39;00m dtypes\n\u001b[0;32m     30\u001b[0m \u001b[38;5;28;01mfrom\u001b[39;00m \u001b[38;5;21;01mtensorflow\u001b[39;00m\u001b[38;5;21;01m.\u001b[39;00m\u001b[38;5;21;01mpython\u001b[39;00m\u001b[38;5;21;01m.\u001b[39;00m\u001b[38;5;21;01mframework\u001b[39;00m \u001b[38;5;28;01mimport\u001b[39;00m ops\n",
            "File \u001b[1;32md:\\Users\\5520\\anaconda3\\envs\\keras-gpu\\lib\\site-packages\\tensorflow\\python\\framework\\constant_op.py:29\u001b[0m\n\u001b[0;32m     27\u001b[0m \u001b[38;5;28;01mfrom\u001b[39;00m \u001b[38;5;21;01mtensorflow\u001b[39;00m\u001b[38;5;21;01m.\u001b[39;00m\u001b[38;5;21;01mcore\u001b[39;00m\u001b[38;5;21;01m.\u001b[39;00m\u001b[38;5;21;01mframework\u001b[39;00m \u001b[38;5;28;01mimport\u001b[39;00m types_pb2\n\u001b[0;32m     28\u001b[0m \u001b[38;5;28;01mfrom\u001b[39;00m \u001b[38;5;21;01mtensorflow\u001b[39;00m\u001b[38;5;21;01m.\u001b[39;00m\u001b[38;5;21;01mpython\u001b[39;00m\u001b[38;5;21;01m.\u001b[39;00m\u001b[38;5;21;01meager\u001b[39;00m \u001b[38;5;28;01mimport\u001b[39;00m context\n\u001b[1;32m---> 29\u001b[0m \u001b[38;5;28;01mfrom\u001b[39;00m \u001b[38;5;21;01mtensorflow\u001b[39;00m\u001b[38;5;21;01m.\u001b[39;00m\u001b[38;5;21;01mpython\u001b[39;00m\u001b[38;5;21;01m.\u001b[39;00m\u001b[38;5;21;01meager\u001b[39;00m \u001b[38;5;28;01mimport\u001b[39;00m execute\n\u001b[0;32m     30\u001b[0m \u001b[38;5;28;01mfrom\u001b[39;00m \u001b[38;5;21;01mtensorflow\u001b[39;00m\u001b[38;5;21;01m.\u001b[39;00m\u001b[38;5;21;01mpython\u001b[39;00m\u001b[38;5;21;01m.\u001b[39;00m\u001b[38;5;21;01mframework\u001b[39;00m \u001b[38;5;28;01mimport\u001b[39;00m dtypes\n\u001b[0;32m     31\u001b[0m \u001b[38;5;28;01mfrom\u001b[39;00m \u001b[38;5;21;01mtensorflow\u001b[39;00m\u001b[38;5;21;01m.\u001b[39;00m\u001b[38;5;21;01mpython\u001b[39;00m\u001b[38;5;21;01m.\u001b[39;00m\u001b[38;5;21;01mframework\u001b[39;00m \u001b[38;5;28;01mimport\u001b[39;00m op_callbacks\n",
            "File \u001b[1;32md:\\Users\\5520\\anaconda3\\envs\\keras-gpu\\lib\\site-packages\\tensorflow\\python\\eager\\execute.py:27\u001b[0m\n\u001b[0;32m     25\u001b[0m \u001b[38;5;28;01mfrom\u001b[39;00m \u001b[38;5;21;01mtensorflow\u001b[39;00m\u001b[38;5;21;01m.\u001b[39;00m\u001b[38;5;21;01mpython\u001b[39;00m \u001b[38;5;28;01mimport\u001b[39;00m pywrap_tfe\n\u001b[0;32m     26\u001b[0m \u001b[38;5;28;01mfrom\u001b[39;00m \u001b[38;5;21;01mtensorflow\u001b[39;00m\u001b[38;5;21;01m.\u001b[39;00m\u001b[38;5;21;01mpython\u001b[39;00m\u001b[38;5;21;01m.\u001b[39;00m\u001b[38;5;21;01meager\u001b[39;00m \u001b[38;5;28;01mimport\u001b[39;00m core\n\u001b[1;32m---> 27\u001b[0m \u001b[38;5;28;01mfrom\u001b[39;00m \u001b[38;5;21;01mtensorflow\u001b[39;00m\u001b[38;5;21;01m.\u001b[39;00m\u001b[38;5;21;01mpython\u001b[39;00m\u001b[38;5;21;01m.\u001b[39;00m\u001b[38;5;21;01mframework\u001b[39;00m \u001b[38;5;28;01mimport\u001b[39;00m dtypes\n\u001b[0;32m     28\u001b[0m \u001b[38;5;28;01mfrom\u001b[39;00m \u001b[38;5;21;01mtensorflow\u001b[39;00m\u001b[38;5;21;01m.\u001b[39;00m\u001b[38;5;21;01mpython\u001b[39;00m\u001b[38;5;21;01m.\u001b[39;00m\u001b[38;5;21;01mframework\u001b[39;00m \u001b[38;5;28;01mimport\u001b[39;00m ops\n\u001b[0;32m     29\u001b[0m \u001b[38;5;28;01mfrom\u001b[39;00m \u001b[38;5;21;01mtensorflow\u001b[39;00m\u001b[38;5;21;01m.\u001b[39;00m\u001b[38;5;21;01mpython\u001b[39;00m\u001b[38;5;21;01m.\u001b[39;00m\u001b[38;5;21;01mframework\u001b[39;00m \u001b[38;5;28;01mimport\u001b[39;00m tensor_shape\n",
            "File \u001b[1;32md:\\Users\\5520\\anaconda3\\envs\\keras-gpu\\lib\\site-packages\\tensorflow\\python\\framework\\dtypes.py:585\u001b[0m\n\u001b[0;32m    556\u001b[0m     _NP_TO_TF[pdt] \u001b[38;5;241m=\u001b[39m \u001b[38;5;28mnext\u001b[39m(\n\u001b[0;32m    557\u001b[0m         _NP_TO_TF[dt] \u001b[38;5;28;01mfor\u001b[39;00m dt \u001b[38;5;129;01min\u001b[39;00m _NP_TO_TF \u001b[38;5;28;01mif\u001b[39;00m dt \u001b[38;5;241m==\u001b[39m pdt()\u001b[38;5;241m.\u001b[39mdtype)  \u001b[38;5;66;03m# pylint: disable=no-value-for-parameter\u001b[39;00m\n\u001b[0;32m    559\u001b[0m TF_VALUE_DTYPES \u001b[38;5;241m=\u001b[39m \u001b[38;5;28mset\u001b[39m(_NP_TO_TF\u001b[38;5;241m.\u001b[39mvalues())\n\u001b[0;32m    561\u001b[0m _TF_TO_NP \u001b[38;5;241m=\u001b[39m {\n\u001b[0;32m    562\u001b[0m     types_pb2\u001b[38;5;241m.\u001b[39mDT_HALF:\n\u001b[0;32m    563\u001b[0m         np\u001b[38;5;241m.\u001b[39mfloat16,\n\u001b[0;32m    564\u001b[0m     types_pb2\u001b[38;5;241m.\u001b[39mDT_FLOAT:\n\u001b[0;32m    565\u001b[0m         np\u001b[38;5;241m.\u001b[39mfloat32,\n\u001b[0;32m    566\u001b[0m     types_pb2\u001b[38;5;241m.\u001b[39mDT_DOUBLE:\n\u001b[0;32m    567\u001b[0m         np\u001b[38;5;241m.\u001b[39mfloat64,\n\u001b[0;32m    568\u001b[0m     types_pb2\u001b[38;5;241m.\u001b[39mDT_INT32:\n\u001b[0;32m    569\u001b[0m         np\u001b[38;5;241m.\u001b[39mint32,\n\u001b[0;32m    570\u001b[0m     types_pb2\u001b[38;5;241m.\u001b[39mDT_UINT8:\n\u001b[0;32m    571\u001b[0m         np\u001b[38;5;241m.\u001b[39muint8,\n\u001b[0;32m    572\u001b[0m     types_pb2\u001b[38;5;241m.\u001b[39mDT_UINT16:\n\u001b[0;32m    573\u001b[0m         np\u001b[38;5;241m.\u001b[39muint16,\n\u001b[0;32m    574\u001b[0m     types_pb2\u001b[38;5;241m.\u001b[39mDT_UINT32:\n\u001b[0;32m    575\u001b[0m         np\u001b[38;5;241m.\u001b[39muint32,\n\u001b[0;32m    576\u001b[0m     types_pb2\u001b[38;5;241m.\u001b[39mDT_UINT64:\n\u001b[0;32m    577\u001b[0m         np\u001b[38;5;241m.\u001b[39muint64,\n\u001b[0;32m    578\u001b[0m     types_pb2\u001b[38;5;241m.\u001b[39mDT_INT16:\n\u001b[0;32m    579\u001b[0m         np\u001b[38;5;241m.\u001b[39mint16,\n\u001b[0;32m    580\u001b[0m     types_pb2\u001b[38;5;241m.\u001b[39mDT_INT8:\n\u001b[0;32m    581\u001b[0m         np\u001b[38;5;241m.\u001b[39mint8,\n\u001b[0;32m    582\u001b[0m     \u001b[38;5;66;03m# NOTE(touts): For strings we use np.object as it supports variable length\u001b[39;00m\n\u001b[0;32m    583\u001b[0m     \u001b[38;5;66;03m# strings.\u001b[39;00m\n\u001b[0;32m    584\u001b[0m     types_pb2\u001b[38;5;241m.\u001b[39mDT_STRING:\n\u001b[1;32m--> 585\u001b[0m         \u001b[43mnp\u001b[49m\u001b[38;5;241;43m.\u001b[39;49m\u001b[43mobject\u001b[49m,\n\u001b[0;32m    586\u001b[0m     types_pb2\u001b[38;5;241m.\u001b[39mDT_COMPLEX64:\n\u001b[0;32m    587\u001b[0m         np\u001b[38;5;241m.\u001b[39mcomplex64,\n\u001b[0;32m    588\u001b[0m     types_pb2\u001b[38;5;241m.\u001b[39mDT_COMPLEX128:\n\u001b[0;32m    589\u001b[0m         np\u001b[38;5;241m.\u001b[39mcomplex128,\n\u001b[0;32m    590\u001b[0m     types_pb2\u001b[38;5;241m.\u001b[39mDT_INT64:\n\u001b[0;32m    591\u001b[0m         np\u001b[38;5;241m.\u001b[39mint64,\n\u001b[0;32m    592\u001b[0m     types_pb2\u001b[38;5;241m.\u001b[39mDT_BOOL:\n\u001b[0;32m    593\u001b[0m         np\u001b[38;5;241m.\u001b[39mbool_,\n\u001b[0;32m    594\u001b[0m     types_pb2\u001b[38;5;241m.\u001b[39mDT_QINT8:\n\u001b[0;32m    595\u001b[0m         _np_qint8,\n\u001b[0;32m    596\u001b[0m     types_pb2\u001b[38;5;241m.\u001b[39mDT_QUINT8:\n\u001b[0;32m    597\u001b[0m         _np_quint8,\n\u001b[0;32m    598\u001b[0m     types_pb2\u001b[38;5;241m.\u001b[39mDT_QINT16:\n\u001b[0;32m    599\u001b[0m         _np_qint16,\n\u001b[0;32m    600\u001b[0m     types_pb2\u001b[38;5;241m.\u001b[39mDT_QUINT16:\n\u001b[0;32m    601\u001b[0m         _np_quint16,\n\u001b[0;32m    602\u001b[0m     types_pb2\u001b[38;5;241m.\u001b[39mDT_QINT32:\n\u001b[0;32m    603\u001b[0m         _np_qint32,\n\u001b[0;32m    604\u001b[0m     types_pb2\u001b[38;5;241m.\u001b[39mDT_BFLOAT16:\n\u001b[0;32m    605\u001b[0m         _np_bfloat16,\n\u001b[0;32m    606\u001b[0m \n\u001b[0;32m    607\u001b[0m     \u001b[38;5;66;03m# Ref types\u001b[39;00m\n\u001b[0;32m    608\u001b[0m     types_pb2\u001b[38;5;241m.\u001b[39mDT_HALF_REF:\n\u001b[0;32m    609\u001b[0m         np\u001b[38;5;241m.\u001b[39mfloat16,\n\u001b[0;32m    610\u001b[0m     types_pb2\u001b[38;5;241m.\u001b[39mDT_FLOAT_REF:\n\u001b[0;32m    611\u001b[0m         np\u001b[38;5;241m.\u001b[39mfloat32,\n\u001b[0;32m    612\u001b[0m     types_pb2\u001b[38;5;241m.\u001b[39mDT_DOUBLE_REF:\n\u001b[0;32m    613\u001b[0m         np\u001b[38;5;241m.\u001b[39mfloat64,\n\u001b[0;32m    614\u001b[0m     types_pb2\u001b[38;5;241m.\u001b[39mDT_INT32_REF:\n\u001b[0;32m    615\u001b[0m         np\u001b[38;5;241m.\u001b[39mint32,\n\u001b[0;32m    616\u001b[0m     types_pb2\u001b[38;5;241m.\u001b[39mDT_UINT32_REF:\n\u001b[0;32m    617\u001b[0m         np\u001b[38;5;241m.\u001b[39muint32,\n\u001b[0;32m    618\u001b[0m     types_pb2\u001b[38;5;241m.\u001b[39mDT_UINT8_REF:\n\u001b[0;32m    619\u001b[0m         np\u001b[38;5;241m.\u001b[39muint8,\n\u001b[0;32m    620\u001b[0m     types_pb2\u001b[38;5;241m.\u001b[39mDT_UINT16_REF:\n\u001b[0;32m    621\u001b[0m         np\u001b[38;5;241m.\u001b[39muint16,\n\u001b[0;32m    622\u001b[0m     types_pb2\u001b[38;5;241m.\u001b[39mDT_INT16_REF:\n\u001b[0;32m    623\u001b[0m         np\u001b[38;5;241m.\u001b[39mint16,\n\u001b[0;32m    624\u001b[0m     types_pb2\u001b[38;5;241m.\u001b[39mDT_INT8_REF:\n\u001b[0;32m    625\u001b[0m         np\u001b[38;5;241m.\u001b[39mint8,\n\u001b[0;32m    626\u001b[0m     types_pb2\u001b[38;5;241m.\u001b[39mDT_STRING_REF:\n\u001b[0;32m    627\u001b[0m         np\u001b[38;5;241m.\u001b[39mobject,\n\u001b[0;32m    628\u001b[0m     types_pb2\u001b[38;5;241m.\u001b[39mDT_COMPLEX64_REF:\n\u001b[0;32m    629\u001b[0m         np\u001b[38;5;241m.\u001b[39mcomplex64,\n\u001b[0;32m    630\u001b[0m     types_pb2\u001b[38;5;241m.\u001b[39mDT_COMPLEX128_REF:\n\u001b[0;32m    631\u001b[0m         np\u001b[38;5;241m.\u001b[39mcomplex128,\n\u001b[0;32m    632\u001b[0m     types_pb2\u001b[38;5;241m.\u001b[39mDT_INT64_REF:\n\u001b[0;32m    633\u001b[0m         np\u001b[38;5;241m.\u001b[39mint64,\n\u001b[0;32m    634\u001b[0m     types_pb2\u001b[38;5;241m.\u001b[39mDT_UINT64_REF:\n\u001b[0;32m    635\u001b[0m         np\u001b[38;5;241m.\u001b[39muint64,\n\u001b[0;32m    636\u001b[0m     types_pb2\u001b[38;5;241m.\u001b[39mDT_BOOL_REF:\n\u001b[0;32m    637\u001b[0m         np\u001b[38;5;241m.\u001b[39mbool,\n\u001b[0;32m    638\u001b[0m     types_pb2\u001b[38;5;241m.\u001b[39mDT_QINT8_REF:\n\u001b[0;32m    639\u001b[0m         _np_qint8,\n\u001b[0;32m    640\u001b[0m     types_pb2\u001b[38;5;241m.\u001b[39mDT_QUINT8_REF:\n\u001b[0;32m    641\u001b[0m         _np_quint8,\n\u001b[0;32m    642\u001b[0m     types_pb2\u001b[38;5;241m.\u001b[39mDT_QINT16_REF:\n\u001b[0;32m    643\u001b[0m         _np_qint16,\n\u001b[0;32m    644\u001b[0m     types_pb2\u001b[38;5;241m.\u001b[39mDT_QUINT16_REF:\n\u001b[0;32m    645\u001b[0m         _np_quint16,\n\u001b[0;32m    646\u001b[0m     types_pb2\u001b[38;5;241m.\u001b[39mDT_QINT32_REF:\n\u001b[0;32m    647\u001b[0m         _np_qint32,\n\u001b[0;32m    648\u001b[0m     types_pb2\u001b[38;5;241m.\u001b[39mDT_BFLOAT16_REF:\n\u001b[0;32m    649\u001b[0m         _np_bfloat16,\n\u001b[0;32m    650\u001b[0m }\n\u001b[0;32m    652\u001b[0m _QUANTIZED_DTYPES_NO_REF \u001b[38;5;241m=\u001b[39m \u001b[38;5;28mfrozenset\u001b[39m([qint8, quint8, qint16, quint16, qint32])\n\u001b[0;32m    653\u001b[0m _QUANTIZED_DTYPES_REF \u001b[38;5;241m=\u001b[39m \u001b[38;5;28mfrozenset\u001b[39m(\n\u001b[0;32m    654\u001b[0m     [qint8_ref, quint8_ref, qint16_ref, quint16_ref, qint32_ref])\n",
            "File \u001b[1;32md:\\Users\\5520\\anaconda3\\envs\\keras-gpu\\lib\\site-packages\\numpy\\__init__.py:324\u001b[0m, in \u001b[0;36m__getattr__\u001b[1;34m(attr)\u001b[0m\n\u001b[0;32m    319\u001b[0m     warnings\u001b[38;5;241m.\u001b[39mwarn(\n\u001b[0;32m    320\u001b[0m         \u001b[38;5;124mf\u001b[39m\u001b[38;5;124m\"\u001b[39m\u001b[38;5;124mIn the future `np.\u001b[39m\u001b[38;5;132;01m{\u001b[39;00mattr\u001b[38;5;132;01m}\u001b[39;00m\u001b[38;5;124m` will be defined as the \u001b[39m\u001b[38;5;124m\"\u001b[39m\n\u001b[0;32m    321\u001b[0m         \u001b[38;5;124m\"\u001b[39m\u001b[38;5;124mcorresponding NumPy scalar.\u001b[39m\u001b[38;5;124m\"\u001b[39m, \u001b[38;5;167;01mFutureWarning\u001b[39;00m, stacklevel\u001b[38;5;241m=\u001b[39m\u001b[38;5;241m2\u001b[39m)\n\u001b[0;32m    323\u001b[0m \u001b[38;5;28;01mif\u001b[39;00m attr \u001b[38;5;129;01min\u001b[39;00m __former_attrs__:\n\u001b[1;32m--> 324\u001b[0m     \u001b[38;5;28;01mraise\u001b[39;00m \u001b[38;5;167;01mAttributeError\u001b[39;00m(__former_attrs__[attr])\n\u001b[0;32m    326\u001b[0m \u001b[38;5;28;01mif\u001b[39;00m attr \u001b[38;5;241m==\u001b[39m \u001b[38;5;124m'\u001b[39m\u001b[38;5;124mtesting\u001b[39m\u001b[38;5;124m'\u001b[39m:\n\u001b[0;32m    327\u001b[0m     \u001b[38;5;28;01mimport\u001b[39;00m \u001b[38;5;21;01mnumpy\u001b[39;00m\u001b[38;5;21;01m.\u001b[39;00m\u001b[38;5;21;01mtesting\u001b[39;00m \u001b[38;5;28;01mas\u001b[39;00m \u001b[38;5;21;01mtesting\u001b[39;00m\n",
            "\u001b[1;31mAttributeError\u001b[0m: module 'numpy' has no attribute 'object'.\n`np.object` was a deprecated alias for the builtin `object`. To avoid this error in existing code, use `object` by itself. Doing this will not modify any behavior and is safe. \nThe aliases was originally deprecated in NumPy 1.20; for more details and guidance see the original release note at:\n    https://numpy.org/devdocs/release/1.20.0-notes.html#deprecations"
          ]
        }
      ],
      "source": [
        "from keras.models import Sequential"
      ]
    },
    {
      "cell_type": "markdown",
      "metadata": {
        "id": "IC1aRifsj4Eu"
      },
      "source": [
        "As mentioned before, Keras is a wrapper that allows us to use either Theano or TensorFlow as a backend. It is easy to switch between them if required. However, newer versions of Keras will focus on the TensorFlow backend, dropping support for the rest of the backends. Thus, in this tutorial, we will use the TensorFlow backend. Similar to the NumPy pseudorandom number generator, we also fix Keras' pseudorandom number generator for reproducibility."
      ]
    },
    {
      "cell_type": "code",
      "execution_count": 3,
      "metadata": {
        "id": "81_cpwH9UhRn"
      },
      "outputs": [],
      "source": [
        "import tensorflow as tf\n",
        "tf.random.set_seed(123)"
      ]
    },
    {
      "cell_type": "markdown",
      "metadata": {
        "id": "8zCje2VIWFIV"
      },
      "source": [
        "Next, we import two of the core layers used to build a network on Keras: [`Dense`](https://keras.io/layers/core/#dense) and [`Activation`](https://keras.io/layers/core/#activation). In short, the `Dense` defines a fully-connected network where all the neurons are connected to all of the elements of the input data, and the `Activation` defines a non-linear function applied to the network. We will explain more about those layers in the following tutorials."
      ]
    },
    {
      "cell_type": "code",
      "execution_count": 4,
      "metadata": {
        "id": "Ua1JaDKTj5XO"
      },
      "outputs": [],
      "source": [
        "from keras.layers import Dense, Activation"
      ]
    },
    {
      "cell_type": "markdown",
      "metadata": {
        "id": "Vbm3UwLeKdDv"
      },
      "source": [
        "In addition, we need to import some utils, that will help us later with the visualisation and transformation of the dataset."
      ]
    },
    {
      "cell_type": "code",
      "execution_count": 5,
      "metadata": {
        "id": "yUVkzIz3KtXt"
      },
      "outputs": [],
      "source": [
        "from keras.utils import np_utils\n",
        "import matplotlib.pyplot as plt"
      ]
    },
    {
      "cell_type": "markdown",
      "metadata": {
        "id": "ZBQn3bnIkpOE"
      },
      "source": [
        "## Loading Datasets from Keras\n",
        "\n",
        "Besides the modules to build our neural networks, Keras library also contains a set of [standard datasets](https://keras.io/datasets/). The fact that those datasets are inside Keras is handy and can save us a lot of time when learning how to create our first neural network. \n",
        "\n",
        "Therefore, let's import the [MNIST](https://en.wikipedia.org/wiki/MNIST_database) dataset. MNIST is a popular dataset on the computer vision community that contains a large number of binary images of handwritten digits. Once loaded, Keras allows us to easily split the dataset into the commonly used train and test data splits."
      ]
    },
    {
      "cell_type": "code",
      "execution_count": 6,
      "metadata": {
        "colab": {
          "base_uri": "https://localhost:8080/"
        },
        "id": "92F5A9XEIiVQ",
        "outputId": "fc9dfb17-bbd0-4b17-e22d-d3fd7cd6a13e"
      },
      "outputs": [
        {
          "name": "stdout",
          "output_type": "stream",
          "text": [
            "Downloading data from https://storage.googleapis.com/tensorflow/tf-keras-datasets/mnist.npz\n",
            "11493376/11490434 [==============================] - 0s 0us/step\n"
          ]
        }
      ],
      "source": [
        "from keras.datasets import mnist\n",
        "\n",
        "# the data, shuffled and split between train and test sets\n",
        "(X_train, y_train), (X_test, y_test) = mnist.load_data()"
      ]
    },
    {
      "cell_type": "markdown",
      "metadata": {
        "id": "nuHAmcCaImS8"
      },
      "source": [
        "Automatically, Keras has provided us with the `X_train` and `X_test` images for training and testing, respectively. Moreover, Keras also stores into `y_train` and `y_test` the corresponding numeric labels associated with `X_train` and `X_test`.\n",
        "\n",
        "We can now look into the shape of the imported data and visualise some examples:"
      ]
    },
    {
      "cell_type": "code",
      "execution_count": 7,
      "metadata": {
        "colab": {
          "base_uri": "https://localhost:8080/",
          "height": 319
        },
        "id": "l5o9qsfjJdNv",
        "outputId": "cfd66970-3bee-4afd-ffe6-130288c5efae"
      },
      "outputs": [
        {
          "name": "stdout",
          "output_type": "stream",
          "text": [
            "Image shape: (28, 28)\n",
            "Total number of training samples: 60000\n",
            "Total number of test samples: 10000\n"
          ]
        },
        {
          "data": {
            "image/png": "[encoded data removed]",
            "text/plain": [
              "<Figure size 432x288 with 25 Axes>"
            ]
          },
          "metadata": {
            "tags": []
          },
          "output_type": "display_data"
        }
      ],
      "source": [
        "print('Image shape: {0}'.format(X_train.shape[1:]))\n",
        "print('Total number of training samples: {0}'.format(X_train.shape[0]))\n",
        "print('Total number of test samples: {0}'.format(X_test.shape[0]))\n",
        "\n",
        "N=5\n",
        "start_val = 0 # pick an element for the code to plot the following N**2 values\n",
        "fig, axes = plt.subplots(N,N)\n",
        "items = list(range(0, 10))\n",
        "for row in range(N):\n",
        "  for col in range(N):\n",
        "    idx = start_val+row+N*col\n",
        "    axes[row,col].imshow(X_train[idx], cmap='gray')\n",
        "    fig.subplots_adjust(hspace=0.5)\n",
        "    y_target = int(y_train[idx])\n",
        "    target = str(items[y_target])\n",
        "    axes[row,col].set_title(target)\n",
        "    axes[row,col].set_xticks([])\n",
        "    axes[row,col].set_yticks([])"
      ]
    },
    {
      "cell_type": "markdown",
      "metadata": {
        "id": "WoNhnQtRNhHu"
      },
      "source": [
        "We have 60000 training samples and 10000 test samples, where each image has a shape of 28×28 pixels. Visualising the data before deploying any algorithm is always a good idea: it is a quick sanity check that can prevent avoidable mistakes."
      ]
    },
    {
      "cell_type": "markdown",
      "metadata": {
        "id": "DohVlsvsN9np"
      },
      "source": [
        "## Preprocessing Keras Datasets\n",
        "\n",
        "In this first example, we train a simple model to classify the digits on MNIST dataset. \n",
        "\n",
        "As will be studied in the lectures, convolutional layers are usually employed to classify images. However, for the time being, we use only `Dense` layers. Thus, we have to reshape the images into a 1D array to have a single dimension, and define an architecture that could be used in any 1D data, *e.g.*, time series. We will see on following weeks that when using Convolutional Neural Networks (CNNs) we must define a 3D shape for images (depth, width, height). CNNs usually have higher performance compared to models with only `Dense` layers when applied to 2D data.\n",
        "\n",
        "Let's transform the 2D images into 1D arrays."
      ]
    },
    {
      "cell_type": "code",
      "execution_count": 8,
      "metadata": {
        "colab": {
          "base_uri": "https://localhost:8080/"
        },
        "id": "aa6-T9T9PABQ",
        "outputId": "9762b8ef-2581-4e01-cee6-24bf7244282d"
      },
      "outputs": [
        {
          "name": "stdout",
          "output_type": "stream",
          "text": [
            "New X_train shape: (60000, 784)\n"
          ]
        }
      ],
      "source": [
        "X_train_flatten = X_train.reshape(X_train.shape[0], X_train.shape[1] * X_train.shape[2])\n",
        "X_test_flatten = X_test.reshape(X_test.shape[0], X_test.shape[1] * X_test.shape[2])\n",
        "\n",
        "print('New X_train shape: {0}'.format(X_train_flatten.shape))"
      ]
    },
    {
      "cell_type": "markdown",
      "metadata": {
        "id": "aVLnq7URVwxH"
      },
      "source": [
        "A standard practise is to normalise the dataset to the range $[0, 1]$."
      ]
    },
    {
      "cell_type": "code",
      "execution_count": 9,
      "metadata": {
        "id": "jbOITHGSV9WS"
      },
      "outputs": [],
      "source": [
        "X_train_flatten = X_train_flatten.astype('float32')\n",
        "X_test_flatten = X_test_flatten.astype('float32')\n",
        "X_train_flatten /= 255\n",
        "X_test_flatten /= 255"
      ]
    },
    {
      "cell_type": "markdown",
      "metadata": {
        "id": "eZTwrNtOWNBe"
      },
      "source": [
        "We train a classifier in a supervised manner, and therefore, we need to process the labels so that our pipeline can use them. The `y_train` and `y_test` labels indicate the numerical values belonging to the `X_train` and `X_test` images. \n",
        "\n",
        "We use a Categorical CrossEntropy as the loss function. To feed the loss function with the labels, we need to transform them into a [one-hot encoded vector](https://en.wikipedia.org/wiki/One-hot)."
      ]
    },
    {
      "cell_type": "code",
      "execution_count": 10,
      "metadata": {
        "colab": {
          "base_uri": "https://localhost:8080/"
        },
        "id": "z-KifrbWXreU",
        "outputId": "2e24fcaf-d167-4fdf-dfa6-1cd582226eab"
      },
      "outputs": [
        {
          "name": "stdout",
          "output_type": "stream",
          "text": [
            "New Y_train shape: (60000, 10)\n"
          ]
        }
      ],
      "source": [
        "Y_train_class = np_utils.to_categorical(y_train, 10)\n",
        "Y_test_class = np_utils.to_categorical(y_test, 10)\n",
        "\n",
        "print('New Y_train shape: {0}'.format(Y_train_class.shape))"
      ]
    },
    {
      "cell_type": "markdown",
      "metadata": {
        "id": "jokxf-U8thD8"
      },
      "source": [
        "To see the difference between one-hot encoded and integer representation, let's print the first element of `y_train` and `Y_train_class`."
      ]
    },
    {
      "cell_type": "code",
      "execution_count": 11,
      "metadata": {
        "colab": {
          "base_uri": "https://localhost:8080/"
        },
        "id": "0oYrx0kStdfy",
        "outputId": "a622b5d7-539f-422e-a69e-534b4a0e139e"
      },
      "outputs": [
        {
          "name": "stdout",
          "output_type": "stream",
          "text": [
            "Label: 5.    One-hot Vector: [0. 0. 0. 0. 0. 1. 0. 0. 0. 0.]\n"
          ]
        }
      ],
      "source": [
        "print('Label: {0}.    One-hot Vector: {1}'.format(y_train[0], Y_train_class[0]))"
      ]
    },
    {
      "cell_type": "markdown",
      "metadata": {
        "id": "OcgAG0OZLZ3W"
      },
      "source": [
        "## Model Architecture\n",
        "\n",
        "\n",
        "Defining a model architecture is a critical step when trying to solve a machine learning problem. In this tutorial, we will understand how models can be built into Keras. \n",
        "\n",
        "First, we need to declare a `Sequential` module. As mentioned, the `Sequential` module allows us to combine neural network layers linearly. We create a model by passing a list of layer instances to the `Sequential` module:"
      ]
    },
    {
      "cell_type": "code",
      "execution_count": 12,
      "metadata": {
        "id": "9_sJo3MbS1Lz"
      },
      "outputs": [],
      "source": [
        "model = Sequential([\n",
        "    Dense(10, input_shape=(784,)),\n",
        "    Activation('softmax'),\n",
        "])"
      ]
    },
    {
      "cell_type": "markdown",
      "metadata": {
        "id": "iEVpTbQ9TX_u"
      },
      "source": [
        "The previous model is composed of a dense layer and activation function (Softmax). Another way of defining architectures is to simply add layers via the `.add()` method:"
      ]
    },
    {
      "cell_type": "code",
      "execution_count": 13,
      "metadata": {
        "id": "w-i9u2fbTZCk"
      },
      "outputs": [],
      "source": [
        "model = Sequential()\n",
        "model.add(Dense(10, input_dim=784))\n",
        "model.add(Activation('softmax'))"
      ]
    },
    {
      "cell_type": "markdown",
      "metadata": {
        "id": "xGsQ9NTBBHFC"
      },
      "source": [
        "We now have a simple model ready to go! \n",
        "\n",
        "Note that the model needs to know the shape of the input data. For this reason, the first layer in the Sequential model needs information about the input shape (the following layers can automatically infer the shape, and you do not need to specify it). In our case, we tell the network that the `input_shape` is 784. The 784 size vector comes from the flatten operation of our images (28 x 28). If we were using directly images, the input shape would have been (28, 28, 1), which corresponds to the (width, height, depth) of each digit image. The formatting (width, height, depth) is called `channels_last`, which is used by default in Keras. However, Keras also accepts the format (depth, width, height), that is called `channels_first` and it is commonly used in PyTorch. Keep in mind that you can change the formatting by passing the argument `data_format` when defining a layer.\n",
        "\n",
        "Let's print the model shape output:"
      ]
    },
    {
      "cell_type": "code",
      "execution_count": 14,
      "metadata": {
        "colab": {
          "base_uri": "https://localhost:8080/"
        },
        "id": "h5CZJUssUW1b",
        "outputId": "f0dace5d-565a-4c6a-fd34-4bf82f9ec205"
      },
      "outputs": [
        {
          "name": "stdout",
          "output_type": "stream",
          "text": [
            "(None, 10)\n"
          ]
        }
      ],
      "source": [
        "print(model.output_shape)"
      ]
    },
    {
      "cell_type": "markdown",
      "metadata": {
        "id": "Kpz5BNJ8UnuP"
      },
      "source": [
        "We define the output of our layer to be 10, that corresponds to the 10 different classes in MNIST (one, two, three, ..., nine.). Keras automatically handles the connections between layers, so there is no need for us to manually set up anything within the architecture. \n",
        "\n",
        "We see how our model looks like by using the `.summary()` method. "
      ]
    },
    {
      "cell_type": "code",
      "execution_count": 15,
      "metadata": {
        "colab": {
          "base_uri": "https://localhost:8080/"
        },
        "id": "a37n1PQzU3BX",
        "outputId": "7277b91f-4816-49a7-a622-4b887bc6f631"
      },
      "outputs": [
        {
          "name": "stdout",
          "output_type": "stream",
          "text": [
            "Model: \"sequential_1\"\n",
            "_________________________________________________________________\n",
            "Layer (type)                 Output Shape              Param #   \n",
            "=================================================================\n",
            "dense_1 (Dense)              (None, 10)                7850      \n",
            "_________________________________________________________________\n",
            "activation_1 (Activation)    (None, 10)                0         \n",
            "=================================================================\n",
            "Total params: 7,850\n",
            "Trainable params: 7,850\n",
            "Non-trainable params: 0\n",
            "_________________________________________________________________\n"
          ]
        }
      ],
      "source": [
        "model.summary()"
      ]
    },
    {
      "cell_type": "markdown",
      "metadata": {
        "id": "TPQEWWDuwCzk"
      },
      "source": [
        "In our example, the first row of the table has $784\\cdot 10+ 10=7850$ parameters, where the first term refers to the connections between input data and neurons,  and the second term to the output bias."
      ]
    },
    {
      "cell_type": "markdown",
      "metadata": {
        "id": "q_zb2cNDVaJi"
      },
      "source": [
        "## Compilation\n",
        "\n",
        "Before training our model, we need to configure the learning process, which is done via the compile method. We must define three important parameters here:\n",
        "\n",
        "*   The loss function that the model will try to minimise.\n",
        "*   The optimiser used to minimise the loss function and update the weights of the network.\n",
        "*   The list of metrics you want the model to compute in every step.\n",
        "\n",
        "In our example, as we are doing classification, we will define the `categorical_crossentropy` as the loss function, and we will compute the accuracy metric. You can refer to Keras documentation to learn more about [losses](https://keras.io/losses/) or [optimisers](https://keras.io/optimizers/). Many other parameters could be tuned, e.g., learning rate, decay factor, or weight normalisation. We will explore in more detail all of these parameters in the following tutorials. For now, we will use the default values for them. \n",
        "\n",
        "\n"
      ]
    },
    {
      "cell_type": "code",
      "execution_count": 16,
      "metadata": {
        "id": "kHasLrmvWtSf"
      },
      "outputs": [],
      "source": [
        "model.compile(loss='categorical_crossentropy',\n",
        "              optimizer='adam',\n",
        "              metrics=['accuracy'])"
      ]
    },
    {
      "cell_type": "markdown",
      "metadata": {
        "id": "iqImvb8kWznJ"
      },
      "source": [
        "## Training\n",
        "\n",
        "To train the model, we call `.fit()` after compiling the model. We have to define the batch size and the number of total epochs the model is going to train. We are finally ready to start the learning of our classifier! "
      ]
    },
    {
      "cell_type": "code",
      "execution_count": 17,
      "metadata": {
        "colab": {
          "base_uri": "https://localhost:8080/"
        },
        "id": "trVlIdWNXUwd",
        "outputId": "96e4539a-71e8-4426-807f-178c9a7877b6"
      },
      "outputs": [
        {
          "name": "stdout",
          "output_type": "stream",
          "text": [
            "Epoch 1/10\n",
            "1875/1875 [==============================] - 5s 2ms/step - loss: 0.7159 - accuracy: 0.8152\n",
            "Epoch 2/10\n",
            "1875/1875 [==============================] - 3s 2ms/step - loss: 0.3191 - accuracy: 0.9114\n",
            "Epoch 3/10\n",
            "1875/1875 [==============================] - 3s 2ms/step - loss: 0.2786 - accuracy: 0.9213\n",
            "Epoch 4/10\n",
            "1875/1875 [==============================] - 3s 2ms/step - loss: 0.2728 - accuracy: 0.9231\n",
            "Epoch 5/10\n",
            "1875/1875 [==============================] - 3s 2ms/step - loss: 0.2646 - accuracy: 0.9262\n",
            "Epoch 6/10\n",
            "1875/1875 [==============================] - 3s 2ms/step - loss: 0.2578 - accuracy: 0.9272\n",
            "Epoch 7/10\n",
            "1875/1875 [==============================] - 3s 2ms/step - loss: 0.2552 - accuracy: 0.9289\n",
            "Epoch 8/10\n",
            "1875/1875 [==============================] - 3s 2ms/step - loss: 0.2538 - accuracy: 0.9303\n",
            "Epoch 9/10\n",
            "1875/1875 [==============================] - 3s 2ms/step - loss: 0.2550 - accuracy: 0.9304\n",
            "Epoch 10/10\n",
            "1875/1875 [==============================] - 3s 2ms/step - loss: 0.2509 - accuracy: 0.9314\n"
          ]
        }
      ],
      "source": [
        "history = model.fit(X_train_flatten, Y_train_class, batch_size=32, epochs=10)"
      ]
    },
    {
      "cell_type": "markdown",
      "metadata": {
        "id": "yj8MJvUnXzHj"
      },
      "source": [
        "Great, we have trained our first model! \n",
        "\n",
        "Imagine that we need to train the model until it converges, and we do not know how many epochs it will take. Then, we can define some mechanism to control the learning curves and stop them whenever we see fit. Those mechanisms are called callbacks in Keras. Thus, callbacks allow us to define early-stopping rules. Additionally, we use [callbacks methods](https://keras.io/callbacks/) to save the model's weights or log history along the training process, among many other things. An example of using the early stopping callback is given later in this tutorial.\n",
        "\n",
        "Most of the times, the training curves give important information about the training process. To visualise them, we can use the information saved on the training history:"
      ]
    },
    {
      "cell_type": "code",
      "execution_count": 18,
      "metadata": {
        "colab": {
          "base_uri": "https://localhost:8080/",
          "height": 312
        },
        "id": "OGy405W2boBB",
        "outputId": "03c91f04-3d7e-4bbe-9a35-2b97a0f020d1"
      },
      "outputs": [
        {
          "data": {
            "text/plain": [
              "Text(0.5, 0, 'Epoch')"
            ]
          },
          "execution_count": 18,
          "metadata": {
            "tags": []
          },
          "output_type": "execute_result"
        },
        {
          "data": {
            "image/png": "[encoded data removed]",
            "text/plain": [
              "<Figure size 432x288 with 2 Axes>"
            ]
          },
          "metadata": {
            "needs_background": "light",
            "tags": []
          },
          "output_type": "display_data"
        }
      ],
      "source": [
        "fig, axes = plt.subplots(2,1)\n",
        "axes[0].plot(history.history['accuracy'])\n",
        "axes[0].set_title('Model Accuracy')\n",
        "axes[0].set_ylabel('Accuracy')\n",
        "axes[0].set_xlabel('Epoch')\n",
        "\n",
        "fig.subplots_adjust(hspace=0.5)\n",
        "\n",
        "axes[1].plot(history.history['loss'], 'g')\n",
        "axes[1].set_title('Model Loss')\n",
        "axes[1].set_ylabel('Cross Entropy Loss')\n",
        "axes[1].set_xlabel('Epoch')"
      ]
    },
    {
      "cell_type": "markdown",
      "metadata": {
        "id": "1xMgl2FYaSA9"
      },
      "source": [
        "## Evaluating Model\n",
        "\n",
        "Finally, we check the metrics of our model on the test data by using the method `.evaluate()`:"
      ]
    },
    {
      "cell_type": "code",
      "execution_count": 19,
      "metadata": {
        "colab": {
          "base_uri": "https://localhost:8080/"
        },
        "id": "Dac7-bRJab05",
        "outputId": "e5c15cd9-aeb5-471d-d7df-ace11afc7369"
      },
      "outputs": [
        {
          "name": "stdout",
          "output_type": "stream",
          "text": [
            "Test loss: 0.26406407356262207\n",
            "Test accuracy: 0.9269999861717224\n"
          ]
        }
      ],
      "source": [
        "score = model.evaluate(X_test_flatten, Y_test_class, verbose=0)\n",
        "print('Test loss:', score[0])\n",
        "print('Test accuracy:', score[1])"
      ]
    },
    {
      "cell_type": "markdown",
      "metadata": {
        "id": "Jzdmn3rCgo8l"
      },
      "source": [
        "# Training a Simple Multi-layer Perceptron\n",
        "\n",
        "Earlier, we showed how to create a simple network that maps directly from $784$ (input size) to $10$ (output size). In the following sections, we explain the basics of creating more complex models, models that combine different sequential layers to perform more accurate classifications. \n",
        "\n",
        "Hence, we start by defining a network with an extra layer and study how that affects the final test accuracy."
      ]
    },
    {
      "cell_type": "code",
      "execution_count": 20,
      "metadata": {
        "colab": {
          "base_uri": "https://localhost:8080/"
        },
        "id": "WRRqajaThGgf",
        "outputId": "72079fbd-17f7-4ec0-97f9-985bcbfff914"
      },
      "outputs": [
        {
          "name": "stdout",
          "output_type": "stream",
          "text": [
            "Model: \"sequential_2\"\n",
            "_________________________________________________________________\n",
            "Layer (type)                 Output Shape              Param #   \n",
            "=================================================================\n",
            "dense_2 (Dense)              (None, 100)               78500     \n",
            "_________________________________________________________________\n",
            "dense_3 (Dense)              (None, 10)                1010      \n",
            "=================================================================\n",
            "Total params: 79,510\n",
            "Trainable params: 79,510\n",
            "Non-trainable params: 0\n",
            "_________________________________________________________________\n"
          ]
        }
      ],
      "source": [
        "model2 = Sequential()\n",
        "model2.add(Dense(100, activation='relu', input_shape=(784,)))\n",
        "model2.add(Dense(10, activation='softmax'))\n",
        "\n",
        "model2.summary()"
      ]
    },
    {
      "cell_type": "markdown",
      "metadata": {
        "id": "RK4s-S-ihT2v"
      },
      "source": [
        "We have increased the number of parameters from 7850 to 79510 by adding this layer. Remember that the number of units given to the last layer in Keras defines the dimensionality of the output space, thus, we need the last layer to have the same size that the total number of classes to classify. \n",
        "\n",
        "Note that we use ReLU (Rectified Linear Unit) activation function after the first dense layer. ReLU is a common activation function, we will give more details about it in future tutorials. However, for now, you can learn more about ReLU [here](https://keras.io/activations/#relu).\n",
        "\n",
        "We train our new model and visualise the model curves:"
      ]
    },
    {
      "cell_type": "code",
      "execution_count": 21,
      "metadata": {
        "colab": {
          "base_uri": "https://localhost:8080/",
          "height": 652
        },
        "id": "Ni6ov50rkltw",
        "outputId": "1111e277-c133-44d0-d232-363bbf1bfbf6"
      },
      "outputs": [
        {
          "name": "stdout",
          "output_type": "stream",
          "text": [
            "Epoch 1/10\n",
            "1875/1875 [==============================] - 4s 2ms/step - loss: 0.4421 - accuracy: 0.8766\n",
            "Epoch 2/10\n",
            "1875/1875 [==============================] - 3s 2ms/step - loss: 0.1275 - accuracy: 0.9623\n",
            "Epoch 3/10\n",
            "1875/1875 [==============================] - 3s 2ms/step - loss: 0.0803 - accuracy: 0.9764\n",
            "Epoch 4/10\n",
            "1875/1875 [==============================] - 3s 2ms/step - loss: 0.0601 - accuracy: 0.9813\n",
            "Epoch 5/10\n",
            "1875/1875 [==============================] - 3s 2ms/step - loss: 0.0460 - accuracy: 0.9863\n",
            "Epoch 6/10\n",
            "1875/1875 [==============================] - 3s 2ms/step - loss: 0.0367 - accuracy: 0.9893\n",
            "Epoch 7/10\n",
            "1875/1875 [==============================] - 3s 2ms/step - loss: 0.0312 - accuracy: 0.9909\n",
            "Epoch 8/10\n",
            "1875/1875 [==============================] - 3s 2ms/step - loss: 0.0252 - accuracy: 0.9920\n",
            "Epoch 9/10\n",
            "1875/1875 [==============================] - 3s 2ms/step - loss: 0.0216 - accuracy: 0.9934\n",
            "Epoch 10/10\n",
            "1875/1875 [==============================] - 3s 2ms/step - loss: 0.0153 - accuracy: 0.9953\n"
          ]
        },
        {
          "data": {
            "text/plain": [
              "Text(0.5, 0, 'Epoch')"
            ]
          },
          "execution_count": 21,
          "metadata": {
            "tags": []
          },
          "output_type": "execute_result"
        },
        {
          "data": {
            "image/png": "[encoded data removed]",
            "text/plain": [
              "<Figure size 432x288 with 2 Axes>"
            ]
          },
          "metadata": {
            "needs_background": "light",
            "tags": []
          },
          "output_type": "display_data"
        }
      ],
      "source": [
        "model2.compile(loss='categorical_crossentropy',\n",
        "              optimizer='adam',\n",
        "              metrics=['accuracy'])\n",
        "\n",
        "history2 = model2.fit(X_train_flatten, Y_train_class, batch_size=32, epochs=10)\n",
        "\n",
        "fig, axes = plt.subplots(2,1)\n",
        "axes[0].plot(history2.history['accuracy'])\n",
        "axes[0].set_title('Model Accuracy')\n",
        "axes[0].set_ylabel('Accuracy')\n",
        "axes[0].set_xlabel('Epoch')\n",
        "\n",
        "fig.subplots_adjust(hspace=0.5)\n",
        "\n",
        "axes[1].plot(history2.history['loss'], 'g')\n",
        "axes[1].set_title('Model Loss')\n",
        "axes[1].set_ylabel('Cross Entropy Loss')\n",
        "axes[1].set_xlabel('Epoch')"
      ]
    },
    {
      "cell_type": "markdown",
      "metadata": {
        "id": "LDcMSVr_l6C3"
      },
      "source": [
        "We have now trained two different models. Let's plot their metrics to see how that extra layer affected the results in the network performance."
      ]
    },
    {
      "cell_type": "code",
      "execution_count": 22,
      "metadata": {
        "colab": {
          "base_uri": "https://localhost:8080/"
        },
        "id": "cnk6_wuemCXO",
        "outputId": "509589b5-3153-454c-ad0c-3b3e67ed7e64"
      },
      "outputs": [
        {
          "name": "stdout",
          "output_type": "stream",
          "text": [
            "Old model:\n",
            "Test loss: 0.26406407356262207\n",
            "Test accuracy: 0.9269999861717224\n",
            "New model:\n",
            "Test loss: 0.0948835015296936\n",
            "Test accuracy: 0.9750999808311462\n"
          ]
        }
      ],
      "source": [
        "print('Old model:')\n",
        "print('Test loss:', score[0])\n",
        "print('Test accuracy:', score[1])\n",
        "\n",
        "print('New model:')\n",
        "score2 = model2.evaluate(X_test_flatten, Y_test_class, verbose=0)\n",
        "print('Test loss:', score2[0])\n",
        "print('Test accuracy:', score2[1])"
      ]
    },
    {
      "cell_type": "markdown",
      "metadata": {
        "id": "a-DHj7P7n1Eh"
      },
      "source": [
        "We have improved accuracy results on the test set. Even though there is still margin for parameter tuning, the reached accuracy is already pretty high. We could add more layers or change the number of neurons in each layer to see if we could boost even further the results.\n",
        "\n",
        "Let's now explore some techniques that will prove useful in the following tutorials."
      ]
    },
    {
      "cell_type": "markdown",
      "metadata": {
        "id": "9XyUx6ThaT47"
      },
      "source": [
        "## Saving/Loading Model\n",
        "\n",
        "Some networks require long training times (hours, days or even weeks), hence, it is essential to know how to save the models for using them in future times without the need of retraining them every time. \n",
        "\n",
        "We can save and load the trained model in different ways.\n",
        "\n",
        "The first way is to save everything into a single HDF5 file, which will contain:\n",
        "\n",
        "*   the architecture of the model, allowing to re-create the model\n",
        "*   the weights of the model\n",
        "*   the training configuration (loss, optimiser)\n",
        "*   the state of the optimiser, which permits us to resume training exactly where you left it off.\n"
      ]
    },
    {
      "cell_type": "code",
      "execution_count": 23,
      "metadata": {
        "id": "0KJp2Pj2aTOc"
      },
      "outputs": [],
      "source": [
        "from keras.models import load_model\n",
        "\n",
        "model.save('my_model.h5')  # creates a HDF5 file 'my_model.h5'\n",
        "del model  # deletes the existing model\n",
        "\n",
        "# Load a compiled model identical to the previous one\n",
        "model = load_model('my_model.h5') "
      ]
    },
    {
      "cell_type": "markdown",
      "metadata": {
        "id": "vD5h5qsUblji"
      },
      "source": [
        "An alternative method is to save the architecture and the weights independently.\n",
        "\n",
        "\n"
      ]
    },
    {
      "cell_type": "code",
      "execution_count": 24,
      "metadata": {
        "id": "dJXTYfTDcaWs"
      },
      "outputs": [],
      "source": [
        "model.save_weights('my_model_weights.h5') # creates a HDF5 file 'my_model_weights.h5'\n",
        "\n",
        "with open('my_model_architecture.json', 'w') as f:\n",
        "    f.write(model.to_json()) # creates a json file 'my_model_architecture.json'"
      ]
    },
    {
      "cell_type": "markdown",
      "metadata": {
        "id": "wPgCrD4Leony"
      },
      "source": [
        "If we want to load the model, without having to define it, we can use the `model_from_json()`."
      ]
    },
    {
      "cell_type": "code",
      "execution_count": 25,
      "metadata": {
        "id": "gXr0L8nqeipI"
      },
      "outputs": [],
      "source": [
        "from keras.models import model_from_json\n",
        "\n",
        "# Model reconstruction from JSON file\n",
        "with open('my_model_architecture.json', 'r') as f:\n",
        "    model = model_from_json(f.read())"
      ]
    },
    {
      "cell_type": "markdown",
      "metadata": {
        "id": "NzmL07T_dh7Z"
      },
      "source": [
        "Once we have a model defined, we can load the weights with the method `load_weights(file_path)`."
      ]
    },
    {
      "cell_type": "code",
      "execution_count": 26,
      "metadata": {
        "id": "yBahatkweEZx"
      },
      "outputs": [],
      "source": [
        "model.load_weights('my_model_weights.h5')"
      ]
    },
    {
      "cell_type": "markdown",
      "metadata": {
        "id": "nwXWMk1vdm48"
      },
      "source": [
        "Imagine that we create a slightly different version of the model. For instance, we design a standard classification network, but we modify the last layer, so it can now classify among more classes. Let's suppose that we have trained previously a model that shares the same architecture but with different output size. We can use the pre-trained network and load only the shared parts into our new model (all layers but the last one) by using the layer names. Keep in mind that loading weights by name can be done since you will face this situation when dealing with fine-tuning or transfer-learning problems."
      ]
    },
    {
      "cell_type": "code",
      "execution_count": 27,
      "metadata": {
        "id": "KAGF3VbPdroU"
      },
      "outputs": [],
      "source": [
        "model.load_weights('my_model_weights.h5', by_name=True)"
      ]
    },
    {
      "cell_type": "markdown",
      "metadata": {
        "id": "UWyW0AMhGMDc"
      },
      "source": [
        "Additionally, you can refer to [Keras' documentation](https://keras.io/getting_started/faq/#how-can-i-regularly-save-keras-models-during-training) and check how to create a callback which saves our model every 100 steps."
      ]
    },
    {
      "cell_type": "markdown",
      "metadata": {
        "id": "mX2BJRnjIxmN"
      },
      "source": [
        "### Download Models / Save to Google Drive\n",
        "One of the problems you may face is that the models, or any other file, saved in Colab will not be there permanently. In some cases, you will want to store your model weights in a more lasting way. There are two ways to save your model. First, you can download any file to your computer. To do so, you can use the left-side menu in Colab, and follow the instructions on the image below.\n",
        "\n",
        "![Screenshot](https://i.ibb.co/yS5JgPd/Screenshot-2021-01-18-at-15-46-04.png)\n",
        "\n",
        "If you want to use any file you previously downloaded, you will need to manually upload your file using the Colab interface.\n",
        "\n"
      ]
    },
    {
      "cell_type": "markdown",
      "metadata": {
        "id": "Ez688r6XKFrn"
      },
      "source": [
        "Another way to save your weights is by using your Google Drive storage. This can be more convenient, as you can quickly load the models again from your Drive without having to upload manually the file. To do so, you can click on the folder with the Drive symbol highlighted in the following image.\n",
        "\n",
        "![Screenshot](https://i.ibb.co/PFGw6QR/Screenshot-2021-01-18-at-16-16-44.png)"
      ]
    },
    {
      "cell_type": "markdown",
      "metadata": {
        "id": "xZ_A8BuHL1pi"
      },
      "source": [
        "After clicking on the Drive folder, the code below will appear in your Colab notebook. You need to run it and follow the instructions to have access to your Google Drive folder."
      ]
    },
    {
      "cell_type": "code",
      "execution_count": 28,
      "metadata": {
        "colab": {
          "base_uri": "https://localhost:8080/"
        },
        "id": "I-tn782jL7lM",
        "outputId": "e3dd6b3c-5cb0-412d-868a-795f9c1f940e"
      },
      "outputs": [
        {
          "name": "stdout",
          "output_type": "stream",
          "text": [
            "Mounted at /content/drive\n"
          ]
        }
      ],
      "source": [
        "from google.colab import drive\n",
        "drive.mount('/content/drive')"
      ]
    },
    {
      "cell_type": "markdown",
      "metadata": {
        "id": "zLZ7pcurNgkK"
      },
      "source": [
        "After the `drive` folder is mounted, you will see a new folder on your files section in Colab as in the following image.\n",
        "\n",
        "![Screenshot](https://i.ibb.co/NSM1RFK/Screenshot-2021-01-18-at-16-17-48.png)\n",
        "\n",
        "Now, you can save the model to your personal Google Drive and also load any model from it."
      ]
    },
    {
      "cell_type": "code",
      "execution_count": 29,
      "metadata": {
        "id": "C-0qOFZpNMmP"
      },
      "outputs": [],
      "source": [
        "model.save_weights('/content/drive/MyDrive/my_model_weights.h5')\n",
        "model.load_weights('/content/drive/MyDrive/my_model_weights.h5')"
      ]
    },
    {
      "cell_type": "markdown",
      "metadata": {
        "id": "nJVamZKmPDJU"
      },
      "source": [
        "Using your Google Drive storage is quite convenient. However, keep in mind that any file saved in your drive will also count towards your Google Drive storage limit."
      ]
    },
    {
      "cell_type": "markdown",
      "metadata": {
        "id": "-6v_S7oxfUQC"
      },
      "source": [
        "## Obtaining an Output of an Intermediate Layer\n",
        "\n",
        "Sometimes we need to check how features of intermediate layers look like. This can be used for extracting features, but also for debugging purposes. That is why we need to see how we can obtain information about any layer within the architecture.\n",
        "\n",
        "The easiest way is to design a new model that will have as final output our desired layer. We first define the model:"
      ]
    },
    {
      "cell_type": "code",
      "execution_count": 30,
      "metadata": {
        "colab": {
          "base_uri": "https://localhost:8080/"
        },
        "id": "dZa6sDFLgXoC",
        "outputId": "bce53eab-6014-404b-e7fd-28a6da295503"
      },
      "outputs": [
        {
          "name": "stdout",
          "output_type": "stream",
          "text": [
            "Model: \"sequential_3\"\n",
            "_________________________________________________________________\n",
            "Layer (type)                 Output Shape              Param #   \n",
            "=================================================================\n",
            "first_dense (Dense)          (None, 64)                50240     \n",
            "_________________________________________________________________\n",
            "second_dense (Dense)         (None, 128)               8320      \n",
            "_________________________________________________________________\n",
            "final_dense (Dense)          (None, 10)                1290      \n",
            "=================================================================\n",
            "Total params: 59,850\n",
            "Trainable params: 59,850\n",
            "Non-trainable params: 0\n",
            "_________________________________________________________________\n"
          ]
        }
      ],
      "source": [
        "model = Sequential()\n",
        "model.add(Dense(64, activation='relu', input_shape=(784,), name='first_dense'))\n",
        "model.add(Dense(128, activation='relu', name='second_dense'))\n",
        "model.add(Dense(10, activation='softmax', name='final_dense'))\n",
        "\n",
        "model.summary()"
      ]
    },
    {
      "cell_type": "markdown",
      "metadata": {
        "id": "hoXvhyLzhKU2"
      },
      "source": [
        "Now, we specify the name of the layer in which we are interested in obtaining the output. In our example, it is the second dense layer (\"second_dense\")."
      ]
    },
    {
      "cell_type": "code",
      "execution_count": 31,
      "metadata": {
        "colab": {
          "base_uri": "https://localhost:8080/"
        },
        "id": "8Zu29bschSps",
        "outputId": "01e2bfcf-69cc-42c8-c60e-7d242c0751cc"
      },
      "outputs": [
        {
          "name": "stdout",
          "output_type": "stream",
          "text": [
            "Second dense layer output shape: (10000, 128)\n",
            "Final output shape: (10000, 10)\n"
          ]
        }
      ],
      "source": [
        "from keras.models import Model\n",
        "\n",
        "layer_name = 'second_dense'\n",
        "intermediate_layer_model = Model(inputs=model.input,\n",
        "                                 outputs=model.get_layer(layer_name).output)\n",
        "intermediate_output = intermediate_layer_model.predict(X_test_flatten)\n",
        "final_output = model.predict(X_test_flatten)\n",
        "\n",
        "print('Second dense layer output shape: {0}'.format(intermediate_output.shape))\n",
        "print('Final output shape: {0}'.format(final_output.shape))"
      ]
    },
    {
      "cell_type": "markdown",
      "metadata": {
        "id": "HFo0jHRqiJv2"
      },
      "source": [
        "Alternatively, we could also build a Keras function that returns the output of a specific layer:"
      ]
    },
    {
      "cell_type": "code",
      "execution_count": 32,
      "metadata": {
        "colab": {
          "base_uri": "https://localhost:8080/"
        },
        "id": "msvYp1c9iNEX",
        "outputId": "d8b7cb25-0c5f-4194-8e8c-ccaba33644f0"
      },
      "outputs": [
        {
          "name": "stdout",
          "output_type": "stream",
          "text": [
            "Second dense layer output shape: (10000, 10)\n",
            "Final output shape: (10000, 10)\n"
          ]
        }
      ],
      "source": [
        "from keras import backend as K\n",
        "\n",
        "get_second_dense_layer_output = K.function([model.layers[0].input],\n",
        "                                  [model.layers[2].output])\n",
        "\n",
        "intermediate_output = get_second_dense_layer_output([X_test_flatten])[0]\n",
        "final_output = model.predict(X_test_flatten)\n",
        "\n",
        "print('Second dense layer output shape: {0}'.format(intermediate_output.shape))\n",
        "print('Final output shape: {0}'.format(final_output.shape))"
      ]
    },
    {
      "cell_type": "markdown",
      "metadata": {
        "id": "iV22i-GFj5np"
      },
      "source": [
        "## A bit more about Callback Functions\n",
        "\n",
        "We have already talked a bit about callback functions and how to use them. You can check the complete list of available callbacks [in the documentation](https://keras.io/callbacks/).\n",
        "\n",
        "Controlling and managing callbacks is essential when training big models. Sometimes we want to train the network until convergence. However, we are not able to determine the number of epochs it will take. Keras provides a handy method for controlling the training loops, the `EarlyStopping` callback. This callback checks when the network is not \"learning\" anymore and allows us to stop the training at any time. \n",
        "\n",
        "Let's see an example of how to stop the training when the validation loss is not decreasing anymore:"
      ]
    },
    {
      "cell_type": "code",
      "execution_count": 33,
      "metadata": {
        "colab": {
          "base_uri": "https://localhost:8080/"
        },
        "id": "GNShEzC-kdKN",
        "outputId": "c8a0a92e-c754-4447-e0ef-d6b15d299b25"
      },
      "outputs": [
        {
          "name": "stdout",
          "output_type": "stream",
          "text": [
            "Epoch 1/100\n",
            "1500/1500 [==============================] - 4s 2ms/step - loss: 0.5244 - accuracy: 0.8434 - val_loss: 0.1490 - val_accuracy: 0.9558\n",
            "Epoch 2/100\n",
            "1500/1500 [==============================] - 3s 2ms/step - loss: 0.1316 - accuracy: 0.9598 - val_loss: 0.1198 - val_accuracy: 0.9655\n",
            "Epoch 3/100\n",
            "1500/1500 [==============================] - 3s 2ms/step - loss: 0.0876 - accuracy: 0.9719 - val_loss: 0.1213 - val_accuracy: 0.9659\n",
            "Epoch 4/100\n",
            "1500/1500 [==============================] - 3s 2ms/step - loss: 0.0704 - accuracy: 0.9784 - val_loss: 0.1000 - val_accuracy: 0.9713\n",
            "Epoch 5/100\n",
            "1500/1500 [==============================] - 3s 2ms/step - loss: 0.0558 - accuracy: 0.9822 - val_loss: 0.1036 - val_accuracy: 0.9711\n",
            "Epoch 6/100\n",
            "1500/1500 [==============================] - 3s 2ms/step - loss: 0.0442 - accuracy: 0.9858 - val_loss: 0.1023 - val_accuracy: 0.9729\n"
          ]
        },
        {
          "data": {
            "text/plain": [
              "<tensorflow.python.keras.callbacks.History at 0x7f4758bccc18>"
            ]
          },
          "execution_count": 33,
          "metadata": {
            "tags": []
          },
          "output_type": "execute_result"
        }
      ],
      "source": [
        "from keras.callbacks import EarlyStopping\n",
        "\n",
        "# Define the metric that will determine the earlyStopping.\n",
        "# 'patience' defines the number of epochs we wait before stopping training \n",
        "# when the monitored metric does not improve\n",
        "early_stopping = EarlyStopping(monitor='val_loss', patience=2)\n",
        "\n",
        "model.compile(loss='categorical_crossentropy',\n",
        "              optimizer='adam',\n",
        "              metrics=['accuracy'])\n",
        "\n",
        "model.fit(X_train_flatten, Y_train_class, validation_split=0.2, \n",
        "            epochs=100, batch_size=32, callbacks=[early_stopping])"
      ]
    },
    {
      "cell_type": "markdown",
      "metadata": {
        "id": "meMroifllkIN"
      },
      "source": [
        "The model stops training without reaching the 100 epochs. How convenient, right?\n",
        "\n",
        "We could also combine multiple callbacks when calling the fit module, learn more about it [here](https://keras.io/callbacks/)."
      ]
    },
    {
      "cell_type": "markdown",
      "metadata": {
        "id": "3w4AVBmLCDJe"
      },
      "source": [
        "## Freezing Keras Layers\n",
        "\n",
        "Keras also allows us to freeze some of the weights of specific layers. Freezing layers means that we can exclude them from training. A typical example where this proved useful is when fine-tuning a model. Remember that when fine-tuning a model, some layers are fixed, and normally only the last ones are trained to finetune the task-specific layers (e.g. classifiers) to the new task.\n",
        "\n",
        "To freeze layers we can set the trainable argument (Boolean) of the layer to be non-trainable or trainable:"
      ]
    },
    {
      "cell_type": "code",
      "execution_count": 34,
      "metadata": {
        "id": "Q6x8F5hZDLWH"
      },
      "outputs": [],
      "source": [
        "frozen_layer = Dense(32, trainable=False)"
      ]
    },
    {
      "cell_type": "markdown",
      "metadata": {
        "id": "3s-5Bm8ODNe0"
      },
      "source": [
        "Additionally, we can access the layer arguments after initialisation. Therefore, we can set the trainable argument to `True` or `False` at any time. However, for this to take effect, we must call the `compile()` method after modifying any properties of the model:"
      ]
    },
    {
      "cell_type": "code",
      "execution_count": 35,
      "metadata": {
        "colab": {
          "base_uri": "https://localhost:8080/"
        },
        "id": "MTnjPeE7DjEs",
        "outputId": "78631a81-a3bc-4e7a-bc7b-f8fda7abed45"
      },
      "outputs": [
        {
          "name": "stdout",
          "output_type": "stream",
          "text": [
            "Model: \"sequential_4\"\n",
            "_________________________________________________________________\n",
            "Layer (type)                 Output Shape              Param #   \n",
            "=================================================================\n",
            "dense_5 (Dense)              (None, 10)                7850      \n",
            "=================================================================\n",
            "Total params: 7,850\n",
            "Trainable params: 7,850\n",
            "Non-trainable params: 0\n",
            "_________________________________________________________________\n",
            "Model: \"sequential_4\"\n",
            "_________________________________________________________________\n",
            "Layer (type)                 Output Shape              Param #   \n",
            "=================================================================\n",
            "dense_5 (Dense)              (None, 10)                7850      \n",
            "=================================================================\n",
            "Total params: 7,850\n",
            "Trainable params: 0\n",
            "Non-trainable params: 7,850\n",
            "_________________________________________________________________\n",
            "\n",
            "Train Model:\n",
            "Epoch 1/5\n",
            "1875/1875 [==============================] - 3s 2ms/step - loss: 0.4636 - accuracy: 0.8806\n",
            "Epoch 2/5\n",
            "1875/1875 [==============================] - 3s 2ms/step - loss: 0.3036 - accuracy: 0.9146\n",
            "Epoch 3/5\n",
            "1875/1875 [==============================] - 3s 2ms/step - loss: 0.2834 - accuracy: 0.9204\n",
            "Epoch 4/5\n",
            "1875/1875 [==============================] - 3s 2ms/step - loss: 0.2727 - accuracy: 0.9233\n",
            "Epoch 5/5\n",
            "1875/1875 [==============================] - 3s 2ms/step - loss: 0.2666 - accuracy: 0.9259\n",
            "\n",
            "Train Frozen Model:\n",
            "Epoch 1/5\n",
            "1875/1875 [==============================] - 3s 2ms/step - loss: 2.3682 - accuracy: 0.1040\n",
            "Epoch 2/5\n",
            "1875/1875 [==============================] - 3s 2ms/step - loss: 2.3682 - accuracy: 0.1040\n",
            "Epoch 3/5\n",
            "1875/1875 [==============================] - 3s 2ms/step - loss: 2.3682 - accuracy: 0.1040\n",
            "Epoch 4/5\n",
            "1875/1875 [==============================] - 3s 2ms/step - loss: 2.3682 - accuracy: 0.1040\n",
            "Epoch 5/5\n",
            "1875/1875 [==============================] - 3s 2ms/step - loss: 2.3682 - accuracy: 0.1040\n",
            "\n",
            "Before Training: Trainable Model Test Accuracy: 0.15070000290870667\n",
            "After Training:  Trainable Model Test Accuracy: 0.9236999750137329\n",
            "\n",
            "Before Training: Frozen Model Test Accuracy: 0.10790000110864639\n",
            "After Training:  Frozen Model Test Accuracy: 0.10790000110864639\n"
          ]
        }
      ],
      "source": [
        "from keras.models import clone_model\n",
        " \n",
        "model = Sequential()\n",
        "model.add(Dense(10, activation='softmax', input_shape=(784,)))\n",
        "\n",
        "# We clone model in frozen_model\n",
        "frozen_model = clone_model(model)\n",
        "frozen_model.layers[0].trainable = False\n",
        "\n",
        "# with this model the weights of the layer will be updated during training\n",
        "model.compile(loss='categorical_crossentropy',\n",
        "              optimizer='adam',\n",
        "              metrics=['accuracy'])\n",
        "\n",
        "# in the model below, the weights of `layer` will not be updated during training\n",
        "frozen_model.compile(loss='categorical_crossentropy',\n",
        "              optimizer='adam',\n",
        "              metrics=['accuracy'])\n",
        "\n",
        "model.summary()\n",
        "frozen_model.summary()\n",
        "\n",
        "score_untrained = model.evaluate(X_test_flatten, Y_test_class, verbose=0)\n",
        "score_frozen_untrained = frozen_model.evaluate(X_test_flatten, Y_test_class, verbose=0)\n",
        "\n",
        "print('\\nTrain Model:')\n",
        "model.fit(X_train_flatten, Y_train_class, batch_size=32, epochs=5)\n",
        "\n",
        "print('\\nTrain Frozen Model:')\n",
        "frozen_model.fit(X_train_flatten, Y_train_class, batch_size=32, epochs=5)\n",
        "\n",
        "score = model.evaluate(X_test_flatten, Y_test_class, verbose=0)\n",
        "score_frozen = frozen_model.evaluate(X_test_flatten, Y_test_class, verbose=0)\n",
        "\n",
        "print('\\nBefore Training: Trainable Model Test Accuracy:', score_untrained[1])\n",
        "print('After Training:  Trainable Model Test Accuracy:', score[1]) \n",
        "\n",
        "print('\\nBefore Training: Frozen Model Test Accuracy:', score_frozen_untrained[1])\n",
        "print('After Training:  Frozen Model Test Accuracy:', score_frozen[1])"
      ]
    },
    {
      "cell_type": "markdown",
      "metadata": {
        "id": "mLmeoTdqhmhX"
      },
      "source": [
        "We see in the model description that the frozen model has 0 trainable parameters, while it has 7,850 non-trainable parameters. This fact indicates that we successfully froze that model and the training does not affect it. We can verify this using the results after training both networks, where the trainable model improves accuracy while the frozen one does not change at all."
      ]
    }
  ],
  "metadata": {
    "accelerator": "GPU",
    "colab": {
      "collapsed_sections": [],
      "include_colab_link": true,
      "name": "01_part3_Keras.ipynb",
      "provenance": [],
      "toc_visible": true
    },
    "kernelspec": {
      "display_name": "Python 3",
      "name": "python3"
    },
    "language_info": {
      "codemirror_mode": {
        "name": "ipython",
        "version": 3
      },
      "file_extension": ".py",
      "mimetype": "text/x-python",
      "name": "python",
      "nbconvert_exporter": "python",
      "pygments_lexer": "ipython3",
      "version": "3.9.18"
    }
  },
  "nbformat": 4,
  "nbformat_minor": 0
}
