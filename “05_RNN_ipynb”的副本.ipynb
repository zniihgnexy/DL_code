{
  "nbformat": 4,
  "nbformat_minor": 0,
  "metadata": {
    "colab": {
      "provenance": [],
      "toc_visible": true,
      "include_colab_link": true
    },
    "kernelspec": {
      "name": "python3",
      "display_name": "Python 3"
    },
    "accelerator": "GPU"
  },
  "cells": [
    {
      "cell_type": "markdown",
      "metadata": {
        "id": "view-in-github",
        "colab_type": "text"
      },
      "source": [
        "<a href=\"https://colab.research.google.com/github/zniihgnexy/DL_code/blob/main/%E2%80%9C05_RNN_ipynb%E2%80%9D%E7%9A%84%E5%89%AF%E6%9C%AC.ipynb\" target=\"_parent\"><img src=\"https://colab.research.google.com/assets/colab-badge.svg\" alt=\"Open In Colab\"/></a>"
      ]
    },
    {
      "cell_type": "markdown",
      "metadata": {
        "id": "kiobin3g2wyW"
      },
      "source": [
        "# Recurrent Neural Networks\n",
        "\n",
        "A Recurrent Neural Network (RNN) is a specific type of architecture that is widely used to deal with sequential information. So far, the introduced CNN architectures from the previous tutorials treated inputs as independent objects, however, many applications need to deal with data that is interconnected. For instance, if you are translating a sentence from English to Taiwanese, and you are predicting the next word, it is useful to know which words came before the last one.\n",
        "\n",
        "RNNs are called recurrent since they apply the same operation to each of the input sequences, with the output of an individual element being dependent on the previous one. Theoretically, RNNs establish a connection between the actual input and ALL the previous ones. Although this is assumed, in the practice, RNNs have proven to only *remember* a limited number of inputs. In other words, RNNs have a *memory* that allows them to *remember* previous elements and use their information to deal with the current input.\n",
        "\n",
        "RNNs can be split into multiple types depending on their applications. For instance, if we want to predict one word given only the previous one, the topology of our network is a *One to One*. Another example is image captioning, where we can design a *One to Many* architecture to obtain a description from a single input image. The following diagram shows the different types of problems we can face ([Source](http://karpathy.github.io/2015/05/21/rnn-effectiveness/)):\n",
        "\n",
        "\n",
        "![alt text](http://karpathy.github.io/assets/rnn/diags.jpeg)"
      ]
    },
    {
      "cell_type": "markdown",
      "metadata": {
        "id": "9t6BQY9B21nV"
      },
      "source": [
        "**A Closer Look to RNN**\n",
        "\n",
        "The figure below shows the simplest version of an RNN, which can be easily derived from a simple feedforward architecture by adding a single loop:\n",
        "\n",
        "![alt text](https://i.ibb.co/qnGH6RT/vanilla-rnn.png)\n",
        "\n",
        "During training, the hidden state $h$ is iteratively updated based on the input value $x$ and the learned weights $W_h$ and $W_x$. The final output $y$ is estimated from the current state $h_t$ and the matrix $W_y$.\n",
        "\n",
        "Although RNN can assure short-term dependencies within the network, simple RNNs become unable to learn to connect information as the gap between past and present information grows. To overcome this limitation, in practical applications LSTM unit is adopted, that is a special RNNs architecture composed of multiple interacting layers ([Source](https://colah.github.io/posts/2015-08-Understanding-LSTMs/)):\n",
        "![alt text](https://colah.github.io/posts/2015-08-Understanding-LSTMs/img/LSTM3-chain.png)\n",
        "\n"
      ]
    },
    {
      "cell_type": "markdown",
      "metadata": {
        "id": "EOUUKOPH2_SG"
      },
      "source": [
        "In this tutorial, we will use LSTMs straight away as a black box."
      ]
    },
    {
      "cell_type": "markdown",
      "metadata": {
        "id": "iMJ28M_227fj"
      },
      "source": [
        "# ***Many to One* RNNs - Regression**\n",
        "\n",
        "In this section, we are going to implement an easy example of an RNN in Keras. Given the records of a local newspaper, which indicates the number of new subscriptions per month, we want to predict the number of members that will join next month.\n",
        "\n",
        "First, we load the data with the utility method in Pandas `read_csv`, which allows us to load directly the dataset from an URL address. Let's print some rows of the imported record to see the format of the data."
      ]
    },
    {
      "cell_type": "code",
      "metadata": {
        "id": "0PZRejNk29jN",
        "outputId": "4e0dcd36-db97-4233-cf73-d48f069b74b5",
        "colab": {
          "base_uri": "https://localhost:8080/",
          "height": 1000
        }
      },
      "source": [
        "# install ktrain first due to some dependencies needed for the transformer sec.\n",
        "!pip install ktrain\n",
        "import math\n",
        "import numpy as np\n",
        "import pandas as pd\n",
        "import matplotlib.pyplot as plt\n",
        "from IPython.display import SVG\n",
        "from tensorflow.keras.utils import model_to_dot\n",
        "import io\n",
        "import requests\n",
        "data=pd.read_csv(\"https://drive.google.com/uc?id=1Hv2nuwVXO_aZN89llGva0hSH6k3kKAVm\",usecols=[1],engine = \"python\")\n",
        "data.head()"
      ],
      "execution_count": null,
      "outputs": [
        {
          "output_type": "stream",
          "name": "stdout",
          "text": [
            "Requirement already satisfied: ktrain in /usr/local/lib/python3.10/dist-packages (0.40.0)\n",
            "Requirement already satisfied: scikit-learn in /usr/local/lib/python3.10/dist-packages (from ktrain) (1.2.2)\n",
            "Requirement already satisfied: matplotlib>=3.0.0 in /usr/local/lib/python3.10/dist-packages (from ktrain) (3.7.1)\n",
            "Requirement already satisfied: pandas>=1.0.1 in /usr/local/lib/python3.10/dist-packages (from ktrain) (1.5.3)\n",
            "Requirement already satisfied: fastprogress>=0.1.21 in /usr/local/lib/python3.10/dist-packages (from ktrain) (1.0.3)\n",
            "Requirement already satisfied: requests in /usr/local/lib/python3.10/dist-packages (from ktrain) (2.31.0)\n",
            "Requirement already satisfied: joblib in /usr/local/lib/python3.10/dist-packages (from ktrain) (1.3.2)\n",
            "Requirement already satisfied: packaging in /usr/local/lib/python3.10/dist-packages (from ktrain) (23.2)\n",
            "Requirement already satisfied: langdetect in /usr/local/lib/python3.10/dist-packages (from ktrain) (1.0.9)\n",
            "Requirement already satisfied: jieba in /usr/local/lib/python3.10/dist-packages (from ktrain) (0.42.1)\n",
            "Requirement already satisfied: charset-normalizer in /usr/local/lib/python3.10/dist-packages (from ktrain) (3.3.2)\n",
            "Requirement already satisfied: chardet in /usr/local/lib/python3.10/dist-packages (from ktrain) (5.2.0)\n",
            "Requirement already satisfied: syntok>1.3.3 in /usr/local/lib/python3.10/dist-packages (from ktrain) (1.4.4)\n",
            "Requirement already satisfied: tika in /usr/local/lib/python3.10/dist-packages (from ktrain) (2.6.0)\n",
            "Requirement already satisfied: transformers>=4.17.0 in /usr/local/lib/python3.10/dist-packages (from ktrain) (4.35.2)\n",
            "Requirement already satisfied: sentencepiece in /usr/local/lib/python3.10/dist-packages (from ktrain) (0.1.99)\n",
            "Requirement already satisfied: keras-bert>=0.86.0 in /usr/local/lib/python3.10/dist-packages (from ktrain) (0.89.0)\n",
            "Requirement already satisfied: whoosh in /usr/local/lib/python3.10/dist-packages (from ktrain) (2.7.4)\n",
            "Requirement already satisfied: numpy in /usr/local/lib/python3.10/dist-packages (from keras-bert>=0.86.0->ktrain) (1.23.5)\n",
            "Requirement already satisfied: keras-transformer==0.40.0 in /usr/local/lib/python3.10/dist-packages (from keras-bert>=0.86.0->ktrain) (0.40.0)\n",
            "Requirement already satisfied: keras-pos-embd==0.13.0 in /usr/local/lib/python3.10/dist-packages (from keras-transformer==0.40.0->keras-bert>=0.86.0->ktrain) (0.13.0)\n",
            "Requirement already satisfied: keras-multi-head==0.29.0 in /usr/local/lib/python3.10/dist-packages (from keras-transformer==0.40.0->keras-bert>=0.86.0->ktrain) (0.29.0)\n",
            "Requirement already satisfied: keras-layer-normalization==0.16.0 in /usr/local/lib/python3.10/dist-packages (from keras-transformer==0.40.0->keras-bert>=0.86.0->ktrain) (0.16.0)\n",
            "Requirement already satisfied: keras-position-wise-feed-forward==0.8.0 in /usr/local/lib/python3.10/dist-packages (from keras-transformer==0.40.0->keras-bert>=0.86.0->ktrain) (0.8.0)\n",
            "Requirement already satisfied: keras-embed-sim==0.10.0 in /usr/local/lib/python3.10/dist-packages (from keras-transformer==0.40.0->keras-bert>=0.86.0->ktrain) (0.10.0)\n",
            "Requirement already satisfied: keras-self-attention==0.51.0 in /usr/local/lib/python3.10/dist-packages (from keras-multi-head==0.29.0->keras-transformer==0.40.0->keras-bert>=0.86.0->ktrain) (0.51.0)\n",
            "Requirement already satisfied: contourpy>=1.0.1 in /usr/local/lib/python3.10/dist-packages (from matplotlib>=3.0.0->ktrain) (1.2.0)\n",
            "Requirement already satisfied: cycler>=0.10 in /usr/local/lib/python3.10/dist-packages (from matplotlib>=3.0.0->ktrain) (0.12.1)\n",
            "Requirement already satisfied: fonttools>=4.22.0 in /usr/local/lib/python3.10/dist-packages (from matplotlib>=3.0.0->ktrain) (4.47.2)\n",
            "Requirement already satisfied: kiwisolver>=1.0.1 in /usr/local/lib/python3.10/dist-packages (from matplotlib>=3.0.0->ktrain) (1.4.5)\n",
            "Requirement already satisfied: pillow>=6.2.0 in /usr/local/lib/python3.10/dist-packages (from matplotlib>=3.0.0->ktrain) (9.4.0)\n",
            "Requirement already satisfied: pyparsing>=2.3.1 in /usr/local/lib/python3.10/dist-packages (from matplotlib>=3.0.0->ktrain) (3.1.1)\n",
            "Requirement already satisfied: python-dateutil>=2.7 in /usr/local/lib/python3.10/dist-packages (from matplotlib>=3.0.0->ktrain) (2.8.2)\n",
            "Requirement already satisfied: pytz>=2020.1 in /usr/local/lib/python3.10/dist-packages (from pandas>=1.0.1->ktrain) (2023.4)\n",
            "Requirement already satisfied: regex>2016 in /usr/local/lib/python3.10/dist-packages (from syntok>1.3.3->ktrain) (2023.6.3)\n",
            "Requirement already satisfied: filelock in /usr/local/lib/python3.10/dist-packages (from transformers>=4.17.0->ktrain) (3.13.1)\n",
            "Requirement already satisfied: huggingface-hub<1.0,>=0.16.4 in /usr/local/lib/python3.10/dist-packages (from transformers>=4.17.0->ktrain) (0.20.3)\n",
            "Requirement already satisfied: pyyaml>=5.1 in /usr/local/lib/python3.10/dist-packages (from transformers>=4.17.0->ktrain) (6.0.1)\n",
            "Requirement already satisfied: tokenizers<0.19,>=0.14 in /usr/local/lib/python3.10/dist-packages (from transformers>=4.17.0->ktrain) (0.15.1)\n",
            "Requirement already satisfied: safetensors>=0.3.1 in /usr/local/lib/python3.10/dist-packages (from transformers>=4.17.0->ktrain) (0.4.2)\n",
            "Requirement already satisfied: tqdm>=4.27 in /usr/local/lib/python3.10/dist-packages (from transformers>=4.17.0->ktrain) (4.66.1)\n",
            "Requirement already satisfied: six in /usr/local/lib/python3.10/dist-packages (from langdetect->ktrain) (1.16.0)\n",
            "Requirement already satisfied: idna<4,>=2.5 in /usr/local/lib/python3.10/dist-packages (from requests->ktrain) (3.6)\n",
            "Requirement already satisfied: urllib3<3,>=1.21.1 in /usr/local/lib/python3.10/dist-packages (from requests->ktrain) (2.0.7)\n",
            "Requirement already satisfied: certifi>=2017.4.17 in /usr/local/lib/python3.10/dist-packages (from requests->ktrain) (2023.11.17)\n",
            "Requirement already satisfied: scipy>=1.3.2 in /usr/local/lib/python3.10/dist-packages (from scikit-learn->ktrain) (1.11.4)\n",
            "Requirement already satisfied: threadpoolctl>=2.0.0 in /usr/local/lib/python3.10/dist-packages (from scikit-learn->ktrain) (3.2.0)\n",
            "Requirement already satisfied: setuptools in /usr/local/lib/python3.10/dist-packages (from tika->ktrain) (67.7.2)\n",
            "Requirement already satisfied: fsspec>=2023.5.0 in /usr/local/lib/python3.10/dist-packages (from huggingface-hub<1.0,>=0.16.4->transformers>=4.17.0->ktrain) (2023.6.0)\n",
            "Requirement already satisfied: typing-extensions>=3.7.4.3 in /usr/local/lib/python3.10/dist-packages (from huggingface-hub<1.0,>=0.16.4->transformers>=4.17.0->ktrain) (4.5.0)\n"
          ]
        },
        {
          "output_type": "execute_result",
          "data": {
            "text/plain": [
              "   Number of subscriptions to city newspaper\n",
              "0                                        112\n",
              "1                                        118\n",
              "2                                        132\n",
              "3                                        129\n",
              "4                                        121"
            ],
            "text/html": [
              "\n",
              "  <div id=\"df-c68072f3-3990-4cb9-9ec5-2c130ff63f53\" class=\"colab-df-container\">\n",
              "    <div>\n",
              "<style scoped>\n",
              "    .dataframe tbody tr th:only-of-type {\n",
              "        vertical-align: middle;\n",
              "    }\n",
              "\n",
              "    .dataframe tbody tr th {\n",
              "        vertical-align: top;\n",
              "    }\n",
              "\n",
              "    .dataframe thead th {\n",
              "        text-align: right;\n",
              "    }\n",
              "</style>\n",
              "<table border=\"1\" class=\"dataframe\">\n",
              "  <thead>\n",
              "    <tr style=\"text-align: right;\">\n",
              "      <th></th>\n",
              "      <th>Number of subscriptions to city newspaper</th>\n",
              "    </tr>\n",
              "  </thead>\n",
              "  <tbody>\n",
              "    <tr>\n",
              "      <th>0</th>\n",
              "      <td>112</td>\n",
              "    </tr>\n",
              "    <tr>\n",
              "      <th>1</th>\n",
              "      <td>118</td>\n",
              "    </tr>\n",
              "    <tr>\n",
              "      <th>2</th>\n",
              "      <td>132</td>\n",
              "    </tr>\n",
              "    <tr>\n",
              "      <th>3</th>\n",
              "      <td>129</td>\n",
              "    </tr>\n",
              "    <tr>\n",
              "      <th>4</th>\n",
              "      <td>121</td>\n",
              "    </tr>\n",
              "  </tbody>\n",
              "</table>\n",
              "</div>\n",
              "    <div class=\"colab-df-buttons\">\n",
              "\n",
              "  <div class=\"colab-df-container\">\n",
              "    <button class=\"colab-df-convert\" onclick=\"convertToInteractive('df-c68072f3-3990-4cb9-9ec5-2c130ff63f53')\"\n",
              "            title=\"Convert this dataframe to an interactive table.\"\n",
              "            style=\"display:none;\">\n",
              "\n",
              "  <svg xmlns=\"http://www.w3.org/2000/svg\" height=\"24px\" viewBox=\"0 -960 960 960\">\n",
              "    <path d=\"M120-120v-720h720v720H120Zm60-500h600v-160H180v160Zm220 220h160v-160H400v160Zm0 220h160v-160H400v160ZM180-400h160v-160H180v160Zm440 0h160v-160H620v160ZM180-180h160v-160H180v160Zm440 0h160v-160H620v160Z\"/>\n",
              "  </svg>\n",
              "    </button>\n",
              "\n",
              "  <style>\n",
              "    .colab-df-container {\n",
              "      display:flex;\n",
              "      gap: 12px;\n",
              "    }\n",
              "\n",
              "    .colab-df-convert {\n",
              "      background-color: #E8F0FE;\n",
              "      border: none;\n",
              "      border-radius: 50%;\n",
              "      cursor: pointer;\n",
              "      display: none;\n",
              "      fill: #1967D2;\n",
              "      height: 32px;\n",
              "      padding: 0 0 0 0;\n",
              "      width: 32px;\n",
              "    }\n",
              "\n",
              "    .colab-df-convert:hover {\n",
              "      background-color: #E2EBFA;\n",
              "      box-shadow: 0px 1px 2px rgba(60, 64, 67, 0.3), 0px 1px 3px 1px rgba(60, 64, 67, 0.15);\n",
              "      fill: #174EA6;\n",
              "    }\n",
              "\n",
              "    .colab-df-buttons div {\n",
              "      margin-bottom: 4px;\n",
              "    }\n",
              "\n",
              "    [theme=dark] .colab-df-convert {\n",
              "      background-color: #3B4455;\n",
              "      fill: #D2E3FC;\n",
              "    }\n",
              "\n",
              "    [theme=dark] .colab-df-convert:hover {\n",
              "      background-color: #434B5C;\n",
              "      box-shadow: 0px 1px 3px 1px rgba(0, 0, 0, 0.15);\n",
              "      filter: drop-shadow(0px 1px 2px rgba(0, 0, 0, 0.3));\n",
              "      fill: #FFFFFF;\n",
              "    }\n",
              "  </style>\n",
              "\n",
              "    <script>\n",
              "      const buttonEl =\n",
              "        document.querySelector('#df-c68072f3-3990-4cb9-9ec5-2c130ff63f53 button.colab-df-convert');\n",
              "      buttonEl.style.display =\n",
              "        google.colab.kernel.accessAllowed ? 'block' : 'none';\n",
              "\n",
              "      async function convertToInteractive(key) {\n",
              "        const element = document.querySelector('#df-c68072f3-3990-4cb9-9ec5-2c130ff63f53');\n",
              "        const dataTable =\n",
              "          await google.colab.kernel.invokeFunction('convertToInteractive',\n",
              "                                                    [key], {});\n",
              "        if (!dataTable) return;\n",
              "\n",
              "        const docLinkHtml = 'Like what you see? Visit the ' +\n",
              "          '<a target=\"_blank\" href=https://colab.research.google.com/notebooks/data_table.ipynb>data table notebook</a>'\n",
              "          + ' to learn more about interactive tables.';\n",
              "        element.innerHTML = '';\n",
              "        dataTable['output_type'] = 'display_data';\n",
              "        await google.colab.output.renderOutput(dataTable, element);\n",
              "        const docLink = document.createElement('div');\n",
              "        docLink.innerHTML = docLinkHtml;\n",
              "        element.appendChild(docLink);\n",
              "      }\n",
              "    </script>\n",
              "  </div>\n",
              "\n",
              "\n",
              "<div id=\"df-377b032e-0e40-49e2-8c92-1249d1668b7a\">\n",
              "  <button class=\"colab-df-quickchart\" onclick=\"quickchart('df-377b032e-0e40-49e2-8c92-1249d1668b7a')\"\n",
              "            title=\"Suggest charts\"\n",
              "            style=\"display:none;\">\n",
              "\n",
              "<svg xmlns=\"http://www.w3.org/2000/svg\" height=\"24px\"viewBox=\"0 0 24 24\"\n",
              "     width=\"24px\">\n",
              "    <g>\n",
              "        <path d=\"M19 3H5c-1.1 0-2 .9-2 2v14c0 1.1.9 2 2 2h14c1.1 0 2-.9 2-2V5c0-1.1-.9-2-2-2zM9 17H7v-7h2v7zm4 0h-2V7h2v10zm4 0h-2v-4h2v4z\"/>\n",
              "    </g>\n",
              "</svg>\n",
              "  </button>\n",
              "\n",
              "<style>\n",
              "  .colab-df-quickchart {\n",
              "      --bg-color: #E8F0FE;\n",
              "      --fill-color: #1967D2;\n",
              "      --hover-bg-color: #E2EBFA;\n",
              "      --hover-fill-color: #174EA6;\n",
              "      --disabled-fill-color: #AAA;\n",
              "      --disabled-bg-color: #DDD;\n",
              "  }\n",
              "\n",
              "  [theme=dark] .colab-df-quickchart {\n",
              "      --bg-color: #3B4455;\n",
              "      --fill-color: #D2E3FC;\n",
              "      --hover-bg-color: #434B5C;\n",
              "      --hover-fill-color: #FFFFFF;\n",
              "      --disabled-bg-color: #3B4455;\n",
              "      --disabled-fill-color: #666;\n",
              "  }\n",
              "\n",
              "  .colab-df-quickchart {\n",
              "    background-color: var(--bg-color);\n",
              "    border: none;\n",
              "    border-radius: 50%;\n",
              "    cursor: pointer;\n",
              "    display: none;\n",
              "    fill: var(--fill-color);\n",
              "    height: 32px;\n",
              "    padding: 0;\n",
              "    width: 32px;\n",
              "  }\n",
              "\n",
              "  .colab-df-quickchart:hover {\n",
              "    background-color: var(--hover-bg-color);\n",
              "    box-shadow: 0 1px 2px rgba(60, 64, 67, 0.3), 0 1px 3px 1px rgba(60, 64, 67, 0.15);\n",
              "    fill: var(--button-hover-fill-color);\n",
              "  }\n",
              "\n",
              "  .colab-df-quickchart-complete:disabled,\n",
              "  .colab-df-quickchart-complete:disabled:hover {\n",
              "    background-color: var(--disabled-bg-color);\n",
              "    fill: var(--disabled-fill-color);\n",
              "    box-shadow: none;\n",
              "  }\n",
              "\n",
              "  .colab-df-spinner {\n",
              "    border: 2px solid var(--fill-color);\n",
              "    border-color: transparent;\n",
              "    border-bottom-color: var(--fill-color);\n",
              "    animation:\n",
              "      spin 1s steps(1) infinite;\n",
              "  }\n",
              "\n",
              "  @keyframes spin {\n",
              "    0% {\n",
              "      border-color: transparent;\n",
              "      border-bottom-color: var(--fill-color);\n",
              "      border-left-color: var(--fill-color);\n",
              "    }\n",
              "    20% {\n",
              "      border-color: transparent;\n",
              "      border-left-color: var(--fill-color);\n",
              "      border-top-color: var(--fill-color);\n",
              "    }\n",
              "    30% {\n",
              "      border-color: transparent;\n",
              "      border-left-color: var(--fill-color);\n",
              "      border-top-color: var(--fill-color);\n",
              "      border-right-color: var(--fill-color);\n",
              "    }\n",
              "    40% {\n",
              "      border-color: transparent;\n",
              "      border-right-color: var(--fill-color);\n",
              "      border-top-color: var(--fill-color);\n",
              "    }\n",
              "    60% {\n",
              "      border-color: transparent;\n",
              "      border-right-color: var(--fill-color);\n",
              "    }\n",
              "    80% {\n",
              "      border-color: transparent;\n",
              "      border-right-color: var(--fill-color);\n",
              "      border-bottom-color: var(--fill-color);\n",
              "    }\n",
              "    90% {\n",
              "      border-color: transparent;\n",
              "      border-bottom-color: var(--fill-color);\n",
              "    }\n",
              "  }\n",
              "</style>\n",
              "\n",
              "  <script>\n",
              "    async function quickchart(key) {\n",
              "      const quickchartButtonEl =\n",
              "        document.querySelector('#' + key + ' button');\n",
              "      quickchartButtonEl.disabled = true;  // To prevent multiple clicks.\n",
              "      quickchartButtonEl.classList.add('colab-df-spinner');\n",
              "      try {\n",
              "        const charts = await google.colab.kernel.invokeFunction(\n",
              "            'suggestCharts', [key], {});\n",
              "      } catch (error) {\n",
              "        console.error('Error during call to suggestCharts:', error);\n",
              "      }\n",
              "      quickchartButtonEl.classList.remove('colab-df-spinner');\n",
              "      quickchartButtonEl.classList.add('colab-df-quickchart-complete');\n",
              "    }\n",
              "    (() => {\n",
              "      let quickchartButtonEl =\n",
              "        document.querySelector('#df-377b032e-0e40-49e2-8c92-1249d1668b7a button');\n",
              "      quickchartButtonEl.style.display =\n",
              "        google.colab.kernel.accessAllowed ? 'block' : 'none';\n",
              "    })();\n",
              "  </script>\n",
              "</div>\n",
              "    </div>\n",
              "  </div>\n"
            ]
          },
          "metadata": {},
          "execution_count": 3
        }
      ]
    },
    {
      "cell_type": "markdown",
      "metadata": {
        "id": "Hd3kk4Zh3CA-"
      },
      "source": [
        "Moreover, let's plot the number of subscriptions per month."
      ]
    },
    {
      "cell_type": "code",
      "metadata": {
        "id": "uEmJqK1z3Dei",
        "colab": {
          "base_uri": "https://localhost:8080/",
          "height": 487
        },
        "outputId": "52c3612e-56ac-472b-e8ab-ff0241ce02e5"
      },
      "source": [
        "plt.figure(figsize = (15, 5))\n",
        "plt.plot(data, label = \"City Newspaper Subscriptions\")\n",
        "plt.xlabel(\"Months\")\n",
        "plt.ylabel(\"1000 Subscriptions\")\n",
        "plt.title(\"Monthly Total Subscriptions to City Newspaper 1949 - 1960\")\n",
        "plt.legend()\n",
        "plt.show()"
      ],
      "execution_count": null,
      "outputs": [
        {
          "output_type": "display_data",
          "data": {
            "text/plain": [
              "<Figure size 1500x500 with 1 Axes>"
            ],
            "image/png": "[encoded data removed]"
          },
          "metadata": {}
        }
      ]
    },
    {
      "cell_type": "markdown",
      "metadata": {
        "id": "3Z8TX3X53FQT"
      },
      "source": [
        "Now we are ready to start importing Keras' modules."
      ]
    },
    {
      "cell_type": "code",
      "metadata": {
        "id": "0zIY8Fz_3Gar"
      },
      "source": [
        "from tensorflow.python.keras.layers.core import Dense, Activation, Dropout\n",
        "from tensorflow.python.keras.layers.recurrent import LSTM\n",
        "from keras.models import Sequential\n",
        "from sklearn.metrics import mean_squared_error\n",
        "from sklearn.preprocessing import MinMaxScaler\n",
        "from sklearn.utils import shuffle"
      ],
      "execution_count": null,
      "outputs": []
    },
    {
      "cell_type": "markdown",
      "metadata": {
        "id": "7x55PWxD3IFE"
      },
      "source": [
        "First of all, we need to prepare the data for the training and test stage. Once the data is loaded, we normalize the input values and split them between training (70%) and testing (30%).\n"
      ]
    },
    {
      "cell_type": "code",
      "metadata": {
        "id": "wIrOh9Pi3JZg",
        "colab": {
          "base_uri": "https://localhost:8080/"
        },
        "outputId": "e631ee61-b547-41a6-e1ef-b1e8be5839e0"
      },
      "source": [
        "# convert pandas data frame in numpy array of float.\n",
        "data_np = data.values.astype(\"float32\")\n",
        "\n",
        "# normalize data with min max normalization\n",
        "normalizer = MinMaxScaler(feature_range = (0, 1))\n",
        "dataset = normalizer.fit_transform(data_np)\n",
        "\n",
        "# Using 70% of data for training, 30% for test.\n",
        "TRAINING_PERC = 0.70\n",
        "\n",
        "train_size = int(len(dataset) * TRAINING_PERC)\n",
        "test_size = len(dataset) - train_size\n",
        "train, test = dataset[0:train_size, :], dataset[train_size:len(dataset), :]\n",
        "print(\"Number of samples training set: \" + str((len(train))))\n",
        "print(\"Number of samples test set: \" + str((len(test))))"
      ],
      "execution_count": null,
      "outputs": [
        {
          "output_type": "stream",
          "name": "stdout",
          "text": [
            "Number of samples training set: 100\n",
            "Number of samples test set: 44\n"
          ]
        }
      ]
    },
    {
      "cell_type": "markdown",
      "metadata": {
        "id": "JI5UamBO3KrU"
      },
      "source": [
        "We also arrange the dataset (input and labels) in the appropriate Keras' format by using the helper function `create_dataset()`.\n",
        "\n",
        "`create_dataset()` takes as argument the variable `window_size`. This variable is highly important when dealing with sequences since it is going to determine the length of our input data to the network. For instance, by setting `window_size` to 5, we will be using the last 5 monthly subscriptions values to predict the next one."
      ]
    },
    {
      "cell_type": "code",
      "metadata": {
        "id": "DvGh-1db3MOy",
        "colab": {
          "base_uri": "https://localhost:8080/"
        },
        "outputId": "03fa3a1e-b7c3-4c67-dc98-adcfd50b76b9"
      },
      "source": [
        "# helper function to read data.\n",
        "def create_dataset(dataset, window_size = 1):\n",
        "    data_x, data_y = [], []\n",
        "    for i in range(len(dataset) - window_size - 1):\n",
        "        sample = dataset[i:(i + window_size), 0]\n",
        "        data_x.append(sample)\n",
        "        data_y.append(dataset[i + window_size, 0])\n",
        "    return(np.array(data_x), np.array(data_y))\n",
        "\n",
        "# Create test and training sets for regression with window size 5.\n",
        "window_size = 5\n",
        "train_X, train_Y = create_dataset(train, window_size)\n",
        "test_X, test_Y = create_dataset(test, window_size)\n",
        "train_X = np.reshape(train_X, (train_X.shape[0], train_X.shape[1], 1))\n",
        "test_X = np.reshape(test_X, (test_X.shape[0], test_X.shape[1], 1))\n",
        "\n",
        "print(\"Shape of training inputs: \" + str((train_X.shape)))\n",
        "print(\"Shape of training labels: \" + str((train_Y.shape)))"
      ],
      "execution_count": null,
      "outputs": [
        {
          "output_type": "stream",
          "name": "stdout",
          "text": [
            "Shape of training inputs: (94, 5, 1)\n",
            "Shape of training labels: (94,)\n"
          ]
        }
      ]
    },
    {
      "cell_type": "markdown",
      "metadata": {
        "id": "QlB3Edd03NwG"
      },
      "source": [
        "Once all the data is ready, we create the model as a `Sequential` object including 16 LSTM units and a dense layer outputting a single scalar.\n",
        "As mentioned, we specify a window size equal to 5, so that the prediction of the current element depends only on the previous five ones."
      ]
    },
    {
      "cell_type": "code",
      "metadata": {
        "id": "IuT4lcHt3Qqp",
        "colab": {
          "base_uri": "https://localhost:8080/"
        },
        "outputId": "59994fe9-c9f4-4736-9a6f-3c33d1fe3651"
      },
      "source": [
        "batch_size = 32\n",
        "rnn = Sequential()\n",
        "rnn.add(LSTM(16, input_shape = (window_size, 1)))\n",
        "rnn.add(Dense(1))\n",
        "rnn.compile(loss = \"mean_squared_error\",  optimizer = \"adam\", metrics = ['mse'])\n",
        "\n",
        "rnn.fit(train_X, train_Y, epochs=500, batch_size=batch_size, verbose=0)"
      ],
      "execution_count": null,
      "outputs": [
        {
          "output_type": "execute_result",
          "data": {
            "text/plain": [
              "<keras.src.callbacks.History at 0x792e24c6e0e0>"
            ]
          },
          "metadata": {},
          "execution_count": 13
        }
      ]
    },
    {
      "cell_type": "markdown",
      "metadata": {
        "id": "PrMqbfrK3Nz8"
      },
      "source": [
        "Now we can compute the MSE on the training and test data:"
      ]
    },
    {
      "cell_type": "code",
      "metadata": {
        "id": "qkhF1mrr3Tor",
        "colab": {
          "base_uri": "https://localhost:8080/"
        },
        "outputId": "67f5a089-f354-45e9-d68f-5b48fcf7a10a"
      },
      "source": [
        "def get_predict_and_score(model, X, Y):\n",
        "    # transform the prediction to the original scale.\n",
        "    pred = normalizer.inverse_transform(model.predict(X))\n",
        "    # transform also the label to the original scale for interpretability.\n",
        "    orig_data = normalizer.inverse_transform([Y])\n",
        "    # calculate RMSE.\n",
        "    score = math.sqrt(mean_squared_error(orig_data[0], pred[:, 0]))\n",
        "    return score, pred\n",
        "\n",
        "mse_train, train_predict = get_predict_and_score(rnn, train_X, train_Y)\n",
        "mse_test, test_predict = get_predict_and_score(rnn, test_X, test_Y)\n",
        "\n",
        "print(\"Training data error: %.2f MSE\" % mse_train)\n",
        "print(\"Test data error: %.2f MSE\" % mse_test)"
      ],
      "execution_count": null,
      "outputs": [
        {
          "output_type": "stream",
          "name": "stdout",
          "text": [
            "3/3 [==============================] - 0s 5ms/step\n",
            "2/2 [==============================] - 0s 31ms/step\n",
            "Training data error: 27.27 MSE\n",
            "Test data error: 56.08 MSE\n"
          ]
        }
      ]
    },
    {
      "cell_type": "markdown",
      "metadata": {
        "id": "SVOaCHMc3W6I"
      },
      "source": [
        "Moreover, we can plot the predictions and actual values in a graph to check visually the performance of our predictor."
      ]
    },
    {
      "cell_type": "code",
      "metadata": {
        "id": "kUjXRdOg3Vjj",
        "colab": {
          "base_uri": "https://localhost:8080/",
          "height": 487
        },
        "outputId": "4dea1491-f10a-4163-e63d-61cf7d30ddcc"
      },
      "source": [
        "# Training predictions.\n",
        "train_predictions = np.empty_like(dataset)\n",
        "train_predictions[:, :] = np.nan\n",
        "train_predictions[window_size:len(train_predict) + window_size, :] = train_predict\n",
        "\n",
        "# Test predictions.\n",
        "test_predictions = np.empty_like(dataset)\n",
        "test_predictions[:, :] = np.nan\n",
        "test_predictions[len(train_predict) + (window_size * 2) + 1:len(dataset) - 1, :] = test_predict\n",
        "\n",
        "# Create the plot.\n",
        "plt.figure(figsize = (15, 5))\n",
        "plt.plot(normalizer.inverse_transform(dataset), label = \"True value\")\n",
        "plt.plot(train_predictions, label = \"Training predictions\")\n",
        "plt.plot(test_predictions, label = \"Test predictions\")\n",
        "plt.xlabel(\"Months\")\n",
        "plt.ylabel(\"1000 member subscriptions\")\n",
        "plt.title(\"Comparison true vs. predicted in the training and testing set\")\n",
        "plt.legend()\n",
        "plt.show()"
      ],
      "execution_count": null,
      "outputs": [
        {
          "output_type": "display_data",
          "data": {
            "text/plain": [
              "<Figure size 1500x500 with 1 Axes>"
            ],
            "image/png": "[encoded data removed]"
          },
          "metadata": {}
        }
      ]
    },
    {
      "cell_type": "markdown",
      "metadata": {
        "id": "rMzQDr20HPbw"
      },
      "source": [
        "#Sequence Modelling: Text\n",
        "\n",
        "Now we will use RNNs to tackle text examples. Text is one of the modalities that have been widely tackled with deep learning improving upon past methods. We will present two problems: classification and generation.\n",
        "\n",
        "A small summary of both problems is given below.\n",
        "\n",
        "**Classification**\n",
        "\n",
        "Classification is a standard problem, where we have some input data $x$ and try to classify it as one of the available classes $y$. In the case of sequential data, though, $x$ will be a sequence of elements that will be processed by the RNN to return the label $y$. The image depicts a sequence classification problem, where the red blocks are inputs, the green blocks the RNN model, and the blue block is the output. An example of a text classification problem that can be tackled with RNNs is \"Hate speech detection\", where the architecture must identify if an input text contains racist or sexist language, among others.\n",
        "\n",
        "![alt text](https://i.ibb.co/TtZPpZr/Capture.jpg)\n",
        "\n",
        "\n",
        "**Generation**\n",
        "\n",
        "In a generation problem, we aim to generate a sequence $y$ following the same distribution as the real data $x$. We will input the sequence into the model, and we will output another sequence $y$. Text translation is a typical example of many to many RNNs.\n",
        "\n",
        "![](https://i.ibb.co/7gSwnT2/Capture.jpg)\n",
        "\n"
      ]
    },
    {
      "cell_type": "markdown",
      "metadata": {
        "id": "Mc5bCFhzQnQi"
      },
      "source": [
        "## Preliminary imports\n",
        "\n",
        "Here we include some of the used imports during the tutorial. Just run it to import the necessary modules."
      ]
    },
    {
      "cell_type": "code",
      "metadata": {
        "id": "K2uDXpT1Qsqz"
      },
      "source": [
        "## These are just a bunch of imports\n",
        "## Just run them\n",
        "import tensorflow as tf\n",
        "from keras.preprocessing import sequence\n",
        "from keras.models import Sequential\n",
        "from keras.layers import Dense, Embedding, Dropout, Flatten, Add, Lambda\n",
        "from keras.layers import LSTM\n",
        "from keras.datasets import imdb\n",
        "\n",
        "from keras import __version__\n",
        "from keras import backend as K\n",
        "\n",
        "\n",
        "import numpy as np\n",
        "import matplotlib.pyplot as plt"
      ],
      "execution_count": null,
      "outputs": []
    },
    {
      "cell_type": "markdown",
      "metadata": {
        "id": "L4kJNRmcq3DL"
      },
      "source": [
        "# Text Classification"
      ]
    },
    {
      "cell_type": "markdown",
      "metadata": {
        "id": "6fLVCgocM6Kk"
      },
      "source": [
        "**References:**\n",
        "\n",
        "https://colab.research.google.com/github/csc-training/intro-to-dl/blob/master/day1/keras-imdb-rnn.ipynb#scrollTo=BYu8ql1nG7xc\n",
        "\n",
        "For the text classification example we will use the IMDB dataset available in Keras. The dataset includes tens of thousands of movie reviews taken from the IMDB website with a corresponding label for each review. The label is binary, and indicates if the review has a positive (label=1) or negative (label=0) sentiment. This problem is a quite standard Natural Language Processing (NLP) problem, and it is called sentiment classification or sentiment analysis.\n",
        "\n",
        "Before loading the data and building our model, we will explain a common part of NLP models, the embeddings."
      ]
    },
    {
      "cell_type": "markdown",
      "metadata": {
        "id": "CAzSKba3J5NA"
      },
      "source": [
        "### Embeddings\n",
        "**References:**\n",
        "\n",
        "[1] https://nlp.stanford.edu/projects/glove/\n",
        "\n",
        "[2] https://colab.research.google.com/drive/1oXjNYSJ3VsRvAsXN4ClmtsVEgPW_CX_c?hl=en#scrollTo=p9q7qfXrvq-J\n",
        "\n",
        "\n",
        "Usually, the first step of text modelling is transforming the words into a numerical vector that represents the meaning or some properties of the word. This vector can be then processed by the network. To do so, we first will encode the word sequences in integer numbers, and we will also have a dictionary that contains the relationship `(actual word, integer)`. For example, the sentence \"the cat is on the table and the dog is on the mat\" can be encoded in the form $(7, 1, 3, 5, 7, 6, 0, 7, 2, 3, 5, 7, 4)$, with the corresponding dictionary $(and, 0), (cat, 1), (dog, 2)\\dots (the, 7)$:"
      ]
    },
    {
      "cell_type": "code",
      "metadata": {
        "id": "jhRu4KoqSVvH",
        "colab": {
          "base_uri": "https://localhost:8080/"
        },
        "outputId": "d14a1bd7-2402-4ad1-824b-27adcb3aa702"
      },
      "source": [
        "sentence = 'the cat is on the table and the dog is on the mat'\n",
        "## We form a list of unique words by using a set\n",
        "## which returns only unique elements\n",
        "## we also sort them, which is not necessary\n",
        "sentence_set = sorted(set(sentence.split(' ')))\n",
        "words = list(sentence_set)\n",
        "## We now form a dictionary in the form of\n",
        "## e.g. dict_words[and] = 1\n",
        "dict_words = dict((word, i) for i, word in enumerate(words))\n",
        "## We now encode the sentence in a list of integers\n",
        "encoded_sentence = [dict_words[w] for w in sentence.split()]\n",
        "print(sentence_set)\n",
        "print(encoded_sentence)\n",
        "print(dict_words)"
      ],
      "execution_count": null,
      "outputs": [
        {
          "output_type": "stream",
          "name": "stdout",
          "text": [
            "['and', 'cat', 'dog', 'is', 'mat', 'on', 'table', 'the']\n",
            "[7, 1, 3, 5, 7, 6, 0, 7, 2, 3, 5, 7, 4]\n",
            "{'and': 0, 'cat': 1, 'dog': 2, 'is': 3, 'mat': 4, 'on': 5, 'table': 6, 'the': 7}\n"
          ]
        }
      ]
    },
    {
      "cell_type": "markdown",
      "metadata": {
        "id": "CoHyEZdVzHFD"
      },
      "source": [
        "Keras contains a class called `Tokenizer` that helps in performing this process. We will not use it for the examples in this tutorial, as we want to show all the steps involved in the tokenization process, but the `Tokenizer` class provides a high-level way to handle this preprocessing step. As it can be quite useful, we provide a small overview of it. [Here](https://keras.io/preprocessing/text/) you have a link to the Keras documentation explaining the different arguments of the class."
      ]
    },
    {
      "cell_type": "code",
      "metadata": {
        "id": "z5EL3-o5wsQl"
      },
      "source": [
        "import keras\n",
        "## First you define a tokenizer object\n",
        "## If you want a character level tokenization we set char_level=True\n",
        "## If set to false, it will tokenize in a word level\n",
        "## You can check in the documentation the different arguments\n",
        "tokenizer = keras.preprocessing.text.Tokenizer(char_level=False)\n",
        "## Then you fit it on the data you have\n",
        "## The method expects a list of sentences\n",
        "tokenizer.fit_on_texts([sentence])"
      ],
      "execution_count": null,
      "outputs": []
    },
    {
      "cell_type": "code",
      "metadata": {
        "id": "0RBQrbI10CuR",
        "colab": {
          "base_uri": "https://localhost:8080/"
        },
        "outputId": "36f9c514-805b-483e-9f3f-7a37f53e091d"
      },
      "source": [
        "## Now, the class has formed a dictionary with all the words\n",
        "print(tokenizer.word_index)"
      ],
      "execution_count": null,
      "outputs": [
        {
          "output_type": "stream",
          "name": "stdout",
          "text": [
            "{'the': 1, 'is': 2, 'on': 3, 'cat': 4, 'table': 5, 'and': 6, 'dog': 7, 'mat': 8}\n"
          ]
        }
      ]
    },
    {
      "cell_type": "code",
      "metadata": {
        "id": "CKshU7Lj0Sgl",
        "colab": {
          "base_uri": "https://localhost:8080/"
        },
        "outputId": "32acfe6f-2539-4d7a-a67c-1f169aca187a"
      },
      "source": [
        "## You can also check the word count\n",
        "print(tokenizer.word_counts)"
      ],
      "execution_count": null,
      "outputs": [
        {
          "output_type": "stream",
          "name": "stdout",
          "text": [
            "OrderedDict([('the', 4), ('cat', 1), ('is', 2), ('on', 2), ('table', 1), ('and', 1), ('dog', 1), ('mat', 1)])\n"
          ]
        }
      ]
    },
    {
      "cell_type": "code",
      "metadata": {
        "id": "xNI-js25161w",
        "colab": {
          "base_uri": "https://localhost:8080/"
        },
        "outputId": "ddcf506c-85a4-4b35-fc5f-6794eb8514a8"
      },
      "source": [
        "## You can transform the data to sequences of integers\n",
        "## We print the first 10 elements\n",
        "tokenizer.texts_to_sequences([sentence])"
      ],
      "execution_count": null,
      "outputs": [
        {
          "output_type": "execute_result",
          "data": {
            "text/plain": [
              "[[1, 4, 2, 3, 1, 5, 6, 1, 7, 2, 3, 1, 8]]"
            ]
          },
          "metadata": {},
          "execution_count": 21
        }
      ]
    },
    {
      "cell_type": "markdown",
      "metadata": {
        "id": "3lITR0l3SUAU"
      },
      "source": [
        "Now that we have the sequence in the form of a list of integers,  we could input that directly to the RNN. However, as those numbers are arbitraryly chosen, it would be really hard for the RNN to understand the relationships between the words. To give the model more representation power, we first want to transform the integer to a vector of dimension $d$ which represents the semantic meaning of the words. Each of these vectors is called an Embedding. The actual values of the vectors are not important, only the relationships between them. For example, `dog` and `cat` vectors are probably going to be closer than `dog` and `the`. Or if you are doing sentiment classification, probably two words encoding similar positive sentiments will be closer than a word expressing positive sentiments and a completely neutral word.\n",
        "\n",
        " The embeddings can be initialized randomly and the model will learn suitable values to reduce the loss during the training process. However, embeddings which have already been trained in a large corpus of text such as Wikipedia can also be used. Examples of these pretrained embeddings are [Word2Vec](https://en.wikipedia.org/wiki/Word2vec) or  [GloVe](https://nlp.stanford.edu/projects/glove/). These methods are trained using the context of the words, for example predicting the surrounding words when a specific word is given. As a result, words that appear in similar contexts have closer embeddings.\n",
        "\n",
        "![alt text](https://i.ibb.co/s5sg6dZ/Screenshot-from-2019-02-08-15-13-41.png)\n",
        "\n",
        "The image shows relationships between words in the embedding space.\n",
        "\n",
        "\n",
        "\n",
        "We now download the GloVe pretrained vectors trained in Wikipedia and Gigaword. [Here](https://nlp.stanford.edu/projects/glove/) you have an overview of what GloVe is. We will see how the embeddings contain a semantic meaning that allows us to model semantic relationships."
      ]
    },
    {
      "cell_type": "code",
      "metadata": {
        "id": "Ie3ToDUgKWN4",
        "outputId": "b671e547-0500-43ec-e3fa-b50da0dda7c5",
        "colab": {
          "base_uri": "https://localhost:8080/"
        }
      },
      "source": [
        "## Download and unzip glove pretrained embeddings\n",
        "!wget https://imperialcollegelondon.box.com/shared/static/c9trfhhwl9ohje5g3sapu3xk2zoywp3c.txt -O gensim_glove_vectors.txt"
      ],
      "execution_count": null,
      "outputs": [
        {
          "output_type": "stream",
          "name": "stdout",
          "text": [
            "--2024-02-02 10:55:35--  https://imperialcollegelondon.box.com/shared/static/c9trfhhwl9ohje5g3sapu3xk2zoywp3c.txt\n",
            "Resolving imperialcollegelondon.box.com (imperialcollegelondon.box.com)... 74.112.186.144\n",
            "Connecting to imperialcollegelondon.box.com (imperialcollegelondon.box.com)|74.112.186.144|:443... connected.\n",
            "HTTP request sent, awaiting response... 301 Moved Permanently\n",
            "Location: /public/static/c9trfhhwl9ohje5g3sapu3xk2zoywp3c.txt [following]\n",
            "--2024-02-02 10:55:35--  https://imperialcollegelondon.box.com/public/static/c9trfhhwl9ohje5g3sapu3xk2zoywp3c.txt\n",
            "Reusing existing connection to imperialcollegelondon.box.com:443.\n",
            "HTTP request sent, awaiting response... 301 Moved Permanently\n",
            "Location: https://imperialcollegelondon.app.box.com/public/static/c9trfhhwl9ohje5g3sapu3xk2zoywp3c.txt [following]\n",
            "--2024-02-02 10:55:35--  https://imperialcollegelondon.app.box.com/public/static/c9trfhhwl9ohje5g3sapu3xk2zoywp3c.txt\n",
            "Resolving imperialcollegelondon.app.box.com (imperialcollegelondon.app.box.com)... 74.112.186.144\n",
            "Connecting to imperialcollegelondon.app.box.com (imperialcollegelondon.app.box.com)|74.112.186.144|:443... connected.\n",
            "HTTP request sent, awaiting response... 302 Found\n",
            "Location: https://public.boxcloud.com/d/1/b1!Ng4ezQaKAQGX_PzUZOOYN4SI2l1ZGzR5mpCCSAzmBPwCJGtWY0_jKLZKdU2N0k5-MW7Po29nmG0oGHOpMB7bbQTUN89ps9pLc4-U8T6kNBQN56S29zjvov9GC6a7t3uP-tgCfolM1U4AEuAvBowI7UsjqwkqaHddnlMW24f1q8BTzvPmfJX0BDgZuidbXEV6EIksoP6clP0KwlrkGnpjbZlRvxG4JPLNf_BzG_vh2YUqbJ-Uvl-1JZS9MDW6RUH-2Pe6ZVSxBX5am7XTAhHw-hhXd2nRXWwdSJhNOZ0wshX91ycHrcu0EeW-ka9ImGyuV8LZthD9p78JBWCZEKGqFsGoSRxnR3UprRaeej9SqTj_MfOz-LmrGH_vRoB_KrhFxKdorhO2pH-pNU_zLgwWg5Dp7_Rz_n95PgJCXjF2JIAkpgpKWJEGO7Nz7frPM-89BYuXIHyUBCzb88RISgcH6jK3VGt19uTb1W-4YddIm3w78nKhw8hie-Ac8YuahixVnIIU9UuI69ZUgAejeNCN3Uv5zGEs2sDzPhsO-vEZc7Tsv18lCEaUt5Wj_z7aNvD6c_DzROhrotde7lgDbMI3KiCEqpqCIoJFmIS06fX2JdOFaHz2Y9lhw6DR7fny19KA9IbmmfOOzC7MWMlxcyz-ennGUZHwMPyP7GUK4a_Uibyb4ij9B2VP62BDdasUnDh2a4E38ytApsqvyvMkJf5ag4gHkyG77zpjuh1Hx2BD751mweCrXr9NPavnil6bN_Prr68HFOpyiCAPZueCBp8wBh9cfaP_N3ZrYBB7tBSHm3UdNrvJrmCMFXG_ONPNEtacymaKCr4hKZX8WOcaBMJyHjYFBOnYvfj_ODgo_yCV-RQjC7txC7qBJDYIL4DnZzM98LNnTJ8Xn_LQKJ3vp36qMVHnpO-oXe-v0ZFtgVRkEA-qUZH1KYYaU24ArhQ_mSr7dAvGWWpzRHdMCE6jx8LE628H9EvA5NuWYqEbmSEZ_kF7nfwSnmElm5YXAREae5x0aNAeLeJCUCH9vK1fAxkVbxhD3XsHxUyYX136rb25do9wvsOKJDwC38LJjy2Mlc4stRCwfZKBFf0dG-UFEzawrVwYJJPJ1nLhZgcvGMo3-iHdZ1xaqG-o-d52GokMTk7oyL_Mn96mKof21-ckpN-aW21MXtCypSdfq5Q0xawnGNXKiAyyzLCu1Qht1pxmz-sWTTo-4OJTSCcOP3CUsWmeppzghtYw2wyNT1UNRCYN9sCY_fmz-9Ncae6GqydJ_QlrHlRBu0amJIu9K3yt3YcoJTwmVv0lepnCBCZhUZjeY6A27YMrC9hfQmUj22du9euYl0G5OI2e7lK436o60FKKtILGOHZ1sXmhKMWikfJntvJ3QADQdwZ5gp0XIKHC_L-y0hYm-3u8bcmUooMs8kwdBPHM-yxZxywQgVlQxjH9Dng./download [following]\n",
            "--2024-02-02 10:55:35--  https://public.boxcloud.com/d/1/b1!Ng4ezQaKAQGX_PzUZOOYN4SI2l1ZGzR5mpCCSAzmBPwCJGtWY0_jKLZKdU2N0k5-MW7Po29nmG0oGHOpMB7bbQTUN89ps9pLc4-U8T6kNBQN56S29zjvov9GC6a7t3uP-tgCfolM1U4AEuAvBowI7UsjqwkqaHddnlMW24f1q8BTzvPmfJX0BDgZuidbXEV6EIksoP6clP0KwlrkGnpjbZlRvxG4JPLNf_BzG_vh2YUqbJ-Uvl-1JZS9MDW6RUH-2Pe6ZVSxBX5am7XTAhHw-hhXd2nRXWwdSJhNOZ0wshX91ycHrcu0EeW-ka9ImGyuV8LZthD9p78JBWCZEKGqFsGoSRxnR3UprRaeej9SqTj_MfOz-LmrGH_vRoB_KrhFxKdorhO2pH-pNU_zLgwWg5Dp7_Rz_n95PgJCXjF2JIAkpgpKWJEGO7Nz7frPM-89BYuXIHyUBCzb88RISgcH6jK3VGt19uTb1W-4YddIm3w78nKhw8hie-Ac8YuahixVnIIU9UuI69ZUgAejeNCN3Uv5zGEs2sDzPhsO-vEZc7Tsv18lCEaUt5Wj_z7aNvD6c_DzROhrotde7lgDbMI3KiCEqpqCIoJFmIS06fX2JdOFaHz2Y9lhw6DR7fny19KA9IbmmfOOzC7MWMlxcyz-ennGUZHwMPyP7GUK4a_Uibyb4ij9B2VP62BDdasUnDh2a4E38ytApsqvyvMkJf5ag4gHkyG77zpjuh1Hx2BD751mweCrXr9NPavnil6bN_Prr68HFOpyiCAPZueCBp8wBh9cfaP_N3ZrYBB7tBSHm3UdNrvJrmCMFXG_ONPNEtacymaKCr4hKZX8WOcaBMJyHjYFBOnYvfj_ODgo_yCV-RQjC7txC7qBJDYIL4DnZzM98LNnTJ8Xn_LQKJ3vp36qMVHnpO-oXe-v0ZFtgVRkEA-qUZH1KYYaU24ArhQ_mSr7dAvGWWpzRHdMCE6jx8LE628H9EvA5NuWYqEbmSEZ_kF7nfwSnmElm5YXAREae5x0aNAeLeJCUCH9vK1fAxkVbxhD3XsHxUyYX136rb25do9wvsOKJDwC38LJjy2Mlc4stRCwfZKBFf0dG-UFEzawrVwYJJPJ1nLhZgcvGMo3-iHdZ1xaqG-o-d52GokMTk7oyL_Mn96mKof21-ckpN-aW21MXtCypSdfq5Q0xawnGNXKiAyyzLCu1Qht1pxmz-sWTTo-4OJTSCcOP3CUsWmeppzghtYw2wyNT1UNRCYN9sCY_fmz-9Ncae6GqydJ_QlrHlRBu0amJIu9K3yt3YcoJTwmVv0lepnCBCZhUZjeY6A27YMrC9hfQmUj22du9euYl0G5OI2e7lK436o60FKKtILGOHZ1sXmhKMWikfJntvJ3QADQdwZ5gp0XIKHC_L-y0hYm-3u8bcmUooMs8kwdBPHM-yxZxywQgVlQxjH9Dng./download\n",
            "Resolving public.boxcloud.com (public.boxcloud.com)... 74.112.186.128\n",
            "Connecting to public.boxcloud.com (public.boxcloud.com)|74.112.186.128|:443... connected.\n",
            "HTTP request sent, awaiting response... 200 OK\n",
            "Length: 1037962830 (990M) [text/plain]\n",
            "Saving to: ‘gensim_glove_vectors.txt’\n",
            "\n",
            "gensim_glove_vector 100%[===================>] 989.88M  57.0MB/s    in 18s     \n",
            "\n",
            "2024-02-02 10:55:54 (55.6 MB/s) - ‘gensim_glove_vectors.txt’ saved [1037962830/1037962830]\n",
            "\n"
          ]
        }
      ]
    },
    {
      "cell_type": "markdown",
      "metadata": {
        "id": "xDs0EebuUJ5x"
      },
      "source": [
        "We will now load the GloVe embeddings. We use `gensim` to manipulate the embeddings, which is a nice tool that can be used to play with GloVe or Word2Vec embeddings. This piece of code takes some time to load, as the embeddings file is quite large."
      ]
    },
    {
      "cell_type": "code",
      "metadata": {
        "id": "RK0qwB--K0Bp",
        "colab": {
          "base_uri": "https://localhost:8080/"
        },
        "outputId": "542eb9d7-22be-471e-f37f-bb7e16df4a72"
      },
      "source": [
        "## We load the embeddings\n",
        "## Gensim is a really useful module that provides high-level function\n",
        "## to use with the embeddings\n",
        "!pip install gensim\n",
        "from gensim.models.keyedvectors import KeyedVectors\n",
        "glove_model = KeyedVectors.load_word2vec_format(\"gensim_glove_vectors.txt\", binary=False)"
      ],
      "execution_count": null,
      "outputs": [
        {
          "output_type": "stream",
          "name": "stdout",
          "text": [
            "Requirement already satisfied: gensim in /usr/local/lib/python3.10/dist-packages (4.3.2)\n",
            "Requirement already satisfied: numpy>=1.18.5 in /usr/local/lib/python3.10/dist-packages (from gensim) (1.23.5)\n",
            "Requirement already satisfied: scipy>=1.7.0 in /usr/local/lib/python3.10/dist-packages (from gensim) (1.11.4)\n",
            "Requirement already satisfied: smart-open>=1.8.1 in /usr/local/lib/python3.10/dist-packages (from gensim) (6.4.0)\n"
          ]
        }
      ]
    },
    {
      "cell_type": "markdown",
      "metadata": {
        "id": "yrj-dPMbSsrc"
      },
      "source": [
        "Now we will do some operations using the embeddings of the words. First, we will do some words arithmetics based on the embeddings, which it will show us that the words encode some semantic meaning. For example, the distance between words with similar semantic meaning but different genders is approximately fixed. Meaning that the vector resulting from doing $man - woman$ should be similar to $king - queen$, hence:\n",
        "\n",
        "$king - queen \\approx man - woman \\rightarrow woman + king - man \\approx queen$\n",
        "\n",
        "We can check this using the method `most_similar` and the `positive` and `negative` arguments as following:\n",
        "\n"
      ]
    },
    {
      "cell_type": "code",
      "metadata": {
        "id": "0PYEzmorMFD_",
        "colab": {
          "base_uri": "https://localhost:8080/"
        },
        "outputId": "9508f52a-13fd-4f43-a468-f17f23c5834d"
      },
      "source": [
        "## We can do word arithmetics.\n",
        "## We look for the nearest neighbour of the vector resulting on doing\n",
        "## the operation 'king' + 'woman' - 'man'\n",
        "glove_model.most_similar(positive=['woman', 'king'], negative=['man'])"
      ],
      "execution_count": null,
      "outputs": [
        {
          "output_type": "execute_result",
          "data": {
            "text/plain": [
              "[('queen', 0.6713277101516724),\n",
              " ('princess', 0.5432624816894531),\n",
              " ('throne', 0.5386103987693787),\n",
              " ('monarch', 0.5347574949264526),\n",
              " ('daughter', 0.49802514910697937),\n",
              " ('mother', 0.49564430117607117),\n",
              " ('elizabeth', 0.4832652509212494),\n",
              " ('kingdom', 0.47747090458869934),\n",
              " ('prince', 0.4668239951133728),\n",
              " ('wife', 0.46473270654678345)]"
            ]
          },
          "metadata": {},
          "execution_count": 24
        }
      ]
    },
    {
      "cell_type": "code",
      "metadata": {
        "id": "O1bgFWT3aGUi",
        "colab": {
          "base_uri": "https://localhost:8080/"
        },
        "outputId": "4f538f24-3e0d-4ea0-96d8-6324d92deb95"
      },
      "source": [
        "## Similar examples\n",
        "glove_model.most_similar(positive=['google', 'ios'], negative=['apple'])"
      ],
      "execution_count": null,
      "outputs": [
        {
          "output_type": "execute_result",
          "data": {
            "text/plain": [
              "[('android', 0.5720318555831909),\n",
              " ('apps', 0.5662358999252319),\n",
              " ('app', 0.5322650074958801),\n",
              " ('facebook', 0.4770543873310089),\n",
              " ('smartphones', 0.47069063782691956),\n",
              " ('gmail', 0.46772605180740356),\n",
              " ('firefox', 0.4666401743888855),\n",
              " ('skype', 0.4491073787212372),\n",
              " ('iphone', 0.44582632184028625),\n",
              " ('web-based', 0.44464385509490967)]"
            ]
          },
          "metadata": {},
          "execution_count": 25
        }
      ]
    },
    {
      "cell_type": "code",
      "metadata": {
        "id": "J09zgTciaHU4",
        "colab": {
          "base_uri": "https://localhost:8080/"
        },
        "outputId": "e6adda0d-9c03-4859-be48-0951b1e4fdda"
      },
      "source": [
        "glove_model.most_similar(positive=['england', 'paris'], negative=['france'])"
      ],
      "execution_count": null,
      "outputs": [
        {
          "output_type": "execute_result",
          "data": {
            "text/plain": [
              "[('london', 0.6710129976272583),\n",
              " ('manchester', 0.5267473459243774),\n",
              " ('birmingham', 0.493479460477829),\n",
              " ('liverpool', 0.4903382360935211),\n",
              " ('oxford', 0.4811282157897949),\n",
              " ('middlesex', 0.47516533732414246),\n",
              " ('surrey', 0.46148523688316345),\n",
              " ('sussex', 0.45899879932403564),\n",
              " ('leeds', 0.4551934599876404),\n",
              " ('essex', 0.45398277044296265)]"
            ]
          },
          "metadata": {},
          "execution_count": 26
        }
      ]
    },
    {
      "cell_type": "code",
      "metadata": {
        "id": "p7LMqhpATsAL",
        "colab": {
          "base_uri": "https://localhost:8080/",
          "height": 36
        },
        "outputId": "ab82869d-68f0-4667-815f-7de389d50c56"
      },
      "source": [
        "## We can also check the word that does not match the rest\n",
        "glove_model.doesnt_match(\"breakfast cereal dinner lunch\".split())"
      ],
      "execution_count": null,
      "outputs": [
        {
          "output_type": "execute_result",
          "data": {
            "text/plain": [
              "'cereal'"
            ],
            "application/vnd.google.colaboratory.intrinsic+json": {
              "type": "string"
            }
          },
          "metadata": {},
          "execution_count": 27
        }
      ]
    },
    {
      "cell_type": "markdown",
      "metadata": {
        "id": "g85rTdpOY-HZ"
      },
      "source": [
        "To check out other functions you can call use [this](https://radimrehurek.com/gensim/models/keyedvectors.html#module-gensim.models.keyedvectors).\n"
      ]
    },
    {
      "cell_type": "markdown",
      "metadata": {
        "id": "AjgjAlaBQvaH"
      },
      "source": [
        "In http://projector.tensorflow.org/ you can visualize the words projected in the $\\mathbb{R}^3$ space using either PCA or tSNE, which are both techniques for dimensionality reduction. There, you can see how words are clustered by meaning or topic.\n",
        "\n",
        "\n",
        "![](https://brenndoerfer.github.io/deep-sentiment-analysis-distill/img/tensorboard_projector.gif)\n",
        "\n",
        "Image taken from [here](https://brenndoerfer.github.io/deep-sentiment-analysis-distill/index.html)"
      ]
    },
    {
      "cell_type": "markdown",
      "metadata": {
        "id": "30w3Y4oHJy79"
      },
      "source": [
        "### IMDB\n",
        "Now let's start tackling a text classification problem. We first load the IMDB dataset for sentiment classification. As we said, it contains movie reviews with a corresponding binary sentiment label (label=1 corresponds to positive sentiment, and label=0 to negative sentiment). The words are already encoded as integers in order from most common words to less common (e.g. `the` is a common word so it should be encoded as a small integer). That makes it easy to filter the non-common words by using the argument `num_words` when loading the data. The filtered words will be all encoded as a special token `<UNK>`, which means unknown. For example, if we want to load the dataset with only the top $5000$ most common words we can do this:"
      ]
    },
    {
      "cell_type": "code",
      "metadata": {
        "id": "GWU0zG7AHd3u",
        "colab": {
          "base_uri": "https://localhost:8080/"
        },
        "outputId": "f48218b1-e7fe-4538-e3df-e0895f0b9634"
      },
      "source": [
        "# number of most-frequent words to use\n",
        "nb_words = 5000\n",
        "\n",
        "print('Loading data...')\n",
        "(x_train, y_train), (x_test, y_test) = imdb.load_data(num_words=nb_words)\n",
        "print('x_train:', x_train.shape)\n",
        "print('x_test:', x_test.shape)"
      ],
      "execution_count": null,
      "outputs": [
        {
          "output_type": "stream",
          "name": "stdout",
          "text": [
            "Loading data...\n",
            "Downloading data from https://storage.googleapis.com/tensorflow/tf-keras-datasets/imdb.npz\n",
            "17464789/17464789 [==============================] - 0s 0us/step\n",
            "x_train: (25000,)\n",
            "x_test: (25000,)\n"
          ]
        }
      ]
    },
    {
      "cell_type": "markdown",
      "metadata": {
        "id": "BiYpN-jwcGd-"
      },
      "source": [
        "We see that the dataset contains 25000 examples for both train and testing. Let's print an example."
      ]
    },
    {
      "cell_type": "code",
      "metadata": {
        "id": "WF2twk31cNiN",
        "colab": {
          "base_uri": "https://localhost:8080/"
        },
        "outputId": "f4b6c918-364c-4b33-848c-ed7aa939e4c8"
      },
      "source": [
        "print(x_train[0])"
      ],
      "execution_count": null,
      "outputs": [
        {
          "output_type": "stream",
          "name": "stdout",
          "text": [
            "[1, 14, 22, 16, 43, 530, 973, 1622, 1385, 65, 458, 4468, 66, 3941, 4, 173, 36, 256, 5, 25, 100, 43, 838, 112, 50, 670, 2, 9, 35, 480, 284, 5, 150, 4, 172, 112, 167, 2, 336, 385, 39, 4, 172, 4536, 1111, 17, 546, 38, 13, 447, 4, 192, 50, 16, 6, 147, 2025, 19, 14, 22, 4, 1920, 4613, 469, 4, 22, 71, 87, 12, 16, 43, 530, 38, 76, 15, 13, 1247, 4, 22, 17, 515, 17, 12, 16, 626, 18, 2, 5, 62, 386, 12, 8, 316, 8, 106, 5, 4, 2223, 2, 16, 480, 66, 3785, 33, 4, 130, 12, 16, 38, 619, 5, 25, 124, 51, 36, 135, 48, 25, 1415, 33, 6, 22, 12, 215, 28, 77, 52, 5, 14, 407, 16, 82, 2, 8, 4, 107, 117, 2, 15, 256, 4, 2, 7, 3766, 5, 723, 36, 71, 43, 530, 476, 26, 400, 317, 46, 7, 4, 2, 1029, 13, 104, 88, 4, 381, 15, 297, 98, 32, 2071, 56, 26, 141, 6, 194, 2, 18, 4, 226, 22, 21, 134, 476, 26, 480, 5, 144, 30, 2, 18, 51, 36, 28, 224, 92, 25, 104, 4, 226, 65, 16, 38, 1334, 88, 12, 16, 283, 5, 16, 4472, 113, 103, 32, 15, 16, 2, 19, 178, 32]\n"
          ]
        }
      ]
    },
    {
      "cell_type": "markdown",
      "metadata": {
        "id": "hqxzLNgAcUmL"
      },
      "source": [
        "The printed example is a sequence of numbers. It is important to note that there are three special integers in this IMDB dataset: $0$, $1$ and $2$. $0$ will be used to pad the sequences, which we will explain now. $1$ is used as the `<START>` token (you can see how the printed sequence starts with a `1`). $2$ is the token `<UNK>` which is used for all the filtered non-common words. If we want to retrieve the actual sentence, we can use the dictionary given when using the method `get_word_index()`. However, the given dictionary when calling `get_word_index()` does not take into account the three mentioned tokens, so we need to modify it a little bit."
      ]
    },
    {
      "cell_type": "code",
      "metadata": {
        "id": "Y26JIPAadBtX",
        "colab": {
          "base_uri": "https://localhost:8080/"
        },
        "outputId": "6c5075e7-1f41-49e3-dac4-6022f2ea4d14"
      },
      "source": [
        "# get_word_index retrieves a mapping word -> index\n",
        "word_index = imdb.get_word_index()\n",
        "# We make space for the three special tokens\n",
        "word_index_c = dict((w, i+3) for (w, i) in word_index.items())\n",
        "word_index_c['<PAD>'] = 0\n",
        "word_index_c['<START>'] = 1\n",
        "word_index_c['<UNK>'] = 2\n",
        "# Instead of having dictionary word -> index we form\n",
        "# the dictionary index -> word\n",
        "index_word = dict((i, w) for (w, i) in word_index_c.items())\n",
        "# We now retrieve the sentence\n",
        "sentence = ''\n",
        "for index in x_train[0]:\n",
        "  sentence += index_word[index] + ' '\n",
        "print(sentence)\n",
        "print(y_train[0])"
      ],
      "execution_count": null,
      "outputs": [
        {
          "output_type": "stream",
          "name": "stdout",
          "text": [
            "Downloading data from https://storage.googleapis.com/tensorflow/tf-keras-datasets/imdb_word_index.json\n",
            "1641221/1641221 [==============================] - 0s 0us/step\n",
            "<START> this film was just brilliant casting location scenery story direction everyone's really suited the part they played and you could just imagine being there robert <UNK> is an amazing actor and now the same being director <UNK> father came from the same scottish island as myself so i loved the fact there was a real connection with this film the witty remarks throughout the film were great it was just brilliant so much that i bought the film as soon as it was released for <UNK> and would recommend it to everyone to watch and the fly <UNK> was amazing really cried at the end it was so sad and you know what they say if you cry at a film it must have been good and this definitely was also <UNK> to the two little <UNK> that played the <UNK> of norman and paul they were just brilliant children are often left out of the <UNK> list i think because the stars that play them all grown up are such a big <UNK> for the whole film but these children are amazing and should be <UNK> for what they have done don't you think the whole story was so lovely because it was true and was someone's life after all that was <UNK> with us all \n",
            "1\n"
          ]
        }
      ]
    },
    {
      "cell_type": "markdown",
      "metadata": {
        "id": "iyhd3lQefNH4"
      },
      "source": [
        "We can see how we just recovered the sentence that we had printed before as a sequence of numbers. We can also see how there is no punctuation in this dataset. The review is clearly positive, so the corresponding label is \"1\".\n",
        "\n",
        "One of the problems with the given text data is that the sequences all have a different length. We want to give Keras a batch of inputs with fixed dimensions. To do so, we define a maximum length `maxlen`, and truncate the sentences longer than that, and also pad with $0$'s at the beginning the sentences shorter than that length. We use the method `sequence.pad_sequence` from `keras.preprocessing`"
      ]
    },
    {
      "cell_type": "code",
      "metadata": {
        "id": "CGcgjhlVbyOv",
        "colab": {
          "base_uri": "https://localhost:8080/"
        },
        "outputId": "715f0263-fb9b-4949-8f3f-8d6eee98f498"
      },
      "source": [
        "# Truncate sentences after this number of words\n",
        "maxlen = 80\n",
        "print('Pad sequences (samples x time)')\n",
        "x_train = sequence.pad_sequences(x_train, maxlen=maxlen)\n",
        "x_test = sequence.pad_sequences(x_test, maxlen=maxlen)\n",
        "print('x_train shape:', x_train.shape)\n",
        "print('x_test shape:', x_test.shape)"
      ],
      "execution_count": null,
      "outputs": [
        {
          "output_type": "stream",
          "name": "stdout",
          "text": [
            "Pad sequences (samples x time)\n",
            "x_train shape: (25000, 80)\n",
            "x_test shape: (25000, 80)\n"
          ]
        }
      ]
    },
    {
      "cell_type": "markdown",
      "metadata": {
        "id": "sXCucplf0M5O"
      },
      "source": [
        "We can check how some sentences are padded at the beginning to be of length `maxlen`."
      ]
    },
    {
      "cell_type": "code",
      "metadata": {
        "id": "HeBf1oOJzr4d",
        "colab": {
          "base_uri": "https://localhost:8080/"
        },
        "outputId": "b35c26e5-fbbc-4258-e3de-f1cc1a54afbc"
      },
      "source": [
        "x_train[5]"
      ],
      "execution_count": null,
      "outputs": [
        {
          "output_type": "execute_result",
          "data": {
            "text/plain": [
              "array([   0,    0,    0,    0,    0,    0,    0,    0,    0,    0,    0,\n",
              "          0,    0,    0,    0,    0,    0,    0,    0,    0,    0,    0,\n",
              "          0,    0,    0,    0,    0,    0,    0,    0,    0,    0,    0,\n",
              "          0,    0,    0,    0,    1,  778,  128,   74,   12,  630,  163,\n",
              "         15,    4, 1766,    2, 1051,    2,   32,   85,  156,   45,   40,\n",
              "        148,  139,  121,  664,  665,   10,   10, 1361,  173,    4,  749,\n",
              "          2,   16, 3804,    8,    4,  226,   65,   12,   43,  127,   24,\n",
              "          2,   10,   10], dtype=int32)"
            ]
          },
          "metadata": {},
          "execution_count": 32
        }
      ]
    },
    {
      "cell_type": "markdown",
      "metadata": {
        "id": "N2ljchrWPMz3"
      },
      "source": [
        "We will now build the model we will use for sentiment classification. The model is formed by an Embedding layer, where the model will learn a vector of dimensionality `embedding_dim` for each of the words; an LSTM layer and a linear layer that maps the output of the LSTM to 1 value. We train this with the `binary_crossentropy` loss and `sigmoid` activation as we only have two classes."
      ]
    },
    {
      "cell_type": "code",
      "metadata": {
        "id": "Fh2cHXD5HjQG",
        "colab": {
          "base_uri": "https://localhost:8080/"
        },
        "outputId": "f1c2dc92-1993-40dd-fe59-68d47e4ee5bd"
      },
      "source": [
        "## Model parameters:\n",
        "# Dimensions of the embeddings\n",
        "embedding_dim = 300\n",
        "## LSTM dimensionality\n",
        "lstm_units = 128\n",
        "\n",
        "print('Build model...')\n",
        "text_class_model = Sequential()\n",
        "\n",
        "text_class_model.add(Embedding(nb_words,\n",
        "                    embedding_dim,\n",
        "                    input_length=maxlen))\n",
        "\n",
        "text_class_model.add(LSTM(lstm_units))\n",
        "\n",
        "# To stack multiple RNN layers, all RNN layers except the last one need\n",
        "# to have \"return_sequences=True\".  An example of using two RNN layers:\n",
        "# model.add(LSTM(lstm_units, return_sequences=True))\n",
        "# model.add(LSTM(lstm_units))\n",
        "\n",
        "\n",
        "# You can add some dropout if you want\n",
        "# model.add(Dropout(0.5))\n",
        "\n",
        "text_class_model.add(Dense(1, activation='sigmoid'))\n",
        "\n",
        "# try using different optimizers and different optimizer configs\n",
        "text_class_model.compile(loss='binary_crossentropy',\n",
        "              optimizer='adam',\n",
        "              metrics=['accuracy'])\n",
        "print(text_class_model.summary())"
      ],
      "execution_count": null,
      "outputs": [
        {
          "output_type": "stream",
          "name": "stdout",
          "text": [
            "Build model...\n",
            "Model: \"sequential_1\"\n",
            "_________________________________________________________________\n",
            " Layer (type)                Output Shape              Param #   \n",
            "=================================================================\n",
            " embedding (Embedding)       (None, 80, 300)           1500000   \n",
            "                                                                 \n",
            " lstm (LSTM)                 (None, 128)               219648    \n",
            "                                                                 \n",
            " dense (Dense)               (None, 1)                 129       \n",
            "                                                                 \n",
            "=================================================================\n",
            "Total params: 1719777 (6.56 MB)\n",
            "Trainable params: 1719777 (6.56 MB)\n",
            "Non-trainable params: 0 (0.00 Byte)\n",
            "_________________________________________________________________\n",
            "None\n"
          ]
        }
      ]
    },
    {
      "cell_type": "markdown",
      "metadata": {
        "id": "MTDlUcEF0mqn"
      },
      "source": [
        "Let's train it for 5 epochs."
      ]
    },
    {
      "cell_type": "code",
      "metadata": {
        "id": "sJfDwWRlHoEm",
        "colab": {
          "base_uri": "https://localhost:8080/"
        },
        "outputId": "7c1493f8-842a-458e-9ebf-8e81b5b8e698"
      },
      "source": [
        "## We train the model for 5 epochs and check the accuracy in a validation split\n",
        "epochs = 5\n",
        "validation_split = 0.2\n",
        "\n",
        "history = text_class_model.fit(x_train, y_train, batch_size=128,\n",
        "          epochs=epochs, validation_split=validation_split)\n"
      ],
      "execution_count": null,
      "outputs": [
        {
          "output_type": "stream",
          "name": "stdout",
          "text": [
            "Epoch 1/5\n",
            "157/157 [==============================] - 24s 129ms/step - loss: 0.4554 - accuracy: 0.7776 - val_loss: 0.3780 - val_accuracy: 0.8298\n",
            "Epoch 2/5\n",
            "157/157 [==============================] - 8s 51ms/step - loss: 0.3066 - accuracy: 0.8708 - val_loss: 0.3636 - val_accuracy: 0.8316\n",
            "Epoch 3/5\n",
            "157/157 [==============================] - 4s 29ms/step - loss: 0.2449 - accuracy: 0.9006 - val_loss: 0.3894 - val_accuracy: 0.8288\n",
            "Epoch 4/5\n",
            "157/157 [==============================] - 4s 25ms/step - loss: 0.2049 - accuracy: 0.9186 - val_loss: 0.5542 - val_accuracy: 0.8214\n",
            "Epoch 5/5\n",
            "157/157 [==============================] - 3s 20ms/step - loss: 0.1673 - accuracy: 0.9348 - val_loss: 0.4987 - val_accuracy: 0.8174\n"
          ]
        }
      ]
    },
    {
      "cell_type": "markdown",
      "metadata": {
        "id": "5tVyZLyv0rbO"
      },
      "source": [
        "This is a classification example, so let's print the loss and the classification accuracy."
      ]
    },
    {
      "cell_type": "code",
      "metadata": {
        "id": "k3D78e9yHo8l",
        "colab": {
          "base_uri": "https://localhost:8080/",
          "height": 611
        },
        "outputId": "d59cb595-e243-4e75-d237-dd3456d75905"
      },
      "source": [
        "plt.figure(figsize=(5,3))\n",
        "plt.plot(history.epoch,history.history['loss'], label='training')\n",
        "plt.plot(history.epoch,history.history['val_loss'], label='validation')\n",
        "plt.title('loss')\n",
        "plt.legend(loc='best')\n",
        "\n",
        "plt.figure(figsize=(5,3))\n",
        "plt.plot(history.epoch,history.history['accuracy'], label='training')\n",
        "plt.plot(history.epoch,history.history['val_accuracy'], label='validation')\n",
        "plt.title('accuracy')\n",
        "plt.legend(loc='best');"
      ],
      "execution_count": null,
      "outputs": [
        {
          "output_type": "display_data",
          "data": {
            "text/plain": [
              "<Figure size 500x300 with 1 Axes>"
            ],
            "image/png": "[encoded data removed]"
          },
          "metadata": {}
        },
        {
          "output_type": "display_data",
          "data": {
            "text/plain": [
              "<Figure size 500x300 with 1 Axes>"
            ],
            "image/png": "[encoded data removed]"
          },
          "metadata": {}
        }
      ]
    },
    {
      "cell_type": "markdown",
      "metadata": {
        "id": "mjoId37R0yVI"
      },
      "source": [
        "It looks like we could have stopped the training earlier as the validation loss did not decrease afterwards."
      ]
    },
    {
      "cell_type": "code",
      "metadata": {
        "id": "nOHn1utQHqHu",
        "colab": {
          "base_uri": "https://localhost:8080/"
        },
        "outputId": "3d6c92b6-6faf-4f64-b3a0-217d700cb918"
      },
      "source": [
        "# Let's see the accuracy in the test split\n",
        "scores = text_class_model.evaluate(x_test, y_test, verbose=2)\n",
        "print(\"%s: %.2f%%\" % (text_class_model.metrics_names[1], scores[1]*100))"
      ],
      "execution_count": null,
      "outputs": [
        {
          "output_type": "stream",
          "name": "stdout",
          "text": [
            "782/782 - 4s - loss: 0.5142 - accuracy: 0.8184 - 4s/epoch - 5ms/step\n",
            "accuracy: 81.84%\n"
          ]
        }
      ]
    },
    {
      "cell_type": "markdown",
      "metadata": {
        "id": "w3HtK17c1S_F"
      },
      "source": [
        "### Saving best performing model\n",
        "\n",
        "Now we save the best performing models using the validation loss as a metric. As you already know, lower training error does not mean in some cases better performance in the validation or test split.\n",
        "\n",
        "In the last example we ran the model for 5 epochs, however after the first epoch the validation loss increased. We want to use the model performing the best in the validation set. To do so, we can use a ModelCheckpoint callback as was explained in past tutorials."
      ]
    },
    {
      "cell_type": "code",
      "metadata": {
        "id": "SzVNbh5a1xsq",
        "colab": {
          "base_uri": "https://localhost:8080/"
        },
        "outputId": "284432a6-fdc0-4754-ec91-70779175a0ac"
      },
      "source": [
        "###### We reset the model #######\n",
        "text_class_model = Sequential()\n",
        "text_class_model.add(Embedding(nb_words,\n",
        "                    embedding_dim,\n",
        "                    input_length=maxlen))\n",
        "text_class_model.add(LSTM(lstm_units))\n",
        "text_class_model.add(Dense(1, activation='sigmoid'))\n",
        "text_class_model.compile(loss='binary_crossentropy',\n",
        "              optimizer='adam',\n",
        "              metrics=['accuracy'])\n",
        "#################################\n",
        "\n",
        "\n",
        "from keras.callbacks import ModelCheckpoint\n",
        "## Here we define the checkpoint callback. We first give the name it will use\n",
        "## to save the model. We also specify what metric should monitor, in this case\n",
        "## the validation loss (it could be validation accuracy too for example)\n",
        "## save_best_only means that the models will only be save when the monitored\n",
        "## metric improves with respect to the past best one\n",
        "checkpoint = ModelCheckpoint('model-{epoch:03d}.h5', verbose=1,\n",
        "                             monitor='val_loss', save_best_only=True)\n",
        "## Now we pass the callback to the fit method\n",
        "history = text_class_model.fit(x_train, y_train, batch_size=128,\n",
        "                               epochs=epochs, callbacks=[checkpoint],\n",
        "                               validation_split=validation_split)\n",
        "\n"
      ],
      "execution_count": null,
      "outputs": [
        {
          "output_type": "stream",
          "name": "stdout",
          "text": [
            "Epoch 1/5\n",
            "157/157 [==============================] - ETA: 0s - loss: 0.4589 - accuracy: 0.7706\n",
            "Epoch 1: val_loss improved from inf to 0.37845, saving model to model-001.h5\n",
            "157/157 [==============================] - 22s 107ms/step - loss: 0.4589 - accuracy: 0.7706 - val_loss: 0.3785 - val_accuracy: 0.8316\n",
            "Epoch 2/5\n",
            "  2/157 [..............................] - ETA: 15s - loss: 0.3000 - accuracy: 0.8984"
          ]
        },
        {
          "output_type": "stream",
          "name": "stderr",
          "text": [
            "/usr/local/lib/python3.10/dist-packages/keras/src/engine/training.py:3103: UserWarning: You are saving your model as an HDF5 file via `model.save()`. This file format is considered legacy. We recommend using instead the native Keras format, e.g. `model.save('my_model.keras')`.\n",
            "  saving_api.save_model(\n"
          ]
        },
        {
          "output_type": "stream",
          "name": "stdout",
          "text": [
            "157/157 [==============================] - ETA: 0s - loss: 0.3133 - accuracy: 0.8686\n",
            "Epoch 2: val_loss improved from 0.37845 to 0.36725, saving model to model-002.h5\n",
            "157/157 [==============================] - 6s 36ms/step - loss: 0.3133 - accuracy: 0.8686 - val_loss: 0.3672 - val_accuracy: 0.8364\n",
            "Epoch 3/5\n",
            "157/157 [==============================] - ETA: 0s - loss: 0.2452 - accuracy: 0.9003\n",
            "Epoch 3: val_loss did not improve from 0.36725\n",
            "157/157 [==============================] - 5s 32ms/step - loss: 0.2452 - accuracy: 0.9003 - val_loss: 0.3872 - val_accuracy: 0.8320\n",
            "Epoch 4/5\n",
            "157/157 [==============================] - ETA: 0s - loss: 0.1999 - accuracy: 0.9234\n",
            "Epoch 4: val_loss did not improve from 0.36725\n",
            "157/157 [==============================] - 5s 32ms/step - loss: 0.1999 - accuracy: 0.9234 - val_loss: 0.4513 - val_accuracy: 0.8182\n",
            "Epoch 5/5\n",
            "157/157 [==============================] - ETA: 0s - loss: 0.1559 - accuracy: 0.9409\n",
            "Epoch 5: val_loss did not improve from 0.36725\n",
            "157/157 [==============================] - 2s 14ms/step - loss: 0.1559 - accuracy: 0.9409 - val_loss: 0.5384 - val_accuracy: 0.8096\n"
          ]
        }
      ]
    },
    {
      "cell_type": "markdown",
      "metadata": {
        "id": "wrtRFGUF22tf"
      },
      "source": [
        "We now saved the model after every epoch if the validation loss decreased. In this case, as the best epoch is the first one, it only saves the model after the first epoch. Let's load the model now."
      ]
    },
    {
      "cell_type": "code",
      "metadata": {
        "id": "YwHZ54_22vSa"
      },
      "source": [
        "from keras.models import load_model\n",
        "text_class_model = load_model('model-001.h5')  # load model weights"
      ],
      "execution_count": null,
      "outputs": []
    },
    {
      "cell_type": "markdown",
      "metadata": {
        "id": "1KLudp1u3CHY"
      },
      "source": [
        "And now we check if the accuracy is better compared to when we used the model trained for 5 epochs."
      ]
    },
    {
      "cell_type": "code",
      "metadata": {
        "id": "ZsuLgHQu2zqu",
        "colab": {
          "base_uri": "https://localhost:8080/"
        },
        "outputId": "8a085b81-5971-4c7d-b468-258037e43b41"
      },
      "source": [
        "# Let's see the accuracy in the test split\n",
        "scores = text_class_model.evaluate(x_test, y_test, verbose=2)\n",
        "print(\"%s: %.2f%%\" % (text_class_model.metrics_names[1], scores[1]*100))"
      ],
      "execution_count": null,
      "outputs": [
        {
          "output_type": "stream",
          "name": "stdout",
          "text": [
            "782/782 - 4s - loss: 0.3728 - accuracy: 0.8336 - 4s/epoch - 5ms/step\n",
            "accuracy: 83.36%\n"
          ]
        }
      ]
    },
    {
      "cell_type": "markdown",
      "metadata": {
        "id": "9Ufb6B68hUhl"
      },
      "source": [
        "### Importance of embeddings\n",
        "Now, let's check quickly if using Embeddings provide any benefit. For this experiment, we remove the Embedding layer, meaning we will be inputting the word index, i.e. an integer, to the LSTM. Additionally, we need to vary the shape of the input data as the LSTM needs a third dimension with the number of channels per input (in this case 1, as each word is represented by an integer)."
      ]
    },
    {
      "cell_type": "code",
      "metadata": {
        "id": "w1NY5IhRhppg",
        "colab": {
          "base_uri": "https://localhost:8080/"
        },
        "outputId": "5a157aca-3777-4ae6-e234-391dafcf0834"
      },
      "source": [
        "# model parameters\n",
        "# Same model as before but without embeddings\n",
        "lstm_units = 128\n",
        "x_train_r = np.reshape(x_train, (x_train.shape[0], x_train.shape[1], 1))\n",
        "x_test_r = np.reshape(x_test, (x_test.shape[0], x_test.shape[1], 1))\n",
        "\n",
        "\n",
        "print('Build model...')\n",
        "text_class_model = Sequential()\n",
        "\n",
        "text_class_model.add(LSTM(lstm_units, input_shape=(maxlen, 1)))\n",
        "\n",
        "text_class_model.add(Dense(1, activation='sigmoid'))\n",
        "\n",
        "text_class_model.compile(loss='binary_crossentropy',\n",
        "              optimizer='adam',\n",
        "              metrics=['accuracy'])\n",
        "print(text_class_model.summary())"
      ],
      "execution_count": null,
      "outputs": [
        {
          "output_type": "stream",
          "name": "stdout",
          "text": [
            "Build model...\n",
            "Model: \"sequential_3\"\n",
            "_________________________________________________________________\n",
            " Layer (type)                Output Shape              Param #   \n",
            "=================================================================\n",
            " lstm_2 (LSTM)               (None, 128)               66560     \n",
            "                                                                 \n",
            " dense_2 (Dense)             (None, 1)                 129       \n",
            "                                                                 \n",
            "=================================================================\n",
            "Total params: 66689 (260.50 KB)\n",
            "Trainable params: 66689 (260.50 KB)\n",
            "Non-trainable params: 0 (0.00 Byte)\n",
            "_________________________________________________________________\n",
            "None\n"
          ]
        }
      ]
    },
    {
      "cell_type": "code",
      "metadata": {
        "id": "qZaz4eYyiBPc",
        "colab": {
          "base_uri": "https://localhost:8080/"
        },
        "outputId": "cbd40201-c7fb-4b7e-cda8-3b902f916ed7"
      },
      "source": [
        "epochs = 5\n",
        "validation_split = 0.2\n",
        "\n",
        "history = text_class_model.fit(x_train_r, y_train, batch_size=128,\n",
        "          epochs=epochs,\n",
        "          validation_split=validation_split)\n"
      ],
      "execution_count": null,
      "outputs": [
        {
          "output_type": "stream",
          "name": "stdout",
          "text": [
            "Epoch 1/5\n",
            "157/157 [==============================] - 5s 13ms/step - loss: 0.6933 - accuracy: 0.5179 - val_loss: 0.6894 - val_accuracy: 0.5364\n",
            "Epoch 2/5\n",
            "157/157 [==============================] - 1s 8ms/step - loss: 0.6892 - accuracy: 0.5362 - val_loss: 0.6918 - val_accuracy: 0.5390\n",
            "Epoch 3/5\n",
            "157/157 [==============================] - 1s 8ms/step - loss: 0.6866 - accuracy: 0.5472 - val_loss: 0.6826 - val_accuracy: 0.5648\n",
            "Epoch 4/5\n",
            "157/157 [==============================] - 1s 8ms/step - loss: 0.6847 - accuracy: 0.5501 - val_loss: 0.6789 - val_accuracy: 0.5762\n",
            "Epoch 5/5\n",
            "157/157 [==============================] - 1s 8ms/step - loss: 0.6834 - accuracy: 0.5517 - val_loss: 0.6783 - val_accuracy: 0.5750\n"
          ]
        }
      ]
    },
    {
      "cell_type": "code",
      "metadata": {
        "id": "oZcRp4nXiN84",
        "colab": {
          "base_uri": "https://localhost:8080/"
        },
        "outputId": "088f0121-7e99-4fab-eac0-c46ebe47bcf7"
      },
      "source": [
        "scores = text_class_model.evaluate(x_test_r, y_test, verbose=2)\n",
        "print(\"%s: %.2f%%\" % (text_class_model.metrics_names[1], scores[1]*100))"
      ],
      "execution_count": null,
      "outputs": [
        {
          "output_type": "stream",
          "name": "stdout",
          "text": [
            "782/782 - 3s - loss: 0.6817 - accuracy: 0.5626 - 3s/epoch - 3ms/step\n",
            "accuracy: 56.26%\n"
          ]
        }
      ]
    },
    {
      "cell_type": "markdown",
      "metadata": {
        "id": "uyOqn7yginQg"
      },
      "source": [
        "We see how the accuracy is just slightly better compared to doing a random guess as there are only 2 classes. That is because the integer that encodes the word is chosen arbitrarily and does not encode any property of the words nor any relationship between words. Hence, using learned embeddings results in models with better capacity/accuracy for this kind of tasks.\n",
        "\n",
        "Instead of inputting directly integers to the RNN, we could argue that another way of representing the input words is to input the one-hot representation of the word directly to the RNN instead of using embeddings. This method has two problems. First, the resulting dimensionality would be too large. In this case we are loading the $20000$ most common words in IMDB, so each word would be encoded in a vector of dimensionality $20000$. Secondly, the encoding does not give any notion of similarity between the different words. For these two reasons, embedding the words to a common lower dimensionality space is also better than using one-hot encoding."
      ]
    },
    {
      "cell_type": "markdown",
      "metadata": {
        "id": "-EwrgAmcM9na"
      },
      "source": [
        "# Text Generation\n",
        "\n",
        "We now will present an example of text generation using an RNN. We will use the Tiny Shakespeare dataset, which contains samples from Shakespeare works.\n",
        "\n",
        "We pose the problem as a classification problem as in the Sentiment classification example. In a text generation setting, given a sequence, we aim to predict the next one. During the training step, the process would be quite similar to the classification task, i.e. given a sequence you predict a label/word/character. However, in the prediction setting, we aim to output a whole sentence, not only a word or character. For that reason we will follow the procedure explained in the image.\n",
        "\n",
        "![](https://cdn-images-1.medium.com/max/1600/1*XvUt5wDQA8D3C0wAuxAvbA.png)\n",
        "The image is taken from [here](https://medium.com/@david.campion/text-generation-using-bidirectional-lstm-and-doc2vec-models-1-3-8979eb65cb3a)\n",
        "\n",
        "As in the text classification section, we encode the raw sentences in the form of a sequence of integers. In this case, however, we have a text with a really wide vocabulary, and we aim to predict the following element of the sequence. In this dataset the number of words is really large, so if we used a word-level model the number of available classes would be quite large if we did not filter the number of possible words. For this example, instead of encoding on a word level, we will do it on a character level, which results in a more limited vocabulary. We aim to predict the next character when inputting a sentence of length $d$. In evaluation mode, i.e. when we are predicting the next character, we then input a seed of $d$ characters as the first input, and afterwards we use the last $d$ characters as input to predict the next character.\n",
        "\n",
        "The advantages of predicting characters instead of words is that character-level models have a limited vocabulary/classes compared to the number of possible words in a text. They are also more flexible (for example, they can generate \"fake\" url links if trained in e.g. wikipedia data). However, word-level models usually present higher performance as it easier for them to keep track of the long-term meaning of the sentence, and also can avoid any spelling mistakes that may happen in character-level models.\n",
        "\n",
        "**References:** Some code snippets taken from [here](https://www.analyticsvidhya.com/blog/2018/03/text-generation-using-python-nlp/)\n"
      ]
    },
    {
      "cell_type": "markdown",
      "metadata": {
        "id": "4_-da7NsDrJf"
      },
      "source": [
        "We first download the data we use for the example, and then read the file."
      ]
    },
    {
      "cell_type": "code",
      "metadata": {
        "id": "zcR0v2GGNFCd",
        "colab": {
          "base_uri": "https://localhost:8080/"
        },
        "outputId": "840f6129-dca4-43f4-b7c6-ba7079565e9f"
      },
      "source": [
        "!wget https://raw.githubusercontent.com/jcjohnson/torch-rnn/master/data/tiny-shakespeare.txt\n",
        "## We read all the raw data in the variable data\n",
        "data = open('./tiny-shakespeare.txt', 'r').read()"
      ],
      "execution_count": null,
      "outputs": [
        {
          "output_type": "stream",
          "name": "stdout",
          "text": [
            "--2024-02-02 11:29:24--  https://raw.githubusercontent.com/jcjohnson/torch-rnn/master/data/tiny-shakespeare.txt\n",
            "Resolving raw.githubusercontent.com (raw.githubusercontent.com)... 185.199.108.133, 185.199.110.133, 185.199.111.133, ...\n",
            "Connecting to raw.githubusercontent.com (raw.githubusercontent.com)|185.199.108.133|:443... connected.\n",
            "HTTP request sent, awaiting response... 200 OK\n",
            "Length: 1115394 (1.1M) [text/plain]\n",
            "Saving to: ‘tiny-shakespeare.txt’\n",
            "\n",
            "tiny-shakespeare.tx 100%[===================>]   1.06M  --.-KB/s    in 0.05s   \n",
            "\n",
            "2024-02-02 11:29:25 (20.4 MB/s) - ‘tiny-shakespeare.txt’ saved [1115394/1115394]\n",
            "\n"
          ]
        }
      ]
    },
    {
      "cell_type": "markdown",
      "metadata": {
        "id": "WxFUMjE9kP4C"
      },
      "source": [
        "Let's print a subset of the data for visualization purposes."
      ]
    },
    {
      "cell_type": "code",
      "metadata": {
        "id": "7c8ZSkLKkX6Y",
        "colab": {
          "base_uri": "https://localhost:8080/"
        },
        "outputId": "4921f661-5de6-48a5-a835-6dbc109ed9e9"
      },
      "source": [
        "print(data[:364])"
      ],
      "execution_count": null,
      "outputs": [
        {
          "output_type": "stream",
          "name": "stdout",
          "text": [
            "First Citizen:\n",
            "Before we proceed any further, hear me speak.\n",
            "\n",
            "All:\n",
            "Speak, speak.\n",
            "\n",
            "First Citizen:\n",
            "You are all resolved rather to die than to famish?\n",
            "\n",
            "All:\n",
            "Resolved. resolved.\n",
            "\n",
            "First Citizen:\n",
            "First, you know Caius Marcius is chief enemy to the people.\n",
            "\n",
            "All:\n",
            "We know't, we know't.\n",
            "\n",
            "First Citizen:\n",
            "Let us kill him, and we'll have corn at our own price.\n",
            "Is't a verdict?\n"
          ]
        }
      ]
    },
    {
      "cell_type": "markdown",
      "metadata": {
        "id": "HhZmAeuzD0Wt"
      },
      "source": [
        "We see in the raw text that the name of the characters is printed, that there is a blank line between the different character lines, and also that lines are usually not longer than ~80 characters. We hope the network is capable of learning all of this.\n",
        "\n",
        "Now we will structure the data so we can input it into our RNN model. We aim to encode the text using a sequence of integers as we explained in the classification section.  Hence, we form a dictionary with all the different characters appearing in the text (including whitespaces and punctuation) and its corresponding integer."
      ]
    },
    {
      "cell_type": "code",
      "metadata": {
        "id": "Zs3tRv_1whDc"
      },
      "source": [
        "characters = sorted(list(set(data)))\n",
        "n_to_char = {n:char for n, char in enumerate(characters)}\n",
        "char_to_n = {char:n for n, char in enumerate(characters)}"
      ],
      "execution_count": null,
      "outputs": []
    },
    {
      "cell_type": "markdown",
      "metadata": {
        "id": "MEfzwgCnwjwo"
      },
      "source": [
        "Now we want to split the text in examples of length `seq_length` where the label is the next character. As we mentioned, we pose the problem as a set of successive classification problems, where we try to predict the next word given an input sentence. To split the text in pairs of (sequence, next word), we use the dictionary `char_to_n` to encode the different elements as integers.\n"
      ]
    },
    {
      "cell_type": "code",
      "metadata": {
        "id": "gulHCFMJ_tEE",
        "colab": {
          "base_uri": "https://localhost:8080/"
        },
        "outputId": "3f55379e-97a4-4414-958b-dd4a9642c89d"
      },
      "source": [
        "x = []\n",
        "y = []\n",
        "length = len(data)\n",
        "seq_length = 100\n",
        "for i in range(0, length-seq_length, 1):\n",
        "  sequence = data[i:i + seq_length]\n",
        "  label = data[i + seq_length]\n",
        "  x.append([char_to_n[char] for char in sequence])\n",
        "  y.append(char_to_n[label])\n",
        "n_samples = len(x)\n",
        "print(\"Total Samples: {:d}\".format(n_samples))"
      ],
      "execution_count": null,
      "outputs": [
        {
          "output_type": "stream",
          "name": "stdout",
          "text": [
            "Total Samples: 1115294\n"
          ]
        }
      ]
    },
    {
      "cell_type": "markdown",
      "metadata": {
        "id": "ehank2xQFGOo"
      },
      "source": [
        "We now form a test split by using 5% of the available data. To do so, we just take the last 5% of the data. Usually, you need to randomize the data before splitting in test/train to avoid having a different distribution of the data in both splits. However, as this is a sequential data where we want to predict the next character, if we shuffle the splits we would have this in training:\n",
        "\n",
        "``\n",
        "x = 'the boy is tal_' y = 'l'\n",
        "``\n",
        "\n",
        "and this in testing:\n",
        "\n",
        "``\n",
        "x = 'the boy is ta_' y = 'l'\n",
        "``\n",
        "\n",
        "which would contaminate the splits."
      ]
    },
    {
      "cell_type": "code",
      "metadata": {
        "id": "qbBqXbtpfa5T"
      },
      "source": [
        "import keras\n",
        "x_train = x[:int(n_samples*0.95)]\n",
        "x_test = x[int(n_samples*0.95):]\n",
        "y_train = y[:int(n_samples*0.95)]\n",
        "y_test = y[int(n_samples*0.95):]\n",
        "\n",
        "## Transform the list to a numpy array\n",
        "x_train = np.reshape(x_train, (len(x_train), seq_length))\n",
        "## Onehot encoding of labels\n",
        "# 基本就是按照分类读取数据什么的\n",
        "y_train = tf.keras.utils.to_categorical(np.asarray(y_train))\n",
        "\n",
        "x_test = np.reshape(x_test, (len(x_test), seq_length))\n",
        "y_test = tf.keras.utils.to_categorical(np.asarray(y_test))\n"
      ],
      "execution_count": null,
      "outputs": []
    },
    {
      "cell_type": "markdown",
      "metadata": {
        "id": "U63V-XoLkzD2"
      },
      "source": [
        "Let's print a sequence and the shape of the labels."
      ]
    },
    {
      "cell_type": "code",
      "metadata": {
        "id": "E_KvSAVQzOvq",
        "colab": {
          "base_uri": "https://localhost:8080/"
        },
        "outputId": "39953161-1d2d-4cc8-fa72-421ab4b84524"
      },
      "source": [
        "print(x_train[8000])\n",
        "print(y_train.shape)"
      ],
      "execution_count": null,
      "outputs": [
        {
          "output_type": "stream",
          "name": "stdout",
          "text": [
            "[ 0 13  1 57 47 41 49  1 51 39 52  5 57  1 39 54 54 43 58 47 58 43  6  1\n",
            " 61 46 53  1 42 43 57 47 56 43 57  1 51 53 57 58  1 58 46 39 58  0 35 46\n",
            " 47 41 46  1 61 53 59 50 42  1 47 52 41 56 43 39 57 43  1 46 47 57  1 43\n",
            " 60 47 50  8  1 20 43  1 58 46 39 58  1 42 43 54 43 52 42 57  0 33 54 53\n",
            " 52  1 63 53]\n",
            "(1059529, 65)\n"
          ]
        }
      ]
    },
    {
      "cell_type": "markdown",
      "metadata": {
        "id": "Uudj2qT_FNJG"
      },
      "source": [
        "Here, we define the model."
      ]
    },
    {
      "cell_type": "code",
      "metadata": {
        "id": "13TcalgkqHsM",
        "colab": {
          "base_uri": "https://localhost:8080/"
        },
        "outputId": "924afe18-1fbb-42a2-89c1-ccab52822f3c"
      },
      "source": [
        "# define the LSTM model\n",
        "embedding_size = 100\n",
        "lstm_units = 128\n",
        "\n",
        "text_gen_model = Sequential()\n",
        "text_gen_model.add(Embedding(y_train.shape[1],\n",
        "                    embedding_size, input_length=seq_length))\n",
        "text_gen_model.add(LSTM(lstm_units))\n",
        "text_gen_model.add(Dense(y_train.shape[1], activation='softmax'))\n",
        "\n",
        "text_gen_model.compile(loss='categorical_crossentropy', optimizer='adam')\n",
        "text_gen_model.summary()"
      ],
      "execution_count": null,
      "outputs": [
        {
          "output_type": "stream",
          "name": "stdout",
          "text": [
            "Model: \"sequential_4\"\n",
            "_________________________________________________________________\n",
            " Layer (type)                Output Shape              Param #   \n",
            "=================================================================\n",
            " embedding_2 (Embedding)     (None, 100, 100)          6500      \n",
            "                                                                 \n",
            " lstm_3 (LSTM)               (None, 128)               117248    \n",
            "                                                                 \n",
            " dense_3 (Dense)             (None, 65)                8385      \n",
            "                                                                 \n",
            "=================================================================\n",
            "Total params: 132133 (516.14 KB)\n",
            "Trainable params: 132133 (516.14 KB)\n",
            "Non-trainable params: 0 (0.00 Byte)\n",
            "_________________________________________________________________\n"
          ]
        }
      ]
    },
    {
      "cell_type": "markdown",
      "metadata": {
        "id": "nC2BaDcumZnm"
      },
      "source": [
        "The model is a little bit complex, so training takes some time."
      ]
    },
    {
      "cell_type": "code",
      "metadata": {
        "id": "z2EPi_Fee4dj",
        "colab": {
          "base_uri": "https://localhost:8080/"
        },
        "outputId": "ddeafff6-180f-46c5-e3ea-6bf80dfcb47a"
      },
      "source": [
        "text_gen_model.fit(x_train, y_train, epochs=10 , batch_size=128)"
      ],
      "execution_count": null,
      "outputs": [
        {
          "output_type": "stream",
          "name": "stdout",
          "text": [
            "Epoch 1/10\n",
            "8278/8278 [==============================] - 82s 10ms/step - loss: 1.9590\n",
            "Epoch 2/10\n",
            "8278/8278 [==============================] - 80s 10ms/step - loss: 1.6268\n",
            "Epoch 3/10\n",
            "8278/8278 [==============================] - 76s 9ms/step - loss: 1.5398\n",
            "Epoch 4/10\n",
            "8278/8278 [==============================] - 94s 11ms/step - loss: 1.4940\n",
            "Epoch 5/10\n",
            "8278/8278 [==============================] - 78s 9ms/step - loss: 1.4637\n",
            "Epoch 6/10\n",
            "8278/8278 [==============================] - 78s 9ms/step - loss: 1.4418\n",
            "Epoch 7/10\n",
            "8278/8278 [==============================] - 79s 10ms/step - loss: 1.4250\n",
            "Epoch 8/10\n",
            "8278/8278 [==============================] - 79s 9ms/step - loss: 1.4115\n",
            "Epoch 9/10\n",
            "8278/8278 [==============================] - 77s 9ms/step - loss: 1.4006\n",
            "Epoch 10/10\n",
            "8278/8278 [==============================] - 78s 9ms/step - loss: 1.3913\n"
          ]
        },
        {
          "output_type": "execute_result",
          "data": {
            "text/plain": [
              "<keras.src.callbacks.History at 0x792d68de4d60>"
            ]
          },
          "metadata": {},
          "execution_count": 50
        }
      ]
    },
    {
      "cell_type": "markdown",
      "metadata": {
        "id": "-5XsfQRNr9An"
      },
      "source": [
        "### Prediction\n",
        "\n",
        "We now take any of the sequences from the test split and use it as an initial pattern for our model. Then we enter a loop where given an input sequence, we predict the next character and then form a new input sequence by appending the predicted character and dropping the first character.\n",
        "\n",
        "Whenever we input a sequence, we obtain as output a probability distribution of the possible characters. For example, given the sequence `the cat and the do` the model will output a probability distribution of the next character where probably the character `g` will have a high probability (forming then `the cat and the dog`). However, the character `c` can also be a possibility, as the sentence formed may be `the cat and the doctor`. When deciding what character to predict, a strategy is to just take the character with the maximum probability at all times, but then the variability of the formed text is then smaller. Another option would be to sample following the same probability of distribution as the model outputs. However, this might result in a excessive variability with some sentences not making any sense.\n",
        "\n",
        "This trade-off of variability against more probable sequences is controlled by what it is called the temperature of the sampling process. The temperature controls the smoothing of the probability vector. A temperature close to 0 will result in taking always the safest (i.e. that with the highest probability) as the next element. A temperature close to 1 will decide on the next element following the same distribution of probability as the original output of the model.\n",
        "\n",
        "In a more formal way, being $p_i$ the probability of the element $i$ output by the RNN model and $T$ the temperature, the probability after applying the mentioned smoothing $\\hat{p_i}$ is:\n",
        "\n",
        "$$\n",
        "\\hat{p_i} = \\frac{e^{\\log(p_i)/T}}{\\sum_j e^{\\log(p_j)/T}}\n",
        "$$\n",
        "\n",
        "You can check how a small $T$ is going to make the element with the largest probability be close to 1 after the process.\n",
        "\n",
        "Before starting the text prediction, let's show an example of how the sampling temperature affects the model choices."
      ]
    },
    {
      "cell_type": "code",
      "metadata": {
        "id": "loPFAdDvIsWO",
        "colab": {
          "base_uri": "https://localhost:8080/"
        },
        "outputId": "0e833eeb-986c-48fa-cc81-e6cda9c99d13"
      },
      "source": [
        "def temperature_smoothing(prediction, temperature=1.0):\n",
        "  # This function computes the temperature smoothing function\n",
        "  # we explained\n",
        "  prediction = np.log(prediction + 1e-7) / (temperature + 0.01)\n",
        "  exp_preds = np.exp(prediction)\n",
        "  prediction = exp_preds / np.sum(exp_preds)\n",
        "  return prediction\n",
        "\n",
        "# We have this vector of probabilities\n",
        "prediction = np.asarray([0.2, 0.3, 0.1, 0.4])\n",
        "## Temperature = 1.0\n",
        "print('Output probabilities with temp.=1')\n",
        "print(temperature_smoothing(prediction, temperature=1))\n",
        "## Temperature = 0.5\n",
        "print('Output probabilities with temp.=0.5')\n",
        "print(temperature_smoothing(prediction, temperature=0.5))\n",
        "## Temperature = 0.25\n",
        "print('Output probabilities with temp.=0.25')\n",
        "print(temperature_smoothing(prediction, temperature=0.25))\n",
        "## Temperature = 0.0\n",
        "print('Output probabilities with temp.=0')\n",
        "print(temperature_smoothing(prediction, temperature=0))"
      ],
      "execution_count": null,
      "outputs": [
        {
          "output_type": "stream",
          "name": "stdout",
          "text": [
            "Output probabilities with temp.=1\n",
            "[0.20065194 0.29977201 0.10101691 0.39855913]\n",
            "Output probabilities with temp.=0.5\n",
            "[0.13579339 0.30071527 0.03488383 0.5286075 ]\n",
            "Output probabilities with temp.=0.25\n",
            "[0.04948661 0.23537565 0.00344097 0.71169677]\n",
            "Output probabilities with temp.=0\n",
            "[7.88880627e-31 3.20722891e-13 6.22348202e-61 1.00000000e+00]\n"
          ]
        }
      ]
    },
    {
      "cell_type": "markdown",
      "metadata": {
        "id": "ST0l8UWDJy-t"
      },
      "source": [
        "You can see how a lower temperature makes the small probabilities become smaller."
      ]
    },
    {
      "cell_type": "markdown",
      "metadata": {
        "id": "cnpdKtGwIjue"
      },
      "source": [
        "Here you can set the temperature and check how the output varies. You will see that for $T\\approx0$ the generated text has low variability."
      ]
    },
    {
      "cell_type": "code",
      "metadata": {
        "id": "REoPwrqieFLK",
        "colab": {
          "base_uri": "https://localhost:8080/"
        },
        "outputId": "d1b77675-7322-4a86-b8d8-b374e422da52"
      },
      "source": [
        "import sys\n",
        "# Vary the temperature here\n",
        "temperature = 0.5\n",
        "\n",
        "# We select a random element from the test set as seed\n",
        "start = np.random.randint(0, len(x_test)-1)\n",
        "pattern = x_test[start].tolist()\n",
        "print(\"Seed:\")\n",
        "print(\"\\\"\", ''.join([n_to_char[value] for value in pattern]), \"\\\"\")\n",
        "\n",
        "print(\"\\nPredicted:\")\n",
        "# generate 300 characters\n",
        "for i in range(300):\n",
        "  x = np.reshape(pattern, (1, len(pattern)))\n",
        "  prediction = text_gen_model.predict(x, verbose=0).astype(np.float64)\n",
        "  ## We put the constant 0.02 to avoid dividing by zero\n",
        "  ## We sum by 1e-7 to avoid log(0)\n",
        "  prediction = np.log(prediction + 1e-7) / (temperature + 0.01)\n",
        "  exp_preds = np.exp(prediction)\n",
        "  prediction = exp_preds / np.sum(exp_preds)\n",
        "  ## We applied the smoothing with the temperature\n",
        "  ## Now we predict following the probabilities in the variable prediction\n",
        "  prediction = np.random.multinomial(1, prediction[0,:], 1)\n",
        "  index = np.argmax(prediction)\n",
        "  result = n_to_char[index]\n",
        "  seq_in = [n_to_char[value] for value in pattern]\n",
        "  ## Print the result\n",
        "  sys.stdout.write(result)\n",
        "\n",
        "  ## Create the input sequence for the next character by appending the predicted\n",
        "  ## character and dropping the first one to always have constant seq. length\n",
        "  pattern.append(index)\n",
        "  pattern = pattern[1:]\n"
      ],
      "execution_count": null,
      "outputs": [
        {
          "output_type": "stream",
          "name": "stdout",
          "text": [
            "Seed:\n",
            "\"  welcome,\n",
            "While I with self-same kindness welcome thine.\n",
            "Brother Petruchio, sister Katharina,\n",
            "And th \"\n",
            "\n",
            "Predicted:\n",
            "en the father of the sent.\n",
            "\n",
            "LEONTES:\n",
            "A honour his face to mine eyes and fear.\n",
            "\n",
            "GLOUCESTER:\n",
            "Not our grief of his noble and hatter of the\n",
            "pity of the hollow most wipper the banished,\n",
            "I have behold to a complect and head\n",
            "To the field and countents to his confession.\n",
            "\n",
            "First Senator:\n",
            "I have for a true st"
          ]
        }
      ]
    },
    {
      "cell_type": "markdown",
      "metadata": {
        "id": "sSQs-l7OmNoI"
      },
      "source": [
        "Notice how the network has learnt the structure of the text, to start a new line every few words and to put the name of the characters too. The text itself seems grammatically correct in most cases but it fails to make much sense in most examples. Generating sentences with actual semantic meaning is harder for these type of models compared to generating grammatically correct sentences. Test different temperature settings to see how it affects the generation\n",
        "\n",
        "If you want to know more about text generation, along with some extra generated examples, we refer you to [Andrej Karpathy's blog](http://karpathy.github.io/2015/05/21/rnn-effectiveness/)."
      ]
    },
    {
      "cell_type": "markdown",
      "metadata": {
        "id": "5hY4m63VgiM9"
      },
      "source": [
        "### Quantitative evaluation of the generated text\n",
        "\n",
        "For a quantitative evaluation of the generated text we will use a metric commonly used in image captioning and translation tasks, BLEU. BLEU looks for matches on a word level between the generated text and the reference text. Specifically, BLEU looks for matches in n-grams up to $n=4$, where an n-gram is defined as a contiguous sentence of $n$ items. For example, in the sentence `the sky is blue`, an n-gram of $n=2$ would be `is blue`. BLEU scores range from [0,1].\n",
        "\n",
        "As we mentioned, BLEU is usual in more constrained text generation tasks, such as image captioning. In our text generation task there is a large number of both grammatically and semantically correct possibilities when generating new sentences, and one of the issues for this task is to develop a metric that can properly evaluate the semantic and syntactic quality of the generated text. Human evaluation is quite common when evaluating the quality of generated sentences in these less constrained tasks due to the difficulty of finding proper automatic metrics. However, we hope to see a correlation between the BLEU score and the quality of the generated text. Here we take an input sentence from the test data and generate a sentence. Then, we compare the generated sentence to the real one from the corpus. We do so 20 times and provide the average BLEU score.\n",
        "\n",
        "The used function is integrated in the package `nltk` and it is called using the following syntax `sentence_bleu(reference, candidate).`"
      ]
    },
    {
      "cell_type": "code",
      "metadata": {
        "id": "LtnzNZZGr11D",
        "colab": {
          "base_uri": "https://localhost:8080/"
        },
        "outputId": "1690da47-879c-401c-904a-9adc1f3b60a7"
      },
      "source": [
        "from nltk.translate.bleu_score import sentence_bleu\n",
        "import sys\n",
        "import time\n",
        "import string\n",
        "a = time.time()\n",
        "characters = sorted(list(set(data)))\n",
        "n_to_char = {n:char for n, char in enumerate(characters)}\n",
        "char_to_n = {char:n for n, char in enumerate(characters)}\n",
        "temperature = 0.5\n",
        "bleu_score = 0\n",
        "n_eval = 20\n",
        "seq_char_length = 100\n",
        "for _ in range(n_eval):\n",
        "  start = np.random.randint(0, len(x_test)-seq_char_length-1)\n",
        "  pattern = x_test[start].tolist()\n",
        "  reference = x_test[start+seq_char_length].tolist()\n",
        "  reference = ''.join([n_to_char[value] for value in reference])\n",
        "  # generate characters\n",
        "  output_sent = ''\n",
        "  for n_char in range(seq_char_length):\n",
        "    x = np.reshape(pattern, (1, len(pattern)))\n",
        "    prediction = text_gen_model.predict(x, verbose=0).astype(np.float64)\n",
        "    prediction = np.log(prediction + 1e-7) / (temperature + 0.01)\n",
        "    exp_preds = np.exp(prediction)\n",
        "    prediction = exp_preds / np.sum(exp_preds)\n",
        "    prediction = np.random.multinomial(1, prediction[0,:], 1)\n",
        "    index = np.argmax(prediction)\n",
        "    result = n_to_char[index]\n",
        "    output_sent += result\n",
        "    pattern.append(index)\n",
        "    pattern = pattern[1:]\n",
        "  # We filter the reference and candidate words to remove any punctuation\n",
        "  # We also use only lower case words\n",
        "  reference = reference.translate(str.maketrans('', '', string.punctuation)).replace('\\n',' ').lower().split(' ')\n",
        "  # We filter any empty element in the list\n",
        "  reference = list(filter(lambda x: x is not '', reference))\n",
        "  candidate = output_sent.replace('\\n',' ').translate(str.maketrans('', '', string.punctuation)).lower().split(' ')\n",
        "  candidate = list(filter(lambda x: x is not '', candidate))\n",
        "  # We remove the first and the last word for both the reference and candidate\n",
        "  # because they may not be completed words\n",
        "  bleu_score += sentence_bleu(reference[1:-1], candidate[1:-1])\n",
        "print(bleu_score/n_eval)"
      ],
      "execution_count": null,
      "outputs": [
        {
          "output_type": "stream",
          "name": "stderr",
          "text": [
            "<>:36: SyntaxWarning: \"is not\" with a literal. Did you mean \"!=\"?\n",
            "<>:38: SyntaxWarning: \"is not\" with a literal. Did you mean \"!=\"?\n",
            "<>:36: SyntaxWarning: \"is not\" with a literal. Did you mean \"!=\"?\n",
            "<>:38: SyntaxWarning: \"is not\" with a literal. Did you mean \"!=\"?\n",
            "<ipython-input-57-535e9ee74b2c>:36: SyntaxWarning: \"is not\" with a literal. Did you mean \"!=\"?\n",
            "  reference = list(filter(lambda x: x is not '', reference))\n",
            "<ipython-input-57-535e9ee74b2c>:38: SyntaxWarning: \"is not\" with a literal. Did you mean \"!=\"?\n",
            "  candidate = list(filter(lambda x: x is not '', candidate))\n",
            "/usr/local/lib/python3.10/dist-packages/nltk/translate/bleu_score.py:552: UserWarning: \n",
            "The hypothesis contains 0 counts of 2-gram overlaps.\n",
            "Therefore the BLEU score evaluates to 0, independently of\n",
            "how many N-gram overlaps of lower order it contains.\n",
            "Consider using lower n-gram order or use SmoothingFunction()\n",
            "  warnings.warn(_msg)\n",
            "/usr/local/lib/python3.10/dist-packages/nltk/translate/bleu_score.py:552: UserWarning: \n",
            "The hypothesis contains 0 counts of 3-gram overlaps.\n",
            "Therefore the BLEU score evaluates to 0, independently of\n",
            "how many N-gram overlaps of lower order it contains.\n",
            "Consider using lower n-gram order or use SmoothingFunction()\n",
            "  warnings.warn(_msg)\n",
            "/usr/local/lib/python3.10/dist-packages/nltk/translate/bleu_score.py:552: UserWarning: \n",
            "The hypothesis contains 0 counts of 4-gram overlaps.\n",
            "Therefore the BLEU score evaluates to 0, independently of\n",
            "how many N-gram overlaps of lower order it contains.\n",
            "Consider using lower n-gram order or use SmoothingFunction()\n",
            "  warnings.warn(_msg)\n"
          ]
        },
        {
          "output_type": "stream",
          "name": "stdout",
          "text": [
            "7.41037030161225e-232\n"
          ]
        }
      ]
    },
    {
      "cell_type": "markdown",
      "metadata": {
        "id": "UEPP1gUthOI0"
      },
      "source": [
        "# Transformers\n",
        "RNNs are still quite used in several architectures and Natural Language Processing (NLP) tasks. However, during the last 3 years (since the paper [Attention Is All You Need](https://arxiv.org/abs/1706.03762) was published) a new architecture, the Transformer, has started to outperform RNNs in several text/NLP benchmarks. A Transformer does not use any recurrence, it instead uses attention to focus on specific parts of a sentence. If you want an in-depth explanation of the architecture, you can take a look to the [Illustrated Transformer](http://jalammar.github.io/illustrated-transformer/) blog post.\n",
        "\n",
        "Both text classification and text generation tasks have been succesfully tackled by transformers. Transfomers seem to scale better than recurrent neural networks, they can have great results when using large architectures and large datasets, whereas RNNs seem not to benefit as much from using more parameters and training examples. State-of-the-art transformer models can have even billions of parameters and can benefit from training in TBs of text data.\n",
        "\n",
        "We will show examples for both text classification and text generation of models pretrained on large datasets. The aim of the examples is to show you how these large models trained in diverse/large datasets can transfer their knowledge to several tasks (similarly to the transfer learning/finetuning section in the CNN Architectures notebook). However, we will not implement any transformer model from scratch. If you are interested in doing so, besides the theoretical explanation of the [Illustrated Transformer](http://jalammar.github.io/illustrated-transformer/) blog post, you can also check the [transformers example](https://keras.io/examples/nlp/text_classification_with_transformer/) in the Keras docs.\n",
        "\n"
      ]
    },
    {
      "cell_type": "markdown",
      "metadata": {
        "id": "VPNbRN4lCkkL"
      },
      "source": [
        "##Text Classification\n",
        "\n",
        "For the text classification task, the model called BERT from Google, and all the subsequent variants have achieved state-of-the-art results. BERT is a method to train language representations, meaning that you then can use those represenations/embeddings to predict the label of the sentence in a text classification task.\n",
        "\n",
        "We will now show a quick example of finetuning BERT in IMDB to show you the capabilities of this model. We take part of the code from [this link](https://colab.research.google.com/drive/18SVeIFXWCiA9HL4WVCAFxlfH59ez6atc#scrollTo=IhHGCuPhv5Ew). To run the following piece of code you may need to restart your environment due to some dependencies issues (it will tell you to do so)."
      ]
    },
    {
      "cell_type": "code",
      "metadata": {
        "id": "yDbm3oUxB7Ly",
        "outputId": "60ca8a8c-d4ae-4521-8d58-6dcc2b518382",
        "colab": {
          "base_uri": "https://localhost:8080/"
        }
      },
      "source": [
        "# install ktrain\n",
        "!pip install ktrain==0.26.3\n",
        "# import ktrain\n",
        "import ktrain\n",
        "from ktrain import text"
      ],
      "execution_count": null,
      "outputs": [
        {
          "output_type": "stream",
          "name": "stdout",
          "text": [
            "Collecting ktrain==0.26.3\n",
            "  Using cached ktrain-0.26.3.tar.gz (25.3 MB)\n",
            "  Preparing metadata (setup.py) ... \u001b[?25l\u001b[?25hdone\n",
            "Collecting scikit-learn==0.23.2 (from ktrain==0.26.3)\n",
            "  Using cached scikit-learn-0.23.2.tar.gz (7.2 MB)\n",
            "  \u001b[1;31merror\u001b[0m: \u001b[1msubprocess-exited-with-error\u001b[0m\n",
            "  \n",
            "  \u001b[31m×\u001b[0m \u001b[32mpip subprocess to install build dependencies\u001b[0m did not run successfully.\n",
            "  \u001b[31m│\u001b[0m exit code: \u001b[1;36m1\u001b[0m\n",
            "  \u001b[31m╰─>\u001b[0m See above for output.\n",
            "  \n",
            "  \u001b[1;35mnote\u001b[0m: This error originates from a subprocess, and is likely not a problem with pip.\n",
            "  Installing build dependencies ... \u001b[?25l\u001b[?25herror\n",
            "\u001b[1;31merror\u001b[0m: \u001b[1msubprocess-exited-with-error\u001b[0m\n",
            "\n",
            "\u001b[31m×\u001b[0m \u001b[32mpip subprocess to install build dependencies\u001b[0m did not run successfully.\n",
            "\u001b[31m│\u001b[0m exit code: \u001b[1;36m1\u001b[0m\n",
            "\u001b[31m╰─>\u001b[0m See above for output.\n",
            "\n",
            "\u001b[1;35mnote\u001b[0m: This error originates from a subprocess, and is likely not a problem with pip.\n"
          ]
        }
      ]
    },
    {
      "cell_type": "code",
      "metadata": {
        "colab": {
          "base_uri": "https://localhost:8080/"
        },
        "id": "objbxd0QCAnR",
        "outputId": "aa4685a1-8666-4802-8524-c1c24bd9f685"
      },
      "source": [
        "# download IMDb movie review dataset\n",
        "# As we take the code from another notebook, the way to load the\n",
        "# data is different, but the splits are the same as when using imbd.load_data\n",
        "import tensorflow as tf\n",
        "dataset = tf.keras.utils.get_file(\n",
        "    fname=\"aclImdb.tar.gz\",\n",
        "    origin=\"http://ai.stanford.edu/~amaas/data/sentiment/aclImdb_v1.tar.gz\",\n",
        "    extract=True,\n",
        ")\n",
        "# set path to dataset\n",
        "import os.path\n",
        "#dataset = '/root/.keras/datasets/aclImdb'\n",
        "IMDB_DATADIR = os.path.join(os.path.dirname(dataset), 'aclImdb')\n",
        "print(IMDB_DATADIR)"
      ],
      "execution_count": null,
      "outputs": [
        {
          "output_type": "stream",
          "text": [
            "Downloading data from http://ai.stanford.edu/~amaas/data/sentiment/aclImdb_v1.tar.gz\n",
            "84131840/84125825 [==============================] - 1s 0us/step\n",
            "/root/.keras/datasets/aclImdb\n"
          ],
          "name": "stdout"
        }
      ]
    },
    {
      "cell_type": "code",
      "metadata": {
        "id": "Bm4kamkbCFIE"
      },
      "source": [
        "trn, test, preproc = text.texts_from_folder(IMDB_DATADIR,\n",
        "                                          maxlen=500,\n",
        "                                          preprocess_mode='bert',\n",
        "                                          train_test_names=['train',\n",
        "                                                            'test'],\n",
        "                                          classes=['pos', 'neg'])"
      ],
      "execution_count": null,
      "outputs": []
    },
    {
      "cell_type": "markdown",
      "metadata": {
        "id": "83bECt0r36jW"
      },
      "source": [
        "The code below will load a pretrained BERT model and it will start finetuning it in IMDB. We also provide a model finetuned for IMDB as training for 1 epoch takes 1 hour."
      ]
    },
    {
      "cell_type": "code",
      "metadata": {
        "colab": {
          "base_uri": "https://localhost:8080/"
        },
        "id": "KuCksFRVCHQA",
        "outputId": "47e16f6d-8fe9-44a9-d346-c45f4f0dc41a"
      },
      "source": [
        "model = text.text_classifier('bert', trn, preproc=preproc)\n",
        "learner = ktrain.get_learner(model,train_data=trn, val_data=test, batch_size=6)"
      ],
      "execution_count": null,
      "outputs": [
        {
          "output_type": "stream",
          "text": [
            "Is Multi-Label? False\n",
            "maxlen is 500\n",
            "done.\n"
          ],
          "name": "stdout"
        }
      ]
    },
    {
      "cell_type": "markdown",
      "metadata": {
        "id": "lgBlcgve4I3t"
      },
      "source": [
        "We train for one epoch (you can skip this step as we already provide a trained model)."
      ]
    },
    {
      "cell_type": "code",
      "metadata": {
        "colab": {
          "base_uri": "https://localhost:8080/"
        },
        "id": "k4mcTiBLCMtl",
        "outputId": "af8ca658-32a4-4388-8826-221124b129a3"
      },
      "source": [
        "learner.fit_onecycle(2e-5, 1)"
      ],
      "execution_count": null,
      "outputs": [
        {
          "output_type": "stream",
          "text": [
            "\n",
            "\n",
            "begin training using onecycle policy with max lr of 2e-05...\n",
            "4167/4167 [==============================] - 5547s 1s/step - loss: 0.1335 - accuracy: 0.9528 - val_loss: 0.1641 - val_accuracy: 0.9405\n"
          ],
          "name": "stdout"
        },
        {
          "output_type": "execute_result",
          "data": {
            "text/plain": [
              "<tensorflow.python.keras.callbacks.History at 0x7fa73a97b390>"
            ]
          },
          "metadata": {
            "tags": []
          },
          "execution_count": 38
        }
      ]
    },
    {
      "cell_type": "markdown",
      "metadata": {
        "id": "aemVsYcj6swJ"
      },
      "source": [
        "As mentioned, we provide a model already trained. We first download it, load it and test it."
      ]
    },
    {
      "cell_type": "code",
      "metadata": {
        "id": "Koan7lanDB9L"
      },
      "source": [
        "!wget https://imperialcollegelondon.box.com/shared/static/w4n0r0l8tm2txvvisq64ysgrgvuwrd4h.zip -O bert.zip"
      ],
      "execution_count": null,
      "outputs": []
    },
    {
      "cell_type": "code",
      "metadata": {
        "colab": {
          "base_uri": "https://localhost:8080/"
        },
        "id": "V8Rk9MN4DrZU",
        "outputId": "da9993fb-688a-4b53-873c-bc5e1e5f1f3a"
      },
      "source": [
        "!unzip /content/bert.zip"
      ],
      "execution_count": null,
      "outputs": [
        {
          "output_type": "stream",
          "text": [
            "Archive:  /content/bert.zip\n",
            "   creating: bert/\n",
            "  inflating: bert/tf_model.preproc   \n",
            "  inflating: bert/tf_model.h5        \n"
          ],
          "name": "stdout"
        }
      ]
    },
    {
      "cell_type": "code",
      "metadata": {
        "id": "8wHbNXzL3V68"
      },
      "source": [
        "# reload Predictor and extract model\n",
        "model = ktrain.load_predictor('/content/bert').model\n",
        "\n",
        "# re-instantiate Learner\n",
        "learner = ktrain.get_learner(model, train_data=trn, val_data=test)"
      ],
      "execution_count": null,
      "outputs": []
    },
    {
      "cell_type": "markdown",
      "metadata": {
        "id": "sjejlAca4MOl"
      },
      "source": [
        "We evaluate now the performance of the loaded model. The model is quite big, so this evaluation step also takes a bit of time."
      ]
    },
    {
      "cell_type": "code",
      "metadata": {
        "colab": {
          "base_uri": "https://localhost:8080/",
          "height": 324
        },
        "id": "pNOAf77VhsnB",
        "outputId": "a88a1e2e-1ee0-4762-aa82-61b92d38a7c8"
      },
      "source": [
        "learner.evaluate()"
      ],
      "execution_count": null,
      "outputs": [
        {
          "output_type": "error",
          "ename": "KeyboardInterrupt",
          "evalue": "ignored",
          "traceback": [
            "\u001b[0;31m---------------------------------------------------------------------------\u001b[0m",
            "\u001b[0;31mKeyboardInterrupt\u001b[0m                         Traceback (most recent call last)",
            "\u001b[0;32m<ipython-input-55-33b23d2ae399>\u001b[0m in \u001b[0;36m<module>\u001b[0;34m()\u001b[0m\n\u001b[0;32m----> 1\u001b[0;31m \u001b[0mlearner\u001b[0m\u001b[0;34m.\u001b[0m\u001b[0mevaluate\u001b[0m\u001b[0;34m(\u001b[0m\u001b[0;34m)\u001b[0m\u001b[0;34m\u001b[0m\u001b[0;34m\u001b[0m\u001b[0m\n\u001b[0m",
            "\u001b[0;32m/usr/local/lib/python3.7/dist-packages/ktrain/core.py\u001b[0m in \u001b[0;36mevaluate\u001b[0;34m(self, test_data, print_report, save_path, class_names)\u001b[0m\n\u001b[1;32m    114\u001b[0m         \u001b[0;31m`\u001b[0m\u001b[0;31m`\u001b[0m\u001b[0;31m`\u001b[0m\u001b[0;34m\u001b[0m\u001b[0;34m\u001b[0m\u001b[0m\n\u001b[1;32m    115\u001b[0m         \"\"\"\n\u001b[0;32m--> 116\u001b[0;31m         \u001b[0;32mreturn\u001b[0m \u001b[0mself\u001b[0m\u001b[0;34m.\u001b[0m\u001b[0mvalidate\u001b[0m\u001b[0;34m(\u001b[0m\u001b[0mval_data\u001b[0m\u001b[0;34m=\u001b[0m\u001b[0mtest_data\u001b[0m\u001b[0;34m,\u001b[0m \u001b[0mprint_report\u001b[0m\u001b[0;34m=\u001b[0m\u001b[0mprint_report\u001b[0m\u001b[0;34m,\u001b[0m \u001b[0msave_path\u001b[0m\u001b[0;34m=\u001b[0m\u001b[0msave_path\u001b[0m\u001b[0;34m,\u001b[0m \u001b[0mclass_names\u001b[0m\u001b[0;34m=\u001b[0m\u001b[0mclass_names\u001b[0m\u001b[0;34m)\u001b[0m\u001b[0;34m\u001b[0m\u001b[0;34m\u001b[0m\u001b[0m\n\u001b[0m\u001b[1;32m    117\u001b[0m \u001b[0;34m\u001b[0m\u001b[0m\n\u001b[1;32m    118\u001b[0m \u001b[0;34m\u001b[0m\u001b[0m\n",
            "\u001b[0;32m/usr/local/lib/python3.7/dist-packages/ktrain/core.py\u001b[0m in \u001b[0;36mvalidate\u001b[0;34m(self, val_data, print_report, save_path, class_names)\u001b[0m\n\u001b[1;32m    157\u001b[0m             \u001b[0mwarnings\u001b[0m\u001b[0;34m.\u001b[0m\u001b[0mwarn\u001b[0m\u001b[0;34m(\u001b[0m\u001b[0;34m'multilabel confusion matrices not yet supported'\u001b[0m\u001b[0;34m)\u001b[0m\u001b[0;34m\u001b[0m\u001b[0;34m\u001b[0m\u001b[0m\n\u001b[1;32m    158\u001b[0m             \u001b[0;32mreturn\u001b[0m\u001b[0;34m\u001b[0m\u001b[0;34m\u001b[0m\u001b[0m\n\u001b[0;32m--> 159\u001b[0;31m         \u001b[0my_pred\u001b[0m \u001b[0;34m=\u001b[0m \u001b[0mself\u001b[0m\u001b[0;34m.\u001b[0m\u001b[0mpredict\u001b[0m\u001b[0;34m(\u001b[0m\u001b[0mval_data\u001b[0m\u001b[0;34m=\u001b[0m\u001b[0mval\u001b[0m\u001b[0;34m)\u001b[0m\u001b[0;34m\u001b[0m\u001b[0;34m\u001b[0m\u001b[0m\n\u001b[0m\u001b[1;32m    160\u001b[0m         \u001b[0my_true\u001b[0m \u001b[0;34m=\u001b[0m \u001b[0mself\u001b[0m\u001b[0;34m.\u001b[0m\u001b[0mground_truth\u001b[0m\u001b[0;34m(\u001b[0m\u001b[0mval_data\u001b[0m\u001b[0;34m=\u001b[0m\u001b[0mval\u001b[0m\u001b[0;34m)\u001b[0m\u001b[0;34m\u001b[0m\u001b[0;34m\u001b[0m\u001b[0m\n\u001b[1;32m    161\u001b[0m         \u001b[0my_pred\u001b[0m \u001b[0;34m=\u001b[0m \u001b[0mnp\u001b[0m\u001b[0;34m.\u001b[0m\u001b[0msqueeze\u001b[0m\u001b[0;34m(\u001b[0m\u001b[0my_pred\u001b[0m\u001b[0;34m)\u001b[0m\u001b[0;34m\u001b[0m\u001b[0;34m\u001b[0m\u001b[0m\n",
            "\u001b[0;32m/usr/local/lib/python3.7/dist-packages/ktrain/core.py\u001b[0m in \u001b[0;36mpredict\u001b[0;34m(self, val_data)\u001b[0m\n\u001b[1;32m   1096\u001b[0m             \u001b[0;32mreturn\u001b[0m \u001b[0mresult\u001b[0m\u001b[0;34m\u001b[0m\u001b[0;34m\u001b[0m\u001b[0m\n\u001b[1;32m   1097\u001b[0m         \u001b[0;32melse\u001b[0m\u001b[0;34m:\u001b[0m\u001b[0;34m\u001b[0m\u001b[0;34m\u001b[0m\u001b[0m\n\u001b[0;32m-> 1098\u001b[0;31m             \u001b[0;32mreturn\u001b[0m \u001b[0mself\u001b[0m\u001b[0;34m.\u001b[0m\u001b[0mmodel\u001b[0m\u001b[0;34m.\u001b[0m\u001b[0mpredict\u001b[0m\u001b[0;34m(\u001b[0m\u001b[0mval\u001b[0m\u001b[0;34m[\u001b[0m\u001b[0;36m0\u001b[0m\u001b[0;34m]\u001b[0m\u001b[0;34m,\u001b[0m \u001b[0mbatch_size\u001b[0m\u001b[0;34m=\u001b[0m\u001b[0mself\u001b[0m\u001b[0;34m.\u001b[0m\u001b[0meval_batch_size\u001b[0m\u001b[0;34m)\u001b[0m\u001b[0;34m\u001b[0m\u001b[0;34m\u001b[0m\u001b[0m\n\u001b[0m\u001b[1;32m   1099\u001b[0m \u001b[0;34m\u001b[0m\u001b[0m\n\u001b[1;32m   1100\u001b[0m \u001b[0;34m\u001b[0m\u001b[0m\n",
            "\u001b[0;32m/usr/local/lib/python3.7/dist-packages/keras/utils/traceback_utils.py\u001b[0m in \u001b[0;36merror_handler\u001b[0;34m(*args, **kwargs)\u001b[0m\n\u001b[1;32m     62\u001b[0m     \u001b[0mfiltered_tb\u001b[0m \u001b[0;34m=\u001b[0m \u001b[0;32mNone\u001b[0m\u001b[0;34m\u001b[0m\u001b[0;34m\u001b[0m\u001b[0m\n\u001b[1;32m     63\u001b[0m     \u001b[0;32mtry\u001b[0m\u001b[0;34m:\u001b[0m\u001b[0;34m\u001b[0m\u001b[0;34m\u001b[0m\u001b[0m\n\u001b[0;32m---> 64\u001b[0;31m       \u001b[0;32mreturn\u001b[0m \u001b[0mfn\u001b[0m\u001b[0;34m(\u001b[0m\u001b[0;34m*\u001b[0m\u001b[0margs\u001b[0m\u001b[0;34m,\u001b[0m \u001b[0;34m**\u001b[0m\u001b[0mkwargs\u001b[0m\u001b[0;34m)\u001b[0m\u001b[0;34m\u001b[0m\u001b[0;34m\u001b[0m\u001b[0m\n\u001b[0m\u001b[1;32m     65\u001b[0m     \u001b[0;32mexcept\u001b[0m \u001b[0mException\u001b[0m \u001b[0;32mas\u001b[0m \u001b[0me\u001b[0m\u001b[0;34m:\u001b[0m  \u001b[0;31m# pylint: disable=broad-except\u001b[0m\u001b[0;34m\u001b[0m\u001b[0;34m\u001b[0m\u001b[0m\n\u001b[1;32m     66\u001b[0m       \u001b[0mfiltered_tb\u001b[0m \u001b[0;34m=\u001b[0m \u001b[0m_process_traceback_frames\u001b[0m\u001b[0;34m(\u001b[0m\u001b[0me\u001b[0m\u001b[0;34m.\u001b[0m\u001b[0m__traceback__\u001b[0m\u001b[0;34m)\u001b[0m\u001b[0;34m\u001b[0m\u001b[0;34m\u001b[0m\u001b[0m\n",
            "\u001b[0;32m/usr/local/lib/python3.7/dist-packages/keras/engine/training.py\u001b[0m in \u001b[0;36mpredict\u001b[0;34m(self, x, batch_size, verbose, steps, callbacks, max_queue_size, workers, use_multiprocessing)\u001b[0m\n\u001b[1;32m   1787\u001b[0m           \u001b[0;32mfor\u001b[0m \u001b[0mstep\u001b[0m \u001b[0;32min\u001b[0m \u001b[0mdata_handler\u001b[0m\u001b[0;34m.\u001b[0m\u001b[0msteps\u001b[0m\u001b[0;34m(\u001b[0m\u001b[0;34m)\u001b[0m\u001b[0;34m:\u001b[0m\u001b[0;34m\u001b[0m\u001b[0;34m\u001b[0m\u001b[0m\n\u001b[1;32m   1788\u001b[0m             \u001b[0mcallbacks\u001b[0m\u001b[0;34m.\u001b[0m\u001b[0mon_predict_batch_begin\u001b[0m\u001b[0;34m(\u001b[0m\u001b[0mstep\u001b[0m\u001b[0;34m)\u001b[0m\u001b[0;34m\u001b[0m\u001b[0;34m\u001b[0m\u001b[0m\n\u001b[0;32m-> 1789\u001b[0;31m             \u001b[0mtmp_batch_outputs\u001b[0m \u001b[0;34m=\u001b[0m \u001b[0mself\u001b[0m\u001b[0;34m.\u001b[0m\u001b[0mpredict_function\u001b[0m\u001b[0;34m(\u001b[0m\u001b[0miterator\u001b[0m\u001b[0;34m)\u001b[0m\u001b[0;34m\u001b[0m\u001b[0;34m\u001b[0m\u001b[0m\n\u001b[0m\u001b[1;32m   1790\u001b[0m             \u001b[0;32mif\u001b[0m \u001b[0mdata_handler\u001b[0m\u001b[0;34m.\u001b[0m\u001b[0mshould_sync\u001b[0m\u001b[0;34m:\u001b[0m\u001b[0;34m\u001b[0m\u001b[0;34m\u001b[0m\u001b[0m\n\u001b[1;32m   1791\u001b[0m               \u001b[0mcontext\u001b[0m\u001b[0;34m.\u001b[0m\u001b[0masync_wait\u001b[0m\u001b[0;34m(\u001b[0m\u001b[0;34m)\u001b[0m\u001b[0;34m\u001b[0m\u001b[0;34m\u001b[0m\u001b[0m\n",
            "\u001b[0;32m/usr/local/lib/python3.7/dist-packages/tensorflow/python/util/traceback_utils.py\u001b[0m in \u001b[0;36merror_handler\u001b[0;34m(*args, **kwargs)\u001b[0m\n\u001b[1;32m    148\u001b[0m     \u001b[0mfiltered_tb\u001b[0m \u001b[0;34m=\u001b[0m \u001b[0;32mNone\u001b[0m\u001b[0;34m\u001b[0m\u001b[0;34m\u001b[0m\u001b[0m\n\u001b[1;32m    149\u001b[0m     \u001b[0;32mtry\u001b[0m\u001b[0;34m:\u001b[0m\u001b[0;34m\u001b[0m\u001b[0;34m\u001b[0m\u001b[0m\n\u001b[0;32m--> 150\u001b[0;31m       \u001b[0;32mreturn\u001b[0m \u001b[0mfn\u001b[0m\u001b[0;34m(\u001b[0m\u001b[0;34m*\u001b[0m\u001b[0margs\u001b[0m\u001b[0;34m,\u001b[0m \u001b[0;34m**\u001b[0m\u001b[0mkwargs\u001b[0m\u001b[0;34m)\u001b[0m\u001b[0;34m\u001b[0m\u001b[0;34m\u001b[0m\u001b[0m\n\u001b[0m\u001b[1;32m    151\u001b[0m     \u001b[0;32mexcept\u001b[0m \u001b[0mException\u001b[0m \u001b[0;32mas\u001b[0m \u001b[0me\u001b[0m\u001b[0;34m:\u001b[0m\u001b[0;34m\u001b[0m\u001b[0;34m\u001b[0m\u001b[0m\n\u001b[1;32m    152\u001b[0m       \u001b[0mfiltered_tb\u001b[0m \u001b[0;34m=\u001b[0m \u001b[0m_process_traceback_frames\u001b[0m\u001b[0;34m(\u001b[0m\u001b[0me\u001b[0m\u001b[0;34m.\u001b[0m\u001b[0m__traceback__\u001b[0m\u001b[0;34m)\u001b[0m\u001b[0;34m\u001b[0m\u001b[0;34m\u001b[0m\u001b[0m\n",
            "\u001b[0;32m/usr/local/lib/python3.7/dist-packages/tensorflow/python/eager/def_function.py\u001b[0m in \u001b[0;36m__call__\u001b[0;34m(self, *args, **kwds)\u001b[0m\n\u001b[1;32m    908\u001b[0m \u001b[0;34m\u001b[0m\u001b[0m\n\u001b[1;32m    909\u001b[0m       \u001b[0;32mwith\u001b[0m \u001b[0mOptionalXlaContext\u001b[0m\u001b[0;34m(\u001b[0m\u001b[0mself\u001b[0m\u001b[0;34m.\u001b[0m\u001b[0m_jit_compile\u001b[0m\u001b[0;34m)\u001b[0m\u001b[0;34m:\u001b[0m\u001b[0;34m\u001b[0m\u001b[0;34m\u001b[0m\u001b[0m\n\u001b[0;32m--> 910\u001b[0;31m         \u001b[0mresult\u001b[0m \u001b[0;34m=\u001b[0m \u001b[0mself\u001b[0m\u001b[0;34m.\u001b[0m\u001b[0m_call\u001b[0m\u001b[0;34m(\u001b[0m\u001b[0;34m*\u001b[0m\u001b[0margs\u001b[0m\u001b[0;34m,\u001b[0m \u001b[0;34m**\u001b[0m\u001b[0mkwds\u001b[0m\u001b[0;34m)\u001b[0m\u001b[0;34m\u001b[0m\u001b[0;34m\u001b[0m\u001b[0m\n\u001b[0m\u001b[1;32m    911\u001b[0m \u001b[0;34m\u001b[0m\u001b[0m\n\u001b[1;32m    912\u001b[0m       \u001b[0mnew_tracing_count\u001b[0m \u001b[0;34m=\u001b[0m \u001b[0mself\u001b[0m\u001b[0;34m.\u001b[0m\u001b[0mexperimental_get_tracing_count\u001b[0m\u001b[0;34m(\u001b[0m\u001b[0;34m)\u001b[0m\u001b[0;34m\u001b[0m\u001b[0;34m\u001b[0m\u001b[0m\n",
            "\u001b[0;32m/usr/local/lib/python3.7/dist-packages/tensorflow/python/eager/def_function.py\u001b[0m in \u001b[0;36m_call\u001b[0;34m(self, *args, **kwds)\u001b[0m\n\u001b[1;32m    947\u001b[0m       \u001b[0;31m# In this case we have not created variables on the first call. So we can\u001b[0m\u001b[0;34m\u001b[0m\u001b[0;34m\u001b[0m\u001b[0;34m\u001b[0m\u001b[0m\n\u001b[1;32m    948\u001b[0m       \u001b[0;31m# run the first trace but we should fail if variables are created.\u001b[0m\u001b[0;34m\u001b[0m\u001b[0;34m\u001b[0m\u001b[0;34m\u001b[0m\u001b[0m\n\u001b[0;32m--> 949\u001b[0;31m       \u001b[0mresults\u001b[0m \u001b[0;34m=\u001b[0m \u001b[0mself\u001b[0m\u001b[0;34m.\u001b[0m\u001b[0m_stateful_fn\u001b[0m\u001b[0;34m(\u001b[0m\u001b[0;34m*\u001b[0m\u001b[0margs\u001b[0m\u001b[0;34m,\u001b[0m \u001b[0;34m**\u001b[0m\u001b[0mkwds\u001b[0m\u001b[0;34m)\u001b[0m\u001b[0;34m\u001b[0m\u001b[0;34m\u001b[0m\u001b[0m\n\u001b[0m\u001b[1;32m    950\u001b[0m       \u001b[0;32mif\u001b[0m \u001b[0mself\u001b[0m\u001b[0;34m.\u001b[0m\u001b[0m_created_variables\u001b[0m \u001b[0;32mand\u001b[0m \u001b[0;32mnot\u001b[0m \u001b[0mALLOW_DYNAMIC_VARIABLE_CREATION\u001b[0m\u001b[0;34m:\u001b[0m\u001b[0;34m\u001b[0m\u001b[0;34m\u001b[0m\u001b[0m\n\u001b[1;32m    951\u001b[0m         raise ValueError(\"Creating variables on a non-first call to a function\"\n",
            "\u001b[0;32m/usr/local/lib/python3.7/dist-packages/tensorflow/python/eager/function.py\u001b[0m in \u001b[0;36m__call__\u001b[0;34m(self, *args, **kwargs)\u001b[0m\n\u001b[1;32m   3129\u001b[0m        filtered_flat_args) = self._maybe_define_function(args, kwargs)\n\u001b[1;32m   3130\u001b[0m     return graph_function._call_flat(\n\u001b[0;32m-> 3131\u001b[0;31m         filtered_flat_args, captured_inputs=graph_function.captured_inputs)  # pylint: disable=protected-access\n\u001b[0m\u001b[1;32m   3132\u001b[0m \u001b[0;34m\u001b[0m\u001b[0m\n\u001b[1;32m   3133\u001b[0m   \u001b[0;34m@\u001b[0m\u001b[0mproperty\u001b[0m\u001b[0;34m\u001b[0m\u001b[0;34m\u001b[0m\u001b[0m\n",
            "\u001b[0;32m/usr/local/lib/python3.7/dist-packages/tensorflow/python/eager/function.py\u001b[0m in \u001b[0;36m_call_flat\u001b[0;34m(self, args, captured_inputs, cancellation_manager)\u001b[0m\n\u001b[1;32m   1958\u001b[0m       \u001b[0;31m# No tape is watching; skip to running the function.\u001b[0m\u001b[0;34m\u001b[0m\u001b[0;34m\u001b[0m\u001b[0;34m\u001b[0m\u001b[0m\n\u001b[1;32m   1959\u001b[0m       return self._build_call_outputs(self._inference_function.call(\n\u001b[0;32m-> 1960\u001b[0;31m           ctx, args, cancellation_manager=cancellation_manager))\n\u001b[0m\u001b[1;32m   1961\u001b[0m     forward_backward = self._select_forward_and_backward_functions(\n\u001b[1;32m   1962\u001b[0m         \u001b[0margs\u001b[0m\u001b[0;34m,\u001b[0m\u001b[0;34m\u001b[0m\u001b[0;34m\u001b[0m\u001b[0m\n",
            "\u001b[0;32m/usr/local/lib/python3.7/dist-packages/tensorflow/python/eager/function.py\u001b[0m in \u001b[0;36mcall\u001b[0;34m(self, ctx, args, cancellation_manager)\u001b[0m\n\u001b[1;32m    601\u001b[0m               \u001b[0minputs\u001b[0m\u001b[0;34m=\u001b[0m\u001b[0margs\u001b[0m\u001b[0;34m,\u001b[0m\u001b[0;34m\u001b[0m\u001b[0;34m\u001b[0m\u001b[0m\n\u001b[1;32m    602\u001b[0m               \u001b[0mattrs\u001b[0m\u001b[0;34m=\u001b[0m\u001b[0mattrs\u001b[0m\u001b[0;34m,\u001b[0m\u001b[0;34m\u001b[0m\u001b[0;34m\u001b[0m\u001b[0m\n\u001b[0;32m--> 603\u001b[0;31m               ctx=ctx)\n\u001b[0m\u001b[1;32m    604\u001b[0m         \u001b[0;32melse\u001b[0m\u001b[0;34m:\u001b[0m\u001b[0;34m\u001b[0m\u001b[0;34m\u001b[0m\u001b[0m\n\u001b[1;32m    605\u001b[0m           outputs = execute.execute_with_cancellation(\n",
            "\u001b[0;32m/usr/local/lib/python3.7/dist-packages/tensorflow/python/eager/execute.py\u001b[0m in \u001b[0;36mquick_execute\u001b[0;34m(op_name, num_outputs, inputs, attrs, ctx, name)\u001b[0m\n\u001b[1;32m     57\u001b[0m     \u001b[0mctx\u001b[0m\u001b[0;34m.\u001b[0m\u001b[0mensure_initialized\u001b[0m\u001b[0;34m(\u001b[0m\u001b[0;34m)\u001b[0m\u001b[0;34m\u001b[0m\u001b[0;34m\u001b[0m\u001b[0m\n\u001b[1;32m     58\u001b[0m     tensors = pywrap_tfe.TFE_Py_Execute(ctx._handle, device_name, op_name,\n\u001b[0;32m---> 59\u001b[0;31m                                         inputs, attrs, num_outputs)\n\u001b[0m\u001b[1;32m     60\u001b[0m   \u001b[0;32mexcept\u001b[0m \u001b[0mcore\u001b[0m\u001b[0;34m.\u001b[0m\u001b[0m_NotOkStatusException\u001b[0m \u001b[0;32mas\u001b[0m \u001b[0me\u001b[0m\u001b[0;34m:\u001b[0m\u001b[0;34m\u001b[0m\u001b[0;34m\u001b[0m\u001b[0m\n\u001b[1;32m     61\u001b[0m     \u001b[0;32mif\u001b[0m \u001b[0mname\u001b[0m \u001b[0;32mis\u001b[0m \u001b[0;32mnot\u001b[0m \u001b[0;32mNone\u001b[0m\u001b[0;34m:\u001b[0m\u001b[0;34m\u001b[0m\u001b[0;34m\u001b[0m\u001b[0m\n",
            "\u001b[0;31mKeyboardInterrupt\u001b[0m: "
          ]
        }
      ]
    },
    {
      "cell_type": "markdown",
      "metadata": {
        "id": "5yfZcSi56QIl"
      },
      "source": [
        "The accuracy in the IMDB test set is 94% after finetuning for one epoch, which shows the transferability of the knowledge learned with a large transformer in a large dataset. State-of-the-art results have been achieved in several tasks by transferring the knowledge of BERT and similar models to other NLP dataset/task. Even when using only the resources available via Colab we can get state-of-art results in IMDB with a quick finetuning step."
      ]
    },
    {
      "cell_type": "markdown",
      "metadata": {
        "id": "OPToW5bT5LG6"
      },
      "source": [
        "Let's now predict scores for an example review."
      ]
    },
    {
      "cell_type": "code",
      "metadata": {
        "id": "xKNST0CU0D4b",
        "colab": {
          "base_uri": "https://localhost:8080/"
        },
        "outputId": "a01425cd-af22-496d-b6b3-7dc20d8af075"
      },
      "source": [
        "predictor = ktrain.get_predictor(learner.model,preproc)\n",
        "predictor.predict_proba('Even though the acting was not superb, the photography was great and the script deserves praise.')"
      ],
      "execution_count": null,
      "outputs": [
        {
          "output_type": "execute_result",
          "data": {
            "text/plain": [
              "array([0.02212544, 0.9778746 ], dtype=float32)"
            ]
          },
          "metadata": {
            "tags": []
          },
          "execution_count": 18
        }
      ]
    },
    {
      "cell_type": "markdown",
      "metadata": {
        "id": "flANhpoe5c_W"
      },
      "source": [
        "We can also use the following built-in functionality that allows us to see what words affected the score."
      ]
    },
    {
      "cell_type": "code",
      "metadata": {
        "id": "483ugzLxb_2K"
      },
      "source": [
        "# To run \"explain\" you need the following version of the package eli5\n",
        "!pip install git+https://github.com/amaiya/eli5@tfkeras_0_10_1"
      ],
      "execution_count": null,
      "outputs": []
    },
    {
      "cell_type": "code",
      "metadata": {
        "id": "7DtXqEoV0Zdj"
      },
      "source": [
        "predictor = ktrain.get_predictor(learner.model,preproc)\n",
        "predictor.explain('Even though the acting was not superb, the photography was great and the script deserves praise.')"
      ],
      "execution_count": null,
      "outputs": []
    },
    {
      "cell_type": "markdown",
      "metadata": {
        "id": "5CfPJQK7j3JO"
      },
      "source": [
        "## Text Generation\n",
        "\n",
        "In text generation, the GPT variants from OpenAI have shown impressive results. We will now show an example from a pretrained [GPT2](https://openai.com/blog/better-language-models/) using the [Hugging Face](https://huggingface.co/transformers/index.html#) library, which it contains several state-of-the-art Natural Language Processing (NLP) models. The code to generate text is extracted from this [Colab Notebook](https://colab.research.google.com/github/huggingface/blog/blob/master/notebooks/02_how_to_generate.ipynb#scrollTo=HBtDOdD0wx3l).\n",
        "\n",
        "First, we install the Hugging Face library and load a GPT2 pretrained model."
      ]
    },
    {
      "cell_type": "code",
      "metadata": {
        "id": "m4-nL-6fVRSZ"
      },
      "source": [
        "!pip install ktrain==0.26.3"
      ],
      "execution_count": null,
      "outputs": []
    },
    {
      "cell_type": "code",
      "metadata": {
        "id": "zj4IgSwrZ58G"
      },
      "source": [
        "import tensorflow as tf\n",
        "from transformers import TFGPT2LMHeadModel, GPT2Tokenizer\n",
        "tokenizer = GPT2Tokenizer.from_pretrained(\"gpt2\")\n",
        "# add the EOS token as PAD token to avoid warnings\n",
        "model = TFGPT2LMHeadModel.from_pretrained(\"gpt2\", pad_token_id=tokenizer.eos_token_id)"
      ],
      "execution_count": null,
      "outputs": []
    },
    {
      "cell_type": "markdown",
      "metadata": {
        "id": "jbs0t7nmkKgi"
      },
      "source": [
        "Now, we generate text using as input a part of the Tiny Shakespeare dataset. Note that this model has not been finetuned using the Tiny Shakespeare dataset, instead it has been trained in a larger more diverse dataset. You can run the following code to get different outputs."
      ]
    },
    {
      "cell_type": "code",
      "metadata": {
        "id": "MzzXQEW0Z9LO"
      },
      "source": [
        "# encode context the generation is conditioned on\n",
        "input_ids = tokenizer.encode('First Citizen:\\nBefore we proceed any further, hear me speak.\\nAll:\\nSpeak, speak.\\nFirst Citizen:\\nYou are all resolved rather to die than to famish?', return_tensors='tf')\n",
        "\n",
        "# activate sampling and deactivate top_k by setting top_k sampling to 0\n",
        "sample_output = model.generate(\n",
        "    input_ids,\n",
        "    do_sample=True,\n",
        "    max_length=200,\n",
        "    top_k=50\n",
        ")\n",
        "print(\"Output:\\n\" + 100 * '-')\n",
        "print(tokenizer.decode(sample_output[0], skip_special_tokens=True))"
      ],
      "execution_count": null,
      "outputs": []
    },
    {
      "cell_type": "markdown",
      "metadata": {
        "id": "fBWzhH76cZTr"
      },
      "source": [
        "What is quite impressive about the output of the GPT model is the capability of matching the style of the input text. The model is not finetuned in our dataset, but it still generates characters names and similary grammar/vocabulary to the given input. This is the result of the large capacity of the model and the diverse training data it used.\n",
        "\n",
        "Let's try to change the input to a completely different one, using in this case an input from a rugby game."
      ]
    },
    {
      "cell_type": "code",
      "metadata": {
        "id": "-RN1CBKGdN8W"
      },
      "source": [
        "# encode context the generation is conditioned on\n",
        "input_ids = tokenizer.encode(\"40 mins. Tom Curry receives Stuart Hogg’s kick-off and Youngs kicks poorly to put Scotland back on the attack.\\n\", return_tensors='tf')\n",
        "\n",
        "# activate sampling and deactivate top_k by setting top_k sampling to 0\n",
        "sample_output = model.generate(\n",
        "    input_ids,\n",
        "    do_sample=True,\n",
        "    max_length=100,\n",
        "    top_k=50\n",
        ")\n",
        "print(\"Output:\\n\" + 100 * '-')\n",
        "print(tokenizer.decode(sample_output[0], skip_special_tokens=True))"
      ],
      "execution_count": null,
      "outputs": []
    },
    {
      "cell_type": "markdown",
      "metadata": {
        "id": "z956_MZLetBY"
      },
      "source": [
        "We see how the model understands that the input is related to sports and changes the output style compared to the Tiny Shakespeare example.\n",
        "\n",
        "We just showed examples with GPT2. However, the newer version of GPT, GPT3, which is trained using a quite larger model and dataset, shows largely improved results."
      ]
    },
    {
      "cell_type": "markdown",
      "metadata": {
        "id": "OwawQJMZ3aQM"
      },
      "source": [
        "# Coursework\n",
        "\n"
      ]
    },
    {
      "cell_type": "markdown",
      "metadata": {
        "id": "EKfTmNC7Bj5E"
      },
      "source": [
        "### **Task 1: RNN Regression**\n",
        "\n",
        "In this task, you are asked to estimate the next value of a time series. Specifically, we have selected the popular airline passenger dataset. This dataset contains the number of passengers that travels with a certain airline company. The data contains 144 entries, each entry corresponds to the number of the passengers that travel in a given month. The dataset starts in 1949, and it lasts until 1960.\n",
        "\n",
        "Similarly to the previous example, we import the data and plot it to see the structure."
      ]
    },
    {
      "cell_type": "code",
      "metadata": {
        "id": "cRf3UGQ33bnN",
        "colab": {
          "base_uri": "https://localhost:8080/",
          "height": 712
        },
        "outputId": "c43a805f-ec4f-4d65-d155-dd4f775fdcc4"
      },
      "source": [
        "import pandas\n",
        "import matplotlib.pyplot as plt\n",
        "from tensorflow.python.keras.layers.core import Dense, Activation, Dropout\n",
        "from tensorflow.python.keras.layers.recurrent import LSTM\n",
        "from keras.models import Sequential\n",
        "from sklearn.metrics import mean_squared_error\n",
        "from sklearn.preprocessing import MinMaxScaler\n",
        "from sklearn.utils import shuffle\n",
        "import numpy as np\n",
        "\n",
        "!wget https://raw.githubusercontent.com/jbrownlee/Datasets/master/airline-passengers.csv\n",
        "data = pandas.read_csv('airline-passengers.csv', usecols=[1], engine='python')\n",
        "plt.plot(data)\n",
        "plt.xlabel(\"Months\")\n",
        "plt.ylabel(\"Passengers\")\n",
        "plt.title(\"Airline Passengers from January 1949 to December 1960 (12 years)\")\n",
        "plt.show()\n",
        "\n",
        "# convert pandas data frame in numpy array of float.\n",
        "data_np = data.values.astype(\"float32\")\n",
        "\n",
        "# normalize data with min max normalization\n",
        "normalizer = MinMaxScaler(feature_range = (0, 1))\n",
        "dataset = normalizer.fit_transform(data_np)\n",
        "\n",
        "# Using 70% of data for training, 30% for test.\n",
        "TRAINING_PERC = 0.70\n",
        "\n",
        "train_size = int(len(dataset) * TRAINING_PERC)\n",
        "test_size = len(dataset) - train_size\n",
        "train, test = dataset[0:train_size, :], dataset[train_size:len(dataset), :]\n",
        "print(\"Number of samples training set: \" + str((len(train))))\n",
        "print(\"Number of samples test set: \" + str((len(test))))"
      ],
      "execution_count": null,
      "outputs": [
        {
          "output_type": "stream",
          "name": "stdout",
          "text": [
            "--2024-02-05 14:52:11--  https://raw.githubusercontent.com/jbrownlee/Datasets/master/airline-passengers.csv\n",
            "Resolving raw.githubusercontent.com (raw.githubusercontent.com)... 185.199.108.133, 185.199.111.133, 185.199.109.133, ...\n",
            "Connecting to raw.githubusercontent.com (raw.githubusercontent.com)|185.199.108.133|:443... connected.\n",
            "HTTP request sent, awaiting response... 200 OK\n",
            "Length: 2180 (2.1K) [text/plain]\n",
            "Saving to: ‘airline-passengers.csv’\n",
            "\n",
            "\rairline-passengers.   0%[                    ]       0  --.-KB/s               \rairline-passengers. 100%[===================>]   2.13K  --.-KB/s    in 0s      \n",
            "\n",
            "2024-02-05 14:52:11 (32.1 MB/s) - ‘airline-passengers.csv’ saved [2180/2180]\n",
            "\n"
          ]
        },
        {
          "output_type": "display_data",
          "data": {
            "text/plain": [
              "<Figure size 640x480 with 1 Axes>"
            ],
            "image/png": "[encoded data removed]"
          },
          "metadata": {}
        },
        {
          "output_type": "stream",
          "name": "stdout",
          "text": [
            "Number of samples training set: 100\n",
            "Number of samples test set: 44\n"
          ]
        }
      ]
    },
    {
      "cell_type": "markdown",
      "metadata": {
        "id": "pOi9udyY3dHS"
      },
      "source": [
        "First of all, you need to train an RNN on the airline passenger dataset. This exercise expects you to study the impact of the `window_size` variable when defining the `train` and `test` dataset splits. Remember that the `window_size` variable indicates the number of past observations used for predicting the current value. Here, we treat the `test` split as a validation set."
      ]
    },
    {
      "cell_type": "code",
      "metadata": {
        "id": "WIB08JxD3ezu",
        "colab": {
          "base_uri": "https://localhost:8080/"
        },
        "outputId": "771ca1f8-0153-493b-9c71-18d20e14ba68"
      },
      "source": [
        "def create_dataset(dataset, window_size = 1):\n",
        "    data_x, data_y = [], []\n",
        "    for i in range(len(dataset) - window_size - 1):\n",
        "        sample = dataset[i:(i + window_size), 0]\n",
        "        data_x.append(sample)\n",
        "        data_y.append(dataset[i + window_size, 0])\n",
        "    return(np.array(data_x), np.array(data_y))\n",
        "\n",
        "window_size = 1 #Use this variable to build the dataset with different number of inputs\n",
        "\n",
        "# Create test and training sets for regression with different window sizes.\n",
        "train_X, train_Y = create_dataset(train, window_size)\n",
        "test_X, test_Y = create_dataset(test, window_size)\n",
        "train_X = np.reshape(train_X, (train_X.shape[0], train_X.shape[1], 1))\n",
        "test_X = np.reshape(test_X, (test_X.shape[0], test_X.shape[1], 1))\n",
        "\n",
        "print(\"Shape of training inputs: \" + str((train_X.shape)))\n",
        "print(\"Shape of training labels: \" + str((train_Y.shape)))"
      ],
      "execution_count": null,
      "outputs": [
        {
          "output_type": "stream",
          "name": "stdout",
          "text": [
            "Shape of training inputs: (98, 1, 1)\n",
            "Shape of training labels: (98,)\n"
          ]
        }
      ]
    },
    {
      "cell_type": "markdown",
      "metadata": {
        "id": "hH6W6t5q3gfN"
      },
      "source": [
        "\n",
        "**Report**:\n",
        "\n",
        "*   Create a plot showing the test curves of models trained with different `window_size` values. Report the plot and discuss the main differences you observe between the predicted curves. You can use the style proposed on the Many to One RNNs - Regression section to plot your curves."
      ]
    },
    {
      "cell_type": "code",
      "source": [
        "data = pandas.read_csv('airline-passengers.csv', usecols=[1], engine='python')\n",
        "plt.plot(data)\n",
        "plt.xlabel(\"Months\")\n",
        "plt.ylabel(\"Passengers\")\n",
        "plt.title(\"Airline Passengers from January 1949 to December 1960 (12 years)\")\n",
        "plt.show()\n",
        "\n",
        "# convert pandas data frame in numpy array of float.\n",
        "data_np = data.values.astype(\"float32\")\n",
        "\n",
        "# normalize data with min max normalization\n",
        "normalizer = MinMaxScaler(feature_range = (0, 1))\n",
        "dataset = normalizer.fit_transform(data_np)\n",
        "\n",
        "# Using 70% of data for training, 30% for test.\n",
        "TRAINING_PERC = 0.70\n",
        "\n",
        "train_size = int(len(dataset) * TRAINING_PERC)\n",
        "test_size = len(dataset) - train_size\n",
        "train, test = dataset[0:train_size, :], dataset[train_size:len(dataset), :]\n",
        "print(\"Number of samples training set: \" + str((len(train))))\n",
        "print(\"Number of samples test set: \" + str((len(test))))\n",
        "\n",
        "def build_model(window_size):\n",
        "    model = Sequential()\n",
        "    model.add(LSTM(4, input_shape=(window_size, 1)))\n",
        "    model.add(Dense(1))\n",
        "    model.compile(loss='mean_squared_error', optimizer='adam')\n",
        "    return model\n",
        "\n",
        "def create_dataset(dataset, window_size = 1):\n",
        "    data_x, data_y = [], []\n",
        "    for i in range(len(dataset) - window_size - 1):\n",
        "        sample = dataset[i:(i + window_size), 0]\n",
        "        data_x.append(sample)\n",
        "        data_y.append(dataset[i + window_size, 0])\n",
        "    return(np.array(data_x), np.array(data_y))\n",
        "\n",
        "window_sizes = [1, 2, 3]\n",
        "\n",
        "test_predictions = []\n",
        "\n",
        "for window_size in window_sizes:\n",
        "    print(f\"\\nTraining model with window_size = {window_size}\")\n",
        "\n",
        "    train_X, train_Y = create_dataset(train, window_size)\n",
        "    test_X, test_Y = create_dataset(test, window_size)\n",
        "    train_X = np.reshape(train_X, (train_X.shape[0], train_X.shape[1], 1))\n",
        "    test_X = np.reshape(test_X, (test_X.shape[0], test_X.shape[1], 1))\n",
        "\n",
        "    model = build_model(window_size)\n",
        "    model.fit(train_X, train_Y, epochs=50, batch_size=1, verbose=0)\n",
        "\n",
        "    test_predict = model.predict(test_X)\n",
        "\n",
        "    test_predict = normalizer.inverse_transform(test_predict)\n",
        "    test_Y_inverted = normalizer.inverse_transform([test_Y])\n",
        "\n",
        "    test_predictions.append(test_predict)\n",
        "\n",
        "original_test_Y = normalizer.inverse_transform([create_dataset(test, max(window_sizes))[1]])\n",
        "plt.plot(original_test_Y[0], label='Actual', color='blue')\n",
        "\n",
        "for i, test_predict in enumerate(test_predictions):\n",
        "    padding = [None for _ in range(window_sizes[i] - i)]\n",
        "    plt.plot(np.concatenate((padding, test_predict[:,0])), label=f'Window Size {window_sizes[i]}', alpha=0.7)\n",
        "\n",
        "plt.title('Test Curves for Different Window Sizes')\n",
        "plt.xlabel('Time Step')\n",
        "plt.ylabel('Passengers')\n",
        "plt.legend()\n",
        "plt.show()\n"
      ],
      "metadata": {
        "colab": {
          "base_uri": "https://localhost:8080/",
          "height": 1000
        },
        "id": "PXdIhekExHD4",
        "outputId": "6334b898-c24c-4f07-9644-afa4f6d30dda"
      },
      "execution_count": null,
      "outputs": [
        {
          "output_type": "display_data",
          "data": {
            "text/plain": [
              "<Figure size 640x480 with 1 Axes>"
            ],
            "image/png": "[encoded data removed]"
          },
          "metadata": {}
        },
        {
          "output_type": "stream",
          "name": "stdout",
          "text": [
            "Number of samples training set: 100\n",
            "Number of samples test set: 44\n",
            "\n",
            "Training model with window_size = 1\n",
            "2/2 [==============================] - 0s 8ms/step\n",
            "\n",
            "Training model with window_size = 2\n",
            "2/2 [==============================] - 0s 8ms/step\n",
            "\n",
            "Training model with window_size = 3\n",
            "2/2 [==============================] - 0s 10ms/step\n"
          ]
        },
        {
          "output_type": "display_data",
          "data": {
            "text/plain": [
              "<Figure size 640x480 with 1 Axes>"
            ],
            "image/png": "[encoded data removed]"
          },
          "metadata": {}
        }
      ]
    },
    {
      "cell_type": "markdown",
      "metadata": {
        "id": "Mwb9IfiCLKuT"
      },
      "source": [
        "### **Task 2: Text Embeddings**\n",
        "For this task, we tackle a classification problem using the IMDB sentiment dataset as done in the example in the notebook. Labels in IMDB are 0 for negative reviews and 1 for positive reviews. The definitions of the models you will use for this task are given the code below. This task is similar to the transfer learning/finetuning task in the CNN Architectures notebook, however we now test the effect of transfer learning in the embeddings. In this task we use train, validation and test splits with Early Stopping. That means that we will take the best performing model in the validation set and use it in the test set to get a final performance.\n",
        "\n",
        "**Report**\n",
        "* Using embeddings of dimensionality 1, train a model without using any LSTM, only using an average pooling of the input embeddings (called `embeddings_model` in the code given below). Then train another model with an LSTM and trainable embeddings initialized at random (called `lstm_model`). Finally train a model with an LSTM with non-trainable embeddings initialized with GloVe embeddings (called `lstm_glove_model`). The code to train the three models is given below. Report in a table the test accuracy obtained after training with the given code for the three models. Also attach in the Appendix the training and validation accuracy curves for the different models trained. You can report the curves after using EarlyStopping with patience 10 (already given in the code), so you don't have to train for the full 50 epochs the three models. Discuss the results.\n",
        "\n",
        "* Predict the sentiment of the two given example reviews in the code below for the model trained without a LSTM (`embeddings_model`) and for the model trained with a LSTM and GloVe embeddings (`lstm_glove_model`). Report the predictions (you can use the same table as when reporting test accuracies). Discuss the results. Also discuss the differences you can observe between the GloVe embeddings and the embeddings learnt in `embeddings_model` (e.g. what kind of properties the embeddings encode, or differences in the closest words).\n"
      ]
    },
    {
      "cell_type": "markdown",
      "source": [
        "Using embeddings of dimensionality 1, train a model without using any LSTM, only using an average pooling of the input embeddings (called embeddings_model in the code given below). Then train another model with an LSTM and trainable embeddings initialized at random (called lstm_model). Finally train a model with an LSTM with non-trainable embeddings initialized with GloVe embeddings (called lstm_glove_model). The code to train the three models is given below. Report in a table the test accuracy obtained after training with the given code for the three models. Also attach in the Appendix the training and validation accuracy curves for the different models trained. You can report the curves after using EarlyStopping with patience 10 (already given in the code), so you don't have to train for the full 50 epochs the three models. Discuss the results.\n",
        "首先是用三种网络训练模型，\n",
        "使用表格进行汇报测试精度\n",
        "三个模型的acc曲线绘制"
      ],
      "metadata": {
        "id": "L8jSYj_EH1hY"
      }
    },
    {
      "cell_type": "markdown",
      "metadata": {
        "id": "4Gq0lcyLnaSN"
      },
      "source": [
        "We provide the training code you need to use for this exercise below. First we load the dataset as we did in the tutorial. In this exercise, we will use of train, validation and test splits, which are defined in the next cell.\n"
      ]
    },
    {
      "cell_type": "code",
      "metadata": {
        "id": "E0ibhzVdnZ0X",
        "colab": {
          "base_uri": "https://localhost:8080/"
        },
        "outputId": "51a587b5-b562-4cf8-809b-d5f30441f98c"
      },
      "source": [
        "import tensorflow as tf\n",
        "from keras.preprocessing import sequence\n",
        "from keras.models import Sequential\n",
        "from keras.layers import Dense, Embedding, Dropout, Flatten\n",
        "from keras.layers import LSTM, GlobalAvgPool1D\n",
        "from keras.datasets import imdb\n",
        "from tensorflow.python.keras.utils import np_utils\n",
        "\n",
        "# number of most-frequent words to use\n",
        "nb_words = 5000\n",
        "n_classes = 1\n",
        "print('Loading data...')\n",
        "(x_train, y_train), (x_test, y_test) = imdb.load_data(num_words=nb_words)\n",
        "print('x_train:', x_train.shape)\n",
        "print('x_test:', x_test.shape)\n",
        "# get_word_index retrieves a mapping word -> index\n",
        "word_index = imdb.get_word_index()\n",
        "# We make space for the three special tokens\n",
        "word_index_c = dict((w, i+3) for (w, i) in word_index.items())\n",
        "word_index_c['<PAD>'] = 0\n",
        "word_index_c['<START>'] = 1\n",
        "word_index_c['<UNK>'] = 2\n",
        "# Instead of having dictionary word -> index we form\n",
        "# the dictionary index -> word\n",
        "index_word = dict((i, w) for (w, i) in word_index_c.items())\n",
        "# Truncate sentences after this number of words\n",
        "maxlen = 100\n",
        "print('Pad sequences (samples x time)')\n",
        "x_train = sequence.pad_sequences(x_train, maxlen=maxlen)\n",
        "x_test = sequence.pad_sequences(x_test, maxlen=maxlen)\n",
        "print('x_train shape:', x_train.shape)\n",
        "print('x_test shape:', x_test.shape)\n",
        "\n",
        "x_val = x_train[23000:]\n",
        "y_val = y_train[23000:]\n",
        "x_train = x_train[:23000]\n",
        "y_train = y_train[:23000]\n"
      ],
      "execution_count": null,
      "outputs": [
        {
          "output_type": "stream",
          "name": "stdout",
          "text": [
            "Loading data...\n",
            "Downloading data from https://storage.googleapis.com/tensorflow/tf-keras-datasets/imdb.npz\n",
            "17464789/17464789 [==============================] - 1s 0us/step\n",
            "x_train: (25000,)\n",
            "x_test: (25000,)\n",
            "Downloading data from https://storage.googleapis.com/tensorflow/tf-keras-datasets/imdb_word_index.json\n",
            "1641221/1641221 [==============================] - 0s 0us/step\n",
            "Pad sequences (samples x time)\n",
            "x_train shape: (25000, 100)\n",
            "x_test shape: (25000, 100)\n"
          ]
        }
      ]
    },
    {
      "cell_type": "markdown",
      "metadata": {
        "id": "4EDi21HPGU3h"
      },
      "source": [
        "The following code includes the model that uses embeddings of size 1 (so each word is only represented by a single digit) and averages them."
      ]
    },
    {
      "cell_type": "code",
      "metadata": {
        "id": "7421cnIYoPQ-",
        "colab": {
          "base_uri": "https://localhost:8080/"
        },
        "outputId": "f53b177f-38f1-41d3-9659-3ff810ee5c13"
      },
      "source": [
        "# Dimensions of the embeddings\n",
        "embedding_dim = 1\n",
        "\n",
        "print('Build model...')\n",
        "embeddings_model = Sequential()\n",
        "\n",
        "embeddings_model.add(Embedding(nb_words,\n",
        "                    embedding_dim,\n",
        "                    input_length=maxlen,\n",
        "                            trainable=True))\n",
        "embeddings_model.add(GlobalAvgPool1D())\n",
        "embeddings_model.add(Dense(1, activation='sigmoid'))\n",
        "embeddings_model.compile(loss='binary_crossentropy',\n",
        "              optimizer='adam',\n",
        "              metrics=['accuracy'])\n",
        "print(embeddings_model.summary())"
      ],
      "execution_count": null,
      "outputs": [
        {
          "output_type": "stream",
          "name": "stdout",
          "text": [
            "Build model...\n",
            "Model: \"sequential_12\"\n",
            "_________________________________________________________________\n",
            " Layer (type)                Output Shape              Param #   \n",
            "=================================================================\n",
            " embedding (Embedding)       (None, 100, 1)            5000      \n",
            "                                                                 \n",
            " global_average_pooling1d (  (None, 1)                 0         \n",
            " GlobalAveragePooling1D)                                         \n",
            "                                                                 \n",
            " dense (Dense)               (None, 1)                 2         \n",
            "                                                                 \n",
            "=================================================================\n",
            "Total params: 5002 (19.54 KB)\n",
            "Trainable params: 5002 (19.54 KB)\n",
            "Non-trainable params: 0 (0.00 Byte)\n",
            "_________________________________________________________________\n",
            "None\n"
          ]
        }
      ]
    },
    {
      "cell_type": "markdown",
      "metadata": {
        "id": "pRm3ql3UE9w7"
      },
      "source": [
        "We use Early Stopping, so the best validation model is then used to compute the result in the test set."
      ]
    },
    {
      "cell_type": "code",
      "metadata": {
        "id": "Gom37wigpZAn",
        "colab": {
          "base_uri": "https://localhost:8080/"
        },
        "outputId": "e09f567a-059c-4493-e0d3-04490799212f"
      },
      "source": [
        "from keras.callbacks import EarlyStopping\n",
        "\n",
        "## We train the model for at most 50 epochs\n",
        "epochs = 50\n",
        "early_stop = EarlyStopping(\n",
        "    monitor='val_accuracy',\n",
        "    min_delta=0,\n",
        "    patience=10,\n",
        "    verbose=0,\n",
        "    mode='auto',\n",
        "    baseline=None,\n",
        "    restore_best_weights=True\n",
        ")\n",
        "history = embeddings_model.fit(x_train, y_train, batch_size=32, epochs=epochs, callbacks=[early_stop], validation_data=(x_val,y_val))\n",
        "print('Final test accuracy is:')\n",
        "embeddings_model.evaluate(x_test, y_test)"
      ],
      "execution_count": null,
      "outputs": [
        {
          "output_type": "stream",
          "name": "stdout",
          "text": [
            "Epoch 1/50\n",
            "719/719 [==============================] - 32s 43ms/step - loss: 0.6841 - accuracy: 0.6699 - val_loss: 0.6705 - val_accuracy: 0.7450\n",
            "Epoch 2/50\n",
            "719/719 [==============================] - 6s 9ms/step - loss: 0.6515 - accuracy: 0.7533 - val_loss: 0.6312 - val_accuracy: 0.7620\n",
            "Epoch 3/50\n",
            "719/719 [==============================] - 4s 6ms/step - loss: 0.6083 - accuracy: 0.7708 - val_loss: 0.5889 - val_accuracy: 0.7705\n",
            "Epoch 4/50\n",
            "719/719 [==============================] - 5s 7ms/step - loss: 0.5643 - accuracy: 0.7893 - val_loss: 0.5493 - val_accuracy: 0.7825\n",
            "Epoch 5/50\n",
            "719/719 [==============================] - 4s 6ms/step - loss: 0.5240 - accuracy: 0.8068 - val_loss: 0.5143 - val_accuracy: 0.7960\n",
            "Epoch 6/50\n",
            "719/719 [==============================] - 4s 6ms/step - loss: 0.4886 - accuracy: 0.8207 - val_loss: 0.4847 - val_accuracy: 0.8020\n",
            "Epoch 7/50\n",
            "719/719 [==============================] - 4s 6ms/step - loss: 0.4583 - accuracy: 0.8305 - val_loss: 0.4606 - val_accuracy: 0.8100\n",
            "Epoch 8/50\n",
            "719/719 [==============================] - 4s 5ms/step - loss: 0.4325 - accuracy: 0.8376 - val_loss: 0.4400 - val_accuracy: 0.8160\n",
            "Epoch 9/50\n",
            "719/719 [==============================] - 4s 6ms/step - loss: 0.4107 - accuracy: 0.8433 - val_loss: 0.4233 - val_accuracy: 0.8200\n",
            "Epoch 10/50\n",
            "719/719 [==============================] - 4s 5ms/step - loss: 0.3922 - accuracy: 0.8486 - val_loss: 0.4094 - val_accuracy: 0.8210\n",
            "Epoch 11/50\n",
            "719/719 [==============================] - 3s 4ms/step - loss: 0.3764 - accuracy: 0.8523 - val_loss: 0.3986 - val_accuracy: 0.8240\n",
            "Epoch 12/50\n",
            "719/719 [==============================] - 3s 4ms/step - loss: 0.3627 - accuracy: 0.8568 - val_loss: 0.3887 - val_accuracy: 0.8280\n",
            "Epoch 13/50\n",
            "719/719 [==============================] - 4s 6ms/step - loss: 0.3508 - accuracy: 0.8605 - val_loss: 0.3811 - val_accuracy: 0.8280\n",
            "Epoch 14/50\n",
            "719/719 [==============================] - 3s 5ms/step - loss: 0.3404 - accuracy: 0.8642 - val_loss: 0.3744 - val_accuracy: 0.8315\n",
            "Epoch 15/50\n",
            "719/719 [==============================] - 3s 4ms/step - loss: 0.3311 - accuracy: 0.8673 - val_loss: 0.3691 - val_accuracy: 0.8340\n",
            "Epoch 16/50\n",
            "719/719 [==============================] - 4s 6ms/step - loss: 0.3229 - accuracy: 0.8698 - val_loss: 0.3644 - val_accuracy: 0.8355\n",
            "Epoch 17/50\n",
            "719/719 [==============================] - 4s 5ms/step - loss: 0.3155 - accuracy: 0.8733 - val_loss: 0.3609 - val_accuracy: 0.8360\n",
            "Epoch 18/50\n",
            "719/719 [==============================] - 4s 5ms/step - loss: 0.3087 - accuracy: 0.8746 - val_loss: 0.3573 - val_accuracy: 0.8385\n",
            "Epoch 19/50\n",
            "719/719 [==============================] - 3s 4ms/step - loss: 0.3026 - accuracy: 0.8767 - val_loss: 0.3545 - val_accuracy: 0.8395\n",
            "Epoch 20/50\n",
            "719/719 [==============================] - 5s 7ms/step - loss: 0.2970 - accuracy: 0.8794 - val_loss: 0.3525 - val_accuracy: 0.8430\n",
            "Epoch 21/50\n",
            "719/719 [==============================] - 3s 4ms/step - loss: 0.2918 - accuracy: 0.8812 - val_loss: 0.3509 - val_accuracy: 0.8440\n",
            "Epoch 22/50\n",
            "719/719 [==============================] - 3s 4ms/step - loss: 0.2871 - accuracy: 0.8830 - val_loss: 0.3494 - val_accuracy: 0.8435\n",
            "Epoch 23/50\n",
            "719/719 [==============================] - 5s 7ms/step - loss: 0.2826 - accuracy: 0.8848 - val_loss: 0.3480 - val_accuracy: 0.8455\n",
            "Epoch 24/50\n",
            "719/719 [==============================] - 3s 4ms/step - loss: 0.2785 - accuracy: 0.8859 - val_loss: 0.3470 - val_accuracy: 0.8485\n",
            "Epoch 25/50\n",
            "719/719 [==============================] - 3s 4ms/step - loss: 0.2746 - accuracy: 0.8882 - val_loss: 0.3463 - val_accuracy: 0.8490\n",
            "Epoch 26/50\n",
            "719/719 [==============================] - 3s 5ms/step - loss: 0.2710 - accuracy: 0.8903 - val_loss: 0.3458 - val_accuracy: 0.8485\n",
            "Epoch 27/50\n",
            "719/719 [==============================] - 4s 5ms/step - loss: 0.2676 - accuracy: 0.8918 - val_loss: 0.3454 - val_accuracy: 0.8485\n",
            "Epoch 28/50\n",
            "719/719 [==============================] - 3s 4ms/step - loss: 0.2643 - accuracy: 0.8933 - val_loss: 0.3454 - val_accuracy: 0.8475\n",
            "Epoch 29/50\n",
            "719/719 [==============================] - 3s 5ms/step - loss: 0.2612 - accuracy: 0.8943 - val_loss: 0.3454 - val_accuracy: 0.8490\n",
            "Epoch 30/50\n",
            "719/719 [==============================] - 4s 5ms/step - loss: 0.2585 - accuracy: 0.8954 - val_loss: 0.3454 - val_accuracy: 0.8515\n",
            "Epoch 31/50\n",
            "719/719 [==============================] - 4s 5ms/step - loss: 0.2558 - accuracy: 0.8965 - val_loss: 0.3458 - val_accuracy: 0.8520\n",
            "Epoch 32/50\n",
            "719/719 [==============================] - 3s 4ms/step - loss: 0.2532 - accuracy: 0.8979 - val_loss: 0.3462 - val_accuracy: 0.8520\n",
            "Epoch 33/50\n",
            "719/719 [==============================] - 3s 4ms/step - loss: 0.2507 - accuracy: 0.8985 - val_loss: 0.3466 - val_accuracy: 0.8530\n",
            "Epoch 34/50\n",
            "719/719 [==============================] - 4s 6ms/step - loss: 0.2484 - accuracy: 0.9003 - val_loss: 0.3472 - val_accuracy: 0.8535\n",
            "Epoch 35/50\n",
            "719/719 [==============================] - 3s 5ms/step - loss: 0.2461 - accuracy: 0.9013 - val_loss: 0.3478 - val_accuracy: 0.8550\n",
            "Epoch 36/50\n",
            "719/719 [==============================] - 3s 4ms/step - loss: 0.2439 - accuracy: 0.9023 - val_loss: 0.3485 - val_accuracy: 0.8535\n",
            "Epoch 37/50\n",
            "719/719 [==============================] - 3s 4ms/step - loss: 0.2419 - accuracy: 0.9031 - val_loss: 0.3501 - val_accuracy: 0.8540\n",
            "Epoch 38/50\n",
            "719/719 [==============================] - 4s 5ms/step - loss: 0.2399 - accuracy: 0.9037 - val_loss: 0.3502 - val_accuracy: 0.8520\n",
            "Epoch 39/50\n",
            "719/719 [==============================] - 3s 4ms/step - loss: 0.2380 - accuracy: 0.9044 - val_loss: 0.3513 - val_accuracy: 0.8515\n",
            "Epoch 40/50\n",
            "719/719 [==============================] - 3s 4ms/step - loss: 0.2361 - accuracy: 0.9062 - val_loss: 0.3521 - val_accuracy: 0.8515\n",
            "Epoch 41/50\n",
            "719/719 [==============================] - 4s 5ms/step - loss: 0.2344 - accuracy: 0.9068 - val_loss: 0.3535 - val_accuracy: 0.8515\n",
            "Epoch 42/50\n",
            "719/719 [==============================] - 4s 5ms/step - loss: 0.2327 - accuracy: 0.9074 - val_loss: 0.3547 - val_accuracy: 0.8505\n",
            "Epoch 43/50\n",
            "719/719 [==============================] - 3s 4ms/step - loss: 0.2310 - accuracy: 0.9084 - val_loss: 0.3558 - val_accuracy: 0.8510\n",
            "Epoch 44/50\n",
            "719/719 [==============================] - 3s 4ms/step - loss: 0.2294 - accuracy: 0.9083 - val_loss: 0.3569 - val_accuracy: 0.8515\n",
            "Epoch 45/50\n",
            "719/719 [==============================] - 4s 6ms/step - loss: 0.2279 - accuracy: 0.9093 - val_loss: 0.3582 - val_accuracy: 0.8495\n",
            "Final test accuracy is:\n",
            "782/782 [==============================] - 5s 6ms/step - loss: 0.3383 - accuracy: 0.8518\n"
          ]
        },
        {
          "output_type": "execute_result",
          "data": {
            "text/plain": [
              "[0.33826765418052673, 0.8518400192260742]"
            ]
          },
          "metadata": {},
          "execution_count": 11
        }
      ]
    },
    {
      "cell_type": "markdown",
      "metadata": {
        "id": "Z_DTYhcl68GF"
      },
      "source": [
        "Now we have `embedding_model` trained. The code below will print the embedding of any `query_word`, which in this case is a single number. We also give you the code to compute the `top_k` closest embeddings to `query_word`. The metric used is the L2 distance."
      ]
    },
    {
      "cell_type": "code",
      "metadata": {
        "id": "V9uJoVAt7EWk",
        "colab": {
          "base_uri": "https://localhost:8080/"
        },
        "outputId": "f9c75758-81aa-4cd4-e508-58e0302ff8b2"
      },
      "source": [
        "weights = embeddings_model.layers[0].get_weights()[0]\n",
        "query_word = '8'\n",
        "dist = ((weights - weights[word_index_c[query_word]])**2).sum(1).argsort()\n",
        "top_k = 10\n",
        "print(\"Embedding value of {:s} is {:f}\", query_word, weights[word_index_c[query_word]][0])\n",
        "print('Most {:d} similar words to {:s}'.format(top_k, query_word))\n",
        "for k in range(1, top_k+1):\n",
        "  print(\"{:d}: {:s}\".format(k, index_word[dist[k]]))"
      ],
      "execution_count": null,
      "outputs": [
        {
          "output_type": "stream",
          "name": "stdout",
          "text": [
            "Embedding value of {:s} is {:f} 8 5.6845107\n",
            "Most 10 similar words to 8\n",
            "1: excellent\n",
            "2: highly\n",
            "3: wonderful\n",
            "4: perfect\n",
            "5: recommended\n",
            "6: 9\n",
            "7: superb\n",
            "8: 7\n",
            "9: unexpected\n",
            "10: today\n"
          ]
        }
      ]
    },
    {
      "cell_type": "markdown",
      "metadata": {
        "id": "EhD9hosS7cKQ"
      },
      "source": [
        "The code below gives the prediction for two example reviews we input. Remember that predictions close to 0 refer to a negative review, and predictions close to 1 refer to a positive review."
      ]
    },
    {
      "cell_type": "code",
      "metadata": {
        "id": "mqatHlu8glYQ",
        "colab": {
          "base_uri": "https://localhost:8080/"
        },
        "outputId": "492680fd-44fe-48ed-f06b-6740333708b4"
      },
      "source": [
        "from keras.preprocessing.sequence import pad_sequences\n",
        "negative_review = \"the movie is boring and not good\"\n",
        "words = negative_review.split()\n",
        "seq_input = [word_index_c[w] for w in words]\n",
        "seq_input = np.array([seq_input])\n",
        "seq_input = pad_sequences(seq_input,maxlen=100)\n",
        "negative_review_score = embeddings_model.predict(seq_input)\n",
        "\n",
        "positive_review = \"the movie is good and not boring\"\n",
        "words = positive_review.split()\n",
        "seq_input = [word_index_c[w] for w in words]\n",
        "seq_input = np.array([seq_input])\n",
        "seq_input = pad_sequences(seq_input,maxlen=100)\n",
        "positive_review_score = embeddings_model.predict(seq_input)\n",
        "\n",
        "print(\"The score for the negative review is:\", negative_review_score)\n",
        "print(\"The score for the positive review is:\", positive_review_score)"
      ],
      "execution_count": null,
      "outputs": [
        {
          "output_type": "stream",
          "name": "stdout",
          "text": [
            "1/1 [==============================] - 0s 84ms/step\n",
            "1/1 [==============================] - 0s 19ms/step\n",
            "The score for the negative review is: [[0.3148679]]\n",
            "The score for the positive review is: [[0.3148679]]\n"
          ]
        }
      ]
    },
    {
      "cell_type": "markdown",
      "metadata": {
        "id": "6FzItW89aLVj"
      },
      "source": [
        "With the above code, we trained a model that classifies the sentiment of the sentence using the average of all the embeddings, which were only of size 1. Now we will increase the capacity of the embeddings to 300 and will also add a LSTM to process the embeddings. Hence, the model has a much higher capacity."
      ]
    },
    {
      "cell_type": "markdown",
      "source": [
        "**embedding model **"
      ],
      "metadata": {
        "id": "j42ruL1UIUVM"
      }
    },
    {
      "cell_type": "code",
      "source": [
        "import tensorflow as tf\n",
        "from keras.preprocessing import sequence\n",
        "from keras.models import Sequential\n",
        "from keras.layers import Dense, Embedding, Dropout, Flatten\n",
        "from keras.layers import LSTM, GlobalAvgPool1D\n",
        "from keras.datasets import imdb\n",
        "from tensorflow.python.keras.utils import np_utils\n",
        "\n",
        "# number of most-frequent words to use\n",
        "nb_words = 5000\n",
        "n_classes = 1\n",
        "print('Loading data...')\n",
        "(x_train, y_train), (x_test, y_test) = imdb.load_data(num_words=nb_words)\n",
        "print('x_train:', x_train.shape)\n",
        "print('x_test:', x_test.shape)\n",
        "# get_word_index retrieves a mapping word -> index\n",
        "word_index = imdb.get_word_index()\n",
        "# We make space for the three special tokens\n",
        "word_index_c = dict((w, i+3) for (w, i) in word_index.items())\n",
        "word_index_c['<PAD>'] = 0\n",
        "word_index_c['<START>'] = 1\n",
        "word_index_c['<UNK>'] = 2\n",
        "# Instead of having dictionary word -> index we form\n",
        "# the dictionary index -> word\n",
        "index_word = dict((i, w) for (w, i) in word_index_c.items())\n",
        "# Truncate sentences after this number of words\n",
        "maxlen = 100\n",
        "print('Pad sequences (samples x time)')\n",
        "x_train = sequence.pad_sequences(x_train, maxlen=maxlen)\n",
        "x_test = sequence.pad_sequences(x_test, maxlen=maxlen)\n",
        "print('x_train shape:', x_train.shape)\n",
        "print('x_test shape:', x_test.shape)\n",
        "\n",
        "x_val = x_train[23000:]\n",
        "y_val = y_train[23000:]\n",
        "x_train = x_train[:23000]\n",
        "y_train = y_train[:23000]\n",
        "\n",
        "# Dimensions of the embeddings\n",
        "embedding_dim = 1\n",
        "\n",
        "print('Build model...')\n",
        "embeddings_model = Sequential()\n",
        "\n",
        "embeddings_model.add(Embedding(nb_words,\n",
        "                    embedding_dim,\n",
        "                    input_length=maxlen,\n",
        "                            trainable=True))\n",
        "embeddings_model.add(GlobalAvgPool1D())\n",
        "embeddings_model.add(Dense(1, activation='sigmoid'))\n",
        "embeddings_model.compile(loss='binary_crossentropy',\n",
        "              optimizer='adam',\n",
        "              metrics=['accuracy'])\n",
        "print(embeddings_model.summary())\n",
        "\n",
        "from keras.callbacks import EarlyStopping\n",
        "\n",
        "## We train the model for at most 50 epochs\n",
        "epochs = 50\n",
        "early_stop = EarlyStopping(\n",
        "    monitor='val_accuracy',\n",
        "    min_delta=0,\n",
        "    patience=10,\n",
        "    verbose=0,\n",
        "    mode='auto',\n",
        "    baseline=None,\n",
        "    restore_best_weights=True\n",
        ")\n",
        "history = embeddings_model.fit(x_train, y_train, batch_size=32, epochs=epochs, callbacks=[early_stop], validation_data=(x_val,y_val))\n",
        "print('Final test accuracy is:')\n",
        "embeddings_model.evaluate(x_test, y_test)"
      ],
      "metadata": {
        "colab": {
          "base_uri": "https://localhost:8080/"
        },
        "id": "DoXb6HVoIZzt",
        "outputId": "5332d74b-53e2-45bf-de4c-8272b69fcfc7"
      },
      "execution_count": null,
      "outputs": [
        {
          "output_type": "stream",
          "name": "stdout",
          "text": [
            "Loading data...\n",
            "Downloading data from https://storage.googleapis.com/tensorflow/tf-keras-datasets/imdb.npz\n",
            "17464789/17464789 [==============================] - 0s 0us/step\n",
            "x_train: (25000,)\n",
            "x_test: (25000,)\n",
            "Downloading data from https://storage.googleapis.com/tensorflow/tf-keras-datasets/imdb_word_index.json\n",
            "1641221/1641221 [==============================] - 0s 0us/step\n",
            "Pad sequences (samples x time)\n",
            "x_train shape: (25000, 100)\n",
            "x_test shape: (25000, 100)\n",
            "Build model...\n",
            "Model: \"sequential_2\"\n",
            "_________________________________________________________________\n",
            " Layer (type)                Output Shape              Param #   \n",
            "=================================================================\n",
            " embedding_2 (Embedding)     (None, 100, 1)            5000      \n",
            "                                                                 \n",
            " global_average_pooling1d (  (None, 1)                 0         \n",
            " GlobalAveragePooling1D)                                         \n",
            "                                                                 \n",
            " dense_2 (Dense)             (None, 1)                 2         \n",
            "                                                                 \n",
            "=================================================================\n",
            "Total params: 5002 (19.54 KB)\n",
            "Trainable params: 5002 (19.54 KB)\n",
            "Non-trainable params: 0 (0.00 Byte)\n",
            "_________________________________________________________________\n",
            "None\n",
            "Epoch 1/50\n",
            "719/719 [==============================] - 25s 33ms/step - loss: 0.6866 - accuracy: 0.6650 - val_loss: 0.6752 - val_accuracy: 0.7395\n",
            "Epoch 2/50\n",
            "719/719 [==============================] - 5s 7ms/step - loss: 0.6574 - accuracy: 0.7412 - val_loss: 0.6375 - val_accuracy: 0.7535\n",
            "Epoch 3/50\n",
            "719/719 [==============================] - 4s 6ms/step - loss: 0.6154 - accuracy: 0.7660 - val_loss: 0.5953 - val_accuracy: 0.7705\n",
            "Epoch 4/50\n",
            "719/719 [==============================] - 3s 4ms/step - loss: 0.5716 - accuracy: 0.7854 - val_loss: 0.5560 - val_accuracy: 0.7780\n",
            "Epoch 5/50\n",
            "719/719 [==============================] - 4s 6ms/step - loss: 0.5310 - accuracy: 0.8027 - val_loss: 0.5201 - val_accuracy: 0.7905\n",
            "Epoch 6/50\n",
            "719/719 [==============================] - 3s 4ms/step - loss: 0.4948 - accuracy: 0.8168 - val_loss: 0.4904 - val_accuracy: 0.7985\n",
            "Epoch 7/50\n",
            "719/719 [==============================] - 3s 4ms/step - loss: 0.4637 - accuracy: 0.8283 - val_loss: 0.4648 - val_accuracy: 0.8090\n",
            "Epoch 8/50\n",
            "719/719 [==============================] - 3s 5ms/step - loss: 0.4371 - accuracy: 0.8365 - val_loss: 0.4435 - val_accuracy: 0.8155\n",
            "Epoch 9/50\n",
            "719/719 [==============================] - 4s 5ms/step - loss: 0.4147 - accuracy: 0.8410 - val_loss: 0.4263 - val_accuracy: 0.8210\n",
            "Epoch 10/50\n",
            "719/719 [==============================] - 4s 5ms/step - loss: 0.3958 - accuracy: 0.8469 - val_loss: 0.4124 - val_accuracy: 0.8190\n",
            "Epoch 11/50\n",
            "719/719 [==============================] - 4s 5ms/step - loss: 0.3795 - accuracy: 0.8512 - val_loss: 0.4008 - val_accuracy: 0.8225\n",
            "Epoch 12/50\n",
            "719/719 [==============================] - 4s 5ms/step - loss: 0.3655 - accuracy: 0.8556 - val_loss: 0.3909 - val_accuracy: 0.8260\n",
            "Epoch 13/50\n",
            "719/719 [==============================] - 3s 4ms/step - loss: 0.3534 - accuracy: 0.8595 - val_loss: 0.3828 - val_accuracy: 0.8285\n",
            "Epoch 14/50\n",
            "719/719 [==============================] - 3s 4ms/step - loss: 0.3428 - accuracy: 0.8621 - val_loss: 0.3760 - val_accuracy: 0.8310\n",
            "Epoch 15/50\n",
            "719/719 [==============================] - 4s 5ms/step - loss: 0.3336 - accuracy: 0.8653 - val_loss: 0.3705 - val_accuracy: 0.8325\n",
            "Epoch 16/50\n",
            "719/719 [==============================] - 3s 5ms/step - loss: 0.3251 - accuracy: 0.8681 - val_loss: 0.3657 - val_accuracy: 0.8355\n",
            "Epoch 17/50\n",
            "719/719 [==============================] - 3s 4ms/step - loss: 0.3176 - accuracy: 0.8712 - val_loss: 0.3619 - val_accuracy: 0.8370\n",
            "Epoch 18/50\n",
            "719/719 [==============================] - 3s 4ms/step - loss: 0.3108 - accuracy: 0.8730 - val_loss: 0.3585 - val_accuracy: 0.8390\n",
            "Epoch 19/50\n",
            "719/719 [==============================] - 4s 5ms/step - loss: 0.3047 - accuracy: 0.8755 - val_loss: 0.3557 - val_accuracy: 0.8390\n",
            "Epoch 20/50\n",
            "719/719 [==============================] - 3s 5ms/step - loss: 0.2992 - accuracy: 0.8782 - val_loss: 0.3534 - val_accuracy: 0.8415\n",
            "Epoch 21/50\n",
            "719/719 [==============================] - 3s 4ms/step - loss: 0.2940 - accuracy: 0.8803 - val_loss: 0.3515 - val_accuracy: 0.8440\n",
            "Epoch 22/50\n",
            "719/719 [==============================] - 3s 4ms/step - loss: 0.2892 - accuracy: 0.8821 - val_loss: 0.3499 - val_accuracy: 0.8445\n",
            "Epoch 23/50\n",
            "719/719 [==============================] - 4s 5ms/step - loss: 0.2848 - accuracy: 0.8837 - val_loss: 0.3487 - val_accuracy: 0.8455\n",
            "Epoch 24/50\n",
            "719/719 [==============================] - 3s 4ms/step - loss: 0.2806 - accuracy: 0.8851 - val_loss: 0.3479 - val_accuracy: 0.8480\n",
            "Epoch 25/50\n",
            "719/719 [==============================] - 3s 4ms/step - loss: 0.2768 - accuracy: 0.8870 - val_loss: 0.3469 - val_accuracy: 0.8495\n",
            "Epoch 26/50\n",
            "719/719 [==============================] - 3s 4ms/step - loss: 0.2731 - accuracy: 0.8889 - val_loss: 0.3463 - val_accuracy: 0.8490\n",
            "Epoch 27/50\n",
            "719/719 [==============================] - 4s 5ms/step - loss: 0.2697 - accuracy: 0.8902 - val_loss: 0.3459 - val_accuracy: 0.8465\n",
            "Epoch 28/50\n",
            "719/719 [==============================] - 3s 4ms/step - loss: 0.2665 - accuracy: 0.8919 - val_loss: 0.3456 - val_accuracy: 0.8470\n",
            "Epoch 29/50\n",
            "719/719 [==============================] - 4s 5ms/step - loss: 0.2635 - accuracy: 0.8935 - val_loss: 0.3455 - val_accuracy: 0.8515\n",
            "Epoch 30/50\n",
            "719/719 [==============================] - 3s 4ms/step - loss: 0.2605 - accuracy: 0.8957 - val_loss: 0.3458 - val_accuracy: 0.8515\n",
            "Epoch 31/50\n",
            "719/719 [==============================] - 4s 5ms/step - loss: 0.2578 - accuracy: 0.8958 - val_loss: 0.3468 - val_accuracy: 0.8505\n",
            "Epoch 32/50\n",
            "719/719 [==============================] - 3s 4ms/step - loss: 0.2553 - accuracy: 0.8965 - val_loss: 0.3464 - val_accuracy: 0.8520\n",
            "Epoch 33/50\n",
            "719/719 [==============================] - 3s 5ms/step - loss: 0.2527 - accuracy: 0.8978 - val_loss: 0.3464 - val_accuracy: 0.8515\n",
            "Epoch 34/50\n",
            "719/719 [==============================] - 3s 5ms/step - loss: 0.2503 - accuracy: 0.8997 - val_loss: 0.3470 - val_accuracy: 0.8515\n",
            "Epoch 35/50\n",
            "719/719 [==============================] - 3s 5ms/step - loss: 0.2480 - accuracy: 0.9003 - val_loss: 0.3473 - val_accuracy: 0.8540\n",
            "Epoch 36/50\n",
            "719/719 [==============================] - 3s 4ms/step - loss: 0.2459 - accuracy: 0.9017 - val_loss: 0.3481 - val_accuracy: 0.8540\n",
            "Epoch 37/50\n",
            "719/719 [==============================] - 4s 6ms/step - loss: 0.2439 - accuracy: 0.9014 - val_loss: 0.3487 - val_accuracy: 0.8545\n",
            "Epoch 38/50\n",
            "719/719 [==============================] - 4s 5ms/step - loss: 0.2417 - accuracy: 0.9030 - val_loss: 0.3508 - val_accuracy: 0.8510\n",
            "Epoch 39/50\n",
            "719/719 [==============================] - 3s 4ms/step - loss: 0.2399 - accuracy: 0.9035 - val_loss: 0.3505 - val_accuracy: 0.8530\n",
            "Epoch 40/50\n",
            "719/719 [==============================] - 3s 5ms/step - loss: 0.2380 - accuracy: 0.9050 - val_loss: 0.3512 - val_accuracy: 0.8530\n",
            "Epoch 41/50\n",
            "719/719 [==============================] - 3s 4ms/step - loss: 0.2361 - accuracy: 0.9055 - val_loss: 0.3523 - val_accuracy: 0.8525\n",
            "Epoch 42/50\n",
            "719/719 [==============================] - 4s 5ms/step - loss: 0.2345 - accuracy: 0.9063 - val_loss: 0.3535 - val_accuracy: 0.8510\n",
            "Epoch 43/50\n",
            "719/719 [==============================] - 3s 4ms/step - loss: 0.2328 - accuracy: 0.9074 - val_loss: 0.3547 - val_accuracy: 0.8510\n",
            "Epoch 44/50\n",
            "719/719 [==============================] - 3s 4ms/step - loss: 0.2312 - accuracy: 0.9072 - val_loss: 0.3555 - val_accuracy: 0.8515\n",
            "Epoch 45/50\n",
            "719/719 [==============================] - 3s 4ms/step - loss: 0.2296 - accuracy: 0.9084 - val_loss: 0.3575 - val_accuracy: 0.8515\n",
            "Epoch 46/50\n",
            "719/719 [==============================] - 4s 5ms/step - loss: 0.2281 - accuracy: 0.9090 - val_loss: 0.3581 - val_accuracy: 0.8520\n",
            "Epoch 47/50\n",
            "719/719 [==============================] - 3s 4ms/step - loss: 0.2266 - accuracy: 0.9102 - val_loss: 0.3607 - val_accuracy: 0.8490\n",
            "Final test accuracy is:\n",
            "782/782 [==============================] - 2s 2ms/step - loss: 0.3396 - accuracy: 0.8514\n"
          ]
        },
        {
          "output_type": "execute_result",
          "data": {
            "text/plain": [
              "[0.3396017253398895, 0.8514400124549866]"
            ]
          },
          "metadata": {},
          "execution_count": 17
        }
      ]
    },
    {
      "cell_type": "code",
      "source": [
        "import matplotlib.pyplot as plt\n",
        "\n",
        "# Plot training & validation accuracy values\n",
        "plt.plot(history.history['accuracy'])\n",
        "plt.plot(history.history['val_accuracy'])\n",
        "plt.title('Model accuracy')\n",
        "plt.ylabel('Accuracy')\n",
        "plt.xlabel('Epoch')\n",
        "plt.legend(['Train', 'Validation'], loc='upper left')\n",
        "plt.show()\n",
        "\n",
        "# Evaluate the model on test set\n",
        "test_loss, test_accuracy = embeddings_model.evaluate(x_test, y_test, verbose=0)\n",
        "print('Test accuracy:', test_accuracy)\n"
      ],
      "metadata": {
        "colab": {
          "base_uri": "https://localhost:8080/",
          "height": 490
        },
        "id": "6IxVNK4dJagt",
        "outputId": "f4b48b55-d266-4c7f-c123-9683712b6da5"
      },
      "execution_count": null,
      "outputs": [
        {
          "output_type": "display_data",
          "data": {
            "text/plain": [
              "<Figure size 640x480 with 1 Axes>"
            ],
            "image/png": "[encoded data removed]"
          },
          "metadata": {}
        },
        {
          "output_type": "stream",
          "name": "stdout",
          "text": [
            "Test accuracy: 0.8514400124549866\n"
          ]
        }
      ]
    },
    {
      "cell_type": "code",
      "source": [
        "weights = embeddings_model.layers[0].get_weights()[0]\n",
        "query_word = '8'\n",
        "dist = ((weights - weights[word_index_c[query_word]])**2).sum(1).argsort()\n",
        "top_k = 10\n",
        "print(\"Embedding value of {:s} is {:f}\", query_word, weights[word_index_c[query_word]][0])\n",
        "print('Most {:d} similar words to {:s}'.format(top_k, query_word))\n",
        "for k in range(1, top_k+1):\n",
        "  print(\"{:d}: {:s}\".format(k, index_word[dist[k]]))\n",
        "\n",
        "from keras.preprocessing.sequence import pad_sequences\n",
        "negative_review = \"the movie is boring and not good\"\n",
        "words = negative_review.split()\n",
        "seq_input = [word_index_c[w] for w in words]\n",
        "seq_input = np.array([seq_input])\n",
        "seq_input = pad_sequences(seq_input,maxlen=100)\n",
        "negative_review_score = embeddings_model.predict(seq_input)\n",
        "\n",
        "positive_review = \"the movie is good and not boring\"\n",
        "words = positive_review.split()\n",
        "seq_input = [word_index_c[w] for w in words]\n",
        "seq_input = np.array([seq_input])\n",
        "seq_input = pad_sequences(seq_input,maxlen=100)\n",
        "positive_review_score = embeddings_model.predict(seq_input)\n",
        "\n",
        "print(\"The score for the negative review is:\", negative_review_score)\n",
        "print(\"The score for the positive review is:\", positive_review_score)"
      ],
      "metadata": {
        "colab": {
          "base_uri": "https://localhost:8080/"
        },
        "id": "1ZUEwBoEIjiJ",
        "outputId": "4566912e-e193-4ff8-ec4e-0f9af371c67a"
      },
      "execution_count": null,
      "outputs": [
        {
          "output_type": "stream",
          "name": "stdout",
          "text": [
            "Embedding value of {:s} is {:f} 8 5.9220862\n",
            "Most 10 similar words to 8\n",
            "1: excellent\n",
            "2: highly\n",
            "3: wonderful\n",
            "4: perfect\n",
            "5: recommended\n",
            "6: superb\n",
            "7: 9\n",
            "8: 7\n",
            "9: unexpected\n",
            "10: perfection\n",
            "1/1 [==============================] - 0s 46ms/step\n",
            "1/1 [==============================] - 0s 18ms/step\n",
            "The score for the negative review is: [[0.35701078]]\n",
            "The score for the positive review is: [[0.35701078]]\n"
          ]
        }
      ]
    },
    {
      "cell_type": "markdown",
      "source": [
        "**lstm model**"
      ],
      "metadata": {
        "id": "FmXRzicmIm_t"
      }
    },
    {
      "cell_type": "code",
      "metadata": {
        "id": "R-z4K9iAaKR1",
        "colab": {
          "base_uri": "https://localhost:8080/"
        },
        "outputId": "9674bc36-72f6-4ce3-da7a-cefbfdbfa780"
      },
      "source": [
        "## Model parameters:\n",
        "# Dimensions of the embeddings\n",
        "embedding_dim = 300\n",
        "\n",
        "## LSTM dimensionality\n",
        "lstm_units = 50\n",
        "\n",
        "print('Build model...')\n",
        "lstm_model = Sequential()\n",
        "\n",
        "lstm_model.add(Embedding(nb_words,\n",
        "                    embedding_dim,\n",
        "                    input_length=maxlen,\n",
        "                            trainable=True))\n",
        "### Do not modify the layers below\n",
        "lstm_model.add(Dropout(0.2))\n",
        "lstm_model.add(LSTM(lstm_units, dropout=0.2))\n",
        "lstm_model.add(Dropout(0.2))\n",
        "lstm_model.add(Dense(1, activation='sigmoid'))\n",
        "lstm_model.compile(loss='binary_crossentropy',\n",
        "              optimizer='adam',\n",
        "              metrics=['accuracy'])\n",
        "print(lstm_model.summary())"
      ],
      "execution_count": null,
      "outputs": [
        {
          "output_type": "stream",
          "name": "stdout",
          "text": [
            "Build model...\n",
            "Model: \"sequential_3\"\n",
            "_________________________________________________________________\n",
            " Layer (type)                Output Shape              Param #   \n",
            "=================================================================\n",
            " embedding_3 (Embedding)     (None, 100, 300)          1500000   \n",
            "                                                                 \n",
            " dropout (Dropout)           (None, 100, 300)          0         \n",
            "                                                                 \n",
            " lstm_2 (LSTM)               (None, 50)                70200     \n",
            "                                                                 \n",
            " dropout_1 (Dropout)         (None, 50)                0         \n",
            "                                                                 \n",
            " dense_3 (Dense)             (None, 1)                 51        \n",
            "                                                                 \n",
            "=================================================================\n",
            "Total params: 1570251 (5.99 MB)\n",
            "Trainable params: 1570251 (5.99 MB)\n",
            "Non-trainable params: 0 (0.00 Byte)\n",
            "_________________________________________________________________\n",
            "None\n"
          ]
        }
      ]
    },
    {
      "cell_type": "markdown",
      "metadata": {
        "id": "msBDHkgfFhtq"
      },
      "source": [
        "Similarly, we use EarlyStopping for this model."
      ]
    },
    {
      "cell_type": "code",
      "metadata": {
        "id": "cXpHfGa-aoWW",
        "colab": {
          "base_uri": "https://localhost:8080/"
        },
        "outputId": "22a6bf4e-3323-4ac0-ac33-42e33d030041"
      },
      "source": [
        "from keras.callbacks import EarlyStopping\n",
        "\n",
        "## We train the model for 50 epochs\n",
        "epochs = 50\n",
        "early_stop = EarlyStopping(\n",
        "    monitor='val_accuracy',\n",
        "    min_delta=0,\n",
        "    patience=10,\n",
        "    verbose=0,\n",
        "    mode='auto',\n",
        "    baseline=None,\n",
        "    restore_best_weights=True\n",
        ")\n",
        "history = lstm_model.fit(x_train, y_train, batch_size=32, epochs=epochs, callbacks=[early_stop], validation_data=(x_val,y_val))\n",
        "print('Final test accuracy is:')\n",
        "lstm_model.evaluate(x_test, y_test)"
      ],
      "execution_count": null,
      "outputs": [
        {
          "output_type": "stream",
          "name": "stdout",
          "text": [
            "Epoch 1/50\n",
            "719/719 [==============================] - 54s 68ms/step - loss: 0.4259 - accuracy: 0.8007 - val_loss: 0.3815 - val_accuracy: 0.8345\n",
            "Epoch 2/50\n",
            "719/719 [==============================] - 9s 13ms/step - loss: 0.2890 - accuracy: 0.8793 - val_loss: 0.3578 - val_accuracy: 0.8545\n",
            "Epoch 3/50\n",
            "719/719 [==============================] - 6s 9ms/step - loss: 0.2263 - accuracy: 0.9086 - val_loss: 0.3646 - val_accuracy: 0.8510\n",
            "Epoch 4/50\n",
            "719/719 [==============================] - 8s 10ms/step - loss: 0.1929 - accuracy: 0.9239 - val_loss: 0.3947 - val_accuracy: 0.8475\n",
            "Epoch 5/50\n",
            "719/719 [==============================] - 7s 10ms/step - loss: 0.1552 - accuracy: 0.9415 - val_loss: 0.4728 - val_accuracy: 0.8390\n",
            "Epoch 6/50\n",
            "719/719 [==============================] - 6s 9ms/step - loss: 0.1252 - accuracy: 0.9535 - val_loss: 0.4636 - val_accuracy: 0.8310\n",
            "Epoch 7/50\n",
            "719/719 [==============================] - 7s 9ms/step - loss: 0.1054 - accuracy: 0.9621 - val_loss: 0.5926 - val_accuracy: 0.8180\n",
            "Epoch 8/50\n",
            "719/719 [==============================] - 6s 8ms/step - loss: 0.0863 - accuracy: 0.9700 - val_loss: 0.5895 - val_accuracy: 0.8360\n",
            "Epoch 9/50\n",
            "719/719 [==============================] - 7s 9ms/step - loss: 0.0663 - accuracy: 0.9781 - val_loss: 0.7076 - val_accuracy: 0.8330\n",
            "Epoch 10/50\n",
            "719/719 [==============================] - 6s 8ms/step - loss: 0.0568 - accuracy: 0.9810 - val_loss: 0.6871 - val_accuracy: 0.8335\n",
            "Epoch 11/50\n",
            "719/719 [==============================] - 7s 9ms/step - loss: 0.0595 - accuracy: 0.9811 - val_loss: 0.7135 - val_accuracy: 0.8270\n",
            "Epoch 12/50\n",
            "719/719 [==============================] - 6s 8ms/step - loss: 0.0421 - accuracy: 0.9867 - val_loss: 0.7153 - val_accuracy: 0.8380\n",
            "Final test accuracy is:\n",
            "782/782 [==============================] - 3s 4ms/step - loss: 0.3586 - accuracy: 0.8504\n"
          ]
        },
        {
          "output_type": "execute_result",
          "data": {
            "text/plain": [
              "[0.3585892617702484, 0.8503599762916565]"
            ]
          },
          "metadata": {},
          "execution_count": 21
        }
      ]
    },
    {
      "cell_type": "code",
      "source": [
        "import matplotlib.pyplot as plt\n",
        "\n",
        "# Plot training & validation accuracy values\n",
        "plt.plot(history.history['accuracy'])\n",
        "plt.plot(history.history['val_accuracy'])\n",
        "plt.title('Model accuracy')\n",
        "plt.ylabel('Accuracy')\n",
        "plt.xlabel('Epoch')\n",
        "plt.legend(['Train', 'Validation'], loc='upper left')\n",
        "plt.show()\n",
        "\n",
        "# Evaluate the model on test set\n",
        "test_loss, test_accuracy = lstm_model.evaluate(x_test, y_test, verbose=0)\n",
        "print('Test accuracy:', test_accuracy)\n"
      ],
      "metadata": {
        "colab": {
          "base_uri": "https://localhost:8080/",
          "height": 490
        },
        "id": "PgZzP8vsJzON",
        "outputId": "6a5ad778-a025-495c-e0e8-8d106ae27900"
      },
      "execution_count": null,
      "outputs": [
        {
          "output_type": "display_data",
          "data": {
            "text/plain": [
              "<Figure size 640x480 with 1 Axes>"
            ],
            "image/png": "[encoded data removed]"
          },
          "metadata": {}
        },
        {
          "output_type": "stream",
          "name": "stdout",
          "text": [
            "Test accuracy: 0.8503599762916565\n"
          ]
        }
      ]
    },
    {
      "cell_type": "markdown",
      "metadata": {
        "id": "N3F0IRz2FqVX"
      },
      "source": [
        "We just trained a model with a large number of parameters in the IMDB, which is a small dataset."
      ]
    },
    {
      "cell_type": "markdown",
      "source": [
        "**glove model**"
      ],
      "metadata": {
        "id": "Grc-GI62J3-F"
      }
    },
    {
      "cell_type": "markdown",
      "metadata": {
        "id": "a7dnHR3za1xB"
      },
      "source": [
        "The last model we train is the same model as the `lstm_model` above, but in this case we use the embeddings from the GloVe method (which were introduced in this notebook) without any finetuning. First, we download them."
      ]
    },
    {
      "cell_type": "code",
      "metadata": {
        "id": "t7ZjGnuWb4H9",
        "colab": {
          "base_uri": "https://localhost:8080/"
        },
        "outputId": "66ec9e07-7f35-4a79-ba3c-9e6ee4fd07f6"
      },
      "source": [
        "!wget https://imperialcollegelondon.box.com/shared/static/c9trfhhwl9ohje5g3sapu3xk2zoywp3c.txt -O gensim_glove_vectors.txt"
      ],
      "execution_count": null,
      "outputs": [
        {
          "output_type": "stream",
          "name": "stdout",
          "text": [
            "--2024-02-05 16:53:25--  https://imperialcollegelondon.box.com/shared/static/c9trfhhwl9ohje5g3sapu3xk2zoywp3c.txt\n",
            "Resolving imperialcollegelondon.box.com (imperialcollegelondon.box.com)... 74.112.186.144\n",
            "Connecting to imperialcollegelondon.box.com (imperialcollegelondon.box.com)|74.112.186.144|:443... connected.\n",
            "HTTP request sent, awaiting response... 301 Moved Permanently\n",
            "Location: /public/static/c9trfhhwl9ohje5g3sapu3xk2zoywp3c.txt [following]\n",
            "--2024-02-05 16:53:25--  https://imperialcollegelondon.box.com/public/static/c9trfhhwl9ohje5g3sapu3xk2zoywp3c.txt\n",
            "Reusing existing connection to imperialcollegelondon.box.com:443.\n",
            "HTTP request sent, awaiting response... 301 Moved Permanently\n",
            "Location: https://imperialcollegelondon.app.box.com/public/static/c9trfhhwl9ohje5g3sapu3xk2zoywp3c.txt [following]\n",
            "--2024-02-05 16:53:25--  https://imperialcollegelondon.app.box.com/public/static/c9trfhhwl9ohje5g3sapu3xk2zoywp3c.txt\n",
            "Resolving imperialcollegelondon.app.box.com (imperialcollegelondon.app.box.com)... 74.112.186.144\n",
            "Connecting to imperialcollegelondon.app.box.com (imperialcollegelondon.app.box.com)|74.112.186.144|:443... connected.\n",
            "HTTP request sent, awaiting response... 302 Found\n",
            "Location: https://public.boxcloud.com/d/1/b1!gDKGHlczJhol1j1EUm6fd_7xrGKRJ-gGmKVKosJAT3-VL1GigMiYjypcdXEw1Vi3s6x4VtinHtXoyNtdJEkSBLPiTpkapblRK7qIkmGjvNEK2YDXiZOtz20OT3HgOAr-vzhV1DLrxAClRRpoWJ2rMtUo0b_0xs-8ZRT0dT5Jcse28FalJ-K8TbBoJTqati_vqbyATP5wHst3RRhZSxhjToEFbbncS_E9NuqymFsPKiUIV6HYF0RuNHEke1jJrT457O57RxtGbznhPVpdDUdOfoGKlYF2rD4Zi5P4gda2a4Wp3_8dInF926Sd2UwY7O5Qg3omVCNNyehJHxy8k3_ykdUxnDD6g2OV4kaWb864e64RPmDbV340I_YsBywpoxjbSGjl4gSsoADxBdZVhyBdQXoj4N9c3QrWYT3_Jy9zNhU8_VRsJqJWaDPUN08MnzD80piXdxnujfUecAk_L-py9cJnZjYaGm74-3JQS1ritQ0-szogklH__ZHCJxv2lBJ9z2RTAybBkBt7PlSUaADHknFjU-XXQYyNu7Zi1RagZChVAM0TT5lWb9ZvgPJgCN8bGmmk1H7qPWa50kcrecNvw_tLHmkfeTtiYqnUnINJYR8bJkwG9J6TGlJyrK1Bz8XqCh2EbOS0jLZPZdcA7k8_PQ_VTII8j_YmZjiSCW72n8eBQDLcL0JtQcj9nQo8LeNzBZV4fO8pPxpk1CttCxoN-ScJczlvtpQFD5QR6ij1uzRaqZzkC5xK6npKt9F5jhDGvmrnZYBfd6SZ_ZylkvuxG2qIIYxwQG9cCrBoSjhJeC_j0w2hxijUnLjjt37pAweICDaM5PxMV0HHtSSiJag6mGwv-Db3CyeXOo3lb1l-wGvGHBGW3U0i7yM2LPDRMG1GtMKb4byepdT2-8HGFbyVjtr1nQiicoOkQ1xKLQOieEnJSWM56H_p5XuPWbxS6AVIPLblshOCNUQuFWdTtjcv303kvoTzM3ZIAndI-ePJGb8666K7qpoETx4cvS_sFldxNb1WN7S1kopIP14SeWjvPLxYxFaBxKaUz1JKjPDMM8dIcQN-eZHn8gBpVWxebxE1ELIavBRVQz-DW-vxzy1tC0LDNrQTDgVi0WiUMXKFUGm1MhZS5xGOtVo2Gi4PuWuM-3vxBmJV6mOSTgW6H71p9VgOsl79fWr2sM1jCo4VGH_evsqPjP2_p4dBJdgWgA2hSW2Z5bDfWwqbDedy5gdiREoOEVBg28oghmruhoeOzEbvnQycYwitT-mgUtN7VtWMbyss0Zbs4POoiAkjYTZez4GfvOC2DnLEbQf3EU0lRnUrSntbHcu7SH4FXS2srKJdOA2n6GR50WXZi1R2_4ljb-LG0ZH7YOaSSbkJydwNECHLO7BuLHqf7FA5H23MrmOJO1SssNqskIJyFYc28SL8iCEdOAZLRkk3iFYnzQYiKQ../download [following]\n",
            "--2024-02-05 16:53:26--  https://public.boxcloud.com/d/1/b1!gDKGHlczJhol1j1EUm6fd_7xrGKRJ-gGmKVKosJAT3-VL1GigMiYjypcdXEw1Vi3s6x4VtinHtXoyNtdJEkSBLPiTpkapblRK7qIkmGjvNEK2YDXiZOtz20OT3HgOAr-vzhV1DLrxAClRRpoWJ2rMtUo0b_0xs-8ZRT0dT5Jcse28FalJ-K8TbBoJTqati_vqbyATP5wHst3RRhZSxhjToEFbbncS_E9NuqymFsPKiUIV6HYF0RuNHEke1jJrT457O57RxtGbznhPVpdDUdOfoGKlYF2rD4Zi5P4gda2a4Wp3_8dInF926Sd2UwY7O5Qg3omVCNNyehJHxy8k3_ykdUxnDD6g2OV4kaWb864e64RPmDbV340I_YsBywpoxjbSGjl4gSsoADxBdZVhyBdQXoj4N9c3QrWYT3_Jy9zNhU8_VRsJqJWaDPUN08MnzD80piXdxnujfUecAk_L-py9cJnZjYaGm74-3JQS1ritQ0-szogklH__ZHCJxv2lBJ9z2RTAybBkBt7PlSUaADHknFjU-XXQYyNu7Zi1RagZChVAM0TT5lWb9ZvgPJgCN8bGmmk1H7qPWa50kcrecNvw_tLHmkfeTtiYqnUnINJYR8bJkwG9J6TGlJyrK1Bz8XqCh2EbOS0jLZPZdcA7k8_PQ_VTII8j_YmZjiSCW72n8eBQDLcL0JtQcj9nQo8LeNzBZV4fO8pPxpk1CttCxoN-ScJczlvtpQFD5QR6ij1uzRaqZzkC5xK6npKt9F5jhDGvmrnZYBfd6SZ_ZylkvuxG2qIIYxwQG9cCrBoSjhJeC_j0w2hxijUnLjjt37pAweICDaM5PxMV0HHtSSiJag6mGwv-Db3CyeXOo3lb1l-wGvGHBGW3U0i7yM2LPDRMG1GtMKb4byepdT2-8HGFbyVjtr1nQiicoOkQ1xKLQOieEnJSWM56H_p5XuPWbxS6AVIPLblshOCNUQuFWdTtjcv303kvoTzM3ZIAndI-ePJGb8666K7qpoETx4cvS_sFldxNb1WN7S1kopIP14SeWjvPLxYxFaBxKaUz1JKjPDMM8dIcQN-eZHn8gBpVWxebxE1ELIavBRVQz-DW-vxzy1tC0LDNrQTDgVi0WiUMXKFUGm1MhZS5xGOtVo2Gi4PuWuM-3vxBmJV6mOSTgW6H71p9VgOsl79fWr2sM1jCo4VGH_evsqPjP2_p4dBJdgWgA2hSW2Z5bDfWwqbDedy5gdiREoOEVBg28oghmruhoeOzEbvnQycYwitT-mgUtN7VtWMbyss0Zbs4POoiAkjYTZez4GfvOC2DnLEbQf3EU0lRnUrSntbHcu7SH4FXS2srKJdOA2n6GR50WXZi1R2_4ljb-LG0ZH7YOaSSbkJydwNECHLO7BuLHqf7FA5H23MrmOJO1SssNqskIJyFYc28SL8iCEdOAZLRkk3iFYnzQYiKQ../download\n",
            "Resolving public.boxcloud.com (public.boxcloud.com)... 74.112.186.128\n",
            "Connecting to public.boxcloud.com (public.boxcloud.com)|74.112.186.128|:443... connected.\n",
            "HTTP request sent, awaiting response... 200 OK\n",
            "Length: 1037962830 (990M) [text/plain]\n",
            "Saving to: ‘gensim_glove_vectors.txt’\n",
            "\n",
            "gensim_glove_vector 100%[===================>] 989.88M  47.5MB/s    in 28s     \n",
            "\n",
            "2024-02-05 16:53:54 (35.7 MB/s) - ‘gensim_glove_vectors.txt’ saved [1037962830/1037962830]\n",
            "\n"
          ]
        }
      ]
    },
    {
      "cell_type": "markdown",
      "metadata": {
        "id": "2vhK-7g7GIZX"
      },
      "source": [
        "Then we load the GloVe embeddings with dimensionality 300 we just downloaded. This takes some time."
      ]
    },
    {
      "cell_type": "code",
      "metadata": {
        "id": "5KeP7idDb-Wj"
      },
      "source": [
        "from gensim.models.keyedvectors import KeyedVectors\n",
        "glove_model = KeyedVectors.load_word2vec_format(\"gensim_glove_vectors.txt\", binary=False)"
      ],
      "execution_count": null,
      "outputs": []
    },
    {
      "cell_type": "markdown",
      "metadata": {
        "id": "BV_QslV7ctj4"
      },
      "source": [
        "We now load the pretrained embeddings in a numpy array to then pass it to the Keras Embedding layer. Change the shape of `embedding_matrix` to the corresponding embedding dimensionality you are using."
      ]
    },
    {
      "cell_type": "code",
      "metadata": {
        "id": "npBJO9pOcA9D"
      },
      "source": [
        "import numpy as np\n",
        "embedding_matrix = np.zeros((nb_words, 300))\n",
        "for word, i in word_index_c.items():\n",
        "    if word in glove_model:\n",
        "      embedding_vector = glove_model[word]\n",
        "      if embedding_vector is not None and i < nb_words:\n",
        "          # words not found in embedding index will be all-zeros.\n",
        "          embedding_matrix[i] = embedding_vector"
      ],
      "execution_count": null,
      "outputs": []
    },
    {
      "cell_type": "markdown",
      "metadata": {
        "id": "rXEgmD5CdbEo"
      },
      "source": [
        "To initialize the Keras Embedding layer with the embeddings we loaded, we can use the argument `weights=[embedding_matrix]`. Also, to freeze the embeddings during training, we use `trainable=False`."
      ]
    },
    {
      "cell_type": "code",
      "metadata": {
        "id": "FTDZJhNqbFiz",
        "colab": {
          "base_uri": "https://localhost:8080/"
        },
        "outputId": "3a9dba73-020e-4ebb-b1ff-783a4143fa69"
      },
      "source": [
        "from tensorflow.keras.layers import Bidirectional\n",
        "from keras.layers import GlobalMaxPool1D, Flatten, GlobalAvgPool1D, Dropout\n",
        "\n",
        "## Model parameters:\n",
        "# Dimensions of the embeddings\n",
        "embedding_dim = 300\n",
        "\n",
        "## LSTM dimensionality\n",
        "lstm_units = 50\n",
        "\n",
        "print('Build model...')\n",
        "lstm_glove_model = Sequential()\n",
        "\n",
        "lstm_glove_model.add(Embedding(nb_words,\n",
        "                    embedding_dim,\n",
        "                    input_length=maxlen,\n",
        "                    weights=[embedding_matrix],\n",
        "                            trainable=False))\n",
        "### Do not modify the layers below\n",
        "lstm_glove_model.add(Dropout(0.2))\n",
        "lstm_glove_model.add(LSTM(lstm_units, dropout=0.2))\n",
        "lstm_glove_model.add(Dropout(0.2))\n",
        "lstm_glove_model.add(Dense(1, activation='sigmoid'))\n",
        "lstm_glove_model.compile(loss='binary_crossentropy',\n",
        "              optimizer='adam',\n",
        "              metrics=['accuracy'])\n",
        "print(lstm_glove_model.summary())"
      ],
      "execution_count": null,
      "outputs": [
        {
          "output_type": "stream",
          "name": "stdout",
          "text": [
            "Build model...\n",
            "Model: \"sequential_4\"\n",
            "_________________________________________________________________\n",
            " Layer (type)                Output Shape              Param #   \n",
            "=================================================================\n",
            " embedding_4 (Embedding)     (None, 100, 300)          1500000   \n",
            "                                                                 \n",
            " dropout_2 (Dropout)         (None, 100, 300)          0         \n",
            "                                                                 \n",
            " lstm_3 (LSTM)               (None, 50)                70200     \n",
            "                                                                 \n",
            " dropout_3 (Dropout)         (None, 50)                0         \n",
            "                                                                 \n",
            " dense_4 (Dense)             (None, 1)                 51        \n",
            "                                                                 \n",
            "=================================================================\n",
            "Total params: 1570251 (5.99 MB)\n",
            "Trainable params: 70251 (274.42 KB)\n",
            "Non-trainable params: 1500000 (5.72 MB)\n",
            "_________________________________________________________________\n",
            "None\n"
          ]
        }
      ]
    },
    {
      "cell_type": "code",
      "metadata": {
        "id": "N7c-u98zbJaf",
        "colab": {
          "base_uri": "https://localhost:8080/"
        },
        "outputId": "3ff11504-dfc5-424a-db66-b9032c817bb9"
      },
      "source": [
        "from keras.callbacks import EarlyStopping\n",
        "\n",
        "## We train the model for 50 epochs\n",
        "epochs = 50\n",
        "early_stop = EarlyStopping(\n",
        "    monitor='val_accuracy',\n",
        "    min_delta=0,\n",
        "    patience=10,\n",
        "    verbose=0,\n",
        "    mode='auto',\n",
        "    baseline=None,\n",
        "    restore_best_weights=True\n",
        ")\n",
        "history = lstm_glove_model.fit(x_train, y_train, batch_size=32, epochs=epochs, callbacks=[early_stop], validation_data=(x_val,y_val))\n",
        "print('Final test accuracy is:')\n",
        "lstm_glove_model.evaluate(x_test, y_test)"
      ],
      "execution_count": null,
      "outputs": [
        {
          "output_type": "stream",
          "name": "stdout",
          "text": [
            "Epoch 1/50\n",
            "719/719 [==============================] - 11s 11ms/step - loss: 0.5256 - accuracy: 0.7349 - val_loss: 0.4276 - val_accuracy: 0.8070\n",
            "Epoch 2/50\n",
            "719/719 [==============================] - 6s 8ms/step - loss: 0.4090 - accuracy: 0.8121 - val_loss: 0.3790 - val_accuracy: 0.8390\n",
            "Epoch 3/50\n",
            "719/719 [==============================] - 7s 10ms/step - loss: 0.3704 - accuracy: 0.8333 - val_loss: 0.3528 - val_accuracy: 0.8395\n",
            "Epoch 4/50\n",
            "719/719 [==============================] - 7s 9ms/step - loss: 0.3449 - accuracy: 0.8483 - val_loss: 0.3423 - val_accuracy: 0.8425\n",
            "Epoch 5/50\n",
            "719/719 [==============================] - 5s 7ms/step - loss: 0.3278 - accuracy: 0.8559 - val_loss: 0.3380 - val_accuracy: 0.8480\n",
            "Epoch 6/50\n",
            "719/719 [==============================] - 7s 10ms/step - loss: 0.3128 - accuracy: 0.8614 - val_loss: 0.3367 - val_accuracy: 0.8515\n",
            "Epoch 7/50\n",
            "719/719 [==============================] - 7s 9ms/step - loss: 0.2969 - accuracy: 0.8707 - val_loss: 0.3260 - val_accuracy: 0.8530\n",
            "Epoch 8/50\n",
            "719/719 [==============================] - 5s 7ms/step - loss: 0.2830 - accuracy: 0.8795 - val_loss: 0.3271 - val_accuracy: 0.8525\n",
            "Epoch 9/50\n",
            "719/719 [==============================] - 8s 11ms/step - loss: 0.2693 - accuracy: 0.8856 - val_loss: 0.3210 - val_accuracy: 0.8520\n",
            "Epoch 10/50\n",
            "719/719 [==============================] - 6s 8ms/step - loss: 0.2633 - accuracy: 0.8863 - val_loss: 0.3400 - val_accuracy: 0.8515\n",
            "Epoch 11/50\n",
            "719/719 [==============================] - 5s 7ms/step - loss: 0.2519 - accuracy: 0.8937 - val_loss: 0.3728 - val_accuracy: 0.8550\n",
            "Epoch 12/50\n",
            "719/719 [==============================] - 8s 11ms/step - loss: 0.2371 - accuracy: 0.8982 - val_loss: 0.3717 - val_accuracy: 0.8510\n",
            "Epoch 13/50\n",
            "719/719 [==============================] - 6s 8ms/step - loss: 0.2316 - accuracy: 0.9016 - val_loss: 0.3617 - val_accuracy: 0.8590\n",
            "Epoch 14/50\n",
            "719/719 [==============================] - 5s 7ms/step - loss: 0.2204 - accuracy: 0.9081 - val_loss: 0.3587 - val_accuracy: 0.8580\n",
            "Epoch 15/50\n",
            "719/719 [==============================] - 8s 12ms/step - loss: 0.2188 - accuracy: 0.9082 - val_loss: 0.4133 - val_accuracy: 0.8600\n",
            "Epoch 16/50\n",
            "719/719 [==============================] - 5s 7ms/step - loss: 0.2065 - accuracy: 0.9139 - val_loss: 0.3712 - val_accuracy: 0.8595\n",
            "Epoch 17/50\n",
            "719/719 [==============================] - 5s 8ms/step - loss: 0.1992 - accuracy: 0.9173 - val_loss: 0.3914 - val_accuracy: 0.8585\n",
            "Epoch 18/50\n",
            "719/719 [==============================] - 8s 11ms/step - loss: 0.1908 - accuracy: 0.9226 - val_loss: 0.3776 - val_accuracy: 0.8535\n",
            "Epoch 19/50\n",
            "719/719 [==============================] - 5s 7ms/step - loss: 0.1863 - accuracy: 0.9250 - val_loss: 0.4093 - val_accuracy: 0.8570\n",
            "Epoch 20/50\n",
            "719/719 [==============================] - 6s 8ms/step - loss: 0.1839 - accuracy: 0.9254 - val_loss: 0.3920 - val_accuracy: 0.8600\n",
            "Epoch 21/50\n",
            "719/719 [==============================] - 8s 11ms/step - loss: 0.1774 - accuracy: 0.9283 - val_loss: 0.4075 - val_accuracy: 0.8555\n",
            "Epoch 22/50\n",
            "719/719 [==============================] - 5s 7ms/step - loss: 0.1691 - accuracy: 0.9317 - val_loss: 0.4234 - val_accuracy: 0.8610\n",
            "Epoch 23/50\n",
            "719/719 [==============================] - 6s 8ms/step - loss: 0.1694 - accuracy: 0.9324 - val_loss: 0.4211 - val_accuracy: 0.8550\n",
            "Epoch 24/50\n",
            "719/719 [==============================] - 8s 11ms/step - loss: 0.1606 - accuracy: 0.9346 - val_loss: 0.4516 - val_accuracy: 0.8525\n",
            "Epoch 25/50\n",
            "719/719 [==============================] - 5s 7ms/step - loss: 0.1595 - accuracy: 0.9341 - val_loss: 0.4763 - val_accuracy: 0.8585\n",
            "Epoch 26/50\n",
            "719/719 [==============================] - 6s 9ms/step - loss: 0.1558 - accuracy: 0.9380 - val_loss: 0.4284 - val_accuracy: 0.8510\n",
            "Epoch 27/50\n",
            "719/719 [==============================] - 8s 11ms/step - loss: 0.1535 - accuracy: 0.9383 - val_loss: 0.4294 - val_accuracy: 0.8560\n",
            "Epoch 28/50\n",
            "719/719 [==============================] - 5s 8ms/step - loss: 0.1448 - accuracy: 0.9422 - val_loss: 0.4184 - val_accuracy: 0.8605\n",
            "Epoch 29/50\n",
            "719/719 [==============================] - 6s 9ms/step - loss: 0.1438 - accuracy: 0.9419 - val_loss: 0.4546 - val_accuracy: 0.8575\n",
            "Epoch 30/50\n",
            "719/719 [==============================] - 7s 10ms/step - loss: 0.1429 - accuracy: 0.9432 - val_loss: 0.4888 - val_accuracy: 0.8535\n",
            "Epoch 31/50\n",
            "719/719 [==============================] - 5s 8ms/step - loss: 0.1423 - accuracy: 0.9427 - val_loss: 0.4517 - val_accuracy: 0.8575\n",
            "Epoch 32/50\n",
            "719/719 [==============================] - 6s 9ms/step - loss: 0.1393 - accuracy: 0.9431 - val_loss: 0.4382 - val_accuracy: 0.8555\n",
            "Final test accuracy is:\n",
            "782/782 [==============================] - 3s 4ms/step - loss: 0.3798 - accuracy: 0.8678\n"
          ]
        },
        {
          "output_type": "execute_result",
          "data": {
            "text/plain": [
              "[0.3797615170478821, 0.8677999973297119]"
            ]
          },
          "metadata": {},
          "execution_count": 29
        }
      ]
    },
    {
      "cell_type": "code",
      "source": [
        "import matplotlib.pyplot as plt\n",
        "\n",
        "# Plot training & validation accuracy values\n",
        "plt.plot(history.history['accuracy'])\n",
        "plt.plot(history.history['val_accuracy'])\n",
        "plt.title('Model accuracy')\n",
        "plt.ylabel('Accuracy')\n",
        "plt.xlabel('Epoch')\n",
        "plt.legend(['Train', 'Validation'], loc='upper left')\n",
        "plt.show()\n",
        "\n",
        "# Evaluate the model on test set\n",
        "test_loss, test_accuracy = lstm_glove_model.evaluate(x_test, y_test, verbose=0)\n",
        "print('Test accuracy:', test_accuracy)\n"
      ],
      "metadata": {
        "colab": {
          "base_uri": "https://localhost:8080/",
          "height": 490
        },
        "id": "qao-DNfGMWzc",
        "outputId": "b24e40cf-027d-4566-92b4-901b56d4f11e"
      },
      "execution_count": null,
      "outputs": [
        {
          "output_type": "display_data",
          "data": {
            "text/plain": [
              "<Figure size 640x480 with 1 Axes>"
            ],
            "image/png": "[encoded data removed]"
          },
          "metadata": {}
        },
        {
          "output_type": "stream",
          "name": "stdout",
          "text": [
            "Test accuracy: 0.8677999973297119\n"
          ]
        }
      ]
    },
    {
      "cell_type": "markdown",
      "metadata": {
        "id": "g0v3mUULGkfV"
      },
      "source": [
        "We can also compute the closest words in the GloVe embeddings to any `query_word` using the code below."
      ]
    },
    {
      "cell_type": "code",
      "metadata": {
        "id": "IQDqhKtOc56X",
        "colab": {
          "base_uri": "https://localhost:8080/"
        },
        "outputId": "90771beb-298c-4e0b-84aa-c4f9e3ec0d05"
      },
      "source": [
        "query_word = '8'\n",
        "weights = embedding_matrix\n",
        "\n",
        "dist = ((weights - weights[word_index_c[query_word]])**2).sum(1).argsort()\n",
        "top_k = 10\n",
        "print('Most {:d} similar words to {:s}'.format(top_k, query_word))\n",
        "for k in range(1, top_k+1):\n",
        "  print(\"{:d}: {:s}\".format(k, index_word[dist[k]]))"
      ],
      "execution_count": null,
      "outputs": [
        {
          "output_type": "stream",
          "name": "stdout",
          "text": [
            "Most 10 similar words to 8\n",
            "1: 9\n",
            "2: 7\n",
            "3: 6\n",
            "4: 5\n",
            "5: 4\n",
            "6: 12\n",
            "7: 3\n",
            "8: 10\n",
            "9: 16\n",
            "10: 13\n"
          ]
        }
      ]
    },
    {
      "cell_type": "markdown",
      "metadata": {
        "id": "IXiBKBgtG2xf"
      },
      "source": [
        "We use the same example reviews as for the `embedding_model` case and we compute the predictions using the `lstm_glove_model`."
      ]
    },
    {
      "cell_type": "code",
      "metadata": {
        "id": "z10tY2Nyg9px",
        "colab": {
          "base_uri": "https://localhost:8080/"
        },
        "outputId": "81b31a89-b97b-4bee-acbe-6d2b56d0c52f"
      },
      "source": [
        "from keras.preprocessing.sequence import pad_sequences\n",
        "negative_review = \"the movie is boring and not good\"\n",
        "words = negative_review.split()\n",
        "seq_input = [word_index_c[w] for w in words]\n",
        "seq_input = np.array([seq_input])\n",
        "seq_input = pad_sequences(seq_input,maxlen=100)\n",
        "negative_review_score = lstm_glove_model.predict(seq_input)\n",
        "\n",
        "positive_review = \"the movie is good and not boring\"\n",
        "words = positive_review.split()\n",
        "seq_input = [word_index_c[w] for w in words]\n",
        "seq_input = np.array([seq_input])\n",
        "seq_input = pad_sequences(seq_input,maxlen=100)\n",
        "positive_review_score = lstm_glove_model.predict(seq_input)\n",
        "\n",
        "print(negative_review_score, positive_review_score)"
      ],
      "execution_count": null,
      "outputs": [
        {
          "output_type": "stream",
          "name": "stdout",
          "text": [
            "1/1 [==============================] - 1s 661ms/step\n",
            "1/1 [==============================] - 0s 18ms/step\n",
            "[[0.03515127]] [[0.727165]]\n"
          ]
        }
      ]
    },
    {
      "cell_type": "markdown",
      "metadata": {
        "id": "CywiPmy1eZoF"
      },
      "source": [
        "### **Task 3: Text Generation**\n",
        "In this task we focus on the text generation problem. For this purpose, we will download the scripts of the TV show Game of Thrones and try to generate some text resembling the style of the scripts.\n",
        "\n",
        "\n",
        "**Report**\n",
        "* Plot the retrieved BLEU for different temperature values (from 0 to 2 in the x-axis) for both the character-level model and the word-level model. To compute the BLEU score, use a minimum of 20 generated samples per temperature used to reduce variability (you can increase it at the cost of higher computational time for lower variability). Each sample should contain 100 characters for the char-level model or 30 words for the word-level model (the code given uses these parameters by default). Do you see any relationship between the obtained BLEU score and temperature used? If you generate sentences at different temperatures what differences can you observe? Are the generated sentences grammatically correct? Do the generated sentences make sense?\n",
        "\n",
        "We give below the code needed to download the dataset and to compute the results."
      ]
    },
    {
      "cell_type": "markdown",
      "source": [
        "Plot the retrieved BLEU for different temperature values (from 0 to 2 in the x-axis) for both the character-level model and the word-level model.\n",
        "打印出来blue数值的结果，主要区分temperature的值，使用character和model level的值"
      ],
      "metadata": {
        "id": "k-lNZbiAPNbi"
      }
    },
    {
      "cell_type": "markdown",
      "metadata": {
        "id": "bD9gEFKXqukY"
      },
      "source": [
        "We first download and read the dataset."
      ]
    },
    {
      "cell_type": "code",
      "metadata": {
        "id": "4_I1pRickXKl",
        "colab": {
          "base_uri": "https://localhost:8080/"
        },
        "outputId": "023f0596-f0cd-403e-f83b-03bd0b18f58f"
      },
      "source": [
        "!git clone https://github.com/shekharkoirala/Game_of_Thrones"
      ],
      "execution_count": null,
      "outputs": [
        {
          "output_type": "stream",
          "name": "stdout",
          "text": [
            "Cloning into 'Game_of_Thrones'...\n",
            "remote: Enumerating objects: 145, done.\u001b[K\n",
            "remote: Total 145 (delta 0), reused 0 (delta 0), pack-reused 145\u001b[K\n",
            "Receiving objects: 100% (145/145), 1.82 MiB | 4.79 MiB/s, done.\n",
            "Resolving deltas: 100% (40/40), done.\n"
          ]
        }
      ]
    },
    {
      "cell_type": "code",
      "metadata": {
        "id": "D1i9e9nekb70"
      },
      "source": [
        "data = open('./Game_of_Thrones/Data/final_data.txt', 'r').read()"
      ],
      "execution_count": null,
      "outputs": []
    },
    {
      "cell_type": "markdown",
      "metadata": {
        "id": "oHqzKZQ8aYkp"
      },
      "source": [
        "**Character-level model**\n",
        "\n",
        "We first include the code to build the character-level dataset."
      ]
    },
    {
      "cell_type": "code",
      "metadata": {
        "id": "cnwDgj_unBhW",
        "colab": {
          "base_uri": "https://localhost:8080/"
        },
        "outputId": "af74148d-d400-4fc1-e4c5-a800e92f4870"
      },
      "source": [
        "characters = sorted(list(set(data)))\n",
        "n_to_char = {n:char for n, char in enumerate(characters)}\n",
        "char_to_n = {char:n for n, char in enumerate(characters)}\n",
        "x_char = []\n",
        "y_char = []\n",
        "length = len(data)\n",
        "seq_char_length = 100\n",
        "for i in range(0, length-seq_char_length):\n",
        "  sequence = data[i:i + seq_char_length]\n",
        "  label = data[i + seq_char_length]\n",
        "  x_char.append([char_to_n[char] for char in sequence])\n",
        "  y_char.append(char_to_n[label])\n",
        "n_samples = len(x_char)\n",
        "print ('Total Samples:' , n_samples)"
      ],
      "execution_count": null,
      "outputs": [
        {
          "output_type": "stream",
          "name": "stdout",
          "text": [
            "Total Samples: 2474358\n"
          ]
        }
      ]
    },
    {
      "cell_type": "markdown",
      "metadata": {
        "id": "ZcmI8iV7afK5"
      },
      "source": [
        "The splits used for training are given below, although we already give the model trained."
      ]
    },
    {
      "cell_type": "code",
      "metadata": {
        "id": "3VkGsFkMnCuB"
      },
      "source": [
        "import keras\n",
        "import numpy as np\n",
        "import tensorflow as tf\n",
        "\n",
        "x_train_char = x_char[:int(n_samples*0.8)]\n",
        "x_test_char = x_char[int(n_samples*0.8):]\n",
        "y_train_char = y_char[:int(n_samples*0.8)]\n",
        "y_test_char = y_char[int(n_samples*0.8):]\n",
        "## Transform the list to a numpy array\n",
        "x_train_char = np.reshape(x_train_char, (len(x_train_char), seq_char_length))\n",
        "## Onehot encoding of labels\n",
        "y_train_char = tf.keras.utils.to_categorical(np.asarray(y_train_char))\n",
        "\n",
        "x_test_char = np.reshape(x_test_char, (len(x_test_char), seq_char_length))\n",
        "y_test_char = tf.keras.utils.to_categorical(np.asarray(y_test_char))"
      ],
      "execution_count": null,
      "outputs": []
    },
    {
      "cell_type": "markdown",
      "metadata": {
        "id": "hcyzP955aukz"
      },
      "source": [
        "The definition of the model is the one given below. You will not train the model, so this piece of code is only for you to know what kind of model we trained for this task."
      ]
    },
    {
      "cell_type": "code",
      "metadata": {
        "id": "LO3FoRM1nEOe",
        "colab": {
          "base_uri": "https://localhost:8080/"
        },
        "outputId": "0f288977-8450-4054-9c32-ba24af8114c3"
      },
      "source": [
        "from keras.models import Sequential\n",
        "from keras.layers import Dense, Embedding, Dropout\n",
        "from keras.layers import LSTM\n",
        "# define the LSTM model\n",
        "embedding_size = 300\n",
        "lstm_units = 256\n",
        "\n",
        "char_gen_model = Sequential()\n",
        "char_gen_model.add(Embedding(y_train_char.shape[1],\n",
        "                    embedding_size, input_length=seq_char_length))\n",
        "char_gen_model.add(LSTM(lstm_units))\n",
        "char_gen_model.add(Dense(y_train_char.shape[1], activation='softmax'))\n",
        "\n",
        "char_gen_model.compile(loss='categorical_crossentropy', optimizer='adam')\n",
        "char_gen_model.summary()"
      ],
      "execution_count": null,
      "outputs": [
        {
          "output_type": "stream",
          "name": "stdout",
          "text": [
            "Model: \"sequential\"\n",
            "_________________________________________________________________\n",
            " Layer (type)                Output Shape              Param #   \n",
            "=================================================================\n",
            " embedding (Embedding)       (None, 100, 300)          28800     \n",
            "                                                                 \n",
            " lstm (LSTM)                 (None, 256)               570368    \n",
            "                                                                 \n",
            " dense (Dense)               (None, 96)                24672     \n",
            "                                                                 \n",
            "=================================================================\n",
            "Total params: 623840 (2.38 MB)\n",
            "Trainable params: 623840 (2.38 MB)\n",
            "Non-trainable params: 0 (0.00 Byte)\n",
            "_________________________________________________________________\n"
          ]
        }
      ]
    },
    {
      "cell_type": "markdown",
      "metadata": {
        "id": "jSgGhwym_WLx"
      },
      "source": [
        "As the training takes a while, we include a saved model that you can load to skip the training step. Use this model to compute your results."
      ]
    },
    {
      "cell_type": "code",
      "metadata": {
        "id": "xcasWx79nFcY",
        "colab": {
          "base_uri": "https://localhost:8080/"
        },
        "outputId": "10aa5567-c4a6-444c-9efe-6a037136acae"
      },
      "source": [
        "!wget https://imperialcollegelondon.box.com/shared/static/1ffasfm5bx691allukv4y8n0tglr5c06.h5 -O ./char_model.h5\n",
        "char_gen_model = keras.models.load_model(\"./char_model.h5\")"
      ],
      "execution_count": null,
      "outputs": [
        {
          "output_type": "stream",
          "name": "stdout",
          "text": [
            "--2024-02-05 16:25:48--  https://imperialcollegelondon.box.com/shared/static/1ffasfm5bx691allukv4y8n0tglr5c06.h5\n",
            "Resolving imperialcollegelondon.box.com (imperialcollegelondon.box.com)... 74.112.186.144\n",
            "Connecting to imperialcollegelondon.box.com (imperialcollegelondon.box.com)|74.112.186.144|:443... connected.\n",
            "HTTP request sent, awaiting response... 301 Moved Permanently\n",
            "Location: /public/static/1ffasfm5bx691allukv4y8n0tglr5c06.h5 [following]\n",
            "--2024-02-05 16:25:48--  https://imperialcollegelondon.box.com/public/static/1ffasfm5bx691allukv4y8n0tglr5c06.h5\n",
            "Reusing existing connection to imperialcollegelondon.box.com:443.\n",
            "HTTP request sent, awaiting response... 301 Moved Permanently\n",
            "Location: https://imperialcollegelondon.app.box.com/public/static/1ffasfm5bx691allukv4y8n0tglr5c06.h5 [following]\n",
            "--2024-02-05 16:25:48--  https://imperialcollegelondon.app.box.com/public/static/1ffasfm5bx691allukv4y8n0tglr5c06.h5\n",
            "Resolving imperialcollegelondon.app.box.com (imperialcollegelondon.app.box.com)... 74.112.186.144\n",
            "Connecting to imperialcollegelondon.app.box.com (imperialcollegelondon.app.box.com)|74.112.186.144|:443... connected.\n",
            "HTTP request sent, awaiting response... 302 Found\n",
            "Location: https://public.boxcloud.com/d/1/b1!63pVSW7_g6lRgsYlFSsXd5ds0x_lCnHuHIR5EnxsneqETz3MhTz5fnEkP17szuDlAVB9YEhe-PCxGApqa-vVZs724HiK8wgLPFWWOTU_HsmxcjMmiS26pkDPPrcflMQ-cd2M8tChz3XIn2XYw0mx2TYa3b-y4Y_pdsn7qPxqO4tkqxmctJiiB63a73H8fxKgstTZp-pWa02-JIsKNxEda2tr_veXVs1oE7-4LM10X9A6N6a_KOrVTTrc6VVoz0p5izSKhPjF5NzJihsomF26axdPPWZiIfzKRbFfviY_I0BOPzeHTNvAXgi_9sWmbT0nCs-ZaMETNsDg_jJk7nAn7lCycsJOqbwAzNXItqJ3bq_LdiNQ9sjNfQurvWh1guYmGlpglj-8zkliBMQk4_cVl8jKxl2RiunPr1r6q30NF6cj2g5eT7Pe6IwxtGeb3g89VXx3ZKLdOLwGudevl8L0V-Kgusn4uu8HDmliX-inpL6V469w-jDg33aCU7ZB1MBKP4jO6_s9e4CCs6JwBLkt80ana2XLDYpx1dzFN7BdQo4p-wVs3CHRMHg4M5fc3Tajf2Dpv6ZWfMiJA7Oqg9yMP4R_fwaGLWrITe0_KxPSUYxmFotNDOF5HIZzstEa5pmIxo8PfPbVNvzpRTxoRqqYkcLGj2DnBeAxXFIZDSUZY8hFKlWiczTutj0Ubtyqbby-nbLcBOCKlbtqNS1MNL1bNuvS1Kd-S2mkGqNyXtor7ohcZqmbJbkDvMqUC9El0zxrDfAq4NXWBPPX1wT7RhAw4CzmIUz93qwW1WKCTo6pZDe-HlBC58Ndf14KqegX-QJXhGOYmN7nuOtdJx_CKrnWXOQfgEvDpuaDjrtKL_O2nOKgAXQvp2mxtee0_klYLjyxvZpu9JI01EyuUtCuD-MGAh-3MrJZyHP9VhmZgH4G-8lw9-HXm_u49xQ4ke3S-iu0xYNH1d-z5i080Y7ZFsJXYUbTfaPrpkybyIKn4ag7af128WUw32xG0K20otZ2-7VOlp9EOG__vLSHtg0hzHCkwhT0tIqeiIcA3YRvSQNVYebVibEUrJpoFjWyxow87ZobiTPYpXYKRr0q4nfn2An3u0Z7u_GHnU6GVqceLcOksWKHNxIF0l9qOZZTttL1fixWNUTXJYQCfzMMJzk7Y97sWSyVBouHIoxxlAYVMtchqbQsqLlBClav6YpZdZxpCmaHsKDywV0Ij7wcxH_K-5lU1s_ss_w336q9qwvooHblGWQgHIxbrAXfP-9jmfrq8TipEXm4YYoDFHSm8CpT84KTP4d-vd792Wl4kunkQkiDNMIsxiMJPwKWseeQr0DTALzpfwubUpbb5zUuuw_jd9XHAsMpy5IgXCYVdHPwJMd6ajANk90ELAWxqGIZWonVIRhvaWRoFQm3v4YoS-u8qkrkB_iYmtakBx_pDecZzZGoDQ../download [following]\n",
            "--2024-02-05 16:25:49--  https://public.boxcloud.com/d/1/b1!63pVSW7_g6lRgsYlFSsXd5ds0x_lCnHuHIR5EnxsneqETz3MhTz5fnEkP17szuDlAVB9YEhe-PCxGApqa-vVZs724HiK8wgLPFWWOTU_HsmxcjMmiS26pkDPPrcflMQ-cd2M8tChz3XIn2XYw0mx2TYa3b-y4Y_pdsn7qPxqO4tkqxmctJiiB63a73H8fxKgstTZp-pWa02-JIsKNxEda2tr_veXVs1oE7-4LM10X9A6N6a_KOrVTTrc6VVoz0p5izSKhPjF5NzJihsomF26axdPPWZiIfzKRbFfviY_I0BOPzeHTNvAXgi_9sWmbT0nCs-ZaMETNsDg_jJk7nAn7lCycsJOqbwAzNXItqJ3bq_LdiNQ9sjNfQurvWh1guYmGlpglj-8zkliBMQk4_cVl8jKxl2RiunPr1r6q30NF6cj2g5eT7Pe6IwxtGeb3g89VXx3ZKLdOLwGudevl8L0V-Kgusn4uu8HDmliX-inpL6V469w-jDg33aCU7ZB1MBKP4jO6_s9e4CCs6JwBLkt80ana2XLDYpx1dzFN7BdQo4p-wVs3CHRMHg4M5fc3Tajf2Dpv6ZWfMiJA7Oqg9yMP4R_fwaGLWrITe0_KxPSUYxmFotNDOF5HIZzstEa5pmIxo8PfPbVNvzpRTxoRqqYkcLGj2DnBeAxXFIZDSUZY8hFKlWiczTutj0Ubtyqbby-nbLcBOCKlbtqNS1MNL1bNuvS1Kd-S2mkGqNyXtor7ohcZqmbJbkDvMqUC9El0zxrDfAq4NXWBPPX1wT7RhAw4CzmIUz93qwW1WKCTo6pZDe-HlBC58Ndf14KqegX-QJXhGOYmN7nuOtdJx_CKrnWXOQfgEvDpuaDjrtKL_O2nOKgAXQvp2mxtee0_klYLjyxvZpu9JI01EyuUtCuD-MGAh-3MrJZyHP9VhmZgH4G-8lw9-HXm_u49xQ4ke3S-iu0xYNH1d-z5i080Y7ZFsJXYUbTfaPrpkybyIKn4ag7af128WUw32xG0K20otZ2-7VOlp9EOG__vLSHtg0hzHCkwhT0tIqeiIcA3YRvSQNVYebVibEUrJpoFjWyxow87ZobiTPYpXYKRr0q4nfn2An3u0Z7u_GHnU6GVqceLcOksWKHNxIF0l9qOZZTttL1fixWNUTXJYQCfzMMJzk7Y97sWSyVBouHIoxxlAYVMtchqbQsqLlBClav6YpZdZxpCmaHsKDywV0Ij7wcxH_K-5lU1s_ss_w336q9qwvooHblGWQgHIxbrAXfP-9jmfrq8TipEXm4YYoDFHSm8CpT84KTP4d-vd792Wl4kunkQkiDNMIsxiMJPwKWseeQr0DTALzpfwubUpbb5zUuuw_jd9XHAsMpy5IgXCYVdHPwJMd6ajANk90ELAWxqGIZWonVIRhvaWRoFQm3v4YoS-u8qkrkB_iYmtakBx_pDecZzZGoDQ../download\n",
            "Resolving public.boxcloud.com (public.boxcloud.com)... 74.112.186.128\n",
            "Connecting to public.boxcloud.com (public.boxcloud.com)|74.112.186.128|:443... connected.\n",
            "HTTP request sent, awaiting response... 200 OK\n",
            "Length: 7525976 (7.2M) [application/octet-stream]\n",
            "Saving to: ‘./char_model.h5’\n",
            "\n",
            "./char_model.h5     100%[===================>]   7.18M  22.5MB/s    in 0.3s    \n",
            "\n",
            "2024-02-05 16:25:50 (22.5 MB/s) - ‘./char_model.h5’ saved [7525976/7525976]\n",
            "\n"
          ]
        }
      ]
    },
    {
      "cell_type": "markdown",
      "metadata": {
        "id": "MsuUE8vua77e"
      },
      "source": [
        "The code you need to evaluate the BLEU score is given below. Vary the temperature to the different needed values. It takes around 1 minute in average per temperature if `n_eval` is set to 20."
      ]
    },
    {
      "cell_type": "markdown",
      "source": [
        "blue t 1.0"
      ],
      "metadata": {
        "id": "phop5IaVPz-N"
      }
    },
    {
      "cell_type": "code",
      "metadata": {
        "id": "s5ufMSdgp0A6",
        "colab": {
          "base_uri": "https://localhost:8080/"
        },
        "outputId": "e45adc71-a5a4-425f-ec40-9e7b03dda80a"
      },
      "source": [
        "from nltk.translate.bleu_score import sentence_bleu\n",
        "import sys\n",
        "import time\n",
        "import string\n",
        "a = time.time()\n",
        "characters = sorted(list(set(data)))\n",
        "n_to_char = {n:char for n, char in enumerate(characters)}\n",
        "char_to_n = {char:n for n, char in enumerate(characters)}\n",
        "temperature = 1.0\n",
        "bleu_score = 0\n",
        "n_eval = 20\n",
        "seq_char_length = 100\n",
        "for _ in range(n_eval):\n",
        "  start = np.random.randint(0, len(x_test_char)-seq_char_length-1)\n",
        "  pattern = x_test_char[start].tolist()\n",
        "  reference = x_test_char[start+seq_char_length].tolist()\n",
        "  reference = ''.join([n_to_char[value] for value in reference])\n",
        "  # generate characters\n",
        "  output_sent = ''\n",
        "  for n_char in range(seq_char_length):\n",
        "    x = np.reshape(pattern, (1, len(pattern)))\n",
        "    prediction = char_gen_model.predict(x, verbose=0).astype(np.float64)\n",
        "    prediction = np.log(prediction + 1e-7) / (temperature + 0.01)\n",
        "    exp_preds = np.exp(prediction)\n",
        "    prediction = exp_preds / np.sum(exp_preds)\n",
        "    prediction = np.random.multinomial(1, prediction[0,:], 1)\n",
        "    index = np.argmax(prediction)\n",
        "    result = n_to_char[index]\n",
        "    output_sent += result\n",
        "    pattern.append(index)\n",
        "    pattern = pattern[1:]\n",
        "  # We filter the reference and candidate words to remove any punctuation\n",
        "  # We also use only lower case words\n",
        "  reference = reference.translate(str.maketrans('', '', string.punctuation)).replace('\\n',' ').lower().split(' ')\n",
        "  # We filter any empty element in the list\n",
        "  reference = list(filter(lambda x: x is not '', reference))\n",
        "  candidate = output_sent.replace('\\n',' ').translate(str.maketrans('', '', string.punctuation)).lower().split(' ')\n",
        "  candidate = list(filter(lambda x: x is not '', candidate))\n",
        "  # We remove the first and the last word for both the reference and candidate\n",
        "  # because they may not be completed words\n",
        "  bleu_score += sentence_bleu(reference[1:-1], candidate[1:-1])\n",
        "print(bleu_score/n_eval)"
      ],
      "execution_count": null,
      "outputs": [
        {
          "output_type": "stream",
          "name": "stderr",
          "text": [
            "<>:36: SyntaxWarning: \"is not\" with a literal. Did you mean \"!=\"?\n",
            "<>:38: SyntaxWarning: \"is not\" with a literal. Did you mean \"!=\"?\n",
            "<>:36: SyntaxWarning: \"is not\" with a literal. Did you mean \"!=\"?\n",
            "<>:38: SyntaxWarning: \"is not\" with a literal. Did you mean \"!=\"?\n",
            "<ipython-input-9-4dacbe815f74>:36: SyntaxWarning: \"is not\" with a literal. Did you mean \"!=\"?\n",
            "  reference = list(filter(lambda x: x is not '', reference))\n",
            "<ipython-input-9-4dacbe815f74>:38: SyntaxWarning: \"is not\" with a literal. Did you mean \"!=\"?\n",
            "  candidate = list(filter(lambda x: x is not '', candidate))\n",
            "/usr/local/lib/python3.10/dist-packages/nltk/translate/bleu_score.py:552: UserWarning: \n",
            "The hypothesis contains 0 counts of 2-gram overlaps.\n",
            "Therefore the BLEU score evaluates to 0, independently of\n",
            "how many N-gram overlaps of lower order it contains.\n",
            "Consider using lower n-gram order or use SmoothingFunction()\n",
            "  warnings.warn(_msg)\n",
            "/usr/local/lib/python3.10/dist-packages/nltk/translate/bleu_score.py:552: UserWarning: \n",
            "The hypothesis contains 0 counts of 3-gram overlaps.\n",
            "Therefore the BLEU score evaluates to 0, independently of\n",
            "how many N-gram overlaps of lower order it contains.\n",
            "Consider using lower n-gram order or use SmoothingFunction()\n",
            "  warnings.warn(_msg)\n",
            "/usr/local/lib/python3.10/dist-packages/nltk/translate/bleu_score.py:552: UserWarning: \n",
            "The hypothesis contains 0 counts of 4-gram overlaps.\n",
            "Therefore the BLEU score evaluates to 0, independently of\n",
            "how many N-gram overlaps of lower order it contains.\n",
            "Consider using lower n-gram order or use SmoothingFunction()\n",
            "  warnings.warn(_msg)\n"
          ]
        },
        {
          "output_type": "stream",
          "name": "stdout",
          "text": [
            "5.2351015187609914e-232\n"
          ]
        }
      ]
    },
    {
      "cell_type": "markdown",
      "source": [
        "blue t 0"
      ],
      "metadata": {
        "id": "wj1MmHDIP4xU"
      }
    },
    {
      "cell_type": "code",
      "source": [
        "from nltk.translate.bleu_score import sentence_bleu\n",
        "import sys\n",
        "import time\n",
        "import string\n",
        "a = time.time()\n",
        "characters = sorted(list(set(data)))\n",
        "n_to_char = {n:char for n, char in enumerate(characters)}\n",
        "char_to_n = {char:n for n, char in enumerate(characters)}\n",
        "temperature = 0.0\n",
        "bleu_score = 0\n",
        "n_eval = 20\n",
        "seq_char_length = 100\n",
        "for _ in range(n_eval):\n",
        "  start = np.random.randint(0, len(x_test_char)-seq_char_length-1)\n",
        "  pattern = x_test_char[start].tolist()\n",
        "  reference = x_test_char[start+seq_char_length].tolist()\n",
        "  reference = ''.join([n_to_char[value] for value in reference])\n",
        "  # generate characters\n",
        "  output_sent = ''\n",
        "  for n_char in range(seq_char_length):\n",
        "    x = np.reshape(pattern, (1, len(pattern)))\n",
        "    prediction = char_gen_model.predict(x, verbose=0).astype(np.float64)\n",
        "    prediction = np.log(prediction + 1e-7) / (temperature + 0.01)\n",
        "    exp_preds = np.exp(prediction)\n",
        "    prediction = exp_preds / np.sum(exp_preds)\n",
        "    prediction = np.random.multinomial(1, prediction[0,:], 1)\n",
        "    index = np.argmax(prediction)\n",
        "    result = n_to_char[index]\n",
        "    output_sent += result\n",
        "    pattern.append(index)\n",
        "    pattern = pattern[1:]\n",
        "  reference = reference.translate(str.maketrans('', '', string.punctuation)).replace('\\n',' ').lower().split(' ')\n",
        "  reference = list(filter(lambda x: x is not '', reference))\n",
        "  candidate = output_sent.replace('\\n',' ').translate(str.maketrans('', '', string.punctuation)).lower().split(' ')\n",
        "  candidate = list(filter(lambda x: x is not '', candidate))\n",
        "  bleu_score += sentence_bleu(reference[1:-1], candidate[1:-1])\n",
        "print(bleu_score/n_eval)"
      ],
      "metadata": {
        "colab": {
          "base_uri": "https://localhost:8080/"
        },
        "id": "pXaYJbl6P7Js",
        "outputId": "ac06c6ff-cbe9-4318-ccfd-58e266d4e43a"
      },
      "execution_count": null,
      "outputs": [
        {
          "output_type": "stream",
          "name": "stderr",
          "text": [
            "<>:33: SyntaxWarning: \"is not\" with a literal. Did you mean \"!=\"?\n",
            "<>:35: SyntaxWarning: \"is not\" with a literal. Did you mean \"!=\"?\n",
            "<>:33: SyntaxWarning: \"is not\" with a literal. Did you mean \"!=\"?\n",
            "<>:35: SyntaxWarning: \"is not\" with a literal. Did you mean \"!=\"?\n",
            "<ipython-input-33-43837d246ca9>:33: SyntaxWarning: \"is not\" with a literal. Did you mean \"!=\"?\n",
            "  reference = list(filter(lambda x: x is not '', reference))\n",
            "<ipython-input-33-43837d246ca9>:35: SyntaxWarning: \"is not\" with a literal. Did you mean \"!=\"?\n",
            "  candidate = list(filter(lambda x: x is not '', candidate))\n",
            "/usr/local/lib/python3.10/dist-packages/nltk/translate/bleu_score.py:552: UserWarning: \n",
            "The hypothesis contains 0 counts of 2-gram overlaps.\n",
            "Therefore the BLEU score evaluates to 0, independently of\n",
            "how many N-gram overlaps of lower order it contains.\n",
            "Consider using lower n-gram order or use SmoothingFunction()\n",
            "  warnings.warn(_msg)\n",
            "/usr/local/lib/python3.10/dist-packages/nltk/translate/bleu_score.py:552: UserWarning: \n",
            "The hypothesis contains 0 counts of 3-gram overlaps.\n",
            "Therefore the BLEU score evaluates to 0, independently of\n",
            "how many N-gram overlaps of lower order it contains.\n",
            "Consider using lower n-gram order or use SmoothingFunction()\n",
            "  warnings.warn(_msg)\n",
            "/usr/local/lib/python3.10/dist-packages/nltk/translate/bleu_score.py:552: UserWarning: \n",
            "The hypothesis contains 0 counts of 4-gram overlaps.\n",
            "Therefore the BLEU score evaluates to 0, independently of\n",
            "how many N-gram overlaps of lower order it contains.\n",
            "Consider using lower n-gram order or use SmoothingFunction()\n",
            "  warnings.warn(_msg)\n"
          ]
        },
        {
          "output_type": "stream",
          "name": "stdout",
          "text": [
            "7.815258624659372e-232\n"
          ]
        }
      ]
    },
    {
      "cell_type": "markdown",
      "source": [
        "blue t 2"
      ],
      "metadata": {
        "id": "uF4uP2OxQl6H"
      }
    },
    {
      "cell_type": "code",
      "source": [
        "from nltk.translate.bleu_score import sentence_bleu\n",
        "import sys\n",
        "import time\n",
        "import string\n",
        "a = time.time()\n",
        "characters = sorted(list(set(data)))\n",
        "n_to_char = {n:char for n, char in enumerate(characters)}\n",
        "char_to_n = {char:n for n, char in enumerate(characters)}\n",
        "temperature = 2.0\n",
        "bleu_score = 0\n",
        "n_eval = 20\n",
        "seq_char_length = 100\n",
        "for _ in range(n_eval):\n",
        "  start = np.random.randint(0, len(x_test_char)-seq_char_length-1)\n",
        "  pattern = x_test_char[start].tolist()\n",
        "  reference = x_test_char[start+seq_char_length].tolist()\n",
        "  reference = ''.join([n_to_char[value] for value in reference])\n",
        "  # generate characters\n",
        "  output_sent = ''\n",
        "  for n_char in range(seq_char_length):\n",
        "    x = np.reshape(pattern, (1, len(pattern)))\n",
        "    prediction = char_gen_model.predict(x, verbose=0).astype(np.float64)\n",
        "    prediction = np.log(prediction + 1e-7) / (temperature + 0.01)\n",
        "    exp_preds = np.exp(prediction)\n",
        "    prediction = exp_preds / np.sum(exp_preds)\n",
        "    prediction = np.random.multinomial(1, prediction[0,:], 1)\n",
        "    index = np.argmax(prediction)\n",
        "    result = n_to_char[index]\n",
        "    output_sent += result\n",
        "    pattern.append(index)\n",
        "    pattern = pattern[1:]\n",
        "  reference = reference.translate(str.maketrans('', '', string.punctuation)).replace('\\n',' ').lower().split(' ')\n",
        "  reference = list(filter(lambda x: x is not '', reference))\n",
        "  candidate = output_sent.replace('\\n',' ').translate(str.maketrans('', '', string.punctuation)).lower().split(' ')\n",
        "  candidate = list(filter(lambda x: x is not '', candidate))\n",
        "  bleu_score += sentence_bleu(reference[1:-1], candidate[1:-1])\n",
        "print(bleu_score/n_eval)"
      ],
      "metadata": {
        "colab": {
          "base_uri": "https://localhost:8080/"
        },
        "id": "dG9pwvu0QnX1",
        "outputId": "82dd2816-67dc-4d1d-8a15-8b1f4da668e9"
      },
      "execution_count": null,
      "outputs": [
        {
          "output_type": "stream",
          "name": "stderr",
          "text": [
            "<>:33: SyntaxWarning: \"is not\" with a literal. Did you mean \"!=\"?\n",
            "<>:35: SyntaxWarning: \"is not\" with a literal. Did you mean \"!=\"?\n",
            "<>:33: SyntaxWarning: \"is not\" with a literal. Did you mean \"!=\"?\n",
            "<>:35: SyntaxWarning: \"is not\" with a literal. Did you mean \"!=\"?\n",
            "<ipython-input-34-75f4c9f2725b>:33: SyntaxWarning: \"is not\" with a literal. Did you mean \"!=\"?\n",
            "  reference = list(filter(lambda x: x is not '', reference))\n",
            "<ipython-input-34-75f4c9f2725b>:35: SyntaxWarning: \"is not\" with a literal. Did you mean \"!=\"?\n",
            "  candidate = list(filter(lambda x: x is not '', candidate))\n"
          ]
        },
        {
          "output_type": "stream",
          "name": "stdout",
          "text": [
            "1.4197105841767285e-232\n"
          ]
        }
      ]
    },
    {
      "cell_type": "markdown",
      "metadata": {
        "id": "gVEF_WPycOnD"
      },
      "source": [
        "The code below allows you to generate sentences for different input patterns and different temperature values. You can test how the temperature values affect the quality of the output sentences for the character-level model by generating a few examples."
      ]
    },
    {
      "cell_type": "code",
      "metadata": {
        "id": "Yshz7OZGnIWX",
        "colab": {
          "base_uri": "https://localhost:8080/"
        },
        "outputId": "ec30d904-9987-40ca-aafa-c508e0f9f4d6"
      },
      "source": [
        "import sys\n",
        "# Change the temperature here\n",
        "temperature = 0.5\n",
        "# You can modify the input pattern here.\n",
        "pattern = [char_to_n[value] for value in list(\"TYRION pours himself some wine and drinks it down. He pours another glass, and walks back to CERSEI \")]\n",
        "pattern = pattern[:seq_char_length]\n",
        "print(\"\\nPredicted:\")\n",
        "# generate 300 characters\n",
        "for i in range(300):\n",
        "  x = np.reshape(pattern, (1, len(pattern)))\n",
        "  prediction = char_gen_model.predict(x, verbose=0).astype(np.float64)\n",
        "  ## We put the constant 0.02 to avoid dividing by zero\n",
        "  ## We sum by 1e-7 to avoid log(0)\n",
        "  prediction = np.log(prediction + 1e-7) / (temperature + 0.01)\n",
        "  exp_preds = np.exp(prediction)\n",
        "  prediction = exp_preds / np.sum(exp_preds)\n",
        "  ## We applied the smoothing with the temperature\n",
        "  ## Now we predict following the probabilities in the variable prediction\n",
        "  prediction = np.random.multinomial(1, prediction[0,:], 1)\n",
        "  index = np.argmax(prediction)\n",
        "  result = n_to_char[index]\n",
        "  seq_in = [n_to_char[value] for value in pattern]\n",
        "  ## Print the result\n",
        "  sys.stdout.write(result)\n",
        "\n",
        "  ## Create the input sequence for the next character by appending the predicted\n",
        "  ## character and dropping the first one to always have constant seq. length\n",
        "  pattern.append(index)\n",
        "  pattern = pattern[1:]"
      ],
      "execution_count": null,
      "outputs": [
        {
          "output_type": "stream",
          "name": "stdout",
          "text": [
            "\n",
            "Predicted:\n",
            "and she can pain with a true chained.\n",
            "JAIME: The Mountain.\n",
            "THEON: Your Grace.\n",
            "CERSEI: He had the Seven Kingdoms.\n",
            "JORAH: Why? I spoke your people.\n",
            "ARYA: You look a pleasure and the charges at her friend to hid for the wall.\n",
            "MISSANDEI: The Lord Commander.\n",
            "SAMWELL: My mother was Valyrian steel. The two"
          ]
        }
      ]
    },
    {
      "cell_type": "markdown",
      "metadata": {
        "id": "CeNwJWRN0Mue"
      },
      "source": [
        "**Word-level model**\n",
        "\n",
        "We now give the code to run the word-level model. The code is similar to the char-level model. The main difference is that we only try to predict the 2000 words most commonly used in the dataset. The reason for this limitation is to limit the size of the output layer and number of input embeddings for memory constraints."
      ]
    },
    {
      "cell_type": "code",
      "metadata": {
        "colab": {
          "base_uri": "https://localhost:8080/"
        },
        "id": "Z-XfzutEv9Ta",
        "outputId": "aa10a2d5-69bb-49cb-dba7-f84ceae8df67"
      },
      "source": [
        "from collections import Counter\n",
        "n_words = 2000\n",
        "# We preprocess the data to separate the punctuation from the words so e.g.\n",
        "# \"sword.\" and \"sword\" are not treated as separate words.\n",
        "# We also use only lower-cased words\n",
        "data_p = data.replace('.', ' . ').replace(',', ' , ').replace(':', ' : ').replace('?', ' ? ')\n",
        "data_p = data_p.replace('!', ' !').replace('\\n', ' \\n ').replace('[', ' [ ').replace(']', ' ] ')\n",
        "data_p = data_p.replace(')', ' ) ').replace('(', ' ( ').lower().split(' ')\n",
        "data_p = list(filter(lambda x: x is not '' and x is not ' ', data_p))\n",
        "common = dict(Counter(data_p).most_common(n_words))\n",
        "n_to_word = {n:word for n, word in enumerate(common.keys())}\n",
        "word_to_n = {word:n for n, word in enumerate(common.keys())}\n",
        "x_word = []\n",
        "y_word = []\n",
        "length = len(data_p)\n",
        "seq_length = 30\n",
        "for i in range(0, length-seq_length):\n",
        "  sequence = data_p[i:i + seq_length]\n",
        "  label = data_p[i + seq_length]\n",
        "  seq = []\n",
        "  if label in common:\n",
        "    for word in sequence:\n",
        "      if word in word_to_n:\n",
        "        seq.append(word_to_n[word])\n",
        "      else:\n",
        "        # If the word in the input sequence is not from the most common 2000\n",
        "        # words, we use a special token. We use the same token for all the\n",
        "        # non-common words.\n",
        "        seq.append(len(word_to_n))\n",
        "    x_word.append(seq)\n",
        "    y_word.append(word_to_n[label])\n",
        "n_samples = len(x_word)\n",
        "print('Total Samples:' , n_samples)"
      ],
      "execution_count": null,
      "outputs": [
        {
          "output_type": "stream",
          "name": "stderr",
          "text": [
            "<>:9: SyntaxWarning: \"is not\" with a literal. Did you mean \"!=\"?\n",
            "<>:9: SyntaxWarning: \"is not\" with a literal. Did you mean \"!=\"?\n",
            "<>:9: SyntaxWarning: \"is not\" with a literal. Did you mean \"!=\"?\n",
            "<>:9: SyntaxWarning: \"is not\" with a literal. Did you mean \"!=\"?\n",
            "<ipython-input-35-b39ad2243e4f>:9: SyntaxWarning: \"is not\" with a literal. Did you mean \"!=\"?\n",
            "  data_p = list(filter(lambda x: x is not '' and x is not ' ', data_p))\n",
            "<ipython-input-35-b39ad2243e4f>:9: SyntaxWarning: \"is not\" with a literal. Did you mean \"!=\"?\n",
            "  data_p = list(filter(lambda x: x is not '' and x is not ' ', data_p))\n"
          ]
        },
        {
          "output_type": "stream",
          "name": "stdout",
          "text": [
            "Total Samples: 544224\n"
          ]
        }
      ]
    },
    {
      "cell_type": "code",
      "metadata": {
        "id": "teAOmchqxvQd"
      },
      "source": [
        "import keras\n",
        "import numpy as np\n",
        "\n",
        "x_train_word = x_word[:int(n_samples*0.8)]\n",
        "x_test_word = x_word[int(n_samples*0.8):]\n",
        "y_train_word = np.array(y_word[:int(n_samples*0.8)])\n",
        "y_test_word = np.array(y_word[int(n_samples*0.8):])\n",
        "## Transform the list to a numpy array\n",
        "x_train_word = np.reshape(x_train_word, (len(x_train_word), seq_length))\n",
        "\n",
        "x_test_word = np.reshape(x_test_word, (len(x_test_word), seq_length))"
      ],
      "execution_count": null,
      "outputs": []
    },
    {
      "cell_type": "markdown",
      "metadata": {
        "id": "iJvV2NaP0yam"
      },
      "source": [
        "The definition of the word-level model we train is given below. The model is the same as in the char-level case, the only difference is the size of the output vector and the number of input embeddings."
      ]
    },
    {
      "cell_type": "code",
      "metadata": {
        "id": "myJRka3BxyUf",
        "colab": {
          "base_uri": "https://localhost:8080/"
        },
        "outputId": "25608d0f-10a1-4929-e1c7-2ff84b709e73"
      },
      "source": [
        "from keras.models import Sequential\n",
        "from keras.layers import Dense, Embedding, Dropout\n",
        "from keras.layers import LSTM\n",
        "# define the LSTM model\n",
        "embedding_size = 300\n",
        "lstm_units = 256\n",
        "\n",
        "word_gen_model = Sequential()\n",
        "word_gen_model.add(Embedding(n_words + 1,\n",
        "                    embedding_size, input_length=seq_length))\n",
        "word_gen_model.add(LSTM(lstm_units))\n",
        "word_gen_model.add(Dense(n_words + 1, activation='softmax'))\n",
        "\n",
        "word_gen_model.compile(loss='sparse_categorical_crossentropy', optimizer='adam')\n",
        "word_gen_model.summary()"
      ],
      "execution_count": null,
      "outputs": [
        {
          "output_type": "stream",
          "name": "stdout",
          "text": [
            "Model: \"sequential_5\"\n",
            "_________________________________________________________________\n",
            " Layer (type)                Output Shape              Param #   \n",
            "=================================================================\n",
            " embedding_5 (Embedding)     (None, 30, 300)           600300    \n",
            "                                                                 \n",
            " lstm_4 (LSTM)               (None, 256)               570368    \n",
            "                                                                 \n",
            " dense_5 (Dense)             (None, 2001)              514257    \n",
            "                                                                 \n",
            "=================================================================\n",
            "Total params: 1684925 (6.43 MB)\n",
            "Trainable params: 1684925 (6.43 MB)\n",
            "Non-trainable params: 0 (0.00 Byte)\n",
            "_________________________________________________________________\n"
          ]
        }
      ]
    },
    {
      "cell_type": "code",
      "metadata": {
        "id": "s10IJIxrzEUE",
        "colab": {
          "base_uri": "https://localhost:8080/"
        },
        "outputId": "9c9a0d64-57fa-4e14-f5fb-e232da7dbdc3"
      },
      "source": [
        "!wget https://imperialcollegelondon.box.com/shared/static/h38nnk3mbi0zl1w6x76uilawivpeklhz.h5 -O ./word_model.h5\n",
        "word_gen_model = keras.models.load_model(\"./word_model.h5\")"
      ],
      "execution_count": null,
      "outputs": [
        {
          "output_type": "stream",
          "name": "stdout",
          "text": [
            "--2024-02-05 17:16:13--  https://imperialcollegelondon.box.com/shared/static/h38nnk3mbi0zl1w6x76uilawivpeklhz.h5\n",
            "Resolving imperialcollegelondon.box.com (imperialcollegelondon.box.com)... 74.112.186.144\n",
            "Connecting to imperialcollegelondon.box.com (imperialcollegelondon.box.com)|74.112.186.144|:443... connected.\n",
            "HTTP request sent, awaiting response... 301 Moved Permanently\n",
            "Location: /public/static/h38nnk3mbi0zl1w6x76uilawivpeklhz.h5 [following]\n",
            "--2024-02-05 17:16:14--  https://imperialcollegelondon.box.com/public/static/h38nnk3mbi0zl1w6x76uilawivpeklhz.h5\n",
            "Reusing existing connection to imperialcollegelondon.box.com:443.\n",
            "HTTP request sent, awaiting response... 301 Moved Permanently\n",
            "Location: https://imperialcollegelondon.app.box.com/public/static/h38nnk3mbi0zl1w6x76uilawivpeklhz.h5 [following]\n",
            "--2024-02-05 17:16:14--  https://imperialcollegelondon.app.box.com/public/static/h38nnk3mbi0zl1w6x76uilawivpeklhz.h5\n",
            "Resolving imperialcollegelondon.app.box.com (imperialcollegelondon.app.box.com)... 74.112.186.144\n",
            "Connecting to imperialcollegelondon.app.box.com (imperialcollegelondon.app.box.com)|74.112.186.144|:443... connected.\n",
            "HTTP request sent, awaiting response... 302 Found\n",
            "Location: https://public.boxcloud.com/d/1/b1!z41qXqlzm2MvvcPsnrBIHlT5CoXf5FDGxul2CH68VdZnNRYWAKP8wgkFNUL22glmuRLN5uxqlsl3HkILca-54jX2N_1LT1ec54labBVF8lGqjYlj4ITJWw1kj0R9SwUX8LQ8ILF_nLU_hLfRmpYoNnoWFpy-a41pCyuCNv9iqVjzD-j5QGDC2LvylY6z9lX0GTw0MPYTaO6b3pMEy8_o2_bYdqM63rI3Dzjq47spyeku6JdQhK6F0dfKCvNLsOWhFYGAu-GCjG5ZX7I7q34gJO5fU9NtdeaUFXNU2UUugcWWxcYjCVtCb-Rj3EiVWL_E0XbnmR4MbWJudcGHFw7MUzIWx8oFTg55tK-U5HHxqp0nS672UbDQrV-CiCLME5oA0c6TkDLhFr0f4OUrd_S9Fn3N9TXiP8JQLobmH7s9vx0Nvl3DLxOjL947IyOTef8EquS-45fG_j1R0qB4YrLvZmW4gHn8j2S-9JP1VX0D4kS0nXhrTdrjNr5uypVpLzFqHFfUWf34F2n5I5ynvQyUXCLFinbvlXs4wvhn12nXjRnjFcrCVBYfXmjMO-MsNr91_8II-TfnHjsuwXXGsyG7AgtPWfsAZCZDgvORJBC86diVJDolxJ67bbBESnamcJXpvbdlW5r94GRBJlu2XFV18_Yea2-QHk6y984Ut_asdXG3G-MSDr07hr3--7WEc4IKac2Ip2vRIVpBkzp9GzIi_Atdjv98dQuIy0AAbZ1ax7Bc7WT6MRJW-P7Vri4ydpWb5zp-py8eEBZpwprvvSlL9bRnLfxUR2dT6BpCG7C9kZxzrRodR3-GgPFe6rY88cH72Xa_mJHh20DPdr05VPgsEe8Q481RwF1PckJKBHuwwOEmBubwoyYeriwS5iUjittHROaSvuiXXBi-QCROeluLYyDE6mrr4F9ErttwYp7qtMZkvJqucfR3G5YHtqr4fVRJYIVgPBLr4UU0K1ogmvBwAre2hxWRztWuH6dVR_sBaaXKmbSilQaIdH1nGTCnYlJFvm8-_ltCXpDV-EAKqdOO0QgTaB2_y040DNFttnSfqBFrTHMGGxSIrCQpFdY62XzQilAavDRrdU7j8U4nn0_KIcglkGTXJ079btB6UT2Gi1CAejCffSI3rJRvAXiz6YrvswU9Fip84PA_yvNqVuWNUVIyBNdEFGdThA0bVEof8eTRVq6t6gTPZOLgZia27NxnnIuSlDLdPxRsG1MbdHc8uG3vK_YajE0RudCBt6haAo7CsQBfHSHHYEsSM9huMBKewZEjwaHLAO6EV_sLw61VhobOISwCWsx4qByvNXXjEeE0-J9EORPpJ9QgsIcX_eo-ME5HhTr_e6EZ_OKUK3dNT6ef1FJfo6JLLr3a2HdbbD2w2qiJviOduE-JhT_MbywUtO5d6QU_cy3AbhwTve7W7SIsSBAKB-2vh9f2_dl63VXl/download [following]\n",
            "--2024-02-05 17:16:14--  https://public.boxcloud.com/d/1/b1!z41qXqlzm2MvvcPsnrBIHlT5CoXf5FDGxul2CH68VdZnNRYWAKP8wgkFNUL22glmuRLN5uxqlsl3HkILca-54jX2N_1LT1ec54labBVF8lGqjYlj4ITJWw1kj0R9SwUX8LQ8ILF_nLU_hLfRmpYoNnoWFpy-a41pCyuCNv9iqVjzD-j5QGDC2LvylY6z9lX0GTw0MPYTaO6b3pMEy8_o2_bYdqM63rI3Dzjq47spyeku6JdQhK6F0dfKCvNLsOWhFYGAu-GCjG5ZX7I7q34gJO5fU9NtdeaUFXNU2UUugcWWxcYjCVtCb-Rj3EiVWL_E0XbnmR4MbWJudcGHFw7MUzIWx8oFTg55tK-U5HHxqp0nS672UbDQrV-CiCLME5oA0c6TkDLhFr0f4OUrd_S9Fn3N9TXiP8JQLobmH7s9vx0Nvl3DLxOjL947IyOTef8EquS-45fG_j1R0qB4YrLvZmW4gHn8j2S-9JP1VX0D4kS0nXhrTdrjNr5uypVpLzFqHFfUWf34F2n5I5ynvQyUXCLFinbvlXs4wvhn12nXjRnjFcrCVBYfXmjMO-MsNr91_8II-TfnHjsuwXXGsyG7AgtPWfsAZCZDgvORJBC86diVJDolxJ67bbBESnamcJXpvbdlW5r94GRBJlu2XFV18_Yea2-QHk6y984Ut_asdXG3G-MSDr07hr3--7WEc4IKac2Ip2vRIVpBkzp9GzIi_Atdjv98dQuIy0AAbZ1ax7Bc7WT6MRJW-P7Vri4ydpWb5zp-py8eEBZpwprvvSlL9bRnLfxUR2dT6BpCG7C9kZxzrRodR3-GgPFe6rY88cH72Xa_mJHh20DPdr05VPgsEe8Q481RwF1PckJKBHuwwOEmBubwoyYeriwS5iUjittHROaSvuiXXBi-QCROeluLYyDE6mrr4F9ErttwYp7qtMZkvJqucfR3G5YHtqr4fVRJYIVgPBLr4UU0K1ogmvBwAre2hxWRztWuH6dVR_sBaaXKmbSilQaIdH1nGTCnYlJFvm8-_ltCXpDV-EAKqdOO0QgTaB2_y040DNFttnSfqBFrTHMGGxSIrCQpFdY62XzQilAavDRrdU7j8U4nn0_KIcglkGTXJ079btB6UT2Gi1CAejCffSI3rJRvAXiz6YrvswU9Fip84PA_yvNqVuWNUVIyBNdEFGdThA0bVEof8eTRVq6t6gTPZOLgZia27NxnnIuSlDLdPxRsG1MbdHc8uG3vK_YajE0RudCBt6haAo7CsQBfHSHHYEsSM9huMBKewZEjwaHLAO6EV_sLw61VhobOISwCWsx4qByvNXXjEeE0-J9EORPpJ9QgsIcX_eo-ME5HhTr_e6EZ_OKUK3dNT6ef1FJfo6JLLr3a2HdbbD2w2qiJviOduE-JhT_MbywUtO5d6QU_cy3AbhwTve7W7SIsSBAKB-2vh9f2_dl63VXl/download\n",
            "Resolving public.boxcloud.com (public.boxcloud.com)... 74.112.186.128\n",
            "Connecting to public.boxcloud.com (public.boxcloud.com)|74.112.186.128|:443... connected.\n",
            "HTTP request sent, awaiting response... 200 OK\n",
            "Length: 20254516 (19M) [application/octet-stream]\n",
            "Saving to: ‘./word_model.h5’\n",
            "\n",
            "./word_model.h5     100%[===================>]  19.32M  16.7MB/s    in 1.2s    \n",
            "\n",
            "2024-02-05 17:16:17 (16.7 MB/s) - ‘./word_model.h5’ saved [20254516/20254516]\n",
            "\n"
          ]
        }
      ]
    },
    {
      "cell_type": "code",
      "metadata": {
        "id": "GgvJiBOs5CEF",
        "colab": {
          "base_uri": "https://localhost:8080/"
        },
        "outputId": "1fc09a81-08ea-41c8-af36-7fc817f28d8b"
      },
      "source": [
        "from nltk.translate.bleu_score import sentence_bleu\n",
        "import string\n",
        "import sys\n",
        "temperature = 1.0\n",
        "bleu_score = 0\n",
        "n_eval = 20\n",
        "seq_length = 30\n",
        "for _ in range(n_eval):\n",
        "  # We look for references that do not contain any non-common words as we only\n",
        "  # learnt to predict the 2000 most common words\n",
        "  while True:\n",
        "    start = np.random.randint(0, len(x_test_word)-seq_length-1)\n",
        "    pattern = x_test_word[start].tolist()\n",
        "    reference = x_test_word[start+seq_length].tolist()\n",
        "    if n_words not in reference:\n",
        "      break\n",
        "  reference = ' '.join([n_to_word[value] for value in reference])\n",
        "  # generate words\n",
        "  output_sent = ''\n",
        "  for i in range(seq_length):\n",
        "    x = np.reshape(pattern, (1, len(pattern)))\n",
        "    prediction = word_gen_model.predict(x, verbose=0).astype(np.float64)\n",
        "    prediction = np.log(prediction + 1e-7) / (temperature + 0.01)\n",
        "    exp_preds = np.exp(prediction)\n",
        "    prediction = exp_preds / np.sum(exp_preds)\n",
        "    prediction = np.random.multinomial(1, prediction[0,:], 1)\n",
        "    index = np.argmax(prediction)\n",
        "    result = n_to_word.get(index, '')\n",
        "    output_sent += result + ' '\n",
        "    pattern.append(index)\n",
        "    pattern = pattern[1:]\n",
        "  # We filter the reference and candidate words to remove any punctuation\n",
        "  reference = reference.translate(str.maketrans('', '', string.punctuation)).replace('\\n', ' ').split(' ')\n",
        "  # We filter any empty element in the list\n",
        "  reference = list(filter(lambda x: x is not '', reference))\n",
        "  candidate = output_sent.replace('\\n',' ').translate(str.maketrans('', '', string.punctuation)).split(' ')\n",
        "  candidate = list(filter(lambda x: x is not '', candidate))\n",
        "  bleu_score += sentence_bleu([reference], candidate)\n",
        "print(bleu_score/n_eval)"
      ],
      "execution_count": null,
      "outputs": [
        {
          "output_type": "stream",
          "name": "stderr",
          "text": [
            "<>:35: SyntaxWarning: \"is not\" with a literal. Did you mean \"!=\"?\n",
            "<>:37: SyntaxWarning: \"is not\" with a literal. Did you mean \"!=\"?\n",
            "<>:35: SyntaxWarning: \"is not\" with a literal. Did you mean \"!=\"?\n",
            "<>:37: SyntaxWarning: \"is not\" with a literal. Did you mean \"!=\"?\n",
            "<ipython-input-39-d93ab4eef760>:35: SyntaxWarning: \"is not\" with a literal. Did you mean \"!=\"?\n",
            "  reference = list(filter(lambda x: x is not '', reference))\n",
            "<ipython-input-39-d93ab4eef760>:37: SyntaxWarning: \"is not\" with a literal. Did you mean \"!=\"?\n",
            "  candidate = list(filter(lambda x: x is not '', candidate))\n"
          ]
        },
        {
          "output_type": "stream",
          "name": "stdout",
          "text": [
            "4.730850184948647e-156\n"
          ]
        }
      ]
    },
    {
      "cell_type": "markdown",
      "source": [
        "blue t 0.0"
      ],
      "metadata": {
        "id": "f9S26LTaRWVe"
      }
    },
    {
      "cell_type": "code",
      "source": [
        "from nltk.translate.bleu_score import sentence_bleu\n",
        "import string\n",
        "import sys\n",
        "temperature = 0.0\n",
        "bleu_score = 0\n",
        "n_eval = 20\n",
        "seq_length = 30\n",
        "for _ in range(n_eval):\n",
        "  # We look for references that do not contain any non-common words as we only\n",
        "  # learnt to predict the 2000 most common words\n",
        "  while True:\n",
        "    start = np.random.randint(0, len(x_test_word)-seq_length-1)\n",
        "    pattern = x_test_word[start].tolist()\n",
        "    reference = x_test_word[start+seq_length].tolist()\n",
        "    if n_words not in reference:\n",
        "      break\n",
        "  reference = ' '.join([n_to_word[value] for value in reference])\n",
        "  # generate words\n",
        "  output_sent = ''\n",
        "  for i in range(seq_length):\n",
        "    x = np.reshape(pattern, (1, len(pattern)))\n",
        "    prediction = word_gen_model.predict(x, verbose=0).astype(np.float64)\n",
        "    prediction = np.log(prediction + 1e-7) / (temperature + 0.01)\n",
        "    exp_preds = np.exp(prediction)\n",
        "    prediction = exp_preds / np.sum(exp_preds)\n",
        "    prediction = np.random.multinomial(1, prediction[0,:], 1)\n",
        "    index = np.argmax(prediction)\n",
        "    result = n_to_word.get(index, '')\n",
        "    output_sent += result + ' '\n",
        "    pattern.append(index)\n",
        "    pattern = pattern[1:]\n",
        "  # We filter the reference and candidate words to remove any punctuation\n",
        "  reference = reference.translate(str.maketrans('', '', string.punctuation)).replace('\\n', ' ').split(' ')\n",
        "  # We filter any empty element in the list\n",
        "  reference = list(filter(lambda x: x is not '', reference))\n",
        "  candidate = output_sent.replace('\\n',' ').translate(str.maketrans('', '', string.punctuation)).split(' ')\n",
        "  candidate = list(filter(lambda x: x is not '', candidate))\n",
        "  bleu_score += sentence_bleu([reference], candidate)\n",
        "print(bleu_score/n_eval)"
      ],
      "metadata": {
        "colab": {
          "base_uri": "https://localhost:8080/"
        },
        "id": "Kja7u9s6RcXs",
        "outputId": "48d3ca41-85e9-41f9-da8a-762dacb55be6"
      },
      "execution_count": null,
      "outputs": [
        {
          "metadata": {
            "tags": null
          },
          "name": "stderr",
          "output_type": "stream",
          "text": [
            "<>:35: SyntaxWarning: \"is not\" with a literal. Did you mean \"!=\"?\n",
            "<>:37: SyntaxWarning: \"is not\" with a literal. Did you mean \"!=\"?\n",
            "<>:35: SyntaxWarning: \"is not\" with a literal. Did you mean \"!=\"?\n",
            "<>:37: SyntaxWarning: \"is not\" with a literal. Did you mean \"!=\"?\n",
            "<ipython-input-40-d95c57c01118>:35: SyntaxWarning: \"is not\" with a literal. Did you mean \"!=\"?\n",
            "  reference = list(filter(lambda x: x is not '', reference))\n",
            "<ipython-input-40-d95c57c01118>:37: SyntaxWarning: \"is not\" with a literal. Did you mean \"!=\"?\n",
            "  candidate = list(filter(lambda x: x is not '', candidate))\n"
          ]
        },
        {
          "metadata": {
            "tags": null
          },
          "name": "stdout",
          "output_type": "stream",
          "text": [
            "4.212114767910039e-156\n"
          ]
        }
      ]
    },
    {
      "cell_type": "markdown",
      "source": [
        "blue t 2.0"
      ],
      "metadata": {
        "id": "KXiJhlUPRdtW"
      }
    },
    {
      "cell_type": "code",
      "source": [
        "from nltk.translate.bleu_score import sentence_bleu\n",
        "import string\n",
        "import sys\n",
        "temperature = 2.0\n",
        "bleu_score = 0\n",
        "n_eval = 20\n",
        "seq_length = 30\n",
        "for _ in range(n_eval):\n",
        "  # We look for references that do not contain any non-common words as we only\n",
        "  # learnt to predict the 2000 most common words\n",
        "  while True:\n",
        "    start = np.random.randint(0, len(x_test_word)-seq_length-1)\n",
        "    pattern = x_test_word[start].tolist()\n",
        "    reference = x_test_word[start+seq_length].tolist()\n",
        "    if n_words not in reference:\n",
        "      break\n",
        "  reference = ' '.join([n_to_word[value] for value in reference])\n",
        "  # generate words\n",
        "  output_sent = ''\n",
        "  for i in range(seq_length):\n",
        "    x = np.reshape(pattern, (1, len(pattern)))\n",
        "    prediction = word_gen_model.predict(x, verbose=0).astype(np.float64)\n",
        "    prediction = np.log(prediction + 1e-7) / (temperature + 0.01)\n",
        "    exp_preds = np.exp(prediction)\n",
        "    prediction = exp_preds / np.sum(exp_preds)\n",
        "    prediction = np.random.multinomial(1, prediction[0,:], 1)\n",
        "    index = np.argmax(prediction)\n",
        "    result = n_to_word.get(index, '')\n",
        "    output_sent += result + ' '\n",
        "    pattern.append(index)\n",
        "    pattern = pattern[1:]\n",
        "  # We filter the reference and candidate words to remove any punctuation\n",
        "  reference = reference.translate(str.maketrans('', '', string.punctuation)).replace('\\n', ' ').split(' ')\n",
        "  # We filter any empty element in the list\n",
        "  reference = list(filter(lambda x: x is not '', reference))\n",
        "  candidate = output_sent.replace('\\n',' ').translate(str.maketrans('', '', string.punctuation)).split(' ')\n",
        "  candidate = list(filter(lambda x: x is not '', candidate))\n",
        "  bleu_score += sentence_bleu([reference], candidate)\n",
        "print(bleu_score/n_eval)"
      ],
      "metadata": {
        "colab": {
          "base_uri": "https://localhost:8080/"
        },
        "id": "AdDQZCRJRezQ",
        "outputId": "740ea3df-3ed2-4daf-e532-0f1845648313"
      },
      "execution_count": null,
      "outputs": [
        {
          "output_type": "stream",
          "name": "stderr",
          "text": [
            "<>:35: SyntaxWarning: \"is not\" with a literal. Did you mean \"!=\"?\n",
            "<>:37: SyntaxWarning: \"is not\" with a literal. Did you mean \"!=\"?\n",
            "<>:35: SyntaxWarning: \"is not\" with a literal. Did you mean \"!=\"?\n",
            "<>:37: SyntaxWarning: \"is not\" with a literal. Did you mean \"!=\"?\n",
            "<ipython-input-41-e462a70bf106>:35: SyntaxWarning: \"is not\" with a literal. Did you mean \"!=\"?\n",
            "  reference = list(filter(lambda x: x is not '', reference))\n",
            "<ipython-input-41-e462a70bf106>:37: SyntaxWarning: \"is not\" with a literal. Did you mean \"!=\"?\n",
            "  candidate = list(filter(lambda x: x is not '', candidate))\n"
          ]
        },
        {
          "output_type": "stream",
          "name": "stdout",
          "text": [
            "7.574367762557645e-232\n"
          ]
        }
      ]
    },
    {
      "cell_type": "code",
      "metadata": {
        "id": "hf1cYUeC27W3",
        "colab": {
          "base_uri": "https://localhost:8080/"
        },
        "outputId": "8682c05f-dfcd-4df5-b3fc-ece5a8b9e500"
      },
      "source": [
        "import sys\n",
        "# Vary the temperature here\n",
        "temperature = 1.0\n",
        "pattern = \"TYRION pours himself some wine and drinks it down. He pours another glass, and walks back to CERSEI placing his cup on her desk. He takes another glass.\\nTYRION: \"\n",
        "# Process input pattern\n",
        "pattern = pattern.replace('.', ' . ').replace(',', ' , ').replace(':', ' : ').replace('?', ' ? ')\n",
        "pattern = pattern.replace('!', ' !').replace('\\n', ' \\n ').replace('[', ' [ ').replace(']', ' ] ')\n",
        "pattern = pattern.replace(')', ' ) ').replace('(', ' ( ').lower().split(' ')\n",
        "pattern = list(filter(lambda x: x is not '' and x is not ' ', pattern))\n",
        "\n",
        "pattern = pattern[:seq_length]\n",
        "\n",
        "print(\"\\nInput Pattern:\\n\", ' '.join(pattern))\n",
        "pattern = [word_to_n.get(value, n_words) for value in pattern]\n",
        "print(\"\\nPredicted:\")\n",
        "# generate 100 words\n",
        "for i in range(100):\n",
        "  x = np.reshape(pattern, (1, len(pattern)))\n",
        "  prediction = word_gen_model.predict(x, verbose=0).astype(np.float64)\n",
        "  ## We put the constant 0.02 to avoid dividing by zero\n",
        "  ## We sum by 1e-7 to avoid log(0)\n",
        "  prediction = np.log(prediction + 1e-7) / (temperature + 0.01)\n",
        "  exp_preds = np.exp(prediction)\n",
        "  prediction = exp_preds / np.sum(exp_preds)\n",
        "  ## We applied the smoothing with the temperature\n",
        "  ## Now we predict following the probabilities in the variable prediction\n",
        "  prediction = np.random.multinomial(1, prediction[0,:], 1)\n",
        "  index = np.argmax(prediction)\n",
        "  result = n_to_word[index]\n",
        "  ## Print the result\n",
        "  sys.stdout.write(result+' ')\n",
        "\n",
        "  ## Create the input sequence for the next character by appending the predicted\n",
        "  ## character and dropping the first one to always have constant seq. length\n",
        "  pattern.append(index)\n",
        "  pattern = pattern[1:]"
      ],
      "execution_count": null,
      "outputs": [
        {
          "output_type": "stream",
          "name": "stderr",
          "text": [
            "<>:9: SyntaxWarning: \"is not\" with a literal. Did you mean \"!=\"?\n",
            "<>:9: SyntaxWarning: \"is not\" with a literal. Did you mean \"!=\"?\n",
            "<>:9: SyntaxWarning: \"is not\" with a literal. Did you mean \"!=\"?\n",
            "<>:9: SyntaxWarning: \"is not\" with a literal. Did you mean \"!=\"?\n",
            "<ipython-input-16-925ed182c56d>:9: SyntaxWarning: \"is not\" with a literal. Did you mean \"!=\"?\n",
            "  pattern = list(filter(lambda x: x is not '' and x is not ' ', pattern))\n",
            "<ipython-input-16-925ed182c56d>:9: SyntaxWarning: \"is not\" with a literal. Did you mean \"!=\"?\n",
            "  pattern = list(filter(lambda x: x is not '' and x is not ' ', pattern))\n"
          ]
        },
        {
          "output_type": "stream",
          "name": "stdout",
          "text": [
            "\n",
            "Input Pattern:\n",
            " tyrion pours himself some wine and drinks it down . he pours another glass , and walks back to cersei placing his cup on her desk . he takes another\n",
            "\n",
            "Predicted:\n",
            "out of a . \n",
            " cersei : what are they there with always ? \n",
            " lancel : i don't care what i am . he knows lord varys leads your red castle . \n",
            " int . small council room at night \n",
            " mormont and kevan and cersei step in the hall . as he walks in , the hands of the grand maester pycelle walk to his face , but lancel lannister , the lord of the crowd . \" \n",
            " joffrey moves quickly in a large crowd . \n",
            " tyrion : what are you reading ? \n",
            " tyrion : "
          ]
        }
      ]
    }
  ]
}