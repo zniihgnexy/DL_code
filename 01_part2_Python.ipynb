{
  "nbformat": 4,
  "nbformat_minor": 0,
  "metadata": {
    "colab": {
      "name": "01_part2_Python.ipynb",
      "provenance": [],
      "collapsed_sections": [],
      "toc_visible": true,
      "include_colab_link": true
    },
    "kernelspec": {
      "name": "python3",
      "display_name": "Python 3"
    }
  },
  "cells": [
    {
      "cell_type": "markdown",
      "metadata": {
        "id": "view-in-github",
        "colab_type": "text"
      },
      "source": [
        "<a href=\"https://colab.research.google.com/github/MatchLab-Imperial/deep-learning-course/blob/master/01_part2_Python.ipynb\" target=\"_parent\"><img src=\"https://colab.research.google.com/assets/colab-badge.svg\" alt=\"Open In Colab\"/></a>"
      ]
    },
    {
      "cell_type": "markdown",
      "metadata": {
        "id": "sWpAGcMXgpd1"
      },
      "source": [
        "# **Scientific packages**\n",
        "\n",
        "In this tutorial, we introduce an overview of some of the features of three scientific packages, NumPy, Pandas and Matplotlib, which are essential tools for data scientists. You will be mainly using Keras in this course, which will be introduced in the next tutorial, but having a good knowledge of NumPy, Pandas and Matplotlib will be also helpful, *e.g.*, for data visualization.\n",
        "\n"
      ]
    },
    {
      "cell_type": "markdown",
      "metadata": {
        "id": "48O3My26gzeu"
      },
      "source": [
        "## NumPy\n",
        "[Official Documentation](https://docs.scipy.org/doc/numpy/reference/)\n",
        "\n",
        "Numpy is an open-source package for scientific computing in Python. In NumPy we can find:\n",
        "\n",
        "*   Powerful N-dimensional array objects\n",
        "*   Sophisticated (broadcasting) functions\n",
        "*   Useful functions for integrating C/C++ code\n",
        "*   Linear algebra and random number capabilities\n",
        "\n",
        "\n",
        "Let's now introduce the `ndarray`, the main data structure used in NumPy.\n",
        "\n",
        "\n",
        "\n"
      ]
    },
    {
      "cell_type": "markdown",
      "metadata": {
        "id": "TMbUV9bqhqeW"
      },
      "source": [
        "### ndarray \n",
        "\n",
        "The ndarray is an efficient structure for multidimensional array facilitating broadcast and vectorization.\n",
        "\n",
        "Examples of creation of `numpy` arrays:"
      ]
    },
    {
      "cell_type": "code",
      "metadata": {
        "id": "q8-RiOvFXlO1",
        "colab": {
          "base_uri": "https://localhost:8080/"
        },
        "outputId": "aca80088-455e-4522-95b6-9c2da8256706"
      },
      "source": [
        "import numpy as np\n",
        "# Initialize an array in Numpy with a list.\n",
        "prime_numbers = np.array([2,3,5,7,11,13,17,19], dtype=np.int32)\n",
        "                          \n",
        "print(prime_numbers)\n",
        "\n",
        "## Access elements\n",
        "print(prime_numbers[0], prime_numbers[5])"
      ],
      "execution_count": null,
      "outputs": [
        {
          "output_type": "stream",
          "text": [
            "[ 2  3  5  7 11 13 17 19]\n",
            "2 13\n"
          ],
          "name": "stdout"
        }
      ]
    },
    {
      "cell_type": "code",
      "metadata": {
        "id": "xEa6AZ20E62L",
        "colab": {
          "base_uri": "https://localhost:8080/"
        },
        "outputId": "59a7174c-a8c0-40a7-f2ac-a9a272b54d04"
      },
      "source": [
        "# You can also initialize arrays with more dimensions\n",
        "a = np.array([[2,3.5,1],[1,0,4]])\n",
        "print(a)"
      ],
      "execution_count": null,
      "outputs": [
        {
          "output_type": "stream",
          "text": [
            "[[2.  3.5 1. ]\n",
            " [1.  0.  4. ]]\n"
          ],
          "name": "stdout"
        }
      ]
    },
    {
      "cell_type": "code",
      "metadata": {
        "id": "HjHCirflnvCl",
        "colab": {
          "base_uri": "https://localhost:8080/"
        },
        "outputId": "fc221690-20f5-4e5d-856d-727833b819ab"
      },
      "source": [
        "# Alternative initialization methods.\n",
        "# Forms a matrix of 3x3 filled by 0\n",
        "a = np.zeros((3,3))\n",
        "\n",
        "\n",
        "# Check the shape of the matrix\n",
        "print(a.shape)\n",
        "print(a)"
      ],
      "execution_count": null,
      "outputs": [
        {
          "output_type": "stream",
          "text": [
            "(3, 3)\n",
            "[[0. 0. 0.]\n",
            " [0. 0. 0.]\n",
            " [0. 0. 0.]]\n"
          ],
          "name": "stdout"
        }
      ]
    },
    {
      "cell_type": "code",
      "metadata": {
        "id": "etHY0EESylw3",
        "colab": {
          "base_uri": "https://localhost:8080/"
        },
        "outputId": "4531e165-757e-4d3e-df2f-467e71cd08b1"
      },
      "source": [
        "# Forms a matrix of 3x3 filled by 1\n",
        "a = np.ones((3,3))\n",
        "print(a)"
      ],
      "execution_count": null,
      "outputs": [
        {
          "output_type": "stream",
          "text": [
            "[[1. 1. 1.]\n",
            " [1. 1. 1.]\n",
            " [1. 1. 1.]]\n"
          ],
          "name": "stdout"
        }
      ]
    },
    {
      "cell_type": "code",
      "metadata": {
        "id": "8lxtqO6wyz8F",
        "colab": {
          "base_uri": "https://localhost:8080/"
        },
        "outputId": "862178d8-2fb5-49c3-e6dc-70e313c7a0d2"
      },
      "source": [
        "# Creates 2x2 identity matrix\n",
        "print(np.eye(2))\n",
        "\n",
        "# Creates a constant matrix of 2x1\n",
        "print(np.full((2,1), 3))\n",
        "\n",
        "# Creates a random matrix (uniform in range [0,1)) of 2x3\n",
        "print(np.random.random((2,3)))"
      ],
      "execution_count": null,
      "outputs": [
        {
          "output_type": "stream",
          "text": [
            "[[1. 0.]\n",
            " [0. 1.]]\n",
            "[[3]\n",
            " [3]]\n",
            "[[0.29974901 0.98656288 0.21196171]\n",
            " [0.91757602 0.01023978 0.20947346]]\n"
          ],
          "name": "stdout"
        }
      ]
    },
    {
      "cell_type": "markdown",
      "metadata": {
        "id": "9WDHr_Yn_RP-"
      },
      "source": [
        "### Indexing\n",
        "To access elements from the array, you can index them by using integers and giving an index per dimension."
      ]
    },
    {
      "cell_type": "code",
      "metadata": {
        "id": "xbq07GTC_mKV",
        "colab": {
          "base_uri": "https://localhost:8080/"
        },
        "outputId": "d78be6ac-97dc-4bc0-a4c2-a5fd78f26418"
      },
      "source": [
        "a = np.ones((2, 2))\n",
        "# To change the element (1,1) we do\n",
        "a[1,1] = 0\n",
        "\n",
        "print(a)"
      ],
      "execution_count": null,
      "outputs": [
        {
          "output_type": "stream",
          "text": [
            "[[1. 1.]\n",
            " [1. 0.]]\n"
          ],
          "name": "stdout"
        }
      ]
    },
    {
      "cell_type": "markdown",
      "metadata": {
        "id": "lk53OrrZAFBW"
      },
      "source": [
        "You can also use slices, which takes a subarray by using the format `first_index:last_index` where `last_index` is not included in the slice"
      ]
    },
    {
      "cell_type": "code",
      "metadata": {
        "id": "PJSl7iACAFfG",
        "colab": {
          "base_uri": "https://localhost:8080/"
        },
        "outputId": "877f4294-0fbd-4e83-bc6a-ecf24554dbc4"
      },
      "source": [
        "a = np.eye(5)\n",
        "print(a[0:3, 2])\n",
        "## Doing a[n] is equivalent to a[n, :]\n",
        "a[1] = 0\n",
        "print(a)"
      ],
      "execution_count": null,
      "outputs": [
        {
          "output_type": "stream",
          "text": [
            "[0. 0. 1.]\n",
            "[[1. 0. 0. 0. 0.]\n",
            " [0. 0. 0. 0. 0.]\n",
            " [0. 0. 1. 0. 0.]\n",
            " [0. 0. 0. 1. 0.]\n",
            " [0. 0. 0. 0. 1.]]\n"
          ],
          "name": "stdout"
        }
      ]
    },
    {
      "cell_type": "markdown",
      "metadata": {
        "id": "QvBxfwgfB8fZ"
      },
      "source": [
        "### Casting\n",
        "\n",
        "We can also change the type of the array."
      ]
    },
    {
      "cell_type": "code",
      "metadata": {
        "id": "e25OHL9KkJow",
        "colab": {
          "base_uri": "https://localhost:8080/"
        },
        "outputId": "89d73eb8-1deb-43a2-aaa9-d4024c4a60dd"
      },
      "source": [
        "# Type casting\n",
        "a = np.asarray([1.2, 4.3])\n",
        "a = a.astype(np.int32)\n",
        "print(a.dtype, a)"
      ],
      "execution_count": null,
      "outputs": [
        {
          "output_type": "stream",
          "text": [
            "int32 [1 4]\n"
          ],
          "name": "stdout"
        }
      ]
    },
    {
      "cell_type": "markdown",
      "metadata": {
        "id": "2_qDCjYzEGWU"
      },
      "source": [
        "### Mathematical operations\n",
        "\n",
        "We can easily do basic array math using both standard operators like `+` or numpy functions"
      ]
    },
    {
      "cell_type": "code",
      "metadata": {
        "id": "aTfqVKVMmW6R",
        "colab": {
          "base_uri": "https://localhost:8080/"
        },
        "outputId": "bfbf7283-c17d-4e8b-a6a7-76fe61dac968"
      },
      "source": [
        "# Vectorization examples\n",
        "a = np.eye(2)\n",
        "b = np.array([[2, 1.5], [3, 2.4]])\n",
        "\n",
        "sum_v = a + b\n",
        "print(sum_v)\n",
        "print(np.add(a, b))"
      ],
      "execution_count": null,
      "outputs": [
        {
          "output_type": "stream",
          "text": [
            "[[3.  1.5]\n",
            " [3.  3.4]]\n",
            "[[3.  1.5]\n",
            " [3.  3.4]]\n"
          ],
          "name": "stdout"
        }
      ]
    },
    {
      "cell_type": "code",
      "metadata": {
        "id": "9_Iq9ffeFR3l",
        "colab": {
          "base_uri": "https://localhost:8080/"
        },
        "outputId": "7188f37b-bd01-4bee-e9e2-8bc8586452ad"
      },
      "source": [
        "sub_v = a - b\n",
        "print(sub_v)\n",
        "print(np.subtract(a, b))"
      ],
      "execution_count": null,
      "outputs": [
        {
          "output_type": "stream",
          "text": [
            "[[-1.  -1.5]\n",
            " [-3.  -1.4]]\n",
            "[[-1.  -1.5]\n",
            " [-3.  -1.4]]\n"
          ],
          "name": "stdout"
        }
      ]
    },
    {
      "cell_type": "code",
      "metadata": {
        "id": "FAXi1zgcFXNc",
        "colab": {
          "base_uri": "https://localhost:8080/"
        },
        "outputId": "ae1054bb-39ae-4b72-8185-05cf5cba548c"
      },
      "source": [
        "mul_v = a * b\n",
        "print(mul_v)\n",
        "print(np.multiply(a, b))"
      ],
      "execution_count": null,
      "outputs": [
        {
          "output_type": "stream",
          "text": [
            "[[2.  0. ]\n",
            " [0.  2.4]]\n",
            "[[2.  0. ]\n",
            " [0.  2.4]]\n"
          ],
          "name": "stdout"
        }
      ]
    },
    {
      "cell_type": "code",
      "metadata": {
        "id": "mbnAyUPeFpta",
        "colab": {
          "base_uri": "https://localhost:8080/"
        },
        "outputId": "7ce446dd-5e8e-4557-e1be-995d7a2c5242"
      },
      "source": [
        "mul_v = a / b\n",
        "print(mul_v)\n",
        "print(np.divide(a, b))"
      ],
      "execution_count": null,
      "outputs": [
        {
          "output_type": "stream",
          "text": [
            "[[0.5        0.        ]\n",
            " [0.         0.41666667]]\n",
            "[[0.5        0.        ]\n",
            " [0.         0.41666667]]\n"
          ],
          "name": "stdout"
        }
      ]
    },
    {
      "cell_type": "code",
      "metadata": {
        "id": "S6jHlidIpWJw",
        "colab": {
          "base_uri": "https://localhost:8080/"
        },
        "outputId": "544ead64-6445-46af-dee6-6d2138d26a79"
      },
      "source": [
        "print(b**0.5)\n",
        "print(np.sqrt(b))\n"
      ],
      "execution_count": null,
      "outputs": [
        {
          "output_type": "stream",
          "text": [
            "[[1.41421356 1.22474487]\n",
            " [1.73205081 1.54919334]]\n",
            "[[1.41421356 1.22474487]\n",
            " [1.73205081 1.54919334]]\n"
          ],
          "name": "stdout"
        }
      ]
    },
    {
      "cell_type": "markdown",
      "metadata": {
        "id": "CJSbwk8AF52L"
      },
      "source": [
        "In MATLAB the `*` operation performs matrix multiplication, but here `*` stands for elementwise multiplication (`.*` in MATLAB). To do matrix multiplication we need to use the ```np.dot``` function."
      ]
    },
    {
      "cell_type": "code",
      "metadata": {
        "id": "VOnskJMEGRDO",
        "colab": {
          "base_uri": "https://localhost:8080/"
        },
        "outputId": "03b28289-133d-499e-dd9d-5655f31b1eeb"
      },
      "source": [
        "a = np.array([[2, 1.5], [3, 2.4]])\n",
        "b = np.eye(2)\n",
        "print(a*b)\n",
        "print(np.dot(a,b))"
      ],
      "execution_count": null,
      "outputs": [
        {
          "output_type": "stream",
          "text": [
            "[[2.  0. ]\n",
            " [0.  2.4]]\n",
            "[[2.  1.5]\n",
            " [3.  2.4]]\n"
          ],
          "name": "stdout"
        }
      ]
    },
    {
      "cell_type": "markdown",
      "metadata": {
        "id": "dgkbI--3HIMt"
      },
      "source": [
        "Some other useful operations are:"
      ]
    },
    {
      "cell_type": "code",
      "metadata": {
        "id": "LZ0GrlViHMY9",
        "colab": {
          "base_uri": "https://localhost:8080/"
        },
        "outputId": "3f1a8b02-b14a-44c8-885a-a048747128c1"
      },
      "source": [
        "# Matrix broadcast multiplication.\n",
        "A = np.random.random((2,2))\n",
        "print(A)\n",
        "\n",
        "A_inv = np.linalg.inv(A) # inverse\n",
        "print(A_inv)\n",
        "\n",
        "A_det = np.linalg.det(A) # determinant\n",
        "print(A_det)\n",
        "\n",
        "A_diag = np.diag(A) # diagonal\n",
        "print(A_diag)"
      ],
      "execution_count": null,
      "outputs": [
        {
          "output_type": "stream",
          "text": [
            "[[0.84864689 0.12337381]\n",
            " [0.01380119 0.67417887]]\n",
            "[[ 1.18186365 -0.21627942]\n",
            " [-0.02419407  1.48771337]]\n",
            "0.5704370966221498\n",
            "[0.84864689 0.67417887]\n"
          ],
          "name": "stdout"
        }
      ]
    },
    {
      "cell_type": "code",
      "metadata": {
        "id": "tMZ8VlxJHN8F",
        "colab": {
          "base_uri": "https://localhost:8080/"
        },
        "outputId": "2bdc9d26-fa53-4d07-f692-98356bff40b1"
      },
      "source": [
        "# Linear algebra operations.\n",
        "a = np.array([1,2,3])\n",
        "b = np.array([2,4,6])\n",
        "\n",
        "ab = np.inner(a,b) # inner product\n",
        "print(ab)\n",
        "\n",
        "ab = np.outer(a,b) # outer product\n",
        "print(ab)\n"
      ],
      "execution_count": null,
      "outputs": [
        {
          "output_type": "stream",
          "text": [
            "28\n",
            "[[ 2  4  6]\n",
            " [ 4  8 12]\n",
            " [ 6 12 18]]\n"
          ],
          "name": "stdout"
        }
      ]
    },
    {
      "cell_type": "markdown",
      "metadata": {
        "id": "ibZqo6LaH0OL"
      },
      "source": [
        "### Broadcasting\n",
        "NumPy allows us to do operations with arrays of different sizes. The small array will be modified to have compatible shapes with the large array. An easy example is multiplying a scalar by a matrix e.g. `3.0 * a`, where the `3.0` term is multiplied by all the elements in `a`.\n",
        "\n",
        "The basics and the rules for broadcasting are listed [here](https://docs.scipy.org/doc/numpy/user/basics.broadcasting.html).\n",
        "\n",
        "Another example is:"
      ]
    },
    {
      "cell_type": "code",
      "metadata": {
        "id": "-5QeOQ3nIyfr",
        "colab": {
          "base_uri": "https://localhost:8080/"
        },
        "outputId": "2d91e1b3-a0a3-4a56-d28f-9a0cc39bf6b0"
      },
      "source": [
        "a = np.array([2, 3, 3, 4])\n",
        "b = np.array([1, 7, 5])\n",
        "\n",
        "# We use exception handling as we introduced previously\n",
        "try:\n",
        "  a + b\n",
        "except Exception as e:\n",
        "  print(e)\n",
        "# We see that the code fails due to the arrays having different\n",
        "# shapes\n",
        "\n",
        "# However, by adding a new axis to a, due to broadcasting the output c\n",
        "# will have shape (3, 4), and the elements will be \n",
        "# c[0] = b + a[0], c[1] = b + a[1], c[2] = b + a[2], c[3] = b + a[3]\n",
        "c = a[:, np.newaxis] + b\n",
        "print(c)\n",
        "print(c[0], b + a[0])"
      ],
      "execution_count": null,
      "outputs": [
        {
          "output_type": "stream",
          "text": [
            "operands could not be broadcast together with shapes (4,) (3,) \n",
            "[[ 3  9  7]\n",
            " [ 4 10  8]\n",
            " [ 4 10  8]\n",
            " [ 5 11  9]]\n",
            "[3 9 7] [3 9 7]\n"
          ],
          "name": "stdout"
        }
      ]
    },
    {
      "cell_type": "markdown",
      "metadata": {
        "id": "ErEoIO2Hq-R1"
      },
      "source": [
        "## Pandas \n",
        "[Official Pandas Cookbook with examples](https://github.com/jvns/pandas-cookbook)\n",
        "\n",
        "\n",
        "The name comes from the term *panel data*. It is an open-source and easy-to-use data structures and data analysis tool.\n",
        "\n",
        "Main distinctive capabilities include:\n",
        "* Fast and efficient DataFrame object for data manipulation;\n",
        "* Tools for reading and writing data;\n",
        "* Data alignment and integrated handling of missing data;\n",
        "* High-performance merging and joining of data sets;\n",
        "* Hierarchical axis indexing provides an intuitive way of working with high-dimensional data in a lower-dimensional data structure."
      ]
    },
    {
      "cell_type": "code",
      "metadata": {
        "id": "OJLlRlX31mOe",
        "colab": {
          "base_uri": "https://localhost:8080/"
        },
        "outputId": "58c4850f-124f-4762-9b61-8d6f91e59428"
      },
      "source": [
        "# For pandas examples we will need a csv file to load with some data\n",
        "# We use a file from this public repo https://github.com/shantnu/Intro-to-Pandas/\n",
        "# In Colab you can use command-line commands by putting ! in front of them\n",
        "# So we use wget to download the file\n",
        "!wget https://raw.githubusercontent.com/shantnu/Intro-to-Pandas/master/hubble_data.csv"
      ],
      "execution_count": null,
      "outputs": [
        {
          "output_type": "stream",
          "text": [
            "--2021-01-12 16:08:20--  https://raw.githubusercontent.com/shantnu/Intro-to-Pandas/master/hubble_data.csv\n",
            "Resolving raw.githubusercontent.com (raw.githubusercontent.com)... 151.101.0.133, 151.101.64.133, 151.101.128.133, ...\n",
            "Connecting to raw.githubusercontent.com (raw.githubusercontent.com)|151.101.0.133|:443... connected.\n",
            "HTTP request sent, awaiting response... 200 OK\n",
            "Length: 222 [text/plain]\n",
            "Saving to: ‘hubble_data.csv.2’\n",
            "\n",
            "\rhubble_data.csv.2     0%[                    ]       0  --.-KB/s               \rhubble_data.csv.2   100%[===================>]     222  --.-KB/s    in 0s      \n",
            "\n",
            "2021-01-12 16:08:20 (8.68 MB/s) - ‘hubble_data.csv.2’ saved [222/222]\n",
            "\n"
          ],
          "name": "stdout"
        }
      ]
    },
    {
      "cell_type": "code",
      "metadata": {
        "id": "biwX2vgOvxLq",
        "colab": {
          "base_uri": "https://localhost:8080/"
        },
        "outputId": "7f542405-a114-4513-8f0f-f5d163a6d1f8"
      },
      "source": [
        "# Read a file and store its data to a dataframe, \n",
        "# which is the data structure to handle 2d data in Panda.\n",
        "import pandas as pd\n",
        "\n",
        "hubble = pd.read_csv(\"hubble_data.csv\")\n",
        "\n",
        "# We see that the dataframe has also a header (column names)\n",
        "print(hubble)"
      ],
      "execution_count": null,
      "outputs": [
        {
          "output_type": "stream",
          "text": [
            "    distance  recession_velocity\n",
            "0      0.032                 170\n",
            "1      0.034                 290\n",
            "2      0.214                -130\n",
            "3      0.263                 -70\n",
            "4      0.275                -185\n",
            "5      0.275                -220\n",
            "6      0.450                 200\n",
            "7      0.500                 290\n",
            "8      0.500                 270\n",
            "9      0.630                 200\n",
            "10     0.800                 300\n",
            "11     0.900                 -30\n",
            "12     0.900                 650\n",
            "13     0.900                 150\n",
            "14     0.900                 500\n",
            "15     1.000                 920\n",
            "16     1.100                 450\n",
            "17     1.100                 500\n",
            "18     1.400                 500\n",
            "19     1.700                 960\n",
            "20     2.000                 500\n",
            "21     2.000                 850\n",
            "22     2.000                 800\n",
            "23     2.000                1090\n"
          ],
          "name": "stdout"
        }
      ]
    },
    {
      "cell_type": "code",
      "metadata": {
        "id": "phEYnlT0zS0p",
        "colab": {
          "base_uri": "https://localhost:8080/"
        },
        "outputId": "ebb1e3ba-5d23-494e-c7a8-8ad4900617df"
      },
      "source": [
        "# Get info about the data type.\n",
        "type(hubble)"
      ],
      "execution_count": null,
      "outputs": [
        {
          "output_type": "execute_result",
          "data": {
            "text/plain": [
              "pandas.core.frame.DataFrame"
            ]
          },
          "metadata": {
            "tags": []
          },
          "execution_count": 86
        }
      ]
    },
    {
      "cell_type": "code",
      "metadata": {
        "id": "pbKPpo21zdLY",
        "colab": {
          "base_uri": "https://localhost:8080/"
        },
        "outputId": "a47046fc-84f2-4a48-f43d-c061a35bdaec"
      },
      "source": [
        "# Get info about the content of csv file.\n",
        "hubble.info()"
      ],
      "execution_count": null,
      "outputs": [
        {
          "output_type": "stream",
          "text": [
            "<class 'pandas.core.frame.DataFrame'>\n",
            "RangeIndex: 24 entries, 0 to 23\n",
            "Data columns (total 2 columns):\n",
            " #   Column              Non-Null Count  Dtype  \n",
            "---  ------              --------------  -----  \n",
            " 0   distance            24 non-null     float64\n",
            " 1   recession_velocity  24 non-null     int64  \n",
            "dtypes: float64(1), int64(1)\n",
            "memory usage: 512.0 bytes\n"
          ],
          "name": "stdout"
        }
      ]
    },
    {
      "cell_type": "code",
      "metadata": {
        "id": "GgoZulWzz4cb",
        "colab": {
          "base_uri": "https://localhost:8080/",
          "height": 111
        },
        "outputId": "fc2d0626-cc4e-494c-8a94-93c0760ae8ab"
      },
      "source": [
        "# Visualize first two rows.\n",
        "hubble.head(2)"
      ],
      "execution_count": null,
      "outputs": [
        {
          "output_type": "execute_result",
          "data": {
            "text/html": [
              "<div>\n",
              "<style scoped>\n",
              "    .dataframe tbody tr th:only-of-type {\n",
              "        vertical-align: middle;\n",
              "    }\n",
              "\n",
              "    .dataframe tbody tr th {\n",
              "        vertical-align: top;\n",
              "    }\n",
              "\n",
              "    .dataframe thead th {\n",
              "        text-align: right;\n",
              "    }\n",
              "</style>\n",
              "<table border=\"1\" class=\"dataframe\">\n",
              "  <thead>\n",
              "    <tr style=\"text-align: right;\">\n",
              "      <th></th>\n",
              "      <th>distance</th>\n",
              "      <th>recession_velocity</th>\n",
              "    </tr>\n",
              "  </thead>\n",
              "  <tbody>\n",
              "    <tr>\n",
              "      <th>0</th>\n",
              "      <td>0.032</td>\n",
              "      <td>170</td>\n",
              "    </tr>\n",
              "    <tr>\n",
              "      <th>1</th>\n",
              "      <td>0.034</td>\n",
              "      <td>290</td>\n",
              "    </tr>\n",
              "  </tbody>\n",
              "</table>\n",
              "</div>"
            ],
            "text/plain": [
              "   distance  recession_velocity\n",
              "0     0.032                 170\n",
              "1     0.034                 290"
            ]
          },
          "metadata": {
            "tags": []
          },
          "execution_count": 88
        }
      ]
    },
    {
      "cell_type": "code",
      "metadata": {
        "id": "xnuIUFde1Ara",
        "colab": {
          "base_uri": "https://localhost:8080/"
        },
        "outputId": "9a733de4-eef0-452d-e317-dcb93b164a07"
      },
      "source": [
        "# Convert dataframe to numpy array data structure.\n",
        "H = hubble.values\n",
        "type(H)"
      ],
      "execution_count": null,
      "outputs": [
        {
          "output_type": "execute_result",
          "data": {
            "text/plain": [
              "numpy.ndarray"
            ]
          },
          "metadata": {
            "tags": []
          },
          "execution_count": 89
        }
      ]
    },
    {
      "cell_type": "markdown",
      "metadata": {
        "id": "gYKpFzyQNZMP"
      },
      "source": [
        "### Indexing\n",
        "\n",
        "We can index the dataframe by the column name which will return the whole column, or by using `hubble.iloc[row_index, column_index]` "
      ]
    },
    {
      "cell_type": "code",
      "metadata": {
        "id": "UsVH4bRT1maO",
        "colab": {
          "base_uri": "https://localhost:8080/"
        },
        "outputId": "ed8a0d3d-4af8-4bd5-8593-6db99fa7669d"
      },
      "source": [
        "hubble['distance'].head(3)"
      ],
      "execution_count": null,
      "outputs": [
        {
          "output_type": "execute_result",
          "data": {
            "text/plain": [
              "0    0.032\n",
              "1    0.034\n",
              "2    0.214\n",
              "Name: distance, dtype: float64"
            ]
          },
          "metadata": {
            "tags": []
          },
          "execution_count": 90
        }
      ]
    },
    {
      "cell_type": "code",
      "metadata": {
        "id": "RfdD08ouN6JV",
        "colab": {
          "base_uri": "https://localhost:8080/"
        },
        "outputId": "bfea937d-9c9e-46d2-9c63-a69f2e1631de"
      },
      "source": [
        "# This returns the same as above\n",
        "hubble.iloc[:, 0].head(3)"
      ],
      "execution_count": null,
      "outputs": [
        {
          "output_type": "execute_result",
          "data": {
            "text/plain": [
              "0    0.032\n",
              "1    0.034\n",
              "2    0.214\n",
              "Name: distance, dtype: float64"
            ]
          },
          "metadata": {
            "tags": []
          },
          "execution_count": 91
        }
      ]
    },
    {
      "cell_type": "code",
      "metadata": {
        "id": "W9rGwR03Oe0V",
        "colab": {
          "base_uri": "https://localhost:8080/"
        },
        "outputId": "841ca394-8742-483f-e4f1-5168e7f7324b"
      },
      "source": [
        "# Now it returns the first row\n",
        "hubble.iloc[0]"
      ],
      "execution_count": null,
      "outputs": [
        {
          "output_type": "execute_result",
          "data": {
            "text/plain": [
              "distance                0.032\n",
              "recession_velocity    170.000\n",
              "Name: 0, dtype: float64"
            ]
          },
          "metadata": {
            "tags": []
          },
          "execution_count": 92
        }
      ]
    },
    {
      "cell_type": "code",
      "metadata": {
        "id": "p2_8eWBe2i-E",
        "colab": {
          "base_uri": "https://localhost:8080/"
        },
        "outputId": "5bfb8ad9-7f9d-4c90-f22f-5f04a323c91e"
      },
      "source": [
        "# Check data type of a dataframe column, which is expected to be series:\n",
        "# while data frames is for 2d data, series is a data structure for 1d data.\n",
        "type(hubble['distance'])"
      ],
      "execution_count": null,
      "outputs": [
        {
          "output_type": "execute_result",
          "data": {
            "text/plain": [
              "pandas.core.series.Series"
            ]
          },
          "metadata": {
            "tags": []
          },
          "execution_count": 93
        }
      ]
    },
    {
      "cell_type": "code",
      "metadata": {
        "id": "H_Kq_HqIy10B",
        "colab": {
          "base_uri": "https://localhost:8080/",
          "height": 204
        },
        "outputId": "6fc8594f-5cf9-41d7-f4ea-0732e4ba2979"
      },
      "source": [
        "# Access to data using some criterions similarly to a query in SQL,\n",
        "# for example, the following code gives as output all the rows\n",
        "# where the recession_velocity is negative.\n",
        "# Note that while previously we have seen that Panda indexing refers to columns,  \n",
        "# now we are selecting rows\n",
        "hubble[hubble['recession_velocity'] < 0]"
      ],
      "execution_count": null,
      "outputs": [
        {
          "output_type": "execute_result",
          "data": {
            "text/html": [
              "<div>\n",
              "<style scoped>\n",
              "    .dataframe tbody tr th:only-of-type {\n",
              "        vertical-align: middle;\n",
              "    }\n",
              "\n",
              "    .dataframe tbody tr th {\n",
              "        vertical-align: top;\n",
              "    }\n",
              "\n",
              "    .dataframe thead th {\n",
              "        text-align: right;\n",
              "    }\n",
              "</style>\n",
              "<table border=\"1\" class=\"dataframe\">\n",
              "  <thead>\n",
              "    <tr style=\"text-align: right;\">\n",
              "      <th></th>\n",
              "      <th>distance</th>\n",
              "      <th>recession_velocity</th>\n",
              "    </tr>\n",
              "  </thead>\n",
              "  <tbody>\n",
              "    <tr>\n",
              "      <th>2</th>\n",
              "      <td>0.214</td>\n",
              "      <td>-130</td>\n",
              "    </tr>\n",
              "    <tr>\n",
              "      <th>3</th>\n",
              "      <td>0.263</td>\n",
              "      <td>-70</td>\n",
              "    </tr>\n",
              "    <tr>\n",
              "      <th>4</th>\n",
              "      <td>0.275</td>\n",
              "      <td>-185</td>\n",
              "    </tr>\n",
              "    <tr>\n",
              "      <th>5</th>\n",
              "      <td>0.275</td>\n",
              "      <td>-220</td>\n",
              "    </tr>\n",
              "    <tr>\n",
              "      <th>11</th>\n",
              "      <td>0.900</td>\n",
              "      <td>-30</td>\n",
              "    </tr>\n",
              "  </tbody>\n",
              "</table>\n",
              "</div>"
            ],
            "text/plain": [
              "    distance  recession_velocity\n",
              "2      0.214                -130\n",
              "3      0.263                 -70\n",
              "4      0.275                -185\n",
              "5      0.275                -220\n",
              "11     0.900                 -30"
            ]
          },
          "metadata": {
            "tags": []
          },
          "execution_count": 94
        }
      ]
    },
    {
      "cell_type": "code",
      "metadata": {
        "id": "EZ4DzTBy6OGn",
        "colab": {
          "base_uri": "https://localhost:8080/"
        },
        "outputId": "228d434d-5c27-4de1-b781-b2b161327f74"
      },
      "source": [
        "# Skip 15 rows in the footer while reading input file.\n",
        "# This is particularly useful when there is irrelevant content in the footer.\n",
        "hubble = pd.read_csv(\"hubble_data.csv\",engine='python',skipfooter=15)\n",
        "print(hubble)\n"
      ],
      "execution_count": null,
      "outputs": [
        {
          "output_type": "stream",
          "text": [
            "   distance  recession_velocity\n",
            "0     0.032                 170\n",
            "1     0.034                 290\n",
            "2     0.214                -130\n",
            "3     0.263                 -70\n",
            "4     0.275                -185\n",
            "5     0.275                -220\n",
            "6     0.450                 200\n",
            "7     0.500                 290\n",
            "8     0.500                 270\n"
          ],
          "name": "stdout"
        }
      ]
    },
    {
      "cell_type": "code",
      "metadata": {
        "id": "05ICIcqF4-qS",
        "colab": {
          "base_uri": "https://localhost:8080/"
        },
        "outputId": "c8bd2cbb-a559-4710-f2d0-b92ef1a9dfce"
      },
      "source": [
        "# In some cases it may be necessary to rename column names, \n",
        "# for example, to make them shorter and more readable like in the following case\n",
        "hubble.columns"
      ],
      "execution_count": null,
      "outputs": [
        {
          "output_type": "execute_result",
          "data": {
            "text/plain": [
              "Index(['distance', 'recession_velocity'], dtype='object')"
            ]
          },
          "metadata": {
            "tags": []
          },
          "execution_count": 96
        }
      ]
    },
    {
      "cell_type": "code",
      "metadata": {
        "id": "VXeIaw985-oM",
        "colab": {
          "base_uri": "https://localhost:8080/"
        },
        "outputId": "b1dce9b3-b082-435b-f2b2-92123c76ee00"
      },
      "source": [
        "# Rename column names.\n",
        "hubble.columns = [\"dist\", \"rec_vel\"]\n",
        "hubble['dist'].head(2)"
      ],
      "execution_count": null,
      "outputs": [
        {
          "output_type": "execute_result",
          "data": {
            "text/plain": [
              "0    0.032\n",
              "1    0.034\n",
              "Name: dist, dtype: float64"
            ]
          },
          "metadata": {
            "tags": []
          },
          "execution_count": 97
        }
      ]
    },
    {
      "cell_type": "code",
      "metadata": {
        "id": "jz_2ug4oCavp",
        "colab": {
          "base_uri": "https://localhost:8080/"
        },
        "outputId": "5f5b4f63-9f47-4dd7-868b-5bd65396f530"
      },
      "source": [
        "# Panda includes some tools to make sophisticate operations with data\n",
        "# using the apply() function and lambda (anonymous) functions\n",
        "hubble['dist'] = hubble.apply(lambda row: row['dist'] + row['rec_vel']/10000, axis=1)\n",
        "print(hubble['dist'])"
      ],
      "execution_count": null,
      "outputs": [
        {
          "output_type": "stream",
          "text": [
            "0    0.0490\n",
            "1    0.0630\n",
            "2    0.2010\n",
            "3    0.2560\n",
            "4    0.2565\n",
            "5    0.2530\n",
            "6    0.4700\n",
            "7    0.5290\n",
            "8    0.5270\n",
            "Name: dist, dtype: float64\n"
          ],
          "name": "stdout"
        }
      ]
    },
    {
      "cell_type": "code",
      "metadata": {
        "id": "dWFoUiMzIbKy",
        "colab": {
          "base_uri": "https://localhost:8080/"
        },
        "outputId": "7d83afae-676c-4557-ff76-01a18c3c490d"
      },
      "source": [
        "# We can also use apply to perform a global operation to a dataframe.\n",
        "import numpy as np\n",
        "hubble = hubble.apply(np.max, axis=0)\n",
        "print(hubble)"
      ],
      "execution_count": null,
      "outputs": [
        {
          "output_type": "stream",
          "text": [
            "dist         0.529\n",
            "rec_vel    290.000\n",
            "dtype: float64\n"
          ],
          "name": "stdout"
        }
      ]
    },
    {
      "cell_type": "markdown",
      "metadata": {
        "id": "Pg4a-k70aLsI"
      },
      "source": [
        "## Matplotlib\n",
        "[Official Usage Guide](https://matplotlib.org/tutorials/introductory/usage.html#sphx-glr-tutorials-introductory-usage-py)\n",
        "\n",
        "Matplotlib is a Python plotting library. Matplotlib allows us to generate plots, histograms, power spectra, bar charts, error charts or scatterplots with just a few lines of code.\n",
        "\n",
        "\n",
        "\n",
        "\n",
        "\n"
      ]
    },
    {
      "cell_type": "code",
      "metadata": {
        "id": "2ePBnB4Ib_jW",
        "colab": {
          "base_uri": "https://localhost:8080/",
          "height": 295
        },
        "outputId": "80253cce-bbdb-4525-e78e-ea309d551b6f"
      },
      "source": [
        "# Plot a graph\n",
        "import matplotlib.pyplot as plt\n",
        "import numpy as np\n",
        "x= np.linspace(1*-2*np.pi,2*np.pi,100)\n",
        "y= np.sin(x)\n",
        "plt.plot(x,y)\n",
        "plt.xlabel('x')\n",
        "plt.ylabel('sin(x)')\n",
        "plt.title('My first graph')\n",
        "plt.show()"
      ],
      "execution_count": null,
      "outputs": [
        {
          "output_type": "display_data",
          "data": {
            "image/png": "[encoded data removed]",
            "text/plain": [
              "<Figure size 432x288 with 1 Axes>"
            ]
          },
          "metadata": {
            "tags": [],
            "needs_background": "light"
          }
        }
      ]
    },
    {
      "cell_type": "code",
      "metadata": {
        "id": "65CtRjV94y2r"
      },
      "source": [
        "# Download another example\n",
        "!wget -q https://raw.githubusercontent.com/ageron/handson-ml/master/datasets/housing/housing.csv"
      ],
      "execution_count": null,
      "outputs": []
    },
    {
      "cell_type": "code",
      "metadata": {
        "id": "IJRT6Cf0fXe-",
        "colab": {
          "base_uri": "https://localhost:8080/",
          "height": 331
        },
        "outputId": "d77b114d-5343-4b23-f937-52b3c56f59a5"
      },
      "source": [
        "# Scatter plot\n",
        "housing = pd.read_csv(\"housing.csv\").values\n",
        "x=housing[:,0]\n",
        "y=housing[:,1]\n",
        "print(x)\n",
        "print(y)\n",
        "plt.scatter(x,y)\n",
        "plt.xlabel('longitude')\n",
        "plt.ylabel('latitude')\n",
        "plt.title('latitude')\n",
        "plt.show()\n"
      ],
      "execution_count": null,
      "outputs": [
        {
          "output_type": "stream",
          "text": [
            "[-122.23 -122.22 -122.24 ... -121.22 -121.32 -121.24]\n",
            "[37.88 37.86 37.85 ... 39.43 39.43 39.37]\n"
          ],
          "name": "stdout"
        },
        {
          "output_type": "display_data",
          "data": {
            "image/png": "[encoded data removed]",
            "text/plain": [
              "<Figure size 432x288 with 1 Axes>"
            ]
          },
          "metadata": {
            "tags": [],
            "needs_background": "light"
          }
        }
      ]
    },
    {
      "cell_type": "code",
      "metadata": {
        "id": "wzOsZns_ilGU",
        "colab": {
          "base_uri": "https://localhost:8080/",
          "height": 279
        },
        "outputId": "64c6ba8a-9d3b-44b8-f15d-b4ea8b1a42ab"
      },
      "source": [
        "# Plot histograms\n",
        "population = housing[:,5].astype(int)\n",
        "plt.xlabel('population')\n",
        "plt.ylabel('count')\n",
        "plt.hist(population, bins=50, range=(0, 5000))\n",
        "plt.show()"
      ],
      "execution_count": null,
      "outputs": [
        {
          "output_type": "display_data",
          "data": {
            "image/png": "[encoded data removed]",
            "text/plain": [
              "<Figure size 432x288 with 1 Axes>"
            ]
          },
          "metadata": {
            "tags": [],
            "needs_background": "light"
          }
        }
      ]
    },
    {
      "cell_type": "code",
      "metadata": {
        "id": "kUwmPVVqiru2"
      },
      "source": [
        "# Visualizing images\n",
        "!wget -q -O cat.jpg https://www.catster.com/wp-content/uploads/2018/07/Savannah-cat-long-body-shot.jpg\n",
        "import matplotlib.image as mpimg\n",
        "img = mpimg.imread('cat.jpg')\n"
      ],
      "execution_count": null,
      "outputs": []
    },
    {
      "cell_type": "code",
      "metadata": {
        "id": "BcVqroSc4MO-",
        "colab": {
          "base_uri": "https://localhost:8080/",
          "height": 269
        },
        "outputId": "f09a7357-2fd7-4e19-92fe-7693b1207178"
      },
      "source": [
        "imgplot = plt.imshow(img)"
      ],
      "execution_count": null,
      "outputs": [
        {
          "output_type": "display_data",
          "data": {
            "image/png": "[encoded data removed]",
            "text/plain": [
              "<Figure size 432x288 with 1 Axes>"
            ]
          },
          "metadata": {
            "tags": [],
            "needs_background": "light"
          }
        }
      ]
    }
  ]
}