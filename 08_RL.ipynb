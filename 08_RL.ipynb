{
  "nbformat": 4,
  "nbformat_minor": 0,
  "metadata": {
    "colab": {
      "name": "08_RL.ipynb",
      "provenance": [],
      "collapsed_sections": [],
      "toc_visible": true,
      "include_colab_link": true
    },
    "kernelspec": {
      "name": "python3",
      "display_name": "Python 3"
    },
    "accelerator": "GPU"
  },
  "cells": [
    {
      "cell_type": "markdown",
      "metadata": {
        "id": "view-in-github",
        "colab_type": "text"
      },
      "source": [
        "<a href=\"https://colab.research.google.com/github/MatchLab-Imperial/deep-learning-course/blob/master/08_RL.ipynb\" target=\"_parent\"><img src=\"https://colab.research.google.com/assets/colab-badge.svg\" alt=\"Open In Colab\"/></a>"
      ]
    },
    {
      "cell_type": "markdown",
      "metadata": {
        "id": "2gPhGQSZ1era"
      },
      "source": [
        "# Deep Reinforcement Learning: An Introduction\n",
        "\n",
        "In this tutorial, we will enter the world of Deep Reinforcement Learning (DRL). In particular, we will first familiarize ourselves with some basic concepts of Reinforcement Learning (RL), then we will implement a classical tabular Q-learning method for the classic [Frozen Lake](https://gym.openai.com/envs/FrozenLake-v0/) puzzle and finally, implement a Deep Q-learning approach for the [CartPole](https://gym.openai.com/envs/CartPole-v1/) problem.\n",
        "\n",
        "\n",
        "> \n",
        "\n",
        "\n",
        "\n",
        "![alt text](https://media2.giphy.com/media/46ib09ZL1SdWuREnj3/giphy.gif?cid=3640f6095c6e92762f3446634d90bc65) ![alt text](https://media0.giphy.com/media/d9QiBcfzg64Io/200w.webp?cid=3640f6095c6e93e92f30655873731752)![alt text](https://i.gifer.com/GpAY.gif)\n",
        "\n",
        "The gifs above, show the results obtained by [Deepmind](https://arxiv.org/pdf/1312.5602v1.pdf) in one of their latest papers. They successfully trained an RL agent using deep Q-learning to play classical Atari arcade games. Let's see now how they did it.\n",
        "\n",
        "\n",
        "\n",
        "\n",
        "\n",
        "\n"
      ]
    },
    {
      "cell_type": "markdown",
      "metadata": {
        "id": "wmpPzxlbwvxI"
      },
      "source": [
        "# Q-Learning \n",
        "\n",
        "This family of RL methods try to learn an approximator of the action-value functions $Q(s,a)$  based on the [Bellman equation](https://en.wikipedia.org/wiki/Bellman_equation), such that the update using a classical [gradient descent ](https://en.wikipedia.org/wiki/Gradient_descent) formulation is given by:\n",
        "$$Q\\left(s,a\\right)=Q\\left(s,a\\right)+ \\alpha \\left(r+\\gamma \\max _{a} Q\\left(s_{t+1},a\\right)-Q\\left(s,a\\right)\\right).$$\n",
        "Where $\\alpha$ is the step size. \n",
        " Q-Learning updates the estimated reward at each time step and  uses the old estimate $ \\max _{a}Q\\left(s_{t+1},a\\right)$ to update the new ones. In a more algorithmic way, the Q-Learning process is the following:\n",
        "\n",
        "\n",
        "1.   Initialize Q-values at random $Q\\left(s,a\\right)$.\n",
        "2. Forever or until learning is stopped do:\n",
        "> 1.  Observe state $s$.\n",
        "> 2.   Take action $a$ according to your policy, e.g., $\\epsilon$-greedy.\n",
        "> 3.   Observe reward $r$ and new state $s_{t+1}$.\n",
        "> 4. Based on your actual estimates, compute $\\max _{a}Q\\left(s_{t+1},a\\right)$.\n",
        "> 5. Update your current estimate for  $Q\\left(s,a\\right)$:\n",
        "$$Q\\left(s,a\\right)=Q\\left(s,a\\right)+ \\alpha \\left(r+\\gamma \\max _{a} Q\\left(s_{t+1},a\\right)-Q\\left(s,a\\right)\\right).$$\n",
        "\n",
        "Okay, now that we are familiar with Q-Learning lets jump to a real implementation of it.\n",
        "\n",
        "\n",
        "\n",
        "\n"
      ]
    },
    {
      "cell_type": "markdown",
      "metadata": {
        "id": "p_9McSwZh5sT"
      },
      "source": [
        "\n",
        "## Tabular Q-Learning with Frozen Lake\n",
        "In this section we will teach an agent how to play  the [Frozen lake](https://gym.openai.com/envs/FrozenLake-v0/) game using a classical tabular Q-learning. Brace yourselves, winter is coming! \n",
        "\n",
        "![alt text](https://raw.githubusercontent.com/simoninithomas/Deep_reinforcement_learning_Course/1ee37cfc3130057f828f19b3cee6066d41c1eeb4/Q%20learning/FrozenLake/frozenlake.png)\n",
        "\n",
        "Winter has arrived and you and your friends were tossing around a frisbee at the park when you made a wild throw that left the frisbee out in the middle of the lake. The water is mostly frozen, but there are a few holes where the ice has melted. If you step into one of those holes, you'll fall into the freezing water. At this time, there's an international frisbee shortage, so you must navigate across the lake and retrieve the disc. However, the ice is slippery, so you won't always move in the direction you intend.\n",
        "The goal of this game is to go from the starting state (S) to the goal state (G) by walking only on frozen tiles (F) and avoid holes (H). However, the ice is slippery (!!), so you won't always move in the direction you intend (stochastic environment), i.e., there is a probability $p$ that you move in the direction selected and a probability $(1-p)$ that given the slippery ice, you move to a random position near position. Specifically, let's say you select the action UP, you have a probability of 1/3 of actually going UP, 1/3 of going RIGHT and 1/3 of going LEFT. Similarly, if you select LEFT, you have a probability of 1/3 of actually going LEFT, 1/3 of going UP and 1/3 of going DOWN.\n",
        "\n",
        "The lake is represented by a 4x4 grid and the location where the frisbee has landed (G) as well as the holes (H) is always the same for every new game. The game is restarted every time you have successfully recovered the frisbee or you have fallen into the cold waters. A reward of +1 is given every time you recover the frisbee and 0 other way.\n"
      ]
    },
    {
      "cell_type": "markdown",
      "metadata": {
        "id": "nNrutC72jZRZ"
      },
      "source": [
        "**Step 0: Import the needed libraries:**\n",
        "\n",
        "We will be using 3 libraries:\n",
        "\n",
        "* Numpy for our Qtable.\n",
        "* OpenAI Gym for our FrozenLake Environment\n",
        "* Random to generate random numbers\n",
        "\n"
      ]
    },
    {
      "cell_type": "code",
      "metadata": {
        "id": "Q0OxrnpgjyFh"
      },
      "source": [
        "from IPython.display import HTML\n",
        "import numpy as np\n",
        "import gym\n",
        "import random"
      ],
      "execution_count": null,
      "outputs": []
    },
    {
      "cell_type": "markdown",
      "metadata": {
        "id": "p-Nx8PYnj4I5"
      },
      "source": [
        "**Environment creation:**\n",
        "\n",
        "OpenAi is  a library composed of many environments that we can use to train our agents, in our case we choose to use the Frozen Lake."
      ]
    },
    {
      "cell_type": "code",
      "metadata": {
        "id": "DWgurerLkNLe"
      },
      "source": [
        "env = gym.make(\"FrozenLake-v0\")"
      ],
      "execution_count": null,
      "outputs": []
    },
    {
      "cell_type": "markdown",
      "metadata": {
        "id": "BeaPjILgkS7Z"
      },
      "source": [
        "**Q-table**\n",
        "\n",
        " Now, we'll create our Q-table. The goal of the Q-table is to store the estimates $Q\\left(s,a\\right)$ and retrieve them when necessary. In this game the states are represented by each of the 16 grid positions being 0 the starting position and 16 the goal position and the actions are 4: left, right, up and down. Our Q-table will have then $16 \\times 4$ positions, where the value of the first column of the first row represents the expected return of being in position 0 and taking left.\n",
        " \n",
        "The number of rows (states) and columns (actions) the table will have can also be obtained using the values action_size and the state_size from the OpenAI Gym library: *env.action_space.n* and* env.observation_space.n*.\n",
        " \n",
        "We initialize the table to 0."
      ]
    },
    {
      "cell_type": "code",
      "metadata": {
        "id": "eintO6cYk5qN",
        "colab": {
          "base_uri": "https://localhost:8080/"
        },
        "outputId": "b92c011f-6ed8-454f-9a3e-18c5adcb9da4"
      },
      "source": [
        "action_size = env.action_space.n\n",
        "state_size = env.observation_space.n\n",
        "qtable = np.zeros((state_size, action_size))\n",
        "print(qtable)"
      ],
      "execution_count": null,
      "outputs": [
        {
          "output_type": "stream",
          "text": [
            "[[0. 0. 0. 0.]\n",
            " [0. 0. 0. 0.]\n",
            " [0. 0. 0. 0.]\n",
            " [0. 0. 0. 0.]\n",
            " [0. 0. 0. 0.]\n",
            " [0. 0. 0. 0.]\n",
            " [0. 0. 0. 0.]\n",
            " [0. 0. 0. 0.]\n",
            " [0. 0. 0. 0.]\n",
            " [0. 0. 0. 0.]\n",
            " [0. 0. 0. 0.]\n",
            " [0. 0. 0. 0.]\n",
            " [0. 0. 0. 0.]\n",
            " [0. 0. 0. 0.]\n",
            " [0. 0. 0. 0.]\n",
            " [0. 0. 0. 0.]]\n"
          ],
          "name": "stdout"
        }
      ]
    },
    {
      "cell_type": "markdown",
      "metadata": {
        "id": "G06GlU14k_JG"
      },
      "source": [
        "**Hyperparameters**\n",
        "\n",
        "Following, we specify the hyperparameters:\n"
      ]
    },
    {
      "cell_type": "code",
      "metadata": {
        "id": "SYWdb_rHlFzq"
      },
      "source": [
        "total_episodes = 25000        # Total episodes\n",
        "learning_rate = 0.8           # Learning rate (alpha in the previous formulation)\n",
        "max_steps = 99                # Max steps per episode\n",
        "gamma = 0.95                  # Discounting rate"
      ],
      "execution_count": null,
      "outputs": []
    },
    {
      "cell_type": "markdown",
      "metadata": {
        "id": "NVb-8n8Jlkhs"
      },
      "source": [
        "At first, we don't know how to interact with the environment (Q-table values set to 0), so we start exploring it by taking a random action with probability $\\epsilon=1$, capturing the rewards obtained and updating the Q-values of the table accordingly. As time passes by, we start knowing more and more the environment, so we reduce (decay_rate) the probability of taking a random action and we start exploiting our knowledge, we choose the action that leads us to the highest reward, i.e., the one with the highest Q-value."
      ]
    },
    {
      "cell_type": "code",
      "metadata": {
        "id": "rXq90uCMllKE"
      },
      "source": [
        "# Exploration parameters\n",
        "epsilon = 1.0                 # Exploration rate\n",
        "max_epsilon = 1.0             # Exploration probability at start\n",
        "min_epsilon = 0.01            # Minimum exploration probability \n",
        "decay_rate = 0.005             # Exponential decay rate for exploration prob"
      ],
      "execution_count": null,
      "outputs": []
    },
    {
      "cell_type": "markdown",
      "metadata": {
        "id": "mVu4B3F2lLl8"
      },
      "source": [
        "**Q-Learning**\n",
        "\n",
        "Now we implement the Q-Learning algorithm: \n",
        "> 1.  Observe state $s$.\n",
        "> 2.   Choose a random value $v$ between 0 and 1.\n",
        "> 3. If $v<\\epsilon$, we choose a random action, otherwise we select the action with maximum $Q(s,a)$.\n",
        "> 3.   Observe reward $r$ and new state $s_{t+1}$.\n",
        "> 4. Based on your previous estimates, compute $\\max _{a}Q\\left(s_{t+1},a\\right)$.\n",
        "> 5. Update your current estimates for  $Q\\left(s,a\\right)$:\n",
        "$$Q\\left(s,a\\right)=Q\\left(s,a\\right)+ \\alpha \\left(r+\\gamma \\max _{a} Q\\left(s_{t+1},a\\right)-Q\\left(s,a\\right)\\right).$$\n"
      ]
    },
    {
      "cell_type": "code",
      "metadata": {
        "id": "eYbqMpg-liRd",
        "colab": {
          "base_uri": "https://localhost:8080/"
        },
        "outputId": "3226ea97-2048-4042-8790-b62512dd8058"
      },
      "source": [
        "# List of rewards\n",
        "rewards = []\n",
        "\n",
        "for episode in range(total_episodes):\n",
        "    # Reset the environment\n",
        "    state = env.reset()\n",
        "    step = 0\n",
        "    done = False\n",
        "    total_rewards = 0\n",
        "    \n",
        "    for step in range(max_steps):\n",
        "        # 3. Choose an action a in the current world state (s)\n",
        "        ## First we randomize a number\n",
        "        exp_exp_tradeoff = random.uniform(0, 1)\n",
        "        \n",
        "        ## If this number > greater than epsilon --> exploitation (taking the biggest Q value for this state)\n",
        "        if exp_exp_tradeoff > epsilon:\n",
        "            action = np.argmax(qtable[state,:])\n",
        "\n",
        "        # Else doing a random choice --> exploration\n",
        "        else:\n",
        "            action = env.action_space.sample()\n",
        "\n",
        "        # Take the action (a) and observe the outcome state(s') and reward (r)\n",
        "        new_state, reward, done, info = env.step(action)\n",
        "\n",
        "        # Update Q(s,a):= Q(s,a) + lr [R(s,a) + gamma * max Q(s',a') - Q(s,a)]\n",
        "        # qtable[new_state,:] : all the actions we can take from new state\n",
        "        qtable[state, action] = qtable[state, action] + learning_rate * (reward + gamma * np.max(qtable[new_state, :]) - qtable[state, action])\n",
        "        \n",
        "        total_rewards += reward\n",
        "        \n",
        "        # Our new state is state\n",
        "        state = new_state\n",
        "        \n",
        "        # If done (if we're dead) : finish episode\n",
        "        if done == True: \n",
        "            break\n",
        "        \n",
        "    # Reduce epsilon (because we need less and less exploration)\n",
        "    epsilon = min_epsilon + (max_epsilon - min_epsilon)*np.exp(-decay_rate*episode) \n",
        "    rewards.append(total_rewards)\n",
        "\n",
        "print (\"Score over time: \" +  str(sum(rewards)/total_episodes))\n",
        "print(qtable)"
      ],
      "execution_count": null,
      "outputs": [
        {
          "output_type": "stream",
          "text": [
            "Score over time: 0.49536\n",
            "[[1.51551447e-01 6.57371982e-02 5.04387482e-02 6.84306623e-02]\n",
            " [3.42760539e-04 3.77018561e-03 1.27539798e-02 5.77562870e-02]\n",
            " [7.50650127e-03 5.37429563e-03 9.30731736e-03 1.75060768e-02]\n",
            " [1.80990505e-03 2.11873837e-03 6.71849423e-03 1.17743469e-02]\n",
            " [2.25875900e-01 3.89671062e-02 1.10426249e-02 3.07291596e-03]\n",
            " [0.00000000e+00 0.00000000e+00 0.00000000e+00 0.00000000e+00]\n",
            " [9.61538560e-04 9.40960543e-06 4.08387585e-02 1.07028734e-05]\n",
            " [0.00000000e+00 0.00000000e+00 0.00000000e+00 0.00000000e+00]\n",
            " [1.20016953e-02 2.08321876e-02 4.87210086e-04 3.86108785e-01]\n",
            " [1.96130258e-03 6.54823555e-01 2.04038256e-03 6.20197055e-03]\n",
            " [6.81013359e-01 2.58297473e-03 4.36314492e-05 7.64630720e-04]\n",
            " [0.00000000e+00 0.00000000e+00 0.00000000e+00 0.00000000e+00]\n",
            " [0.00000000e+00 0.00000000e+00 0.00000000e+00 0.00000000e+00]\n",
            " [7.45286042e-02 1.20112422e-01 4.29241052e-01 1.05203755e-01]\n",
            " [1.45453937e-01 6.05760103e-01 3.21974998e-01 2.92136362e-01]\n",
            " [0.00000000e+00 0.00000000e+00 0.00000000e+00 0.00000000e+00]]\n"
          ],
          "name": "stdout"
        }
      ]
    },
    {
      "cell_type": "markdown",
      "metadata": {
        "id": "zvcHhVx5lrWZ"
      },
      "source": [
        "**Use our Q-table to play FrozenLake!**\n",
        "\n",
        "After 25000 episodes, our Q-table can be used as a \"cheatsheet\" to play FrozenLake\"!\n",
        "  \n",
        "By running this cell, you can see our agent playing FrozenLake:"
      ]
    },
    {
      "cell_type": "code",
      "metadata": {
        "id": "Hz65tCGSlzSc"
      },
      "source": [
        "env.reset()\n",
        "\n",
        "state = env.reset()\n",
        "step = 0\n",
        "done = False\n",
        "print(\"****************************************************\")\n",
        "env.render()\n",
        "for step in range(max_steps):\n",
        "\n",
        "    # Take the action (index) that have the maximum expected future reward given that state\n",
        "    action = np.argmax(qtable[state,:])\n",
        "\n",
        "    new_state, reward, done, info = env.step(action)\n",
        "\n",
        "    env.render()\n",
        "\n",
        "    # We print the current step.\n",
        "    print(\"Number of steps\", step)\n",
        "    if done:\n",
        "      break\n",
        "    state = new_state\n",
        "env.close()"
      ],
      "execution_count": null,
      "outputs": []
    },
    {
      "cell_type": "markdown",
      "metadata": {
        "id": "iSroWmlroYiC"
      },
      "source": [
        "Let’s see how many times our agent finds the frisbee 🎉\n",
        "\n",
        "To this end we will print the last step of the game."
      ]
    },
    {
      "cell_type": "code",
      "metadata": {
        "id": "W3BUEqOzocSl",
        "colab": {
          "base_uri": "https://localhost:8080/"
        },
        "outputId": "2aee988e-b0b9-428b-9c6b-5bf580268463"
      },
      "source": [
        "games=5\n",
        "step = 0\n",
        "done = False\n",
        "print(\"****************************************************\")\n",
        "for game in range(games):\n",
        "  env.reset()\n",
        "  state = env.reset()\n",
        "  for step in range(max_steps):\n",
        "\n",
        "      # Take the action (index) that have the maximum expected future reward given that state\n",
        "      action = np.argmax(qtable[state,:])\n",
        "\n",
        "      new_state, reward, done, info = env.step(action)\n",
        "\n",
        "      if done:\n",
        "        # Here, we decide to only print the last state (to see if our agent is on the goal or fall into a hole)\n",
        "        env.render()\n",
        "  \n",
        "        # We print the number of step it took.\n",
        "        print(\"Number of steps\", step)\n",
        "        done= False\n",
        "        break\n",
        "      state = new_state\n",
        "  env.close()"
      ],
      "execution_count": null,
      "outputs": [
        {
          "output_type": "stream",
          "text": [
            "****************************************************\n",
            "  (Down)\n",
            "SFFF\n",
            "FHFH\n",
            "FFFH\n",
            "HFF\u001b[41mG\u001b[0m\n",
            "Number of steps 19\n",
            "  (Down)\n",
            "SFFF\n",
            "FHFH\n",
            "FFFH\n",
            "HFF\u001b[41mG\u001b[0m\n",
            "Number of steps 71\n",
            "  (Right)\n",
            "SFFF\n",
            "FHF\u001b[41mH\u001b[0m\n",
            "FFFH\n",
            "HFFG\n",
            "Number of steps 28\n",
            "  (Down)\n",
            "SFFF\n",
            "FHFH\n",
            "FFFH\n",
            "HFF\u001b[41mG\u001b[0m\n",
            "Number of steps 6\n",
            "  (Right)\n",
            "SFFF\n",
            "FHF\u001b[41mH\u001b[0m\n",
            "FFFH\n",
            "HFFG\n",
            "Number of steps 45\n"
          ],
          "name": "stdout"
        }
      ]
    },
    {
      "cell_type": "code",
      "metadata": {
        "colab": {
          "base_uri": "https://localhost:8080/"
        },
        "id": "kfLNsIPtQevL",
        "outputId": "cf83c3a1-cdaf-40a8-866e-bb0c32d99ac1"
      },
      "source": [
        "games=10000\n",
        "step = 0\n",
        "total_rewards = 0\n",
        "done = False\n",
        "for game in range(games):\n",
        "  env.reset()\n",
        "  state = env.reset()\n",
        "  for step in range(max_steps):\n",
        "\n",
        "      # Take the action (index) that have the maximum expected future reward given that state\n",
        "      action = np.argmax(qtable[state,:])\n",
        "\n",
        "      new_state, reward, done, info = env.step(action)\n",
        "\n",
        "      if done:\n",
        "        total_rewards += reward\n",
        "        done= False\n",
        "        break\n",
        "      state = new_state\n",
        "  env.close()\n",
        "success = total_rewards / games\n",
        "print(\"Ratio of sucessfully finished episodes is {:f}\".format(success))"
      ],
      "execution_count": null,
      "outputs": [
        {
          "output_type": "stream",
          "text": [
            "Ratio of sucessfully finished episodes is 0.738000\n"
          ],
          "name": "stdout"
        }
      ]
    },
    {
      "cell_type": "markdown",
      "metadata": {
        "id": "_d3L77JNpUvy"
      },
      "source": [
        "## CartPole\n",
        "\n",
        "That wasn't so hard! How about trying to balance a pole so it does not fall? In this section we will address the [CartPole](https://gym.openai.com/envs/CartPole-v1/) problem, let's get to it!\n",
        "\n",
        "![texto alternativo](https://keon.github.io/images/deep-q-learning/animation.gif)\n",
        "\n",
        "As before we will use Q-learning to train our agent, so let's start by constructing our Q-table. We first need to find out the number of columns and rows of it. By checking the environment specifications of [OpenAi](https://github.com/openai/gym/blob/master/gym/envs/classic_control/cartpole.py), we see that the actions are left and right, so we need two columns for the actions. On the other hand, the state information is given by:\n",
        "\n",
        "        Num\tObservation                 Min         Max\n",
        "        0\tCart Position             -4.8            4.8\n",
        "        1\tCart Velocity             -Inf            Inf\n",
        "        2\tPole Angle                 -24 deg        24 deg\n",
        "        3\tPole Velocity At Tip      -Inf            Inf\n",
        "      \n",
        "The cart position goes from -4.8 to 4.8 with a resolution of 0.01, which means $\\frac{4.8 \\times 2}{0.01}=960$ possible carts positions, while the cart velocity goes from $-\\infty$ to $\\infty$!. How we are going to construct a table with $\\infty$ rows?\n",
        " \n",
        "Do not panic! That is when deep learning steps up and takes over the stage. As you have already seen the use of Deep Neural Networks as general function approximators have been proven to work very well in a wide range of areas, reinforcement learning is not an exception. In this case we will use the NNs as function approximation between the mapping of states to actions, so for every input state, we want the NNs to output an approximation of the $Q\\left(s,a\\right)$.\n",
        "\n",
        "![alt text](https://proxy.duckduckgo.com/iu/?u=https%3A%2F%2Fcdn-images-1.medium.com%2Fmax%2F1318%2F1*Gh5PS4R_A5drl5ebd_gNrg%402x.png&f=1)\n",
        "\n",
        "In this particular scenario, the input layer will have the same number of inputs as environment parameters, 4, and the output layer will have the same number of outputs as actions, in this case 2. \n",
        "\n",
        "**Reward:** A reward of +1 is provided for every timestep that the pole remains upright. The episode ends when the pole is more than 15 degrees from vertical.\n"
      ]
    },
    {
      "cell_type": "markdown",
      "metadata": {
        "id": "wHi3LRul2b6h"
      },
      "source": [
        "\n",
        "**Step 0: Import the needed libraries**\n",
        "\n",
        "We start by importing the needed libraries:\n",
        "We will be using 3 libraries:\n",
        "* Keras: for our DNNs.\n",
        "* OpenAI Gym: for our CartPole Environment\n",
        "* Random: to generate random numbers.\n",
        "* Collections: Collection will be use to create a memory buffer to store the tuples $\\left(S_t, A_t, R_t,S_{t+1}\\right)$ of transactions. \n",
        "\n",
        "The idea behind the use of a memory buffer is that most optimization algorithms, including gradient descent, assume that the samples used in an update step are independent and identically distributed. Clearly in the defined environment that is not the case, however, by sampling uniformly the memory buffer with a high number of samples the correlation between contiguous samples is broken and less likely to be correlated samples are used to update the network's weights, leading to a stable optimization of the action-parameter selection.\n"
      ]
    },
    {
      "cell_type": "code",
      "metadata": {
        "id": "yO4Qbc942zPJ"
      },
      "source": [
        "import random\n",
        "import gym\n",
        "import numpy as np\n",
        "from collections import deque\n",
        "from keras.models import Sequential\n",
        "from keras.layers import Dense\n",
        "from keras.optimizers import Adam\n",
        "import os"
      ],
      "execution_count": null,
      "outputs": []
    },
    {
      "cell_type": "markdown",
      "metadata": {
        "id": "7KDyanK23SQH"
      },
      "source": [
        "**The Agent**\n",
        "\n",
        "Let's start by coding a general DQ-Learning agent. The state and action size are passed as parameters and we configure a replay buffer to have capacity to store 2000 experienced transitions."
      ]
    },
    {
      "cell_type": "code",
      "metadata": {
        "id": "18b_7T9K-V_a"
      },
      "source": [
        " class DQNAgent:\n",
        "    def __init__(self, state_size, action_size):\n",
        "        self.state_size = state_size\n",
        "        self.action_size = action_size\n",
        "        self.memory = deque(maxlen=2000)\n",
        "        self.gamma = 0.95    # discount rate\n",
        "        self.epsilon = 1.0  # exploration rate\n",
        "        self.epsilon_min = 0.01\n",
        "        self.epsilon_decay = 0.995\n",
        "        self.learning_rate = 0.001\n",
        "        self.model = self._build_model()"
      ],
      "execution_count": null,
      "outputs": []
    },
    {
      "cell_type": "markdown",
      "metadata": {
        "id": "Xws00CC6Ae7K"
      },
      "source": [
        "Now we address the DNNs; we are going to use two fully connected layers of 24 neurons each and as an optimizer we select Adam."
      ]
    },
    {
      "cell_type": "code",
      "metadata": {
        "id": "UUxh0JOWAtPT"
      },
      "source": [
        "    def _build_model(self):\n",
        "        # Neural Net for Deep-Q learning Model\n",
        "        model = Sequential()\n",
        "        model.add(Dense(24, input_dim=self.state_size, activation='relu'))\n",
        "        model.add(Dense(24, activation='relu'))\n",
        "        model.add(Dense(self.action_size, activation='linear'))\n",
        "        model.compile(loss='mse',\n",
        "                      optimizer=Adam(lr=self.learning_rate))\n",
        "        return model"
      ],
      "execution_count": null,
      "outputs": []
    },
    {
      "cell_type": "markdown",
      "metadata": {
        "id": "yA4DQkqcBQ84"
      },
      "source": [
        "Now define the method to store the transitions into the memory buffer.\n",
        "The parameter done is a boolean returned true when the pole has fallen. "
      ]
    },
    {
      "cell_type": "code",
      "metadata": {
        "id": "9qv7a_raBQGr"
      },
      "source": [
        "    def remember(self, state, action, reward, next_state, done):\n",
        "          self.memory.append((state, action, reward, next_state, done))"
      ],
      "execution_count": null,
      "outputs": []
    },
    {
      "cell_type": "markdown",
      "metadata": {
        "id": "G9X-HisYBc9m"
      },
      "source": [
        "Again, we implement and $\\epsilon$-greedy policy."
      ]
    },
    {
      "cell_type": "code",
      "metadata": {
        "id": "AXJoxwi2Bmss"
      },
      "source": [
        "     def act(self, state):\n",
        "            if np.random.rand() <= self.epsilon:\n",
        "                return random.randrange(self.action_size)\n",
        "            act_values = self.model.predict(state)\n",
        "            return np.argmax(act_values[0]) # returns action"
      ],
      "execution_count": null,
      "outputs": []
    },
    {
      "cell_type": "markdown",
      "metadata": {
        "id": "9bmi6bk5Bv7E"
      },
      "source": [
        "Then comes the implementation of the Q-Learning method:\n",
        "\n",
        "\n",
        "\n",
        "1.   We obtain the samples to train the DNN from the replay buffer.\n",
        "2.  We compute $target=r+\\gamma \\max _{a} Q\\left(s_{t+1},a\\right)$, by doing a forward pass using next_state value.\n",
        "3. We do a forward pass through the network to obtain the $Q\\left(s,a\\right)$ for all the possible actions.\n",
        "4. In order to just update the parameter of the action taken, we copy target to the value of the $Q\\left(s,a\\right)$ of the actual $a$ taken.\n",
        "5. We update the parameters of the network using MSE as loss function.\n",
        "\n",
        "\n"
      ]
    },
    {
      "cell_type": "code",
      "metadata": {
        "id": "nYgDWxUmBu8n"
      },
      "source": [
        "def replay(self, batch_size):\n",
        "    minibatch = random.sample(self.memory, batch_size)\n",
        "    ### This code below generates batches of states, actions, rewards\n",
        "    ### next states out of the sampled minibatch\n",
        "    state_b = np.squeeze(np.array(list(map(lambda x: x[0], minibatch))))\n",
        "    action_b = np.squeeze(np.array(list(map(lambda x: x[1], minibatch))))\n",
        "    reward_b = np.squeeze(np.array(list(map(lambda x: x[2], minibatch))))\n",
        "    next_state_b = np.squeeze(np.array(list(map(lambda x: x[3], minibatch))))\n",
        "    done_b = np.squeeze(np.array(list(map(lambda x: x[4], minibatch))))\n",
        "  \n",
        "    target = (reward_b + self.gamma *\n",
        "                      np.amax(self.model.predict(next_state_b), 1))\n",
        "    target[done_b==1] = reward_b[done_b==1]\n",
        "    target_f = self.model.predict(state_b)\n",
        "    for k in range(target_f.shape[0]):\n",
        "      target_f[k][action_b[k]] = target[k]\n",
        "    self.model.train_on_batch(state_b, target_f)\n",
        "    if self.epsilon > self.epsilon_min:\n",
        "        self.epsilon *= self.epsilon_decay\n"
      ],
      "execution_count": null,
      "outputs": []
    },
    {
      "cell_type": "markdown",
      "metadata": {
        "id": "t2E-OJlAFraT"
      },
      "source": [
        "Now we define the operations to load and save the models."
      ]
    },
    {
      "cell_type": "code",
      "metadata": {
        "id": "BeE1SshPFqrn"
      },
      "source": [
        "def load(self, name):\n",
        "  self.model.load_weights(name)\n",
        "def save(self, name):\n",
        "  self.model.save_weights(name)"
      ],
      "execution_count": null,
      "outputs": []
    },
    {
      "cell_type": "markdown",
      "metadata": {
        "id": "M4J6L3xbF10Y"
      },
      "source": [
        "Colab does not recognize all the previous code parts defined under the same class, to this end we run everything this time altogether. "
      ]
    },
    {
      "cell_type": "code",
      "metadata": {
        "id": "CFSDV2qAFYRk"
      },
      "source": [
        "class DQNAgent:\n",
        "  def __init__(self, state_size, action_size):\n",
        "    self.state_size = state_size\n",
        "    self.action_size = action_size\n",
        "    self.memory = deque(maxlen=20000)\n",
        "    self.gamma = 0.95    # discount rate\n",
        "    self.epsilon = 1.0  # exploration rate\n",
        "    self.epsilon_min = 0.01\n",
        "    self.epsilon_decay = 0.995\n",
        "    self.learning_rate = 0.001\n",
        "    self.model = self._build_model()\n",
        "\n",
        "  def _build_model(self):\n",
        "    # Neural Net for Deep-Q learning Model\n",
        "    model = Sequential()\n",
        "    model.add(Dense(24, input_dim=self.state_size, activation='relu'))\n",
        "    model.add(Dense(48, activation='relu'))\n",
        "    model.add(Dense(self.action_size, activation='linear'))\n",
        "    model.compile(loss='mse',\n",
        "                  optimizer=Adam(lr=self.learning_rate))\n",
        "    return model\n",
        "\n",
        "  def remember(self, state, action, reward, next_state, done):\n",
        "    self.memory.append((state, action, reward, next_state, done))\n",
        "\n",
        "  def act(self, state):# We implement the epsilon-greedy policy\n",
        "    if np.random.rand() <= self.epsilon:\n",
        "        return random.randrange(self.action_size)\n",
        "    act_values = self.model.predict(state)\n",
        "    return np.argmax(act_values[0]) # returns action\n",
        "  \n",
        "  def exploit(self, state): # When we test the agent we dont want it to explore anymore, but to exploit what it has learnt\n",
        "    act_values = self.model.predict(state)\n",
        "    return np.argmax(act_values[0]) \n",
        "\n",
        "  def replay(self, batch_size):\n",
        "    minibatch = random.sample(self.memory, batch_size)\n",
        "    \n",
        "    state_b = np.squeeze(np.array(list(map(lambda x: x[0], minibatch))))\n",
        "    action_b = np.squeeze(np.array(list(map(lambda x: x[1], minibatch))))\n",
        "    reward_b = np.squeeze(np.array(list(map(lambda x: x[2], minibatch))))\n",
        "    next_state_b = np.squeeze(np.array(list(map(lambda x: x[3], minibatch))))\n",
        "    done_b = np.squeeze(np.array(list(map(lambda x: x[4], minibatch))))\n",
        "    target = (reward_b + self.gamma *\n",
        "                      np.amax(self.model.predict(next_state_b), 1))\n",
        "    target[done_b==1] = reward_b[done_b==1]\n",
        "    target_f = self.model.predict(state_b)\n",
        "    for k in range(target_f.shape[0]):\n",
        "      target_f[k][action_b[k]] = target[k]\n",
        "    self.model.train_on_batch(state_b, target_f)\n",
        "    if self.epsilon > self.epsilon_min:\n",
        "        self.epsilon *= self.epsilon_decay\n",
        "  def load(self, name):\n",
        "    self.model.load_weights(name)\n",
        "  def save(self, name):\n",
        "    self.model.save_weights(name)"
      ],
      "execution_count": null,
      "outputs": []
    },
    {
      "cell_type": "markdown",
      "metadata": {
        "id": "t6YDZhTIDjiC"
      },
      "source": [
        "**Main**\n",
        "\n",
        "Following we implement the training of the agent. (Warning: it takes a while)"
      ]
    },
    {
      "cell_type": "code",
      "metadata": {
        "id": "MwA2WXrnDpzV"
      },
      "source": [
        "EPISODES = 200\n",
        "env = gym.make('CartPole-v0')\n",
        "state_size = env.observation_space.shape[0]\n",
        "action_size = env.action_space.n\n",
        "agent = DQNAgent(state_size, action_size)\n",
        "done = False\n",
        "batch_size = 32\n",
        "\n",
        "for e in range(EPISODES):\n",
        "    state = env.reset()\n",
        "    state = np.reshape(state, [1, state_size])\n",
        "    for time in range(200):\n",
        "        action = agent.act(state)\n",
        "        next_state, reward, done, _ = env.step(action)\n",
        "        next_state = np.reshape(next_state, [1, state_size])\n",
        "        agent.remember(state, action, reward, next_state, done)\n",
        "        state = next_state\n",
        "        if done:\n",
        "            print(\"episode: {}/{}, score: {}, e: {:.2}\"\n",
        "                  .format(e, EPISODES, time, agent.epsilon))\n",
        "            break\n",
        "        if len(agent.memory) > batch_size:\n",
        "            agent.replay(batch_size)"
      ],
      "execution_count": null,
      "outputs": []
    },
    {
      "cell_type": "markdown",
      "metadata": {
        "id": "W2TqM_HhGVM6"
      },
      "source": [
        "Let's now visualize how the agent is performing:"
      ]
    },
    {
      "cell_type": "code",
      "metadata": {
        "id": "lGglc_BfYam-"
      },
      "source": [
        "!apt-get install -y xvfb python-opengl > /dev/null 2>&1\n",
        "!pip install gym pyvirtualdisplay > /dev/null 2>&1"
      ],
      "execution_count": null,
      "outputs": []
    },
    {
      "cell_type": "code",
      "metadata": {
        "id": "sMUl6WrhYtuj"
      },
      "source": [
        "import gym\n",
        "import numpy as np\n",
        "import matplotlib.pyplot as plt\n",
        "from IPython import display as ipythondisplay\n",
        "from pyvirtualdisplay import Display\n",
        "display = Display(visible=0, size=(400, 300))\n",
        "display.start()\n",
        "from gym.wrappers import Monitor\n",
        "import glob\n",
        "import io\n",
        "import base64"
      ],
      "execution_count": null,
      "outputs": []
    },
    {
      "cell_type": "code",
      "metadata": {
        "id": "WO20MXmfNs4E"
      },
      "source": [
        "\"\"\"\n",
        "Utility functions to enable video recording of gym environment and displaying it\n",
        "To enable video, just do \"env = wrap_env(env)\"\"\n",
        "\"\"\"\n",
        "\n",
        "def show_video():\n",
        "  mp4list = glob.glob('video/*.mp4')\n",
        "  if len(mp4list) > 0:\n",
        "    mp4 = mp4list[0]\n",
        "    video = io.open(mp4, 'r+b').read()\n",
        "    encoded = base64.b64encode(video)\n",
        "    ipythondisplay.display(HTML(data='''<video alt=\"test\" autoplay \n",
        "                loop controls style=\"height: 400px;\">\n",
        "                <source src=\"data:video/mp4;base64,{0}\" type=\"video/mp4\" />\n",
        "             </video>'''.format(encoded.decode('ascii'))))\n",
        "  else: \n",
        "    print(\"Could not find video\")\n",
        "    \n",
        "\n",
        "def wrap_env(env):\n",
        "  env = Monitor(env, './video', force=True)\n",
        "  return env"
      ],
      "execution_count": null,
      "outputs": []
    },
    {
      "cell_type": "code",
      "metadata": {
        "id": "tKv6DNBDGY0N",
        "colab": {
          "base_uri": "https://localhost:8080/",
          "height": 438
        },
        "outputId": "1d3606a5-8263-4657-d2fc-cfbb35cb6a7e"
      },
      "source": [
        "from IPython.display import HTML\n",
        "env = wrap_env(gym.make('CartPole-v1'))\n",
        "state_size = env.observation_space.shape[0]\n",
        "action_size = env.action_space.n\n",
        "done = False\n",
        "state = env.reset()\n",
        "state = np.reshape(state, [1, state_size])\n",
        "for time in range(200):\n",
        "    screen = env.render()\n",
        "    action = agent.exploit(state)\n",
        "    state, reward, done, _ = env.step(action)\n",
        "    if done:\n",
        "      break\n",
        "    state = np.reshape(state, [1, state_size])\n",
        "\n",
        "env.close()\n",
        "show_video()\n",
        "env.reset()"
      ],
      "execution_count": null,
      "outputs": [
        {
          "output_type": "display_data",
          "data": {
            "text/html": [
              "<video alt=\"test\" autoplay \n",
              "                loop controls style=\"height: 400px;\">\n",
              "                <source src=\"data:video/mp4;base64,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\" type=\"video/mp4\" />\n",
              "             </video>"
            ],
            "text/plain": [
              "<IPython.core.display.HTML object>"
            ]
          },
          "metadata": {
            "tags": []
          }
        },
        {
          "output_type": "execute_result",
          "data": {
            "text/plain": [
              "array([ 0.03279856, -0.01630718, -0.0479847 , -0.02575533])"
            ]
          },
          "metadata": {
            "tags": []
          },
          "execution_count": 13
        }
      ]
    },
    {
      "cell_type": "markdown",
      "metadata": {
        "id": "wg2wp6Duu7Ok"
      },
      "source": [
        "You can have a look of the tutorials and code prepared by [OpenAI](https://spinningup.openai.com/en/latest/user/introduction.html) for further details on RL."
      ]
    },
    {
      "cell_type": "markdown",
      "metadata": {
        "id": "OWgV2gkTfpCc"
      },
      "source": [
        "# Coursework\n",
        "\n",
        "## Task 1: On-policy vs. Off-policy\n",
        "Use the code given below to run the training loop, where the agent is trained for 200 episodes. The agent we give follows a Q-learning approach, which is an off-policy approach. You will now change the approach to SARSA, which is an on-policy approach. Also, for both Q-learning and SARSA test two different policies: $\\epsilon$-greedy and Softmax. $\\epsilon$-greedy is already defined in the tutorial and implemented in the given agent. Softmax policy refers to sampling the next action following the probability distribution given by $Softmax(Q(s, a))$. We provide you the NumPy softmax function to normalize the Q-Values into a probability function to use before sampling. Similarly to RNN, in the softmax function, there is a temperature value involved, we set a default value that works, but you can tweak it if you find another value with better performance. Report the new value if you decide to do so.\n",
        "\n",
        "You will need to modify `act` and `replay` from the `DQNAgent` to implement the different approaches we ask for. Results may differ from run to run due to different initialization states. \n",
        "\n",
        "**Report**\n",
        "* Plot the average reward for the last 50 episodes vs. number of training episodes (train for 200 episodes) for the four agents trained: Q-learning and SARSA with both $\\epsilon$-greedy policy and Softmax policy. Attach in the Appendix the modifications done to `DQNAgent` to implement the different agents. Do not include your code, a simple explanation with the key modifications is enough."
      ]
    },
    {
      "cell_type": "code",
      "metadata": {
        "id": "A47sXwdmhlrU"
      },
      "source": [
        "import random\n",
        "import gym\n",
        "import numpy as np\n",
        "from collections import deque\n",
        "from keras.models import Sequential\n",
        "from keras.layers import Dense\n",
        "from keras.activations import softmax\n",
        "from keras.optimizers import Adam\n",
        "import os\n",
        "import time\n",
        "import numpy as np\n",
        "\n",
        "def softmax(x, temperature=0.025): \n",
        "    \"\"\"Compute softmax values for each sets of scores in x.\"\"\"\n",
        "    x = (x - np.expand_dims(np.max(x, 1), 1))\n",
        "    x = x/temperature    \n",
        "    e_x = np.exp(x)\n",
        "    return e_x / (np.expand_dims(e_x.sum(1), -1) + 1e-5)\n",
        "\n",
        "class DQNAgent:\n",
        "  def __init__(self, state_size, action_size):\n",
        "    self.state_size = state_size\n",
        "    self.action_size = action_size\n",
        "    self.memory = deque(maxlen=20000)\n",
        "    self.gamma = 0.95    # discount rate\n",
        "    self.epsilon = 1.0  # exploration rate\n",
        "    self.epsilon_min = 0.01\n",
        "    self.epsilon_decay = 0.995\n",
        "    self.learning_rate = 0.001\n",
        "    self.model = self._build_model()\n",
        "\n",
        "    \n",
        "  def _build_model(self):\n",
        "    # Neural Net for Deep-Q learning Model\n",
        "    model = Sequential()\n",
        "    model.add(Dense(24, input_dim=self.state_size, activation='relu'))\n",
        "    model.add(Dense(48, activation='relu'))\n",
        "    model.add(Dense(self.action_size, activation='linear'))\n",
        "    model.compile(loss='mse',\n",
        "                  optimizer=Adam(lr=self.learning_rate))\n",
        "    return model\n",
        "\n",
        "  def remember(self, state, action, reward, next_state, done):\n",
        "    self.memory.append((state, action, reward, next_state, done))\n",
        "\n",
        "  def act(self, state):# We implement the epsilon-greedy policy\n",
        "    if np.random.rand() <= self.epsilon:\n",
        "        return random.randrange(self.action_size)\n",
        "    act_values = self.model.predict(state)\n",
        "    return np.argmax(act_values[0]) # returns action\n",
        "\n",
        "  def exploit(self, state): # When we test the agent we dont want it to explore anymore, but to exploit what it has learnt\n",
        "    act_values = self.model.predict(state)\n",
        "    return np.argmax(act_values[0]) \n",
        "\n",
        "  def replay(self, batch_size):\n",
        "    minibatch = random.sample(self.memory, batch_size)\n",
        "    \n",
        "    state_b = np.squeeze(np.array(list(map(lambda x: x[0], minibatch))))\n",
        "    action_b = np.squeeze(np.array(list(map(lambda x: x[1], minibatch))))\n",
        "    reward_b = np.squeeze(np.array(list(map(lambda x: x[2], minibatch))))\n",
        "    next_state_b = np.squeeze(np.array(list(map(lambda x: x[3], minibatch))))\n",
        "    done_b = np.squeeze(np.array(list(map(lambda x: x[4], minibatch))))\n",
        "\n",
        "    ### Q-learning\n",
        "    target = (reward_b + self.gamma * np.amax(self.model.predict(next_state_b), 1))\n",
        "    target[done_b==1] = reward_b[done_b==1]\n",
        "    target_f = self.model.predict(state_b)\n",
        "\n",
        "    for k in range(target_f.shape[0]):\n",
        "      target_f[k][action_b[k]] = target[k]\n",
        "    self.model.train_on_batch(state_b, target_f)\n",
        "    if self.epsilon > self.epsilon_min:\n",
        "        self.epsilon *= self.epsilon_decay\n",
        "\n",
        "  def load(self, name):\n",
        "    self.model.load_weights(name)\n",
        "  def save(self, name):\n",
        "    self.model.save_weights(name)"
      ],
      "execution_count": null,
      "outputs": []
    },
    {
      "cell_type": "code",
      "metadata": {
        "id": "FiW8Mr6VfvgM"
      },
      "source": [
        "  EPISODES = 200\n",
        "  env = gym.make('CartPole-v0')\n",
        "  state_size = env.observation_space.shape[0]\n",
        "  action_size = env.action_space.n\n",
        "  agent = DQNAgent(state_size, action_size)\n",
        "  batch_size = 32\n",
        "  episode_reward_list = deque(maxlen=50)\n",
        "  for e in range(EPISODES):\n",
        "      state = env.reset()\n",
        "      state = np.reshape(state, [1, state_size])\n",
        "      total_reward = 0\n",
        "      for time in range(200):\n",
        "        action = agent.act(state)\n",
        "        next_state, reward, done, _ = env.step(action)\n",
        "        total_reward += reward\n",
        "        next_state = np.reshape(next_state, [1, state_size])\n",
        "        agent.remember(state, action, reward, next_state, done)\n",
        "        state = next_state\n",
        "        if done:\n",
        "            break\n",
        "        if len(agent.memory) > batch_size:\n",
        "            agent.replay(batch_size)\n",
        "      episode_reward_list.append(total_reward)\n",
        "      episode_reward_avg = np.array(episode_reward_list).mean()\n",
        "      print(\"episode: {}/{}, score: {}, e: {:.2}, last 50 ep. avg. rew.: {:.2f}\"\n",
        "                  .format(e, EPISODES, total_reward, agent.epsilon, episode_reward_avg))      "
      ],
      "execution_count": null,
      "outputs": []
    }
  ]
}